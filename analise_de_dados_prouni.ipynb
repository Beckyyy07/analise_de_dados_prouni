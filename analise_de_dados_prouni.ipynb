{
  "cells": [
    {
      "cell_type": "markdown",
      "source": [
        "# Alunos\n",
        "\n",
        "\n",
        "1. Adriel Estoller\n",
        "2. Anderson Veloso\n",
        "3. Emesson Silva   \n",
        "4. Gabriel Guerra\n",
        "5. Gabriel Wanderlei\n",
        "6. Rebeka Dias\n",
        "\n",
        "\n",
        "\n",
        "\n"
      ],
      "metadata": {
        "id": "dn6nQWN1U84z"
      }
    },
    {
      "cell_type": "markdown",
      "metadata": {
        "application/vnd.databricks.v1+cell": {
          "cellMetadata": {
            "byteLimit": 2048000,
            "rowLimit": 10000
          },
          "inputWidgets": {},
          "nuid": "729f423d-2598-48d2-a9ef-c112266c5cfd",
          "showTitle": false,
          "title": ""
        },
        "id": "GvPskXMcNKhb"
      },
      "source": [
        "\n",
        "# Carregamento e Leitura de Dados"
      ]
    },
    {
      "cell_type": "markdown",
      "metadata": {
        "application/vnd.databricks.v1+cell": {
          "cellMetadata": {
            "byteLimit": 2048000,
            "rowLimit": 10000
          },
          "inputWidgets": {},
          "nuid": "2927daf0-4a87-49db-bfac-0a7f70945f54",
          "showTitle": false,
          "title": ""
        },
        "id": "XzxffFWcNKhh"
      },
      "source": [
        "#### Trabalhando com Pyspark / Pandas"
      ]
    },
    {
      "cell_type": "code",
      "execution_count": 3,
      "metadata": {
        "application/vnd.databricks.v1+cell": {
          "cellMetadata": {
            "byteLimit": 2048000,
            "rowLimit": 10000
          },
          "inputWidgets": {},
          "nuid": "2c5453e5-c900-4124-822f-5828ea827f29",
          "showTitle": false,
          "title": ""
        },
        "id": "D7jqg-TvNKhj"
      },
      "outputs": [],
      "source": [
        "local_do_arquivo = '/content/cursos-prouni.csv'"
      ]
    },
    {
      "cell_type": "code",
      "execution_count": 4,
      "metadata": {
        "application/vnd.databricks.v1+cell": {
          "cellMetadata": {
            "byteLimit": 2048000,
            "rowLimit": 10000
          },
          "inputWidgets": {},
          "nuid": "40f0c91f-23b1-4e32-b499-5bb695c74ef2",
          "showTitle": false,
          "title": ""
        },
        "colab": {
          "base_uri": "https://localhost:8080/",
          "height": 367
        },
        "id": "PCAL2T7uNKhl",
        "outputId": "6d70cae2-7dc8-442a-f1cf-f7d68eca6eb5"
      },
      "outputs": [
        {
          "output_type": "error",
          "ename": "ModuleNotFoundError",
          "evalue": "No module named 'pyspark'",
          "traceback": [
            "\u001b[0;31m---------------------------------------------------------------------------\u001b[0m",
            "\u001b[0;31mModuleNotFoundError\u001b[0m                       Traceback (most recent call last)",
            "\u001b[0;32m<ipython-input-4-33e245decc21>\u001b[0m in \u001b[0;36m<cell line: 2>\u001b[0;34m()\u001b[0m\n\u001b[1;32m      1\u001b[0m \u001b[0;31m# Importanto Pandas com o Pyspark\u001b[0m\u001b[0;34m\u001b[0m\u001b[0;34m\u001b[0m\u001b[0m\n\u001b[0;32m----> 2\u001b[0;31m \u001b[0;32mimport\u001b[0m \u001b[0mpyspark\u001b[0m\u001b[0;34m.\u001b[0m\u001b[0mpandas\u001b[0m \u001b[0;32mas\u001b[0m \u001b[0mps\u001b[0m\u001b[0;34m\u001b[0m\u001b[0;34m\u001b[0m\u001b[0m\n\u001b[0m\u001b[1;32m      3\u001b[0m \u001b[0;31m# Passando a coluna que servirá como índice para nosso df\u001b[0m\u001b[0;34m\u001b[0m\u001b[0;34m\u001b[0m\u001b[0m\n\u001b[1;32m      4\u001b[0m \u001b[0mdf\u001b[0m \u001b[0;34m=\u001b[0m \u001b[0mps\u001b[0m\u001b[0;34m.\u001b[0m\u001b[0mread_csv\u001b[0m\u001b[0;34m(\u001b[0m\u001b[0mlocal_do_arquivo\u001b[0m\u001b[0;34m,\u001b[0m \u001b[0mindex_col\u001b[0m \u001b[0;34m=\u001b[0m \u001b[0;34m'curso_id'\u001b[0m\u001b[0;34m)\u001b[0m\u001b[0;34m\u001b[0m\u001b[0;34m\u001b[0m\u001b[0m\n",
            "\u001b[0;31mModuleNotFoundError\u001b[0m: No module named 'pyspark'",
            "",
            "\u001b[0;31m---------------------------------------------------------------------------\u001b[0;32m\nNOTE: If your import is failing due to a missing package, you can\nmanually install dependencies using either !pip or !apt.\n\nTo view examples of installing some common dependencies, click the\n\"Open Examples\" button below.\n\u001b[0;31m---------------------------------------------------------------------------\u001b[0m\n"
          ],
          "errorDetails": {
            "actions": [
              {
                "action": "open_url",
                "actionText": "Open Examples",
                "url": "/notebooks/snippets/importing_libraries.ipynb"
              }
            ]
          }
        }
      ],
      "source": [
        "# Importanto Pandas com o Pyspark\n",
        "import pyspark.pandas as ps\n",
        "# Passando a coluna que servirá como índice para nosso df\n",
        "df = ps.read_csv(local_do_arquivo, index_col = 'curso_id')"
      ]
    },
    {
      "cell_type": "markdown",
      "source": [],
      "metadata": {
        "id": "d-9ucz8tU69m"
      }
    },
    {
      "cell_type": "markdown",
      "metadata": {
        "application/vnd.databricks.v1+cell": {
          "cellMetadata": {
            "byteLimit": 2048000,
            "rowLimit": 10000
          },
          "inputWidgets": {},
          "nuid": "615d2c97-7b42-4792-ac52-15a5372c29a1",
          "showTitle": false,
          "title": ""
        },
        "id": "hZbsHwRINKhm"
      },
      "source": [
        "# Medicina_no_Brasil"
      ]
    },
    {
      "cell_type": "markdown",
      "metadata": {
        "application/vnd.databricks.v1+cell": {
          "cellMetadata": {
            "byteLimit": 2048000,
            "rowLimit": 10000
          },
          "inputWidgets": {},
          "nuid": "5c6f262d-091a-4b2c-b099-c7e9c32f1774",
          "showTitle": false,
          "title": ""
        },
        "id": "hM95VwBlNKhn"
      },
      "source": [
        "No Brasil, os cursos de medicina são extremamente concorridos e exigentes, com uma carga horária intensa e duração média de seis anos. As faculdades de medicina no país oferecem formação em diversas áreas, como cirurgia, pediatria, ginecologia e obstetrícia, entre outras especialidades médicas.\n",
        "\n",
        "Existem opções de bolsas para estudantes que desejam cursar medicina no país. Uma das principais opções é o Programa Universidade para Todos (PROUNI), que oferece bolsas de estudos parciais e integrais em universidades particulares para estudantes de baixa renda que tenham obtido boas notas no Enem.\n",
        "\n",
        "Além disso, há também a possibilidade de ingressar em universidades públicas, que são gratuitas e oferecem um ensino de qualidade reconhecido mundialmente. No entanto, o processo seletivo para ingresso em universidades públicas é bastante concorrido e exige um alto desempenho dos candidatos.\n",
        "\n",
        "Nas próximas seções, iremos disponibilizar alguns resultados com base em dados modificados do PROUNI e de universidades públicas, a fim de fornecer informações mais detalhadas sobre as opções de bolsas e ingresso nessas instituições de ensino."
      ]
    },
    {
      "cell_type": "code",
      "execution_count": null,
      "metadata": {
        "application/vnd.databricks.v1+cell": {
          "cellMetadata": {
            "byteLimit": 2048000,
            "rowLimit": 10000
          },
          "inputWidgets": {},
          "nuid": "19b47f3f-6e1e-470c-b6d9-3cf2f41f84e8",
          "showTitle": false,
          "title": ""
        },
        "id": "z_KDS8hoNKho",
        "outputId": "13c6acd2-a8bb-4a4a-93ff-f4e78d9b8932"
      },
      "outputs": [
        {
          "output_type": "execute_result",
          "data": {
            "text/html": [
              "<div>\n",
              "<style scoped>\n",
              "    .dataframe tbody tr th:only-of-type {\n",
              "        vertical-align: middle;\n",
              "    }\n",
              "\n",
              "    .dataframe tbody tr th {\n",
              "        vertical-align: top;\n",
              "    }\n",
              "\n",
              "    .dataframe thead th {\n",
              "        text-align: right;\n",
              "    }\n",
              "</style>\n",
              "<table border=\"1\" class=\"dataframe\">\n",
              "  <thead>\n",
              "    <tr style=\"text-align: right;\">\n",
              "      <th></th>\n",
              "      <th>grau</th>\n",
              "      <th>turno</th>\n",
              "      <th>mensalidade</th>\n",
              "      <th>bolsa_integral_cotas</th>\n",
              "      <th>bolsa_integral_ampla</th>\n",
              "      <th>bolsa_parcial_cotas</th>\n",
              "      <th>bolsa_parcial_ampla</th>\n",
              "      <th>curso_busca</th>\n",
              "      <th>cidade_busca</th>\n",
              "      <th>uf_busca</th>\n",
              "      <th>cidade_filtro</th>\n",
              "      <th>universidade_nome</th>\n",
              "      <th>campus_nome</th>\n",
              "      <th>campus_id</th>\n",
              "      <th>nome</th>\n",
              "      <th>nota_integral_ampla</th>\n",
              "      <th>nota_integral_cotas</th>\n",
              "      <th>nota_parcial_ampla</th>\n",
              "      <th>nota_parcial_cotas</th>\n",
              "    </tr>\n",
              "    <tr>\n",
              "      <th>curso_id</th>\n",
              "      <th></th>\n",
              "      <th></th>\n",
              "      <th></th>\n",
              "      <th></th>\n",
              "      <th></th>\n",
              "      <th></th>\n",
              "      <th></th>\n",
              "      <th></th>\n",
              "      <th></th>\n",
              "      <th></th>\n",
              "      <th></th>\n",
              "      <th></th>\n",
              "      <th></th>\n",
              "      <th></th>\n",
              "      <th></th>\n",
              "      <th></th>\n",
              "      <th></th>\n",
              "      <th></th>\n",
              "      <th></th>\n",
              "    </tr>\n",
              "  </thead>\n",
              "  <tbody>\n",
              "    <tr>\n",
              "      <th>706710394154</th>\n",
              "      <td>Bacharelado</td>\n",
              "      <td>Integral</td>\n",
              "      <td>9999.99</td>\n",
              "      <td>15</td>\n",
              "      <td>14.0</td>\n",
              "      <td>NaN</td>\n",
              "      <td>NaN</td>\n",
              "      <td>Medicina</td>\n",
              "      <td>Campo Grande</td>\n",
              "      <td>MS</td>\n",
              "      <td>NTAwMjAwNDAyNzA0</td>\n",
              "      <td>Universidade Anhanguera - UNIDERP</td>\n",
              "      <td>CAMPO GRANDE - SEDE - Miguel Couto</td>\n",
              "      <td>706710</td>\n",
              "      <td>Medicina</td>\n",
              "      <td>740.22</td>\n",
              "      <td>726.46</td>\n",
              "      <td>NaN</td>\n",
              "      <td>NaN</td>\n",
              "    </tr>\n",
              "    <tr>\n",
              "      <th>104191210567043</th>\n",
              "      <td>Bacharelado</td>\n",
              "      <td>Noturno</td>\n",
              "      <td>9836.40</td>\n",
              "      <td>1</td>\n",
              "      <td>NaN</td>\n",
              "      <td>NaN</td>\n",
              "      <td>NaN</td>\n",
              "      <td>Enfermagem</td>\n",
              "      <td>Crateus</td>\n",
              "      <td>CE</td>\n",
              "      <td>MjMwNDAxODA0MTAz</td>\n",
              "      <td>Faculdade Princesa do Oeste - FPO</td>\n",
              "      <td>UNIDADE SEDE - São Vicente</td>\n",
              "      <td>1041912</td>\n",
              "      <td>Enfermagem</td>\n",
              "      <td>663.36</td>\n",
              "      <td>NaN</td>\n",
              "      <td>NaN</td>\n",
              "      <td>NaN</td>\n",
              "    </tr>\n",
              "    <tr>\n",
              "      <th>1002328574024</th>\n",
              "      <td>Bacharelado</td>\n",
              "      <td>Integral</td>\n",
              "      <td>9715.61</td>\n",
              "      <td>2</td>\n",
              "      <td>5.0</td>\n",
              "      <td>6.0</td>\n",
              "      <td>10.0</td>\n",
              "      <td>Medicina</td>\n",
              "      <td>Sao Paulo</td>\n",
              "      <td>SP</td>\n",
              "      <td>MzUxNTA2MTUwMzA4</td>\n",
              "      <td>Universidade Cidade de São Paulo - UNICID</td>\n",
              "      <td>UNIVERSIDADE CIDADE DE SÃO PAULO - UNICID - SE...</td>\n",
              "      <td>1002328</td>\n",
              "      <td>Medicina</td>\n",
              "      <td>739.62</td>\n",
              "      <td>738.08</td>\n",
              "      <td>738.96</td>\n",
              "      <td>718.64</td>\n",
              "    </tr>\n",
              "    <tr>\n",
              "      <th>104191212798093</th>\n",
              "      <td>Bacharelado</td>\n",
              "      <td>Noturno</td>\n",
              "      <td>9689.34</td>\n",
              "      <td>3</td>\n",
              "      <td>2.0</td>\n",
              "      <td>NaN</td>\n",
              "      <td>NaN</td>\n",
              "      <td>Psicologia</td>\n",
              "      <td>Crateus</td>\n",
              "      <td>CE</td>\n",
              "      <td>MjMwNDAxODA0MTAz</td>\n",
              "      <td>Faculdade Princesa do Oeste - FPO</td>\n",
              "      <td>UNIDADE SEDE - São Vicente</td>\n",
              "      <td>1041912</td>\n",
              "      <td>Psicologia</td>\n",
              "      <td>651.00</td>\n",
              "      <td>652.22</td>\n",
              "      <td>NaN</td>\n",
              "      <td>NaN</td>\n",
              "    </tr>\n",
              "    <tr>\n",
              "      <th>65899611932754</th>\n",
              "      <td>Bacharelado</td>\n",
              "      <td>Integral</td>\n",
              "      <td>9674.34</td>\n",
              "      <td>4</td>\n",
              "      <td>1.0</td>\n",
              "      <td>5.0</td>\n",
              "      <td>2.0</td>\n",
              "      <td>Medicina</td>\n",
              "      <td>Rio Branco</td>\n",
              "      <td>AC</td>\n",
              "      <td>MTIwMjAwNDAwNDAx</td>\n",
              "      <td>Faculdade Barão do Rio Branco - FAB</td>\n",
              "      <td>CAMPUS  - RIO BRANCO - JARDIM EUROPA II - Jard...</td>\n",
              "      <td>658996</td>\n",
              "      <td>Medicina</td>\n",
              "      <td>758.32</td>\n",
              "      <td>723.94</td>\n",
              "      <td>734.92</td>\n",
              "      <td>711.26</td>\n",
              "    </tr>\n",
              "  </tbody>\n",
              "</table>\n",
              "</div>"
            ],
            "text/plain": [
              "                        grau     turno  mensalidade  bolsa_integral_cotas  bolsa_integral_ampla  bolsa_parcial_cotas  bolsa_parcial_ampla curso_busca  cidade_busca uf_busca     cidade_filtro                          universidade_nome                                                 campus_nome  campus_id        nome  nota_integral_ampla  nota_integral_cotas  nota_parcial_ampla  nota_parcial_cotas\n",
              "curso_id                                                                                                                                                                                                                                                                                                                                                                                                      \n",
              "706710394154     Bacharelado  Integral      9999.99                    15                  14.0                  NaN                  NaN    Medicina  Campo Grande       MS  NTAwMjAwNDAyNzA0          Universidade Anhanguera - UNIDERP                          CAMPO GRANDE - SEDE - Miguel Couto     706710    Medicina               740.22               726.46                 NaN                 NaN\n",
              "104191210567043  Bacharelado   Noturno      9836.40                     1                   NaN                  NaN                  NaN  Enfermagem       Crateus       CE  MjMwNDAxODA0MTAz          Faculdade Princesa do Oeste - FPO                                  UNIDADE SEDE - São Vicente    1041912  Enfermagem               663.36                  NaN                 NaN                 NaN\n",
              "1002328574024    Bacharelado  Integral      9715.61                     2                   5.0                  6.0                 10.0    Medicina     Sao Paulo       SP  MzUxNTA2MTUwMzA4  Universidade Cidade de São Paulo - UNICID  UNIVERSIDADE CIDADE DE SÃO PAULO - UNICID - SEDE - Tatuapé    1002328    Medicina               739.62               738.08              738.96              718.64\n",
              "104191212798093  Bacharelado   Noturno      9689.34                     3                   2.0                  NaN                  NaN  Psicologia       Crateus       CE  MjMwNDAxODA0MTAz          Faculdade Princesa do Oeste - FPO                                  UNIDADE SEDE - São Vicente    1041912  Psicologia               651.00               652.22                 NaN                 NaN\n",
              "65899611932754   Bacharelado  Integral      9674.34                     4                   1.0                  5.0                  2.0    Medicina    Rio Branco       AC  MTIwMjAwNDAwNDAx        Faculdade Barão do Rio Branco - FAB  CAMPUS  - RIO BRANCO - JARDIM EUROPA II - Jardim Europa II     658996    Medicina               758.32               723.94              734.92              711.26"
            ]
          },
          "execution_count": 3,
          "metadata": {}
        }
      ],
      "source": [
        "df.head(5)"
      ]
    },
    {
      "cell_type": "code",
      "execution_count": null,
      "metadata": {
        "application/vnd.databricks.v1+cell": {
          "cellMetadata": {
            "byteLimit": 2048000,
            "rowLimit": 10000
          },
          "inputWidgets": {},
          "nuid": "a3c24143-9295-40da-9c4a-cb9831e10635",
          "showTitle": false,
          "title": ""
        },
        "id": "7NL-G0PXNKhr",
        "outputId": "503c733a-9f13-47e3-8d89-35caff5ece67"
      },
      "outputs": [
        {
          "output_type": "execute_result",
          "data": {
            "text/plain": [
              "(41447, 19)"
            ]
          },
          "execution_count": 4,
          "metadata": {}
        }
      ],
      "source": [
        "# A coluna curso_id servirá de índice para o nosso df\n",
        "df.shape"
      ]
    },
    {
      "cell_type": "code",
      "execution_count": null,
      "metadata": {
        "application/vnd.databricks.v1+cell": {
          "cellMetadata": {
            "byteLimit": 2048000,
            "rowLimit": 10000
          },
          "inputWidgets": {},
          "nuid": "66bc5bac-6dec-4dd5-8940-3550a4454848",
          "showTitle": false,
          "title": ""
        },
        "id": "sEpVNp-hNKhr",
        "outputId": "c092ad35-37fe-43b9-f829-c8fbbd421dff"
      },
      "outputs": [
        {
          "output_type": "execute_result",
          "data": {
            "text/plain": [
              "41447"
            ]
          },
          "execution_count": 5,
          "metadata": {}
        }
      ],
      "source": [
        "# Verificando se uma coluna é igual a outra e somando os trues para quantas linhas são iguais\n",
        "df['curso_busca'].equals(df['nome']).sum()"
      ]
    },
    {
      "cell_type": "code",
      "execution_count": null,
      "metadata": {
        "application/vnd.databricks.v1+cell": {
          "cellMetadata": {
            "byteLimit": 2048000,
            "rowLimit": 10000
          },
          "inputWidgets": {},
          "nuid": "5b254616-1a4e-4966-ac5e-696ec6ad6515",
          "showTitle": false,
          "title": ""
        },
        "id": "Mof83_eHNKhs"
      },
      "outputs": [],
      "source": [
        "# dropando a coluna curso_busca que é igual a nome\n",
        "df = df.drop(['curso_busca'], axis = 1)"
      ]
    },
    {
      "cell_type": "code",
      "execution_count": null,
      "metadata": {
        "application/vnd.databricks.v1+cell": {
          "cellMetadata": {
            "byteLimit": 2048000,
            "rowLimit": 10000
          },
          "inputWidgets": {},
          "nuid": "62d4fbdb-a682-451d-98e1-cc256f19054f",
          "showTitle": false,
          "title": ""
        },
        "id": "nJFNULDCNKhs",
        "outputId": "a75b45e0-9fc7-404c-fa2f-cdfda8fe6512"
      },
      "outputs": [
        {
          "output_type": "execute_result",
          "data": {
            "text/html": [
              "<div>\n",
              "<style scoped>\n",
              "    .dataframe tbody tr th:only-of-type {\n",
              "        vertical-align: middle;\n",
              "    }\n",
              "\n",
              "    .dataframe tbody tr th {\n",
              "        vertical-align: top;\n",
              "    }\n",
              "\n",
              "    .dataframe thead th {\n",
              "        text-align: right;\n",
              "    }\n",
              "</style>\n",
              "<table border=\"1\" class=\"dataframe\">\n",
              "  <thead>\n",
              "    <tr style=\"text-align: right;\">\n",
              "      <th></th>\n",
              "      <th>grau</th>\n",
              "      <th>turno</th>\n",
              "      <th>mensalidade</th>\n",
              "      <th>bolsa_integral_cotas</th>\n",
              "      <th>bolsa_integral_ampla</th>\n",
              "      <th>bolsa_parcial_cotas</th>\n",
              "      <th>bolsa_parcial_ampla</th>\n",
              "      <th>cidade_busca</th>\n",
              "      <th>uf_busca</th>\n",
              "      <th>cidade_filtro</th>\n",
              "      <th>universidade_nome</th>\n",
              "      <th>campus_nome</th>\n",
              "      <th>campus_id</th>\n",
              "      <th>nome</th>\n",
              "      <th>nota_integral_ampla</th>\n",
              "      <th>nota_integral_cotas</th>\n",
              "      <th>nota_parcial_ampla</th>\n",
              "      <th>nota_parcial_cotas</th>\n",
              "    </tr>\n",
              "    <tr>\n",
              "      <th>curso_id</th>\n",
              "      <th></th>\n",
              "      <th></th>\n",
              "      <th></th>\n",
              "      <th></th>\n",
              "      <th></th>\n",
              "      <th></th>\n",
              "      <th></th>\n",
              "      <th></th>\n",
              "      <th></th>\n",
              "      <th></th>\n",
              "      <th></th>\n",
              "      <th></th>\n",
              "      <th></th>\n",
              "      <th></th>\n",
              "      <th></th>\n",
              "      <th></th>\n",
              "      <th></th>\n",
              "      <th></th>\n",
              "    </tr>\n",
              "  </thead>\n",
              "  <tbody>\n",
              "    <tr>\n",
              "      <th>706710394154</th>\n",
              "      <td>Bacharelado</td>\n",
              "      <td>Integral</td>\n",
              "      <td>9999.99</td>\n",
              "      <td>15</td>\n",
              "      <td>14.0</td>\n",
              "      <td>NaN</td>\n",
              "      <td>NaN</td>\n",
              "      <td>Campo Grande</td>\n",
              "      <td>MS</td>\n",
              "      <td>NTAwMjAwNDAyNzA0</td>\n",
              "      <td>Universidade Anhanguera - UNIDERP</td>\n",
              "      <td>CAMPO GRANDE - SEDE - Miguel Couto</td>\n",
              "      <td>706710</td>\n",
              "      <td>Medicina</td>\n",
              "      <td>740.22</td>\n",
              "      <td>726.46</td>\n",
              "      <td>NaN</td>\n",
              "      <td>NaN</td>\n",
              "    </tr>\n",
              "    <tr>\n",
              "      <th>104191210567043</th>\n",
              "      <td>Bacharelado</td>\n",
              "      <td>Noturno</td>\n",
              "      <td>9836.40</td>\n",
              "      <td>1</td>\n",
              "      <td>NaN</td>\n",
              "      <td>NaN</td>\n",
              "      <td>NaN</td>\n",
              "      <td>Crateus</td>\n",
              "      <td>CE</td>\n",
              "      <td>MjMwNDAxODA0MTAz</td>\n",
              "      <td>Faculdade Princesa do Oeste - FPO</td>\n",
              "      <td>UNIDADE SEDE - São Vicente</td>\n",
              "      <td>1041912</td>\n",
              "      <td>Enfermagem</td>\n",
              "      <td>663.36</td>\n",
              "      <td>NaN</td>\n",
              "      <td>NaN</td>\n",
              "      <td>NaN</td>\n",
              "    </tr>\n",
              "    <tr>\n",
              "      <th>1002328574024</th>\n",
              "      <td>Bacharelado</td>\n",
              "      <td>Integral</td>\n",
              "      <td>9715.61</td>\n",
              "      <td>2</td>\n",
              "      <td>5.0</td>\n",
              "      <td>6.0</td>\n",
              "      <td>10.0</td>\n",
              "      <td>Sao Paulo</td>\n",
              "      <td>SP</td>\n",
              "      <td>MzUxNTA2MTUwMzA4</td>\n",
              "      <td>Universidade Cidade de São Paulo - UNICID</td>\n",
              "      <td>UNIVERSIDADE CIDADE DE SÃO PAULO - UNICID - SE...</td>\n",
              "      <td>1002328</td>\n",
              "      <td>Medicina</td>\n",
              "      <td>739.62</td>\n",
              "      <td>738.08</td>\n",
              "      <td>738.96</td>\n",
              "      <td>718.64</td>\n",
              "    </tr>\n",
              "    <tr>\n",
              "      <th>104191212798093</th>\n",
              "      <td>Bacharelado</td>\n",
              "      <td>Noturno</td>\n",
              "      <td>9689.34</td>\n",
              "      <td>3</td>\n",
              "      <td>2.0</td>\n",
              "      <td>NaN</td>\n",
              "      <td>NaN</td>\n",
              "      <td>Crateus</td>\n",
              "      <td>CE</td>\n",
              "      <td>MjMwNDAxODA0MTAz</td>\n",
              "      <td>Faculdade Princesa do Oeste - FPO</td>\n",
              "      <td>UNIDADE SEDE - São Vicente</td>\n",
              "      <td>1041912</td>\n",
              "      <td>Psicologia</td>\n",
              "      <td>651.00</td>\n",
              "      <td>652.22</td>\n",
              "      <td>NaN</td>\n",
              "      <td>NaN</td>\n",
              "    </tr>\n",
              "    <tr>\n",
              "      <th>65899611932754</th>\n",
              "      <td>Bacharelado</td>\n",
              "      <td>Integral</td>\n",
              "      <td>9674.34</td>\n",
              "      <td>4</td>\n",
              "      <td>1.0</td>\n",
              "      <td>5.0</td>\n",
              "      <td>2.0</td>\n",
              "      <td>Rio Branco</td>\n",
              "      <td>AC</td>\n",
              "      <td>MTIwMjAwNDAwNDAx</td>\n",
              "      <td>Faculdade Barão do Rio Branco - FAB</td>\n",
              "      <td>CAMPUS  - RIO BRANCO - JARDIM EUROPA II - Jard...</td>\n",
              "      <td>658996</td>\n",
              "      <td>Medicina</td>\n",
              "      <td>758.32</td>\n",
              "      <td>723.94</td>\n",
              "      <td>734.92</td>\n",
              "      <td>711.26</td>\n",
              "    </tr>\n",
              "  </tbody>\n",
              "</table>\n",
              "</div>"
            ],
            "text/plain": [
              "                        grau     turno  mensalidade  bolsa_integral_cotas  bolsa_integral_ampla  bolsa_parcial_cotas  bolsa_parcial_ampla  cidade_busca uf_busca     cidade_filtro                          universidade_nome                                                 campus_nome  campus_id        nome  nota_integral_ampla  nota_integral_cotas  nota_parcial_ampla  nota_parcial_cotas\n",
              "curso_id                                                                                                                                                                                                                                                                                                                                                                                          \n",
              "706710394154     Bacharelado  Integral      9999.99                    15                  14.0                  NaN                  NaN  Campo Grande       MS  NTAwMjAwNDAyNzA0          Universidade Anhanguera - UNIDERP                          CAMPO GRANDE - SEDE - Miguel Couto     706710    Medicina               740.22               726.46                 NaN                 NaN\n",
              "104191210567043  Bacharelado   Noturno      9836.40                     1                   NaN                  NaN                  NaN       Crateus       CE  MjMwNDAxODA0MTAz          Faculdade Princesa do Oeste - FPO                                  UNIDADE SEDE - São Vicente    1041912  Enfermagem               663.36                  NaN                 NaN                 NaN\n",
              "1002328574024    Bacharelado  Integral      9715.61                     2                   5.0                  6.0                 10.0     Sao Paulo       SP  MzUxNTA2MTUwMzA4  Universidade Cidade de São Paulo - UNICID  UNIVERSIDADE CIDADE DE SÃO PAULO - UNICID - SEDE - Tatuapé    1002328    Medicina               739.62               738.08              738.96              718.64\n",
              "104191212798093  Bacharelado   Noturno      9689.34                     3                   2.0                  NaN                  NaN       Crateus       CE  MjMwNDAxODA0MTAz          Faculdade Princesa do Oeste - FPO                                  UNIDADE SEDE - São Vicente    1041912  Psicologia               651.00               652.22                 NaN                 NaN\n",
              "65899611932754   Bacharelado  Integral      9674.34                     4                   1.0                  5.0                  2.0    Rio Branco       AC  MTIwMjAwNDAwNDAx        Faculdade Barão do Rio Branco - FAB  CAMPUS  - RIO BRANCO - JARDIM EUROPA II - Jardim Europa II     658996    Medicina               758.32               723.94              734.92              711.26"
            ]
          },
          "execution_count": 7,
          "metadata": {}
        }
      ],
      "source": [
        "df.head(5)"
      ]
    },
    {
      "cell_type": "code",
      "execution_count": null,
      "metadata": {
        "application/vnd.databricks.v1+cell": {
          "cellMetadata": {
            "byteLimit": 2048000,
            "rowLimit": 10000
          },
          "inputWidgets": {},
          "nuid": "8a3d505a-0bff-41df-ab3a-c3175c7781ba",
          "showTitle": false,
          "title": ""
        },
        "id": "6lIk1B3mNKht",
        "outputId": "2828de2d-7a89-4890-db19-dd7663d1f1f8"
      },
      "outputs": [
        {
          "output_type": "execute_result",
          "data": {
            "text/plain": [
              "(41447, 18)"
            ]
          },
          "execution_count": 8,
          "metadata": {}
        }
      ],
      "source": [
        "df.shape"
      ]
    },
    {
      "cell_type": "code",
      "execution_count": null,
      "metadata": {
        "application/vnd.databricks.v1+cell": {
          "cellMetadata": {
            "byteLimit": 2048000,
            "rowLimit": 10000
          },
          "inputWidgets": {},
          "nuid": "6d2ac24c-e4eb-4a04-9330-53e0e5ad6be7",
          "showTitle": false,
          "title": ""
        },
        "id": "W-fuaSikNKht",
        "outputId": "b09a6b4d-ebbc-44ec-d753-27e7b645161a"
      },
      "outputs": [
        {
          "output_type": "execute_result",
          "data": {
            "text/html": [
              "<div>\n",
              "<style scoped>\n",
              "    .dataframe tbody tr th:only-of-type {\n",
              "        vertical-align: middle;\n",
              "    }\n",
              "\n",
              "    .dataframe tbody tr th {\n",
              "        vertical-align: top;\n",
              "    }\n",
              "\n",
              "    .dataframe thead th {\n",
              "        text-align: right;\n",
              "    }\n",
              "</style>\n",
              "<table border=\"1\" class=\"dataframe\">\n",
              "  <thead>\n",
              "    <tr style=\"text-align: right;\">\n",
              "      <th></th>\n",
              "      <th>grau</th>\n",
              "      <th>turno</th>\n",
              "      <th>mensalidade</th>\n",
              "      <th>bolsa_integral_cotas</th>\n",
              "      <th>bolsa_integral_ampla</th>\n",
              "      <th>bolsa_parcial_cotas</th>\n",
              "      <th>bolsa_parcial_ampla</th>\n",
              "      <th>cidade_busca</th>\n",
              "      <th>uf_busca</th>\n",
              "      <th>cidade_filtro</th>\n",
              "      <th>universidade_nome</th>\n",
              "      <th>campus_nome</th>\n",
              "      <th>campus_id</th>\n",
              "      <th>nome_curso</th>\n",
              "      <th>nota_integral_ampla</th>\n",
              "      <th>nota_integral_cotas</th>\n",
              "      <th>nota_parcial_ampla</th>\n",
              "      <th>nota_parcial_cotas</th>\n",
              "    </tr>\n",
              "    <tr>\n",
              "      <th>curso_id</th>\n",
              "      <th></th>\n",
              "      <th></th>\n",
              "      <th></th>\n",
              "      <th></th>\n",
              "      <th></th>\n",
              "      <th></th>\n",
              "      <th></th>\n",
              "      <th></th>\n",
              "      <th></th>\n",
              "      <th></th>\n",
              "      <th></th>\n",
              "      <th></th>\n",
              "      <th></th>\n",
              "      <th></th>\n",
              "      <th></th>\n",
              "      <th></th>\n",
              "      <th></th>\n",
              "      <th></th>\n",
              "    </tr>\n",
              "  </thead>\n",
              "  <tbody>\n",
              "    <tr>\n",
              "      <th>706710394154</th>\n",
              "      <td>Bacharelado</td>\n",
              "      <td>Integral</td>\n",
              "      <td>9999.99</td>\n",
              "      <td>15</td>\n",
              "      <td>14.0</td>\n",
              "      <td>NaN</td>\n",
              "      <td>NaN</td>\n",
              "      <td>Campo Grande</td>\n",
              "      <td>MS</td>\n",
              "      <td>NTAwMjAwNDAyNzA0</td>\n",
              "      <td>Universidade Anhanguera - UNIDERP</td>\n",
              "      <td>CAMPO GRANDE - SEDE - Miguel Couto</td>\n",
              "      <td>706710</td>\n",
              "      <td>Medicina</td>\n",
              "      <td>740.22</td>\n",
              "      <td>726.46</td>\n",
              "      <td>NaN</td>\n",
              "      <td>NaN</td>\n",
              "    </tr>\n",
              "    <tr>\n",
              "      <th>104191210567043</th>\n",
              "      <td>Bacharelado</td>\n",
              "      <td>Noturno</td>\n",
              "      <td>9836.40</td>\n",
              "      <td>1</td>\n",
              "      <td>NaN</td>\n",
              "      <td>NaN</td>\n",
              "      <td>NaN</td>\n",
              "      <td>Crateus</td>\n",
              "      <td>CE</td>\n",
              "      <td>MjMwNDAxODA0MTAz</td>\n",
              "      <td>Faculdade Princesa do Oeste - FPO</td>\n",
              "      <td>UNIDADE SEDE - São Vicente</td>\n",
              "      <td>1041912</td>\n",
              "      <td>Enfermagem</td>\n",
              "      <td>663.36</td>\n",
              "      <td>NaN</td>\n",
              "      <td>NaN</td>\n",
              "      <td>NaN</td>\n",
              "    </tr>\n",
              "    <tr>\n",
              "      <th>1002328574024</th>\n",
              "      <td>Bacharelado</td>\n",
              "      <td>Integral</td>\n",
              "      <td>9715.61</td>\n",
              "      <td>2</td>\n",
              "      <td>5.0</td>\n",
              "      <td>6.0</td>\n",
              "      <td>10.0</td>\n",
              "      <td>Sao Paulo</td>\n",
              "      <td>SP</td>\n",
              "      <td>MzUxNTA2MTUwMzA4</td>\n",
              "      <td>Universidade Cidade de São Paulo - UNICID</td>\n",
              "      <td>UNIVERSIDADE CIDADE DE SÃO PAULO - UNICID - SE...</td>\n",
              "      <td>1002328</td>\n",
              "      <td>Medicina</td>\n",
              "      <td>739.62</td>\n",
              "      <td>738.08</td>\n",
              "      <td>738.96</td>\n",
              "      <td>718.64</td>\n",
              "    </tr>\n",
              "    <tr>\n",
              "      <th>104191212798093</th>\n",
              "      <td>Bacharelado</td>\n",
              "      <td>Noturno</td>\n",
              "      <td>9689.34</td>\n",
              "      <td>3</td>\n",
              "      <td>2.0</td>\n",
              "      <td>NaN</td>\n",
              "      <td>NaN</td>\n",
              "      <td>Crateus</td>\n",
              "      <td>CE</td>\n",
              "      <td>MjMwNDAxODA0MTAz</td>\n",
              "      <td>Faculdade Princesa do Oeste - FPO</td>\n",
              "      <td>UNIDADE SEDE - São Vicente</td>\n",
              "      <td>1041912</td>\n",
              "      <td>Psicologia</td>\n",
              "      <td>651.00</td>\n",
              "      <td>652.22</td>\n",
              "      <td>NaN</td>\n",
              "      <td>NaN</td>\n",
              "    </tr>\n",
              "    <tr>\n",
              "      <th>65899611932754</th>\n",
              "      <td>Bacharelado</td>\n",
              "      <td>Integral</td>\n",
              "      <td>9674.34</td>\n",
              "      <td>4</td>\n",
              "      <td>1.0</td>\n",
              "      <td>5.0</td>\n",
              "      <td>2.0</td>\n",
              "      <td>Rio Branco</td>\n",
              "      <td>AC</td>\n",
              "      <td>MTIwMjAwNDAwNDAx</td>\n",
              "      <td>Faculdade Barão do Rio Branco - FAB</td>\n",
              "      <td>CAMPUS  - RIO BRANCO - JARDIM EUROPA II - Jard...</td>\n",
              "      <td>658996</td>\n",
              "      <td>Medicina</td>\n",
              "      <td>758.32</td>\n",
              "      <td>723.94</td>\n",
              "      <td>734.92</td>\n",
              "      <td>711.26</td>\n",
              "    </tr>\n",
              "  </tbody>\n",
              "</table>\n",
              "</div>"
            ],
            "text/plain": [
              "                        grau     turno  mensalidade  bolsa_integral_cotas  bolsa_integral_ampla  bolsa_parcial_cotas  bolsa_parcial_ampla  cidade_busca uf_busca     cidade_filtro                          universidade_nome                                                 campus_nome  campus_id  nome_curso  nota_integral_ampla  nota_integral_cotas  nota_parcial_ampla  nota_parcial_cotas\n",
              "curso_id                                                                                                                                                                                                                                                                                                                                                                                          \n",
              "706710394154     Bacharelado  Integral      9999.99                    15                  14.0                  NaN                  NaN  Campo Grande       MS  NTAwMjAwNDAyNzA0          Universidade Anhanguera - UNIDERP                          CAMPO GRANDE - SEDE - Miguel Couto     706710    Medicina               740.22               726.46                 NaN                 NaN\n",
              "104191210567043  Bacharelado   Noturno      9836.40                     1                   NaN                  NaN                  NaN       Crateus       CE  MjMwNDAxODA0MTAz          Faculdade Princesa do Oeste - FPO                                  UNIDADE SEDE - São Vicente    1041912  Enfermagem               663.36                  NaN                 NaN                 NaN\n",
              "1002328574024    Bacharelado  Integral      9715.61                     2                   5.0                  6.0                 10.0     Sao Paulo       SP  MzUxNTA2MTUwMzA4  Universidade Cidade de São Paulo - UNICID  UNIVERSIDADE CIDADE DE SÃO PAULO - UNICID - SEDE - Tatuapé    1002328    Medicina               739.62               738.08              738.96              718.64\n",
              "104191212798093  Bacharelado   Noturno      9689.34                     3                   2.0                  NaN                  NaN       Crateus       CE  MjMwNDAxODA0MTAz          Faculdade Princesa do Oeste - FPO                                  UNIDADE SEDE - São Vicente    1041912  Psicologia               651.00               652.22                 NaN                 NaN\n",
              "65899611932754   Bacharelado  Integral      9674.34                     4                   1.0                  5.0                  2.0    Rio Branco       AC  MTIwMjAwNDAwNDAx        Faculdade Barão do Rio Branco - FAB  CAMPUS  - RIO BRANCO - JARDIM EUROPA II - Jardim Europa II     658996    Medicina               758.32               723.94              734.92              711.26"
            ]
          },
          "execution_count": 9,
          "metadata": {}
        }
      ],
      "source": [
        "# Renomeando a coluna\n",
        "df = df.rename(columns={'nome':'nome_curso'})\n",
        "df.head(5)"
      ]
    },
    {
      "cell_type": "code",
      "execution_count": null,
      "metadata": {
        "application/vnd.databricks.v1+cell": {
          "cellMetadata": {
            "byteLimit": 2048000,
            "rowLimit": 10000
          },
          "inputWidgets": {},
          "nuid": "afab5ea5-bb58-4fd1-a637-63a8b28a3d93",
          "showTitle": false,
          "title": ""
        },
        "id": "9J0hFg4ONKhu",
        "outputId": "80d888fd-2293-4cd7-f99e-732c53a060e7"
      },
      "outputs": [
        {
          "output_type": "execute_result",
          "data": {
            "text/plain": [
              "124"
            ]
          },
          "execution_count": 10,
          "metadata": {}
        }
      ],
      "source": [
        "# Quantos cursos de medicina são disponibilizados pelo Prouni?\n",
        "df[df['nome_curso']== 'Medicina']['nome_curso'].count()"
      ]
    },
    {
      "cell_type": "code",
      "execution_count": null,
      "metadata": {
        "application/vnd.databricks.v1+cell": {
          "cellMetadata": {
            "byteLimit": 2048000,
            "rowLimit": 10000
          },
          "inputWidgets": {},
          "nuid": "01555f5b-99fb-46ff-a86e-9b122ef482dc",
          "showTitle": false,
          "title": ""
        },
        "id": "zfoz_-5KNKhu",
        "outputId": "721d8f21-4107-46d3-ad6a-39822ca3c03e"
      },
      "outputs": [
        {
          "output_type": "execute_result",
          "data": {
            "text/plain": [
              "0             Matutino\n",
              "1    Curso a Distância\n",
              "2           Vespertino\n",
              "3             Integral\n",
              "4              Noturno\n",
              "Name: turno, dtype: object"
            ]
          },
          "execution_count": 11,
          "metadata": {}
        }
      ],
      "source": [
        "# Quais opções de turno temos\n",
        "df['turno'].unique()"
      ]
    },
    {
      "cell_type": "code",
      "execution_count": null,
      "metadata": {
        "application/vnd.databricks.v1+cell": {
          "cellMetadata": {
            "byteLimit": 2048000,
            "rowLimit": 10000
          },
          "inputWidgets": {},
          "nuid": "7c35def3-bc29-4aca-bf58-9756d5ab246b",
          "showTitle": false,
          "title": ""
        },
        "id": "bQJpsDHwNKhu",
        "outputId": "d1783bda-0af2-4a18-b801-9b0bd50370ae"
      },
      "outputs": [
        {
          "output_type": "execute_result",
          "data": {
            "text/plain": [
              "124"
            ]
          },
          "execution_count": 12,
          "metadata": {}
        }
      ],
      "source": [
        "# Verificando e validando a condição de achar quantos cursos possuem em medicina\n",
        "\n",
        "df[(df['turno'] == 'Integral') & (df['nome_curso'] == 'Medicina') | (df['turno'] == 'Matutino') & (df['nome_curso'] == 'Medicina')]['nome_curso'].count()"
      ]
    },
    {
      "cell_type": "code",
      "execution_count": null,
      "metadata": {
        "application/vnd.databricks.v1+cell": {
          "cellMetadata": {
            "byteLimit": 2048000,
            "rowLimit": 10000
          },
          "inputWidgets": {},
          "nuid": "229425f5-b3ca-4c01-83e4-d77d7def9f59",
          "showTitle": false,
          "title": ""
        },
        "id": "svB96v0FNKhu"
      },
      "outputs": [],
      "source": [
        "# Pegando o segundo arquivo o reajuste\n",
        "local_do_arquivo_reajuste = '/FileStore/reajuste.csv'\n",
        "df_mensalidade = ps.read_csv(local_do_arquivo_reajuste)"
      ]
    },
    {
      "cell_type": "code",
      "execution_count": null,
      "metadata": {
        "application/vnd.databricks.v1+cell": {
          "cellMetadata": {
            "byteLimit": 2048000,
            "rowLimit": 10000
          },
          "inputWidgets": {},
          "nuid": "0c99f72c-0347-4675-8967-49fed9dec392",
          "showTitle": false,
          "title": ""
        },
        "id": "HsybAEfrNKhv",
        "outputId": "f76f7b16-426b-4a9d-d1b5-a0bc2363b916"
      },
      "outputs": [
        {
          "output_type": "execute_result",
          "data": {
            "text/html": [
              "<div>\n",
              "<style scoped>\n",
              "    .dataframe tbody tr th:only-of-type {\n",
              "        vertical-align: middle;\n",
              "    }\n",
              "\n",
              "    .dataframe tbody tr th {\n",
              "        vertical-align: top;\n",
              "    }\n",
              "\n",
              "    .dataframe thead th {\n",
              "        text-align: right;\n",
              "    }\n",
              "</style>\n",
              "<table border=\"1\" class=\"dataframe\">\n",
              "  <thead>\n",
              "    <tr style=\"text-align: right;\">\n",
              "      <th></th>\n",
              "      <th>reajuste</th>\n",
              "    </tr>\n",
              "  </thead>\n",
              "  <tbody>\n",
              "    <tr>\n",
              "      <th>0</th>\n",
              "      <td>100</td>\n",
              "    </tr>\n",
              "    <tr>\n",
              "      <th>1</th>\n",
              "      <td>50</td>\n",
              "    </tr>\n",
              "    <tr>\n",
              "      <th>2</th>\n",
              "      <td>100</td>\n",
              "    </tr>\n",
              "    <tr>\n",
              "      <th>3</th>\n",
              "      <td>50</td>\n",
              "    </tr>\n",
              "    <tr>\n",
              "      <th>4</th>\n",
              "      <td>100</td>\n",
              "    </tr>\n",
              "  </tbody>\n",
              "</table>\n",
              "</div>"
            ],
            "text/plain": [
              "   reajuste\n",
              "0       100\n",
              "1        50\n",
              "2       100\n",
              "3        50\n",
              "4       100"
            ]
          },
          "execution_count": 14,
          "metadata": {}
        }
      ],
      "source": [
        "df_mensalidade.head()"
      ]
    },
    {
      "cell_type": "code",
      "execution_count": null,
      "metadata": {
        "application/vnd.databricks.v1+cell": {
          "cellMetadata": {
            "byteLimit": 2048000,
            "rowLimit": 10000
          },
          "inputWidgets": {},
          "nuid": "b20f70de-26da-4ff3-a0c4-1fb353903977",
          "showTitle": false,
          "title": ""
        },
        "id": "Ew_7ZHxuNKhv",
        "outputId": "1d702a2f-8d7c-43f2-dc79-f49e8b26f289"
      },
      "outputs": [
        {
          "output_type": "execute_result",
          "data": {
            "text/plain": [
              "(41447, 1)"
            ]
          },
          "execution_count": 15,
          "metadata": {}
        }
      ],
      "source": [
        "df_mensalidade.shape"
      ]
    },
    {
      "cell_type": "code",
      "execution_count": null,
      "metadata": {
        "application/vnd.databricks.v1+cell": {
          "cellMetadata": {
            "byteLimit": 2048000,
            "rowLimit": 10000
          },
          "inputWidgets": {},
          "nuid": "09439db6-4602-4585-aea3-94d3918fb8fc",
          "showTitle": false,
          "title": ""
        },
        "id": "P_eux6l_NKhv"
      },
      "outputs": [],
      "source": [
        "# Alterando o df para calcular entre diferentes frames,\n",
        "ps.set_option('compute.ops_on_diff_frames', True)"
      ]
    },
    {
      "cell_type": "code",
      "execution_count": null,
      "metadata": {
        "application/vnd.databricks.v1+cell": {
          "cellMetadata": {
            "byteLimit": 2048000,
            "rowLimit": 10000
          },
          "inputWidgets": {},
          "nuid": "11386aae-c56f-43cd-b780-5119eb03fb7d",
          "showTitle": false,
          "title": ""
        },
        "id": "QT4sr4uvNKhw"
      },
      "outputs": [],
      "source": [
        "# No primeiro df, passamos um novo indice para facilitar o carregamento, iremos remover o indice do df mensalidade\n",
        "\n",
        "df.reset_index(inplace = True)"
      ]
    },
    {
      "cell_type": "code",
      "execution_count": null,
      "metadata": {
        "application/vnd.databricks.v1+cell": {
          "cellMetadata": {
            "byteLimit": 2048000,
            "rowLimit": 10000
          },
          "inputWidgets": {},
          "nuid": "4196c91e-df91-4771-86f3-0ad0187d26ab",
          "showTitle": false,
          "title": ""
        },
        "id": "FSt7TgqyNKhw"
      },
      "outputs": [],
      "source": [
        "# Calculando de diferentes dataframes\n",
        "df['mensalidade'] = df['mensalidade'] + df_mensalidade['reajuste']"
      ]
    },
    {
      "cell_type": "code",
      "execution_count": null,
      "metadata": {
        "application/vnd.databricks.v1+cell": {
          "cellMetadata": {
            "byteLimit": 2048000,
            "rowLimit": 10000
          },
          "inputWidgets": {},
          "nuid": "967aecd7-e002-443b-b288-1320b5b73d0d",
          "showTitle": false,
          "title": ""
        },
        "id": "dpKonIr6NKhw",
        "outputId": "71f19451-f3e9-4aad-acee-2a4d8a85053a"
      },
      "outputs": [
        {
          "output_type": "execute_result",
          "data": {
            "text/html": [
              "<div>\n",
              "<style scoped>\n",
              "    .dataframe tbody tr th:only-of-type {\n",
              "        vertical-align: middle;\n",
              "    }\n",
              "\n",
              "    .dataframe tbody tr th {\n",
              "        vertical-align: top;\n",
              "    }\n",
              "\n",
              "    .dataframe thead th {\n",
              "        text-align: right;\n",
              "    }\n",
              "</style>\n",
              "<table border=\"1\" class=\"dataframe\">\n",
              "  <thead>\n",
              "    <tr style=\"text-align: right;\">\n",
              "      <th></th>\n",
              "      <th>curso_id</th>\n",
              "      <th>grau</th>\n",
              "      <th>turno</th>\n",
              "      <th>mensalidade</th>\n",
              "      <th>bolsa_integral_cotas</th>\n",
              "      <th>bolsa_integral_ampla</th>\n",
              "      <th>bolsa_parcial_cotas</th>\n",
              "      <th>bolsa_parcial_ampla</th>\n",
              "      <th>cidade_busca</th>\n",
              "      <th>uf_busca</th>\n",
              "      <th>cidade_filtro</th>\n",
              "      <th>universidade_nome</th>\n",
              "      <th>campus_nome</th>\n",
              "      <th>campus_id</th>\n",
              "      <th>nome_curso</th>\n",
              "      <th>nota_integral_ampla</th>\n",
              "      <th>nota_integral_cotas</th>\n",
              "      <th>nota_parcial_ampla</th>\n",
              "      <th>nota_parcial_cotas</th>\n",
              "    </tr>\n",
              "  </thead>\n",
              "  <tbody>\n",
              "    <tr>\n",
              "      <th>1950</th>\n",
              "      <td>65982912800701</td>\n",
              "      <td>Bacharelado</td>\n",
              "      <td>Matutino</td>\n",
              "      <td>1561.29</td>\n",
              "      <td>1</td>\n",
              "      <td>1</td>\n",
              "      <td>1</td>\n",
              "      <td>30</td>\n",
              "      <td>Caucaia</td>\n",
              "      <td>CE</td>\n",
              "      <td>MjMwMzAxNjAzNzA5</td>\n",
              "      <td>Faculdade Terra Nordeste - FATENE</td>\n",
              "      <td>UNIDADE SEDE - Soledade</td>\n",
              "      <td>659829</td>\n",
              "      <td>Engenharia Civil</td>\n",
              "      <td>688.70</td>\n",
              "      <td>693.02</td>\n",
              "      <td>450.00</td>\n",
              "      <td>450.00</td>\n",
              "    </tr>\n",
              "    <tr>\n",
              "      <th>8440</th>\n",
              "      <td>65928650009893</td>\n",
              "      <td>Bacharelado</td>\n",
              "      <td>Noturno</td>\n",
              "      <td>980.00</td>\n",
              "      <td>1</td>\n",
              "      <td>1</td>\n",
              "      <td>3</td>\n",
              "      <td>2</td>\n",
              "      <td>Sao Gotardo</td>\n",
              "      <td>MG</td>\n",
              "      <td>MzEwNTAyMDYyMTA0</td>\n",
              "      <td>Faculdade de Ciências Gerenciais de São Gotard...</td>\n",
              "      <td>UNIDADE SEDE - Boa Esperança</td>\n",
              "      <td>659286</td>\n",
              "      <td>Direito</td>\n",
              "      <td>638.94</td>\n",
              "      <td>612.92</td>\n",
              "      <td>608.26</td>\n",
              "      <td>579.50</td>\n",
              "    </tr>\n",
              "    <tr>\n",
              "      <th>9458</th>\n",
              "      <td>658024423323</td>\n",
              "      <td>Bacharelado</td>\n",
              "      <td>Noturno</td>\n",
              "      <td>927.00</td>\n",
              "      <td>2</td>\n",
              "      <td>1</td>\n",
              "      <td>3</td>\n",
              "      <td>2</td>\n",
              "      <td>Dourados</td>\n",
              "      <td>MS</td>\n",
              "      <td>NTAwNDAxMDAzNzAy</td>\n",
              "      <td>Centro Universitário da Grande Dourados - Unig...</td>\n",
              "      <td>DOURADOS - Jardim</td>\n",
              "      <td>658024</td>\n",
              "      <td>Psicologia</td>\n",
              "      <td>631.32</td>\n",
              "      <td>609.34</td>\n",
              "      <td>618.58</td>\n",
              "      <td>557.68</td>\n",
              "    </tr>\n",
              "    <tr>\n",
              "      <th>11190</th>\n",
              "      <td>1072630671593</td>\n",
              "      <td>Bacharelado</td>\n",
              "      <td>Noturno</td>\n",
              "      <td>829.00</td>\n",
              "      <td>6</td>\n",
              "      <td>5</td>\n",
              "      <td>10</td>\n",
              "      <td>9</td>\n",
              "      <td>Juiz de Fora</td>\n",
              "      <td>MG</td>\n",
              "      <td>MzExMjA2NTM2NzAy</td>\n",
              "      <td>Faculdade Doctum de Juiz de Fora - DOCTUM</td>\n",
              "      <td>CAMPUS APOGEU - Centro</td>\n",
              "      <td>1072630</td>\n",
              "      <td>Direito</td>\n",
              "      <td>669.40</td>\n",
              "      <td>632.94</td>\n",
              "      <td>615.56</td>\n",
              "      <td>584.58</td>\n",
              "    </tr>\n",
              "    <tr>\n",
              "      <th>17979</th>\n",
              "      <td>69558711774842</td>\n",
              "      <td>Tecnológico</td>\n",
              "      <td>Vespertino</td>\n",
              "      <td>543.00</td>\n",
              "      <td>1</td>\n",
              "      <td>1</td>\n",
              "      <td>1</td>\n",
              "      <td>1</td>\n",
              "      <td>Rio Branco</td>\n",
              "      <td>AC</td>\n",
              "      <td>MTIwMjAwNDAwNDAx</td>\n",
              "      <td>Faculdade da Amazônia Ocidental - FAAO</td>\n",
              "      <td>CAMPUS - RIO BRANCO - JARDIM PRIMAVERA - Jardi...</td>\n",
              "      <td>695587</td>\n",
              "      <td>Análise e Desenvolvimento de Sistemas</td>\n",
              "      <td>615.54</td>\n",
              "      <td>574.42</td>\n",
              "      <td>582.66</td>\n",
              "      <td>623.22</td>\n",
              "    </tr>\n",
              "  </tbody>\n",
              "</table>\n",
              "</div>"
            ],
            "text/plain": [
              "             curso_id         grau       turno  mensalidade  bolsa_integral_cotas  bolsa_integral_ampla  bolsa_parcial_cotas  bolsa_parcial_ampla  cidade_busca uf_busca     cidade_filtro                                            universidade_nome                                                campus_nome  campus_id                             nome_curso  nota_integral_ampla  nota_integral_cotas  nota_parcial_ampla  nota_parcial_cotas\n",
              "1950   65982912800701  Bacharelado    Matutino      1561.29                     1                     1                    1                   30       Caucaia       CE  MjMwMzAxNjAzNzA5                            Faculdade Terra Nordeste - FATENE                                    UNIDADE SEDE - Soledade     659829                       Engenharia Civil               688.70               693.02              450.00              450.00\n",
              "8440   65928650009893  Bacharelado     Noturno       980.00                     1                     1                    3                    2   Sao Gotardo       MG  MzEwNTAyMDYyMTA0       Faculdade de Ciências Gerenciais de São Gotardo - CESG                               UNIDADE SEDE - Boa Esperança     659286                                Direito               638.94               612.92              608.26              579.50\n",
              "9458     658024423323  Bacharelado     Noturno       927.00                     2                     1                    3                    2      Dourados       MS  NTAwNDAxMDAzNzAy  Centro Universitário da Grande Dourados - Unigran - UNIGRAN                                          DOURADOS - Jardim     658024                             Psicologia               631.32               609.34              618.58              557.68\n",
              "11190   1072630671593  Bacharelado     Noturno       829.00                     6                     5                   10                    9  Juiz de Fora       MG  MzExMjA2NTM2NzAy                    Faculdade Doctum de Juiz de Fora - DOCTUM                                     CAMPUS APOGEU - Centro    1072630                                Direito               669.40               632.94              615.56              584.58\n",
              "17979  69558711774842  Tecnológico  Vespertino       543.00                     1                     1                    1                    1    Rio Branco       AC  MTIwMjAwNDAwNDAx                       Faculdade da Amazônia Ocidental - FAAO  CAMPUS - RIO BRANCO - JARDIM PRIMAVERA - Jardim Primavera     695587  Análise e Desenvolvimento de Sistemas               615.54               574.42              582.66              623.22"
            ]
          },
          "execution_count": 19,
          "metadata": {}
        }
      ],
      "source": [
        "# Dropando valores NAM\n",
        "df.dropna(inplace=True)\n",
        "df.head()"
      ]
    },
    {
      "cell_type": "code",
      "execution_count": null,
      "metadata": {
        "application/vnd.databricks.v1+cell": {
          "cellMetadata": {
            "byteLimit": 2048000,
            "rowLimit": 10000
          },
          "inputWidgets": {},
          "nuid": "f3ea16c7-7d41-460d-ac52-3dc436566cab",
          "showTitle": false,
          "title": ""
        },
        "id": "b2E2Uk6cNKhw",
        "outputId": "c55d8c11-3049-4a78-9642-16a2538fc7b4"
      },
      "outputs": [
        {
          "output_type": "execute_result",
          "data": {
            "text/html": [
              "<div>\n",
              "<style scoped>\n",
              "    .dataframe tbody tr th:only-of-type {\n",
              "        vertical-align: middle;\n",
              "    }\n",
              "\n",
              "    .dataframe tbody tr th {\n",
              "        vertical-align: top;\n",
              "    }\n",
              "\n",
              "    .dataframe thead th {\n",
              "        text-align: right;\n",
              "    }\n",
              "</style>\n",
              "<table border=\"1\" class=\"dataframe\">\n",
              "  <thead>\n",
              "    <tr style=\"text-align: right;\">\n",
              "      <th></th>\n",
              "      <th>curso_id</th>\n",
              "      <th>mensalidade</th>\n",
              "      <th>bolsa_integral_cotas</th>\n",
              "      <th>bolsa_integral_ampla</th>\n",
              "      <th>bolsa_parcial_cotas</th>\n",
              "      <th>bolsa_parcial_ampla</th>\n",
              "      <th>campus_id</th>\n",
              "      <th>nota_integral_ampla</th>\n",
              "      <th>nota_integral_cotas</th>\n",
              "      <th>nota_parcial_ampla</th>\n",
              "      <th>nota_parcial_cotas</th>\n",
              "    </tr>\n",
              "  </thead>\n",
              "  <tbody>\n",
              "    <tr>\n",
              "      <th>count</th>\n",
              "      <td>2.203000e+03</td>\n",
              "      <td>2203.000000</td>\n",
              "      <td>2203.000000</td>\n",
              "      <td>2203.000000</td>\n",
              "      <td>2203.000000</td>\n",
              "      <td>2203.000000</td>\n",
              "      <td>2.203000e+03</td>\n",
              "      <td>2203.000000</td>\n",
              "      <td>2203.000000</td>\n",
              "      <td>2203.000000</td>\n",
              "      <td>2203.000000</td>\n",
              "    </tr>\n",
              "    <tr>\n",
              "      <th>mean</th>\n",
              "      <td>4.376614e+13</td>\n",
              "      <td>881.605556</td>\n",
              "      <td>1.891058</td>\n",
              "      <td>2.082161</td>\n",
              "      <td>3.387199</td>\n",
              "      <td>7.190649</td>\n",
              "      <td>7.510660e+05</td>\n",
              "      <td>599.380390</td>\n",
              "      <td>574.097921</td>\n",
              "      <td>547.297204</td>\n",
              "      <td>521.452964</td>\n",
              "    </tr>\n",
              "    <tr>\n",
              "      <th>std</th>\n",
              "      <td>4.862265e+13</td>\n",
              "      <td>737.440291</td>\n",
              "      <td>1.969321</td>\n",
              "      <td>2.105756</td>\n",
              "      <td>4.020312</td>\n",
              "      <td>13.897084</td>\n",
              "      <td>4.202414e+05</td>\n",
              "      <td>53.194117</td>\n",
              "      <td>59.868058</td>\n",
              "      <td>58.971101</td>\n",
              "      <td>56.371352</td>\n",
              "    </tr>\n",
              "    <tr>\n",
              "      <th>min</th>\n",
              "      <td>1.649611e+08</td>\n",
              "      <td>194.000000</td>\n",
              "      <td>1.000000</td>\n",
              "      <td>1.000000</td>\n",
              "      <td>1.000000</td>\n",
              "      <td>1.000000</td>\n",
              "      <td>4.790000e+02</td>\n",
              "      <td>450.000000</td>\n",
              "      <td>450.000000</td>\n",
              "      <td>450.000000</td>\n",
              "      <td>450.000000</td>\n",
              "    </tr>\n",
              "    <tr>\n",
              "      <th>25%</th>\n",
              "      <td>6.589496e+11</td>\n",
              "      <td>500.000000</td>\n",
              "      <td>1.000000</td>\n",
              "      <td>1.000000</td>\n",
              "      <td>1.000000</td>\n",
              "      <td>2.000000</td>\n",
              "      <td>6.582050e+05</td>\n",
              "      <td>569.520000</td>\n",
              "      <td>542.220000</td>\n",
              "      <td>507.160000</td>\n",
              "      <td>450.000000</td>\n",
              "    </tr>\n",
              "    <tr>\n",
              "      <th>50%</th>\n",
              "      <td>1.002328e+13</td>\n",
              "      <td>773.830000</td>\n",
              "      <td>1.000000</td>\n",
              "      <td>1.000000</td>\n",
              "      <td>2.000000</td>\n",
              "      <td>3.000000</td>\n",
              "      <td>6.596950e+05</td>\n",
              "      <td>602.040000</td>\n",
              "      <td>583.320000</td>\n",
              "      <td>555.240000</td>\n",
              "      <td>526.540000</td>\n",
              "    </tr>\n",
              "    <tr>\n",
              "      <th>75%</th>\n",
              "      <td>1.040060e+14</td>\n",
              "      <td>1049.000000</td>\n",
              "      <td>2.000000</td>\n",
              "      <td>2.000000</td>\n",
              "      <td>4.000000</td>\n",
              "      <td>6.000000</td>\n",
              "      <td>1.054619e+06</td>\n",
              "      <td>634.600000</td>\n",
              "      <td>614.340000</td>\n",
              "      <td>588.160000</td>\n",
              "      <td>563.620000</td>\n",
              "    </tr>\n",
              "    <tr>\n",
              "      <th>max</th>\n",
              "      <td>2.008254e+14</td>\n",
              "      <td>9815.610000</td>\n",
              "      <td>34.000000</td>\n",
              "      <td>50.000000</td>\n",
              "      <td>74.000000</td>\n",
              "      <td>179.000000</td>\n",
              "      <td>2.008254e+06</td>\n",
              "      <td>781.200000</td>\n",
              "      <td>792.240000</td>\n",
              "      <td>776.360000</td>\n",
              "      <td>768.340000</td>\n",
              "    </tr>\n",
              "  </tbody>\n",
              "</table>\n",
              "</div>"
            ],
            "text/plain": [
              "           curso_id  mensalidade  bolsa_integral_cotas  bolsa_integral_ampla  bolsa_parcial_cotas  bolsa_parcial_ampla     campus_id  nota_integral_ampla  nota_integral_cotas  nota_parcial_ampla  nota_parcial_cotas\n",
              "count  2.203000e+03  2203.000000           2203.000000           2203.000000          2203.000000          2203.000000  2.203000e+03          2203.000000          2203.000000         2203.000000         2203.000000\n",
              "mean   4.376614e+13   881.605556              1.891058              2.082161             3.387199             7.190649  7.510660e+05           599.380390           574.097921          547.297204          521.452964\n",
              "std    4.862265e+13   737.440291              1.969321              2.105756             4.020312            13.897084  4.202414e+05            53.194117            59.868058           58.971101           56.371352\n",
              "min    1.649611e+08   194.000000              1.000000              1.000000             1.000000             1.000000  4.790000e+02           450.000000           450.000000          450.000000          450.000000\n",
              "25%    6.589496e+11   500.000000              1.000000              1.000000             1.000000             2.000000  6.582050e+05           569.520000           542.220000          507.160000          450.000000\n",
              "50%    1.002328e+13   773.830000              1.000000              1.000000             2.000000             3.000000  6.596950e+05           602.040000           583.320000          555.240000          526.540000\n",
              "75%    1.040060e+14  1049.000000              2.000000              2.000000             4.000000             6.000000  1.054619e+06           634.600000           614.340000          588.160000          563.620000\n",
              "max    2.008254e+14  9815.610000             34.000000             50.000000            74.000000           179.000000  2.008254e+06           781.200000           792.240000          776.360000          768.340000"
            ]
          },
          "execution_count": 20,
          "metadata": {}
        }
      ],
      "source": [
        "# Verificando como as informações estão dispostas\n",
        "df.describe()"
      ]
    },
    {
      "cell_type": "code",
      "execution_count": null,
      "metadata": {
        "application/vnd.databricks.v1+cell": {
          "cellMetadata": {
            "byteLimit": 2048000,
            "rowLimit": 10000
          },
          "inputWidgets": {},
          "nuid": "ef95f2d8-a123-4e32-a76b-81b382688aed",
          "showTitle": false,
          "title": ""
        },
        "id": "42JaHG3NNKhw",
        "outputId": "ad639579-5f4f-4af8-b7ed-dd3dc5f61cff"
      },
      "outputs": [
        {
          "output_type": "execute_result",
          "data": {
            "text/html": [
              "<div>\n",
              "<style scoped>\n",
              "    .dataframe tbody tr th:only-of-type {\n",
              "        vertical-align: middle;\n",
              "    }\n",
              "\n",
              "    .dataframe tbody tr th {\n",
              "        vertical-align: top;\n",
              "    }\n",
              "\n",
              "    .dataframe thead th {\n",
              "        text-align: right;\n",
              "    }\n",
              "</style>\n",
              "<table border=\"1\" class=\"dataframe\">\n",
              "  <thead>\n",
              "    <tr style=\"text-align: right;\">\n",
              "      <th></th>\n",
              "      <th>curso_id</th>\n",
              "      <th>mensalidade</th>\n",
              "      <th>bolsa_integral_cotas</th>\n",
              "      <th>bolsa_integral_ampla</th>\n",
              "      <th>bolsa_parcial_cotas</th>\n",
              "      <th>bolsa_parcial_ampla</th>\n",
              "      <th>campus_id</th>\n",
              "      <th>nota_integral_ampla</th>\n",
              "      <th>nota_integral_cotas</th>\n",
              "      <th>nota_parcial_ampla</th>\n",
              "      <th>nota_parcial_cotas</th>\n",
              "    </tr>\n",
              "  </thead>\n",
              "  <tbody>\n",
              "    <tr>\n",
              "      <th>count</th>\n",
              "      <td>1.500000e+01</td>\n",
              "      <td>15.000000</td>\n",
              "      <td>15.000000</td>\n",
              "      <td>15.000000</td>\n",
              "      <td>15.000000</td>\n",
              "      <td>15.000000</td>\n",
              "      <td>1.500000e+01</td>\n",
              "      <td>15.000000</td>\n",
              "      <td>15.000000</td>\n",
              "      <td>15.000000</td>\n",
              "      <td>15.000000</td>\n",
              "    </tr>\n",
              "    <tr>\n",
              "      <th>mean</th>\n",
              "      <td>4.407875e+13</td>\n",
              "      <td>8007.354667</td>\n",
              "      <td>2.800000</td>\n",
              "      <td>2.266667</td>\n",
              "      <td>4.466667</td>\n",
              "      <td>3.866667</td>\n",
              "      <td>7.599417e+05</td>\n",
              "      <td>753.249333</td>\n",
              "      <td>738.438667</td>\n",
              "      <td>746.453333</td>\n",
              "      <td>724.676000</td>\n",
              "    </tr>\n",
              "    <tr>\n",
              "      <th>std</th>\n",
              "      <td>4.349636e+13</td>\n",
              "      <td>1096.173682</td>\n",
              "      <td>1.859339</td>\n",
              "      <td>1.533747</td>\n",
              "      <td>2.587516</td>\n",
              "      <td>2.669047</td>\n",
              "      <td>2.510458e+05</td>\n",
              "      <td>13.109076</td>\n",
              "      <td>16.966989</td>\n",
              "      <td>14.295313</td>\n",
              "      <td>18.302904</td>\n",
              "    </tr>\n",
              "    <tr>\n",
              "      <th>min</th>\n",
              "      <td>1.373807e+11</td>\n",
              "      <td>6113.000000</td>\n",
              "      <td>1.000000</td>\n",
              "      <td>1.000000</td>\n",
              "      <td>1.000000</td>\n",
              "      <td>1.000000</td>\n",
              "      <td>1.373800e+05</td>\n",
              "      <td>735.840000</td>\n",
              "      <td>720.200000</td>\n",
              "      <td>729.720000</td>\n",
              "      <td>690.180000</td>\n",
              "    </tr>\n",
              "    <tr>\n",
              "      <th>25%</th>\n",
              "      <td>6.584619e+11</td>\n",
              "      <td>7130.000000</td>\n",
              "      <td>1.000000</td>\n",
              "      <td>1.000000</td>\n",
              "      <td>1.000000</td>\n",
              "      <td>2.000000</td>\n",
              "      <td>6.583450e+05</td>\n",
              "      <td>741.360000</td>\n",
              "      <td>729.020000</td>\n",
              "      <td>735.760000</td>\n",
              "      <td>715.100000</td>\n",
              "    </tr>\n",
              "    <tr>\n",
              "      <th>50%</th>\n",
              "      <td>6.579365e+13</td>\n",
              "      <td>8295.000000</td>\n",
              "      <td>2.000000</td>\n",
              "      <td>1.000000</td>\n",
              "      <td>5.000000</td>\n",
              "      <td>3.000000</td>\n",
              "      <td>6.600790e+05</td>\n",
              "      <td>754.980000</td>\n",
              "      <td>737.880000</td>\n",
              "      <td>743.140000</td>\n",
              "      <td>721.080000</td>\n",
              "    </tr>\n",
              "    <tr>\n",
              "      <th>75%</th>\n",
              "      <td>7.070341e+13</td>\n",
              "      <td>8608.540000</td>\n",
              "      <td>4.000000</td>\n",
              "      <td>3.000000</td>\n",
              "      <td>6.000000</td>\n",
              "      <td>5.000000</td>\n",
              "      <td>1.041237e+06</td>\n",
              "      <td>762.740000</td>\n",
              "      <td>741.100000</td>\n",
              "      <td>750.440000</td>\n",
              "      <td>732.460000</td>\n",
              "    </tr>\n",
              "    <tr>\n",
              "      <th>max</th>\n",
              "      <td>1.058879e+14</td>\n",
              "      <td>9815.610000</td>\n",
              "      <td>8.000000</td>\n",
              "      <td>5.000000</td>\n",
              "      <td>9.000000</td>\n",
              "      <td>10.000000</td>\n",
              "      <td>1.079920e+06</td>\n",
              "      <td>781.200000</td>\n",
              "      <td>792.240000</td>\n",
              "      <td>776.360000</td>\n",
              "      <td>768.340000</td>\n",
              "    </tr>\n",
              "  </tbody>\n",
              "</table>\n",
              "</div>"
            ],
            "text/plain": [
              "           curso_id  mensalidade  bolsa_integral_cotas  bolsa_integral_ampla  bolsa_parcial_cotas  bolsa_parcial_ampla     campus_id  nota_integral_ampla  nota_integral_cotas  nota_parcial_ampla  nota_parcial_cotas\n",
              "count  1.500000e+01    15.000000             15.000000             15.000000            15.000000            15.000000  1.500000e+01            15.000000            15.000000           15.000000           15.000000\n",
              "mean   4.407875e+13  8007.354667              2.800000              2.266667             4.466667             3.866667  7.599417e+05           753.249333           738.438667          746.453333          724.676000\n",
              "std    4.349636e+13  1096.173682              1.859339              1.533747             2.587516             2.669047  2.510458e+05            13.109076            16.966989           14.295313           18.302904\n",
              "min    1.373807e+11  6113.000000              1.000000              1.000000             1.000000             1.000000  1.373800e+05           735.840000           720.200000          729.720000          690.180000\n",
              "25%    6.584619e+11  7130.000000              1.000000              1.000000             1.000000             2.000000  6.583450e+05           741.360000           729.020000          735.760000          715.100000\n",
              "50%    6.579365e+13  8295.000000              2.000000              1.000000             5.000000             3.000000  6.600790e+05           754.980000           737.880000          743.140000          721.080000\n",
              "75%    7.070341e+13  8608.540000              4.000000              3.000000             6.000000             5.000000  1.041237e+06           762.740000           741.100000          750.440000          732.460000\n",
              "max    1.058879e+14  9815.610000              8.000000              5.000000             9.000000            10.000000  1.079920e+06           781.200000           792.240000          776.360000          768.340000"
            ]
          },
          "execution_count": 21,
          "metadata": {}
        }
      ],
      "source": [
        "# Selecionando as informações do dataset de medicina\n",
        "df[df['nome_curso'] == 'Medicina'].describe()"
      ]
    },
    {
      "cell_type": "code",
      "execution_count": null,
      "metadata": {
        "application/vnd.databricks.v1+cell": {
          "cellMetadata": {
            "byteLimit": 2048000,
            "rowLimit": 10000
          },
          "inputWidgets": {},
          "nuid": "bfecf0b0-bba6-4784-aa17-5bceea13ba8a",
          "showTitle": false,
          "title": ""
        },
        "id": "p53hueSeNKhw"
      },
      "outputs": [],
      "source": [
        "# Focando nos dados das bolsas, restringindo colunas desnecessárias\n",
        "df_descricao = df[df['nome_curso'] == 'Medicina'].describe()"
      ]
    },
    {
      "cell_type": "code",
      "execution_count": null,
      "metadata": {
        "application/vnd.databricks.v1+cell": {
          "cellMetadata": {
            "byteLimit": 2048000,
            "rowLimit": 10000
          },
          "inputWidgets": {},
          "nuid": "a78a759a-9e3d-4657-b1f2-9280dee2e1ae",
          "showTitle": false,
          "title": ""
        },
        "id": "ygw3VI7SNKhx"
      },
      "outputs": [],
      "source": [
        "# Salvando um Df apenas com as informações das bolsas\n",
        "df_descricao_bolsa = df_descricao.drop(['mensalidade', 'curso_id', 'campus_id', 'nota_integral_ampla','nota_integral_cotas','nota_parcial_ampla','nota_parcial_cotas'], axis = 1)"
      ]
    },
    {
      "cell_type": "code",
      "execution_count": null,
      "metadata": {
        "application/vnd.databricks.v1+cell": {
          "cellMetadata": {
            "byteLimit": 2048000,
            "rowLimit": 10000
          },
          "inputWidgets": {},
          "nuid": "06d7d962-e767-45da-a954-8d71051b2519",
          "showTitle": false,
          "title": ""
        },
        "id": "FwoE175ANKhx",
        "outputId": "b1c7ea64-9ab7-4342-e0fc-260e523040b4"
      },
      "outputs": [
        {
          "output_type": "execute_result",
          "data": {
            "text/html": [
              "<div>\n",
              "<style scoped>\n",
              "    .dataframe tbody tr th:only-of-type {\n",
              "        vertical-align: middle;\n",
              "    }\n",
              "\n",
              "    .dataframe tbody tr th {\n",
              "        vertical-align: top;\n",
              "    }\n",
              "\n",
              "    .dataframe thead th {\n",
              "        text-align: right;\n",
              "    }\n",
              "</style>\n",
              "<table border=\"1\" class=\"dataframe\">\n",
              "  <thead>\n",
              "    <tr style=\"text-align: right;\">\n",
              "      <th></th>\n",
              "      <th>bolsa_integral_cotas</th>\n",
              "      <th>bolsa_integral_ampla</th>\n",
              "      <th>bolsa_parcial_cotas</th>\n",
              "      <th>bolsa_parcial_ampla</th>\n",
              "    </tr>\n",
              "  </thead>\n",
              "  <tbody>\n",
              "    <tr>\n",
              "      <th>count</th>\n",
              "      <td>15.000000</td>\n",
              "      <td>15.000000</td>\n",
              "      <td>15.000000</td>\n",
              "      <td>15.000000</td>\n",
              "    </tr>\n",
              "    <tr>\n",
              "      <th>mean</th>\n",
              "      <td>2.800000</td>\n",
              "      <td>2.266667</td>\n",
              "      <td>4.466667</td>\n",
              "      <td>3.866667</td>\n",
              "    </tr>\n",
              "    <tr>\n",
              "      <th>std</th>\n",
              "      <td>1.859339</td>\n",
              "      <td>1.533747</td>\n",
              "      <td>2.587516</td>\n",
              "      <td>2.669047</td>\n",
              "    </tr>\n",
              "    <tr>\n",
              "      <th>min</th>\n",
              "      <td>1.000000</td>\n",
              "      <td>1.000000</td>\n",
              "      <td>1.000000</td>\n",
              "      <td>1.000000</td>\n",
              "    </tr>\n",
              "    <tr>\n",
              "      <th>25%</th>\n",
              "      <td>1.000000</td>\n",
              "      <td>1.000000</td>\n",
              "      <td>1.000000</td>\n",
              "      <td>2.000000</td>\n",
              "    </tr>\n",
              "  </tbody>\n",
              "</table>\n",
              "</div>"
            ],
            "text/plain": [
              "       bolsa_integral_cotas  bolsa_integral_ampla  bolsa_parcial_cotas  bolsa_parcial_ampla\n",
              "count             15.000000             15.000000            15.000000            15.000000\n",
              "mean               2.800000              2.266667             4.466667             3.866667\n",
              "std                1.859339              1.533747             2.587516             2.669047\n",
              "min                1.000000              1.000000             1.000000             1.000000\n",
              "25%                1.000000              1.000000             1.000000             2.000000"
            ]
          },
          "execution_count": 24,
          "metadata": {}
        }
      ],
      "source": [
        "# Colunas de Bolsas\n",
        "df_descricao_bolsa.head()"
      ]
    },
    {
      "cell_type": "code",
      "execution_count": null,
      "metadata": {
        "application/vnd.databricks.v1+cell": {
          "cellMetadata": {
            "byteLimit": 2048000,
            "rowLimit": 10000
          },
          "inputWidgets": {},
          "nuid": "723b881b-579e-438b-ade3-c472494812d7",
          "showTitle": false,
          "title": ""
        },
        "id": "Vyxq-fBlNKhx"
      },
      "outputs": [],
      "source": [
        "# Dropando a linha count do nosso df_descricao_bolsa\n",
        "df_descricao_bolsa = df_descricao_bolsa.drop(['count'], axis = 0)"
      ]
    },
    {
      "cell_type": "code",
      "execution_count": null,
      "metadata": {
        "application/vnd.databricks.v1+cell": {
          "cellMetadata": {
            "byteLimit": 2048000,
            "rowLimit": 10000
          },
          "inputWidgets": {},
          "nuid": "1522ffa0-fa57-4ddb-9152-05928ca426fe",
          "showTitle": false,
          "title": ""
        },
        "id": "aex-YPsFNKhx",
        "outputId": "bf5cf71a-2087-4bed-b0a7-9a443c11c220"
      },
      "outputs": [
        {
          "output_type": "execute_result",
          "data": {
            "text/html": [
              "<style type=\"text/css\">\n",
              "#T_d0b32_row0_col0 {\n",
              "  background-color: #d2d2e7;\n",
              "  color: #000000;\n",
              "}\n",
              "#T_d0b32_row0_col1, #T_d0b32_row1_col1, #T_d0b32_row2_col0, #T_d0b32_row2_col1, #T_d0b32_row2_col2, #T_d0b32_row2_col3, #T_d0b32_row3_col0, #T_d0b32_row3_col1, #T_d0b32_row3_col2, #T_d0b32_row4_col1, #T_d0b32_row5_col1, #T_d0b32_row6_col1 {\n",
              "  background-color: #fff7fb;\n",
              "  color: #000000;\n",
              "}\n",
              "#T_d0b32_row0_col2, #T_d0b32_row1_col3, #T_d0b32_row3_col3, #T_d0b32_row4_col2, #T_d0b32_row5_col2, #T_d0b32_row6_col3 {\n",
              "  background-color: #023858;\n",
              "  color: #f1f1f1;\n",
              "}\n",
              "#T_d0b32_row0_col3 {\n",
              "  background-color: #0d75b3;\n",
              "  color: #f1f1f1;\n",
              "}\n",
              "#T_d0b32_row1_col0 {\n",
              "  background-color: #c4cbe3;\n",
              "  color: #000000;\n",
              "}\n",
              "#T_d0b32_row1_col2 {\n",
              "  background-color: #034b76;\n",
              "  color: #f1f1f1;\n",
              "}\n",
              "#T_d0b32_row4_col0 {\n",
              "  background-color: #d0d1e6;\n",
              "  color: #000000;\n",
              "}\n",
              "#T_d0b32_row4_col3 {\n",
              "  background-color: #73a9cf;\n",
              "  color: #f1f1f1;\n",
              "}\n",
              "#T_d0b32_row5_col0 {\n",
              "  background-color: #b4c4df;\n",
              "  color: #000000;\n",
              "}\n",
              "#T_d0b32_row5_col3 {\n",
              "  background-color: #2685bb;\n",
              "  color: #f1f1f1;\n",
              "}\n",
              "#T_d0b32_row6_col0 {\n",
              "  background-color: #4295c3;\n",
              "  color: #f1f1f1;\n",
              "}\n",
              "#T_d0b32_row6_col2 {\n",
              "  background-color: #0567a2;\n",
              "  color: #f1f1f1;\n",
              "}\n",
              "</style>\n",
              "<table id=\"T_d0b32\">\n",
              "  <thead>\n",
              "    <tr>\n",
              "      <th class=\"blank level0\" >&nbsp;</th>\n",
              "      <th id=\"T_d0b32_level0_col0\" class=\"col_heading level0 col0\" >bolsa_integral_cotas</th>\n",
              "      <th id=\"T_d0b32_level0_col1\" class=\"col_heading level0 col1\" >bolsa_integral_ampla</th>\n",
              "      <th id=\"T_d0b32_level0_col2\" class=\"col_heading level0 col2\" >bolsa_parcial_cotas</th>\n",
              "      <th id=\"T_d0b32_level0_col3\" class=\"col_heading level0 col3\" >bolsa_parcial_ampla</th>\n",
              "    </tr>\n",
              "  </thead>\n",
              "  <tbody>\n",
              "    <tr>\n",
              "      <th id=\"T_d0b32_level0_row0\" class=\"row_heading level0 row0\" >mean</th>\n",
              "      <td id=\"T_d0b32_row0_col0\" class=\"data row0 col0\" >2.80</td>\n",
              "      <td id=\"T_d0b32_row0_col1\" class=\"data row0 col1\" >2.27</td>\n",
              "      <td id=\"T_d0b32_row0_col2\" class=\"data row0 col2\" >4.47</td>\n",
              "      <td id=\"T_d0b32_row0_col3\" class=\"data row0 col3\" >3.87</td>\n",
              "    </tr>\n",
              "    <tr>\n",
              "      <th id=\"T_d0b32_level0_row1\" class=\"row_heading level0 row1\" >std</th>\n",
              "      <td id=\"T_d0b32_row1_col0\" class=\"data row1 col0\" >1.86</td>\n",
              "      <td id=\"T_d0b32_row1_col1\" class=\"data row1 col1\" >1.53</td>\n",
              "      <td id=\"T_d0b32_row1_col2\" class=\"data row1 col2\" >2.59</td>\n",
              "      <td id=\"T_d0b32_row1_col3\" class=\"data row1 col3\" >2.67</td>\n",
              "    </tr>\n",
              "    <tr>\n",
              "      <th id=\"T_d0b32_level0_row2\" class=\"row_heading level0 row2\" >min</th>\n",
              "      <td id=\"T_d0b32_row2_col0\" class=\"data row2 col0\" >1.00</td>\n",
              "      <td id=\"T_d0b32_row2_col1\" class=\"data row2 col1\" >1.00</td>\n",
              "      <td id=\"T_d0b32_row2_col2\" class=\"data row2 col2\" >1.00</td>\n",
              "      <td id=\"T_d0b32_row2_col3\" class=\"data row2 col3\" >1.00</td>\n",
              "    </tr>\n",
              "    <tr>\n",
              "      <th id=\"T_d0b32_level0_row3\" class=\"row_heading level0 row3\" >25%</th>\n",
              "      <td id=\"T_d0b32_row3_col0\" class=\"data row3 col0\" >1.00</td>\n",
              "      <td id=\"T_d0b32_row3_col1\" class=\"data row3 col1\" >1.00</td>\n",
              "      <td id=\"T_d0b32_row3_col2\" class=\"data row3 col2\" >1.00</td>\n",
              "      <td id=\"T_d0b32_row3_col3\" class=\"data row3 col3\" >2.00</td>\n",
              "    </tr>\n",
              "    <tr>\n",
              "      <th id=\"T_d0b32_level0_row4\" class=\"row_heading level0 row4\" >50%</th>\n",
              "      <td id=\"T_d0b32_row4_col0\" class=\"data row4 col0\" >2.00</td>\n",
              "      <td id=\"T_d0b32_row4_col1\" class=\"data row4 col1\" >1.00</td>\n",
              "      <td id=\"T_d0b32_row4_col2\" class=\"data row4 col2\" >5.00</td>\n",
              "      <td id=\"T_d0b32_row4_col3\" class=\"data row4 col3\" >3.00</td>\n",
              "    </tr>\n",
              "    <tr>\n",
              "      <th id=\"T_d0b32_level0_row5\" class=\"row_heading level0 row5\" >75%</th>\n",
              "      <td id=\"T_d0b32_row5_col0\" class=\"data row5 col0\" >4.00</td>\n",
              "      <td id=\"T_d0b32_row5_col1\" class=\"data row5 col1\" >3.00</td>\n",
              "      <td id=\"T_d0b32_row5_col2\" class=\"data row5 col2\" >6.00</td>\n",
              "      <td id=\"T_d0b32_row5_col3\" class=\"data row5 col3\" >5.00</td>\n",
              "    </tr>\n",
              "    <tr>\n",
              "      <th id=\"T_d0b32_level0_row6\" class=\"row_heading level0 row6\" >max</th>\n",
              "      <td id=\"T_d0b32_row6_col0\" class=\"data row6 col0\" >8.00</td>\n",
              "      <td id=\"T_d0b32_row6_col1\" class=\"data row6 col1\" >5.00</td>\n",
              "      <td id=\"T_d0b32_row6_col2\" class=\"data row6 col2\" >9.00</td>\n",
              "      <td id=\"T_d0b32_row6_col3\" class=\"data row6 col3\" >10.00</td>\n",
              "    </tr>\n",
              "  </tbody>\n",
              "</table>\n"
            ],
            "text/plain": [
              "<pandas.io.formats.style.Styler at 0x7ff8c81378b0>"
            ]
          },
          "execution_count": 26,
          "metadata": {}
        }
      ],
      "source": [
        "# Estilizando o view com apenas 2 casas decimais e cor\n",
        "df_descricao_bolsa.style.format('{:,.2f}').background_gradient(axis = 1)"
      ]
    },
    {
      "cell_type": "code",
      "execution_count": null,
      "metadata": {
        "application/vnd.databricks.v1+cell": {
          "cellMetadata": {
            "byteLimit": 2048000,
            "rowLimit": 10000
          },
          "inputWidgets": {},
          "nuid": "f658c3ec-5a9f-4d42-919a-636acc451f97",
          "showTitle": false,
          "title": ""
        },
        "id": "TW4dWJ32NKhy",
        "outputId": "76feb5b7-9e85-4d12-f957-4a45056b2b71"
      },
      "outputs": [
        {
          "output_type": "execute_result",
          "data": {
            "text/html": [
              "<div>\n",
              "<style scoped>\n",
              "    .dataframe tbody tr th:only-of-type {\n",
              "        vertical-align: middle;\n",
              "    }\n",
              "\n",
              "    .dataframe tbody tr th {\n",
              "        vertical-align: top;\n",
              "    }\n",
              "\n",
              "    .dataframe thead th {\n",
              "        text-align: right;\n",
              "    }\n",
              "</style>\n",
              "<table border=\"1\" class=\"dataframe\">\n",
              "  <thead>\n",
              "    <tr style=\"text-align: right;\">\n",
              "      <th></th>\n",
              "      <th>curso_id</th>\n",
              "      <th>grau</th>\n",
              "      <th>turno</th>\n",
              "      <th>mensalidade</th>\n",
              "      <th>bolsa_integral_cotas</th>\n",
              "      <th>bolsa_integral_ampla</th>\n",
              "      <th>bolsa_parcial_cotas</th>\n",
              "      <th>bolsa_parcial_ampla</th>\n",
              "      <th>cidade_busca</th>\n",
              "      <th>uf_busca</th>\n",
              "      <th>cidade_filtro</th>\n",
              "      <th>universidade_nome</th>\n",
              "      <th>campus_nome</th>\n",
              "      <th>campus_id</th>\n",
              "      <th>nome_curso</th>\n",
              "      <th>nota_integral_ampla</th>\n",
              "      <th>nota_integral_cotas</th>\n",
              "      <th>nota_parcial_ampla</th>\n",
              "      <th>nota_parcial_cotas</th>\n",
              "    </tr>\n",
              "  </thead>\n",
              "  <tbody>\n",
              "    <tr>\n",
              "      <th>22</th>\n",
              "      <td>105596711902804</td>\n",
              "      <td>Bacharelado</td>\n",
              "      <td>Integral</td>\n",
              "      <td>8300.00</td>\n",
              "      <td>2</td>\n",
              "      <td>3</td>\n",
              "      <td>4</td>\n",
              "      <td>7</td>\n",
              "      <td>Sao Paulo</td>\n",
              "      <td>SP</td>\n",
              "      <td>MzUxNTA2MTUwMzA4</td>\n",
              "      <td>Faculdade das Américas - FAM</td>\n",
              "      <td>RUA AUGUSTA - Consolação</td>\n",
              "      <td>1055967</td>\n",
              "      <td>Medicina</td>\n",
              "      <td>735.84</td>\n",
              "      <td>724.70</td>\n",
              "      <td>738.42</td>\n",
              "      <td>723.28</td>\n",
              "    </tr>\n",
              "    <tr>\n",
              "      <th>71</th>\n",
              "      <td>65793650009334</td>\n",
              "      <td>Bacharelado</td>\n",
              "      <td>Integral</td>\n",
              "      <td>7316.79</td>\n",
              "      <td>2</td>\n",
              "      <td>3</td>\n",
              "      <td>4</td>\n",
              "      <td>8</td>\n",
              "      <td>Franca</td>\n",
              "      <td>SP</td>\n",
              "      <td>MzUwMjAxMjE2MjAw</td>\n",
              "      <td>Universidade de Franca - UNIFRAN</td>\n",
              "      <td>POLO NA SEDE - Parque Universitário</td>\n",
              "      <td>657936</td>\n",
              "      <td>Medicina</td>\n",
              "      <td>744.88</td>\n",
              "      <td>730.88</td>\n",
              "      <td>741.36</td>\n",
              "      <td>721.08</td>\n",
              "    </tr>\n",
              "    <tr>\n",
              "      <th>87</th>\n",
              "      <td>658461856524</td>\n",
              "      <td>Bacharelado</td>\n",
              "      <td>Integral</td>\n",
              "      <td>7009.97</td>\n",
              "      <td>4</td>\n",
              "      <td>3</td>\n",
              "      <td>9</td>\n",
              "      <td>5</td>\n",
              "      <td>Porto Velho</td>\n",
              "      <td>RO</td>\n",
              "      <td>MTEwMTAwMTAwMjA1</td>\n",
              "      <td>Centro Universitário São Lucas - UniSL</td>\n",
              "      <td>CAMPUS  - PORTO VELHO - AREAL - Areal</td>\n",
              "      <td>658461</td>\n",
              "      <td>Medicina</td>\n",
              "      <td>742.72</td>\n",
              "      <td>720.20</td>\n",
              "      <td>729.72</td>\n",
              "      <td>711.68</td>\n",
              "    </tr>\n",
              "    <tr>\n",
              "      <th>107</th>\n",
              "      <td>66007913994844</td>\n",
              "      <td>Bacharelado</td>\n",
              "      <td>Integral</td>\n",
              "      <td>6498.55</td>\n",
              "      <td>1</td>\n",
              "      <td>1</td>\n",
              "      <td>1</td>\n",
              "      <td>4</td>\n",
              "      <td>Guarapuava</td>\n",
              "      <td>PR</td>\n",
              "      <td>NDEwODAyOTA5NDAx</td>\n",
              "      <td>Faculdade Campo Real - CAMPO REAL</td>\n",
              "      <td>BLOCO 1 - Santa Cruz</td>\n",
              "      <td>660079</td>\n",
              "      <td>Medicina</td>\n",
              "      <td>781.20</td>\n",
              "      <td>731.04</td>\n",
              "      <td>745.06</td>\n",
              "      <td>741.00</td>\n",
              "    </tr>\n",
              "    <tr>\n",
              "      <th>10</th>\n",
              "      <td>65921511844324</td>\n",
              "      <td>Bacharelado</td>\n",
              "      <td>Integral</td>\n",
              "      <td>9123.07</td>\n",
              "      <td>4</td>\n",
              "      <td>4</td>\n",
              "      <td>5</td>\n",
              "      <td>5</td>\n",
              "      <td>Itaperuna</td>\n",
              "      <td>RJ</td>\n",
              "      <td>MzMwMTAwMTAyMjA1</td>\n",
              "      <td>Faculdade Redentor - FACREDENTOR</td>\n",
              "      <td>CAMPUS  - ITAPERUNA - PRESIDENTE COSTA E SILVA...</td>\n",
              "      <td>659215</td>\n",
              "      <td>Medicina</td>\n",
              "      <td>741.06</td>\n",
              "      <td>729.02</td>\n",
              "      <td>730.98</td>\n",
              "      <td>722.82</td>\n",
              "    </tr>\n",
              "  </tbody>\n",
              "</table>\n",
              "</div>"
            ],
            "text/plain": [
              "            curso_id         grau     turno  mensalidade  bolsa_integral_cotas  bolsa_integral_ampla  bolsa_parcial_cotas  bolsa_parcial_ampla cidade_busca uf_busca     cidade_filtro                       universidade_nome                                                                campus_nome  campus_id nome_curso  nota_integral_ampla  nota_integral_cotas  nota_parcial_ampla  nota_parcial_cotas\n",
              "22   105596711902804  Bacharelado  Integral      8300.00                     2                     3                    4                    7    Sao Paulo       SP  MzUxNTA2MTUwMzA4            Faculdade das Américas - FAM                                                   RUA AUGUSTA - Consolação    1055967   Medicina               735.84               724.70              738.42              723.28\n",
              "71    65793650009334  Bacharelado  Integral      7316.79                     2                     3                    4                    8       Franca       SP  MzUwMjAxMjE2MjAw        Universidade de Franca - UNIFRAN                                        POLO NA SEDE - Parque Universitário     657936   Medicina               744.88               730.88              741.36              721.08\n",
              "87      658461856524  Bacharelado  Integral      7009.97                     4                     3                    9                    5  Porto Velho       RO  MTEwMTAwMTAwMjA1  Centro Universitário São Lucas - UniSL                                      CAMPUS  - PORTO VELHO - AREAL - Areal     658461   Medicina               742.72               720.20              729.72              711.68\n",
              "107   66007913994844  Bacharelado  Integral      6498.55                     1                     1                    1                    4   Guarapuava       PR  NDEwODAyOTA5NDAx       Faculdade Campo Real - CAMPO REAL                                                       BLOCO 1 - Santa Cruz     660079   Medicina               781.20               731.04              745.06              741.00\n",
              "10    65921511844324  Bacharelado  Integral      9123.07                     4                     4                    5                    5    Itaperuna       RJ  MzMwMTAwMTAyMjA1        Faculdade Redentor - FACREDENTOR  CAMPUS  - ITAPERUNA - PRESIDENTE COSTA E SILVA - Presidente Costa e Silva     659215   Medicina               741.06               729.02              730.98              722.82"
            ]
          },
          "execution_count": 27,
          "metadata": {}
        }
      ],
      "source": [
        "# Comparando as médias dos cursos de medicina por estado\n",
        "# utilizando o query\n",
        "\n",
        "df_medicina = df.query(\"nome_curso == 'Medicina'\")\n",
        "\n",
        "df_medicina.head()"
      ]
    },
    {
      "cell_type": "code",
      "execution_count": null,
      "metadata": {
        "application/vnd.databricks.v1+cell": {
          "cellMetadata": {
            "byteLimit": 2048000,
            "rowLimit": 10000
          },
          "inputWidgets": {},
          "nuid": "5cea3099-d95b-4f29-9e4e-664b3307c673",
          "showTitle": false,
          "title": ""
        },
        "id": "53aHeCckNKhy",
        "outputId": "37771a14-2829-4def-91ff-042f23e016d4"
      },
      "outputs": [
        {
          "output_type": "execute_result",
          "data": {
            "text/plain": [
              "8007.354666666666"
            ]
          },
          "execution_count": 28,
          "metadata": {}
        }
      ],
      "source": [
        "# Calculando a média\n",
        "df_medicina['mensalidade'].mean()"
      ]
    },
    {
      "cell_type": "code",
      "execution_count": null,
      "metadata": {
        "application/vnd.databricks.v1+cell": {
          "cellMetadata": {
            "byteLimit": 2048000,
            "rowLimit": 10000
          },
          "inputWidgets": {},
          "nuid": "c36e8e0b-e3fa-4e5c-8e6f-856f9331536b",
          "showTitle": false,
          "title": ""
        },
        "id": "0zKonpI4NKhz",
        "outputId": "779830ea-3285-44e0-e737-16ec98680e64"
      },
      "outputs": [
        {
          "output_type": "execute_result",
          "data": {
            "text/html": [
              "<div>\n",
              "<style scoped>\n",
              "    .dataframe tbody tr th:only-of-type {\n",
              "        vertical-align: middle;\n",
              "    }\n",
              "\n",
              "    .dataframe tbody tr th {\n",
              "        vertical-align: top;\n",
              "    }\n",
              "\n",
              "    .dataframe thead th {\n",
              "        text-align: right;\n",
              "    }\n",
              "</style>\n",
              "<table border=\"1\" class=\"dataframe\">\n",
              "  <thead>\n",
              "    <tr style=\"text-align: right;\">\n",
              "      <th></th>\n",
              "      <th>curso_id</th>\n",
              "      <th>grau</th>\n",
              "      <th>turno</th>\n",
              "      <th>mensalidade</th>\n",
              "      <th>bolsa_integral_cotas</th>\n",
              "      <th>bolsa_integral_ampla</th>\n",
              "      <th>bolsa_parcial_cotas</th>\n",
              "      <th>bolsa_parcial_ampla</th>\n",
              "      <th>cidade_busca</th>\n",
              "      <th>uf_busca</th>\n",
              "      <th>cidade_filtro</th>\n",
              "      <th>universidade_nome</th>\n",
              "      <th>campus_nome</th>\n",
              "      <th>campus_id</th>\n",
              "      <th>nome_curso</th>\n",
              "      <th>nota_integral_ampla</th>\n",
              "      <th>nota_integral_cotas</th>\n",
              "      <th>nota_parcial_ampla</th>\n",
              "      <th>nota_parcial_cotas</th>\n",
              "    </tr>\n",
              "  </thead>\n",
              "  <tbody>\n",
              "    <tr>\n",
              "      <th>2</th>\n",
              "      <td>1002328574024</td>\n",
              "      <td>Bacharelado</td>\n",
              "      <td>Integral</td>\n",
              "      <td>9815.61</td>\n",
              "      <td>2</td>\n",
              "      <td>5</td>\n",
              "      <td>6</td>\n",
              "      <td>10</td>\n",
              "      <td>Sao Paulo</td>\n",
              "      <td>SP</td>\n",
              "      <td>MzUxNTA2MTUwMzA4</td>\n",
              "      <td>Universidade Cidade de São Paulo - UNICID</td>\n",
              "      <td>UNIVERSIDADE CIDADE DE SÃO PAULO - UNICID - SE...</td>\n",
              "      <td>1002328</td>\n",
              "      <td>Medicina</td>\n",
              "      <td>739.62</td>\n",
              "      <td>738.08</td>\n",
              "      <td>738.96</td>\n",
              "      <td>718.64</td>\n",
              "    </tr>\n",
              "    <tr>\n",
              "      <th>22</th>\n",
              "      <td>105596711902804</td>\n",
              "      <td>Bacharelado</td>\n",
              "      <td>Integral</td>\n",
              "      <td>8300.00</td>\n",
              "      <td>2</td>\n",
              "      <td>3</td>\n",
              "      <td>4</td>\n",
              "      <td>7</td>\n",
              "      <td>Sao Paulo</td>\n",
              "      <td>SP</td>\n",
              "      <td>MzUxNTA2MTUwMzA4</td>\n",
              "      <td>Faculdade das Américas - FAM</td>\n",
              "      <td>RUA AUGUSTA - Consolação</td>\n",
              "      <td>1055967</td>\n",
              "      <td>Medicina</td>\n",
              "      <td>735.84</td>\n",
              "      <td>724.70</td>\n",
              "      <td>738.42</td>\n",
              "      <td>723.28</td>\n",
              "    </tr>\n",
              "  </tbody>\n",
              "</table>\n",
              "</div>"
            ],
            "text/plain": [
              "           curso_id         grau     turno  mensalidade  bolsa_integral_cotas  bolsa_integral_ampla  bolsa_parcial_cotas  bolsa_parcial_ampla cidade_busca uf_busca     cidade_filtro                          universidade_nome                                                 campus_nome  campus_id nome_curso  nota_integral_ampla  nota_integral_cotas  nota_parcial_ampla  nota_parcial_cotas\n",
              "2     1002328574024  Bacharelado  Integral      9815.61                     2                     5                    6                   10    Sao Paulo       SP  MzUxNTA2MTUwMzA4  Universidade Cidade de São Paulo - UNICID  UNIVERSIDADE CIDADE DE SÃO PAULO - UNICID - SEDE - Tatuapé    1002328   Medicina               739.62               738.08              738.96              718.64\n",
              "22  105596711902804  Bacharelado  Integral      8300.00                     2                     3                    4                    7    Sao Paulo       SP  MzUxNTA2MTUwMzA4               Faculdade das Américas - FAM                                    RUA AUGUSTA - Consolação    1055967   Medicina               735.84               724.70              738.42              723.28"
            ]
          },
          "execution_count": 29,
          "metadata": {}
        }
      ],
      "source": [
        "df_medicina.query(\"turno == 'Integral' AND  cidade_busca == 'Sao Paulo'\")\n"
      ]
    },
    {
      "cell_type": "code",
      "execution_count": null,
      "metadata": {
        "application/vnd.databricks.v1+cell": {
          "cellMetadata": {
            "byteLimit": 2048000,
            "rowLimit": 10000
          },
          "inputWidgets": {},
          "nuid": "6dbf6e25-74b0-432f-a973-7f4f0f465831",
          "showTitle": false,
          "title": ""
        },
        "id": "CVLWnbuiNKhz",
        "outputId": "ef47a4f2-deb9-4f28-d8a7-96304bbadee8"
      },
      "outputs": [
        {
          "output_type": "stream",
          "name": "stderr",
          "text": [
            "/databricks/spark/python/pyspark/pandas/groupby.py:648: FutureWarning: Default value of `numeric_only` will be changed to `False` instead of `True` in 4.0.0.\n  warnings.warn(\n"
          ]
        }
      ],
      "source": [
        "# Agrupando por estados e calculando a média\n",
        "agrupado = df_medicina.query(\"turno == 'Integral' OR turno == 'Matutino'\").groupby('uf_busca')['mensalidade'].mean()"
      ]
    },
    {
      "cell_type": "code",
      "execution_count": null,
      "metadata": {
        "application/vnd.databricks.v1+cell": {
          "cellMetadata": {
            "byteLimit": 2048000,
            "rowLimit": 10000
          },
          "inputWidgets": {},
          "nuid": "f84d1d4c-563c-4ed8-b2e9-ebd9da22437f",
          "showTitle": false,
          "title": ""
        },
        "id": "N-ZFYSOFNKh0",
        "outputId": "ceb248bf-4128-458c-edf2-b3c4070e679f"
      },
      "outputs": [
        {
          "output_type": "execute_result",
          "data": {
            "text/plain": [
              "uf_busca\n",
              "RO    7009.970000\n",
              "SP    8477.466667\n",
              "ES    6113.000000\n",
              "PB    7512.700000\n",
              "MG    7712.500000\n",
              "PA    8608.540000\n",
              "RJ    9123.070000\n",
              "MA    8381.375000\n",
              "AC    9774.340000\n",
              "PR    7174.275000\n",
              "Name: mensalidade, dtype: float64"
            ]
          },
          "execution_count": 31,
          "metadata": {}
        }
      ],
      "source": [
        "agrupado"
      ]
    },
    {
      "cell_type": "code",
      "execution_count": null,
      "metadata": {
        "application/vnd.databricks.v1+cell": {
          "cellMetadata": {
            "byteLimit": 2048000,
            "rowLimit": 10000
          },
          "inputWidgets": {},
          "nuid": "7b81e460-617a-4238-923b-46c008e369e3",
          "showTitle": false,
          "title": ""
        },
        "id": "kUqReXdJNKh0",
        "outputId": "c08784d7-a7b2-469c-b233-2801f7c467eb"
      },
      "outputs": [
        {
          "output_type": "execute_result",
          "data": {
            "text/html": [
              "<div>\n",
              "<style scoped>\n",
              "    .dataframe tbody tr th:only-of-type {\n",
              "        vertical-align: middle;\n",
              "    }\n",
              "\n",
              "    .dataframe tbody tr th {\n",
              "        vertical-align: top;\n",
              "    }\n",
              "\n",
              "    .dataframe thead th {\n",
              "        text-align: right;\n",
              "    }\n",
              "</style>\n",
              "<table border=\"1\" class=\"dataframe\">\n",
              "  <thead>\n",
              "    <tr style=\"text-align: right;\">\n",
              "      <th></th>\n",
              "      <th>mensalidade</th>\n",
              "    </tr>\n",
              "    <tr>\n",
              "      <th>uf_busca</th>\n",
              "      <th></th>\n",
              "    </tr>\n",
              "  </thead>\n",
              "  <tbody>\n",
              "    <tr>\n",
              "      <th>RO</th>\n",
              "      <td>7009.970000</td>\n",
              "    </tr>\n",
              "    <tr>\n",
              "      <th>SP</th>\n",
              "      <td>8477.466667</td>\n",
              "    </tr>\n",
              "    <tr>\n",
              "      <th>ES</th>\n",
              "      <td>6113.000000</td>\n",
              "    </tr>\n",
              "    <tr>\n",
              "      <th>PB</th>\n",
              "      <td>7512.700000</td>\n",
              "    </tr>\n",
              "    <tr>\n",
              "      <th>MG</th>\n",
              "      <td>7712.500000</td>\n",
              "    </tr>\n",
              "    <tr>\n",
              "      <th>PA</th>\n",
              "      <td>8608.540000</td>\n",
              "    </tr>\n",
              "    <tr>\n",
              "      <th>RJ</th>\n",
              "      <td>9123.070000</td>\n",
              "    </tr>\n",
              "    <tr>\n",
              "      <th>MA</th>\n",
              "      <td>8381.375000</td>\n",
              "    </tr>\n",
              "    <tr>\n",
              "      <th>AC</th>\n",
              "      <td>9774.340000</td>\n",
              "    </tr>\n",
              "    <tr>\n",
              "      <th>PR</th>\n",
              "      <td>7174.275000</td>\n",
              "    </tr>\n",
              "  </tbody>\n",
              "</table>\n",
              "</div>"
            ],
            "text/plain": [
              "          mensalidade\n",
              "uf_busca             \n",
              "RO        7009.970000\n",
              "SP        8477.466667\n",
              "ES        6113.000000\n",
              "PB        7512.700000\n",
              "MG        7712.500000\n",
              "PA        8608.540000\n",
              "RJ        9123.070000\n",
              "MA        8381.375000\n",
              "AC        9774.340000\n",
              "PR        7174.275000"
            ]
          },
          "execution_count": 32,
          "metadata": {}
        }
      ],
      "source": [
        "df_agrupado = ps.DataFrame(agrupado)\n",
        "df_agrupado"
      ]
    },
    {
      "cell_type": "markdown",
      "metadata": {
        "application/vnd.databricks.v1+cell": {
          "cellMetadata": {
            "byteLimit": 2048000,
            "rowLimit": 10000
          },
          "inputWidgets": {},
          "nuid": "1dc6bd40-84ca-438e-821e-68af10c2d072",
          "showTitle": false,
          "title": ""
        },
        "id": "FjdIxSY9NKh6"
      },
      "source": [
        "# Criando um Gráfico a partir de um DataFrame"
      ]
    },
    {
      "cell_type": "code",
      "execution_count": null,
      "metadata": {
        "application/vnd.databricks.v1+cell": {
          "cellMetadata": {
            "byteLimit": 2048000,
            "rowLimit": 10000
          },
          "inputWidgets": {},
          "nuid": "dd1eb1b4-e7cf-4282-8dc9-b0ca426415bf",
          "showTitle": false,
          "title": ""
        },
        "id": "MIZspt30NKh7",
        "outputId": "defbf15b-b787-4d68-f15d-7065309b3abd"
      },
      "outputs": [
        {
          "output_type": "execute_result",
          "data": {
            "text/html": [
              "<div>\n",
              "<style scoped>\n",
              "    .dataframe tbody tr th:only-of-type {\n",
              "        vertical-align: middle;\n",
              "    }\n",
              "\n",
              "    .dataframe tbody tr th {\n",
              "        vertical-align: top;\n",
              "    }\n",
              "\n",
              "    .dataframe thead th {\n",
              "        text-align: right;\n",
              "    }\n",
              "</style>\n",
              "<table border=\"1\" class=\"dataframe\">\n",
              "  <thead>\n",
              "    <tr style=\"text-align: right;\">\n",
              "      <th></th>\n",
              "      <th>mensalidade</th>\n",
              "    </tr>\n",
              "    <tr>\n",
              "      <th>uf_busca</th>\n",
              "      <th></th>\n",
              "    </tr>\n",
              "  </thead>\n",
              "  <tbody>\n",
              "    <tr>\n",
              "      <th>AC</th>\n",
              "      <td>9774.340000</td>\n",
              "    </tr>\n",
              "    <tr>\n",
              "      <th>RJ</th>\n",
              "      <td>9123.070000</td>\n",
              "    </tr>\n",
              "    <tr>\n",
              "      <th>PA</th>\n",
              "      <td>8608.540000</td>\n",
              "    </tr>\n",
              "    <tr>\n",
              "      <th>SP</th>\n",
              "      <td>8477.466667</td>\n",
              "    </tr>\n",
              "    <tr>\n",
              "      <th>MA</th>\n",
              "      <td>8381.375000</td>\n",
              "    </tr>\n",
              "    <tr>\n",
              "      <th>MG</th>\n",
              "      <td>7712.500000</td>\n",
              "    </tr>\n",
              "    <tr>\n",
              "      <th>PB</th>\n",
              "      <td>7512.700000</td>\n",
              "    </tr>\n",
              "    <tr>\n",
              "      <th>PR</th>\n",
              "      <td>7174.275000</td>\n",
              "    </tr>\n",
              "    <tr>\n",
              "      <th>RO</th>\n",
              "      <td>7009.970000</td>\n",
              "    </tr>\n",
              "    <tr>\n",
              "      <th>ES</th>\n",
              "      <td>6113.000000</td>\n",
              "    </tr>\n",
              "  </tbody>\n",
              "</table>\n",
              "</div>"
            ],
            "text/plain": [
              "          mensalidade\n",
              "uf_busca             \n",
              "AC        9774.340000\n",
              "RJ        9123.070000\n",
              "PA        8608.540000\n",
              "SP        8477.466667\n",
              "MA        8381.375000\n",
              "MG        7712.500000\n",
              "PB        7512.700000\n",
              "PR        7174.275000\n",
              "RO        7009.970000\n",
              "ES        6113.000000"
            ]
          },
          "execution_count": 33,
          "metadata": {}
        }
      ],
      "source": [
        "df_agrupado.sort_values(by = 'mensalidade', inplace = True, ascending = False)\n",
        "df_agrupado"
      ]
    },
    {
      "cell_type": "code",
      "execution_count": null,
      "metadata": {
        "application/vnd.databricks.v1+cell": {
          "cellMetadata": {
            "byteLimit": 2048000,
            "rowLimit": 10000
          },
          "inputWidgets": {},
          "nuid": "f5886abb-a551-412e-bdff-e4519eeff992",
          "showTitle": false,
          "title": ""
        },
        "id": "-0mMnKfrNKh7"
      },
      "outputs": [],
      "source": [
        "# Resetando o índice novamente para chamar o plot\n",
        "df_agrupado = df_agrupado.reset_index()"
      ]
    },
    {
      "cell_type": "code",
      "execution_count": null,
      "metadata": {
        "application/vnd.databricks.v1+cell": {
          "cellMetadata": {
            "byteLimit": 2048000,
            "rowLimit": 10000
          },
          "inputWidgets": {},
          "nuid": "95613533-c47c-4a7a-ab83-60224be1a6fd",
          "showTitle": false,
          "title": ""
        },
        "id": "IJAj3WHpNKh7",
        "outputId": "8267d622-f32f-4634-d59b-c5eeeb809364"
      },
      "outputs": [
        {
          "output_type": "display_data",
          "data": {
            "text/html": [
              "<html>\n",
              "<head><meta charset=\"utf-8\" /></head>\n",
              "<body>\n",
              "    <div>            <script src=\"https://cdnjs.cloudflare.com/ajax/libs/mathjax/2.7.5/MathJax.js?config=TeX-AMS-MML_SVG\"></script><script type=\"text/javascript\">if (window.MathJax && window.MathJax.Hub && window.MathJax.Hub.Config) {window.MathJax.Hub.Config({SVG: {font: \"STIX-Web\"}});}</script>                <script type=\"text/javascript\">window.PlotlyConfig = {MathJaxConfig: 'local'};</script>\n",
              "        <script src=\"https://cdn.plot.ly/plotly-2.12.1.min.js\"></script>                <div id=\"7cadd027-0911-4d7f-8f9c-d3a3c6886528\" class=\"plotly-graph-div\" style=\"height:100%; width:100%;\"></div>            <script type=\"text/javascript\">                                    window.PLOTLYENV=window.PLOTLYENV || {};                                    if (document.getElementById(\"7cadd027-0911-4d7f-8f9c-d3a3c6886528\")) {                    Plotly.newPlot(                        \"7cadd027-0911-4d7f-8f9c-d3a3c6886528\",                        [{\"alignmentgroup\":\"True\",\"hovertemplate\":\"uf_busca=%{x}<br>mensalidade=%{y}<extra></extra>\",\"legendgroup\":\"\",\"marker\":{\"color\":\"#636efa\",\"pattern\":{\"shape\":\"\"}},\"name\":\"\",\"offsetgroup\":\"\",\"orientation\":\"v\",\"showlegend\":false,\"textposition\":\"auto\",\"x\":[\"AC\",\"RJ\",\"PA\",\"SP\",\"MA\",\"MG\",\"PB\",\"PR\",\"RO\",\"ES\"],\"xaxis\":\"x\",\"y\":[9774.34,9123.07,8608.54,8477.466666666667,8381.375,7712.5,7512.7,7174.275,7009.97,6113.0],\"yaxis\":\"y\",\"type\":\"bar\"}],                        {\"template\":{\"data\":{\"histogram2dcontour\":[{\"type\":\"histogram2dcontour\",\"colorbar\":{\"outlinewidth\":0,\"ticks\":\"\"},\"colorscale\":[[0.0,\"#0d0887\"],[0.1111111111111111,\"#46039f\"],[0.2222222222222222,\"#7201a8\"],[0.3333333333333333,\"#9c179e\"],[0.4444444444444444,\"#bd3786\"],[0.5555555555555556,\"#d8576b\"],[0.6666666666666666,\"#ed7953\"],[0.7777777777777778,\"#fb9f3a\"],[0.8888888888888888,\"#fdca26\"],[1.0,\"#f0f921\"]]}],\"choropleth\":[{\"type\":\"choropleth\",\"colorbar\":{\"outlinewidth\":0,\"ticks\":\"\"}}],\"histogram2d\":[{\"type\":\"histogram2d\",\"colorbar\":{\"outlinewidth\":0,\"ticks\":\"\"},\"colorscale\":[[0.0,\"#0d0887\"],[0.1111111111111111,\"#46039f\"],[0.2222222222222222,\"#7201a8\"],[0.3333333333333333,\"#9c179e\"],[0.4444444444444444,\"#bd3786\"],[0.5555555555555556,\"#d8576b\"],[0.6666666666666666,\"#ed7953\"],[0.7777777777777778,\"#fb9f3a\"],[0.8888888888888888,\"#fdca26\"],[1.0,\"#f0f921\"]]}],\"heatmap\":[{\"type\":\"heatmap\",\"colorbar\":{\"outlinewidth\":0,\"ticks\":\"\"},\"colorscale\":[[0.0,\"#0d0887\"],[0.1111111111111111,\"#46039f\"],[0.2222222222222222,\"#7201a8\"],[0.3333333333333333,\"#9c179e\"],[0.4444444444444444,\"#bd3786\"],[0.5555555555555556,\"#d8576b\"],[0.6666666666666666,\"#ed7953\"],[0.7777777777777778,\"#fb9f3a\"],[0.8888888888888888,\"#fdca26\"],[1.0,\"#f0f921\"]]}],\"heatmapgl\":[{\"type\":\"heatmapgl\",\"colorbar\":{\"outlinewidth\":0,\"ticks\":\"\"},\"colorscale\":[[0.0,\"#0d0887\"],[0.1111111111111111,\"#46039f\"],[0.2222222222222222,\"#7201a8\"],[0.3333333333333333,\"#9c179e\"],[0.4444444444444444,\"#bd3786\"],[0.5555555555555556,\"#d8576b\"],[0.6666666666666666,\"#ed7953\"],[0.7777777777777778,\"#fb9f3a\"],[0.8888888888888888,\"#fdca26\"],[1.0,\"#f0f921\"]]}],\"contourcarpet\":[{\"type\":\"contourcarpet\",\"colorbar\":{\"outlinewidth\":0,\"ticks\":\"\"}}],\"contour\":[{\"type\":\"contour\",\"colorbar\":{\"outlinewidth\":0,\"ticks\":\"\"},\"colorscale\":[[0.0,\"#0d0887\"],[0.1111111111111111,\"#46039f\"],[0.2222222222222222,\"#7201a8\"],[0.3333333333333333,\"#9c179e\"],[0.4444444444444444,\"#bd3786\"],[0.5555555555555556,\"#d8576b\"],[0.6666666666666666,\"#ed7953\"],[0.7777777777777778,\"#fb9f3a\"],[0.8888888888888888,\"#fdca26\"],[1.0,\"#f0f921\"]]}],\"surface\":[{\"type\":\"surface\",\"colorbar\":{\"outlinewidth\":0,\"ticks\":\"\"},\"colorscale\":[[0.0,\"#0d0887\"],[0.1111111111111111,\"#46039f\"],[0.2222222222222222,\"#7201a8\"],[0.3333333333333333,\"#9c179e\"],[0.4444444444444444,\"#bd3786\"],[0.5555555555555556,\"#d8576b\"],[0.6666666666666666,\"#ed7953\"],[0.7777777777777778,\"#fb9f3a\"],[0.8888888888888888,\"#fdca26\"],[1.0,\"#f0f921\"]]}],\"mesh3d\":[{\"type\":\"mesh3d\",\"colorbar\":{\"outlinewidth\":0,\"ticks\":\"\"}}],\"scatter\":[{\"fillpattern\":{\"fillmode\":\"overlay\",\"size\":10,\"solidity\":0.2},\"type\":\"scatter\"}],\"parcoords\":[{\"type\":\"parcoords\",\"line\":{\"colorbar\":{\"outlinewidth\":0,\"ticks\":\"\"}}}],\"scatterpolargl\":[{\"type\":\"scatterpolargl\",\"marker\":{\"colorbar\":{\"outlinewidth\":0,\"ticks\":\"\"}}}],\"bar\":[{\"error_x\":{\"color\":\"#2a3f5f\"},\"error_y\":{\"color\":\"#2a3f5f\"},\"marker\":{\"line\":{\"color\":\"#E5ECF6\",\"width\":0.5},\"pattern\":{\"fillmode\":\"overlay\",\"size\":10,\"solidity\":0.2}},\"type\":\"bar\"}],\"scattergeo\":[{\"type\":\"scattergeo\",\"marker\":{\"colorbar\":{\"outlinewidth\":0,\"ticks\":\"\"}}}],\"scatterpolar\":[{\"type\":\"scatterpolar\",\"marker\":{\"colorbar\":{\"outlinewidth\":0,\"ticks\":\"\"}}}],\"histogram\":[{\"marker\":{\"pattern\":{\"fillmode\":\"overlay\",\"size\":10,\"solidity\":0.2}},\"type\":\"histogram\"}],\"scattergl\":[{\"type\":\"scattergl\",\"marker\":{\"colorbar\":{\"outlinewidth\":0,\"ticks\":\"\"}}}],\"scatter3d\":[{\"type\":\"scatter3d\",\"line\":{\"colorbar\":{\"outlinewidth\":0,\"ticks\":\"\"}},\"marker\":{\"colorbar\":{\"outlinewidth\":0,\"ticks\":\"\"}}}],\"scattermapbox\":[{\"type\":\"scattermapbox\",\"marker\":{\"colorbar\":{\"outlinewidth\":0,\"ticks\":\"\"}}}],\"scatterternary\":[{\"type\":\"scatterternary\",\"marker\":{\"colorbar\":{\"outlinewidth\":0,\"ticks\":\"\"}}}],\"scattercarpet\":[{\"type\":\"scattercarpet\",\"marker\":{\"colorbar\":{\"outlinewidth\":0,\"ticks\":\"\"}}}],\"carpet\":[{\"aaxis\":{\"endlinecolor\":\"#2a3f5f\",\"gridcolor\":\"white\",\"linecolor\":\"white\",\"minorgridcolor\":\"white\",\"startlinecolor\":\"#2a3f5f\"},\"baxis\":{\"endlinecolor\":\"#2a3f5f\",\"gridcolor\":\"white\",\"linecolor\":\"white\",\"minorgridcolor\":\"white\",\"startlinecolor\":\"#2a3f5f\"},\"type\":\"carpet\"}],\"table\":[{\"cells\":{\"fill\":{\"color\":\"#EBF0F8\"},\"line\":{\"color\":\"white\"}},\"header\":{\"fill\":{\"color\":\"#C8D4E3\"},\"line\":{\"color\":\"white\"}},\"type\":\"table\"}],\"barpolar\":[{\"marker\":{\"line\":{\"color\":\"#E5ECF6\",\"width\":0.5},\"pattern\":{\"fillmode\":\"overlay\",\"size\":10,\"solidity\":0.2}},\"type\":\"barpolar\"}],\"pie\":[{\"automargin\":true,\"type\":\"pie\"}]},\"layout\":{\"autotypenumbers\":\"strict\",\"colorway\":[\"#636efa\",\"#EF553B\",\"#00cc96\",\"#ab63fa\",\"#FFA15A\",\"#19d3f3\",\"#FF6692\",\"#B6E880\",\"#FF97FF\",\"#FECB52\"],\"font\":{\"color\":\"#2a3f5f\"},\"hovermode\":\"closest\",\"hoverlabel\":{\"align\":\"left\"},\"paper_bgcolor\":\"white\",\"plot_bgcolor\":\"#E5ECF6\",\"polar\":{\"bgcolor\":\"#E5ECF6\",\"angularaxis\":{\"gridcolor\":\"white\",\"linecolor\":\"white\",\"ticks\":\"\"},\"radialaxis\":{\"gridcolor\":\"white\",\"linecolor\":\"white\",\"ticks\":\"\"}},\"ternary\":{\"bgcolor\":\"#E5ECF6\",\"aaxis\":{\"gridcolor\":\"white\",\"linecolor\":\"white\",\"ticks\":\"\"},\"baxis\":{\"gridcolor\":\"white\",\"linecolor\":\"white\",\"ticks\":\"\"},\"caxis\":{\"gridcolor\":\"white\",\"linecolor\":\"white\",\"ticks\":\"\"}},\"coloraxis\":{\"colorbar\":{\"outlinewidth\":0,\"ticks\":\"\"}},\"colorscale\":{\"sequential\":[[0.0,\"#0d0887\"],[0.1111111111111111,\"#46039f\"],[0.2222222222222222,\"#7201a8\"],[0.3333333333333333,\"#9c179e\"],[0.4444444444444444,\"#bd3786\"],[0.5555555555555556,\"#d8576b\"],[0.6666666666666666,\"#ed7953\"],[0.7777777777777778,\"#fb9f3a\"],[0.8888888888888888,\"#fdca26\"],[1.0,\"#f0f921\"]],\"sequentialminus\":[[0.0,\"#0d0887\"],[0.1111111111111111,\"#46039f\"],[0.2222222222222222,\"#7201a8\"],[0.3333333333333333,\"#9c179e\"],[0.4444444444444444,\"#bd3786\"],[0.5555555555555556,\"#d8576b\"],[0.6666666666666666,\"#ed7953\"],[0.7777777777777778,\"#fb9f3a\"],[0.8888888888888888,\"#fdca26\"],[1.0,\"#f0f921\"]],\"diverging\":[[0,\"#8e0152\"],[0.1,\"#c51b7d\"],[0.2,\"#de77ae\"],[0.3,\"#f1b6da\"],[0.4,\"#fde0ef\"],[0.5,\"#f7f7f7\"],[0.6,\"#e6f5d0\"],[0.7,\"#b8e186\"],[0.8,\"#7fbc41\"],[0.9,\"#4d9221\"],[1,\"#276419\"]]},\"xaxis\":{\"gridcolor\":\"white\",\"linecolor\":\"white\",\"ticks\":\"\",\"title\":{\"standoff\":15},\"zerolinecolor\":\"white\",\"automargin\":true,\"zerolinewidth\":2},\"yaxis\":{\"gridcolor\":\"white\",\"linecolor\":\"white\",\"ticks\":\"\",\"title\":{\"standoff\":15},\"zerolinecolor\":\"white\",\"automargin\":true,\"zerolinewidth\":2},\"scene\":{\"xaxis\":{\"backgroundcolor\":\"#E5ECF6\",\"gridcolor\":\"white\",\"linecolor\":\"white\",\"showbackground\":true,\"ticks\":\"\",\"zerolinecolor\":\"white\",\"gridwidth\":2},\"yaxis\":{\"backgroundcolor\":\"#E5ECF6\",\"gridcolor\":\"white\",\"linecolor\":\"white\",\"showbackground\":true,\"ticks\":\"\",\"zerolinecolor\":\"white\",\"gridwidth\":2},\"zaxis\":{\"backgroundcolor\":\"#E5ECF6\",\"gridcolor\":\"white\",\"linecolor\":\"white\",\"showbackground\":true,\"ticks\":\"\",\"zerolinecolor\":\"white\",\"gridwidth\":2}},\"shapedefaults\":{\"line\":{\"color\":\"#2a3f5f\"}},\"annotationdefaults\":{\"arrowcolor\":\"#2a3f5f\",\"arrowhead\":0,\"arrowwidth\":1},\"geo\":{\"bgcolor\":\"white\",\"landcolor\":\"#E5ECF6\",\"subunitcolor\":\"white\",\"showland\":true,\"showlakes\":true,\"lakecolor\":\"white\"},\"title\":{\"x\":0.05},\"mapbox\":{\"style\":\"light\"}}},\"xaxis\":{\"anchor\":\"y\",\"domain\":[0.0,1.0],\"title\":{\"text\":\"uf_busca\"}},\"yaxis\":{\"anchor\":\"x\",\"domain\":[0.0,1.0],\"title\":{\"text\":\"mensalidade\"}},\"legend\":{\"tracegroupgap\":0},\"margin\":{\"t\":60},\"barmode\":\"relative\"},                        {\"responsive\": true}                    )                };                            </script>        </div>\n",
              "</body>\n",
              "</html>"
            ]
          },
          "metadata": {}
        }
      ],
      "source": [
        "df_agrupado.plot.bar(x = 'uf_busca', y = 'mensalidade')"
      ]
    },
    {
      "cell_type": "markdown",
      "metadata": {
        "application/vnd.databricks.v1+cell": {
          "cellMetadata": {
            "byteLimit": 2048000,
            "rowLimit": 10000
          },
          "inputWidgets": {},
          "nuid": "d2163c16-d0f2-45bd-a5b2-1798cfd7c642",
          "showTitle": false,
          "title": ""
        },
        "id": "Y3RcotmtNKh7"
      },
      "source": [
        "\n",
        "# Usando SQL"
      ]
    },
    {
      "cell_type": "code",
      "execution_count": null,
      "metadata": {
        "application/vnd.databricks.v1+cell": {
          "cellMetadata": {
            "byteLimit": 2048000,
            "rowLimit": 10000
          },
          "inputWidgets": {},
          "nuid": "6869009c-85f8-4c4c-a2ae-a55aef6ea788",
          "showTitle": false,
          "title": ""
        },
        "id": "0rg9B4-fNKh8",
        "outputId": "648792e2-910f-4267-ca05-02005acee783"
      },
      "outputs": [
        {
          "output_type": "execute_result",
          "data": {
            "text/html": [
              "<div>\n",
              "<style scoped>\n",
              "    .dataframe tbody tr th:only-of-type {\n",
              "        vertical-align: middle;\n",
              "    }\n",
              "\n",
              "    .dataframe tbody tr th {\n",
              "        vertical-align: top;\n",
              "    }\n",
              "\n",
              "    .dataframe thead th {\n",
              "        text-align: right;\n",
              "    }\n",
              "</style>\n",
              "<table border=\"1\" class=\"dataframe\">\n",
              "  <thead>\n",
              "    <tr style=\"text-align: right;\">\n",
              "      <th></th>\n",
              "      <th>bolsa_integral_cotas</th>\n",
              "      <th>uf_busca</th>\n",
              "    </tr>\n",
              "  </thead>\n",
              "  <tbody>\n",
              "    <tr>\n",
              "      <th>0</th>\n",
              "      <td>2</td>\n",
              "      <td>SP</td>\n",
              "    </tr>\n",
              "    <tr>\n",
              "      <th>1</th>\n",
              "      <td>2</td>\n",
              "      <td>SP</td>\n",
              "    </tr>\n",
              "    <tr>\n",
              "      <th>2</th>\n",
              "      <td>4</td>\n",
              "      <td>RO</td>\n",
              "    </tr>\n",
              "    <tr>\n",
              "      <th>3</th>\n",
              "      <td>1</td>\n",
              "      <td>PR</td>\n",
              "    </tr>\n",
              "    <tr>\n",
              "      <th>4</th>\n",
              "      <td>4</td>\n",
              "      <td>RJ</td>\n",
              "    </tr>\n",
              "  </tbody>\n",
              "</table>\n",
              "</div>"
            ],
            "text/plain": [
              "   bolsa_integral_cotas uf_busca\n",
              "0                     2       SP\n",
              "1                     2       SP\n",
              "2                     4       RO\n",
              "3                     1       PR\n",
              "4                     4       RJ"
            ]
          },
          "execution_count": 36,
          "metadata": {}
        }
      ],
      "source": [
        "ps.sql(\"\"\"\n",
        "       SELECT bolsa_integral_cotas, uf_busca\n",
        "        FROM {DF}\n",
        "            WHERE nome_curso = 'Medicina'\n",
        "                LIMIT 5\n",
        "       \"\"\", DF = df)"
      ]
    },
    {
      "cell_type": "code",
      "execution_count": null,
      "metadata": {
        "application/vnd.databricks.v1+cell": {
          "cellMetadata": {
            "byteLimit": 2048000,
            "rowLimit": 10000
          },
          "inputWidgets": {},
          "nuid": "b4da6e14-4e4d-46d0-ba99-64255da60824",
          "showTitle": false,
          "title": ""
        },
        "id": "HLDo2q5oNKh8"
      },
      "outputs": [],
      "source": [
        "# Obter as cotas ordenadas por estado, agrupados\n",
        "\n",
        "cotas_ordenadas = ps.sql(\"\"\"\n",
        "                         SELECT uf_busca, SUM(bolsa_integral_cotas) AS total_de_cotas\n",
        "                            FROM {DF}\n",
        "                                WHERE nome_curso = 'Medicina'\n",
        "                                    GROUP BY uf_busca\n",
        "                                        ORDER BY total_de_cotas DESC\n",
        "                         \"\"\", DF = df)"
      ]
    },
    {
      "cell_type": "code",
      "execution_count": null,
      "metadata": {
        "application/vnd.databricks.v1+cell": {
          "cellMetadata": {
            "byteLimit": 2048000,
            "rowLimit": 10000
          },
          "inputWidgets": {},
          "nuid": "5cdd30a7-5f8c-4f71-a912-a4b3c706e835",
          "showTitle": false,
          "title": ""
        },
        "id": "MKZVE3CxNKh8",
        "outputId": "c76bc689-0554-4ba6-d5bc-50821ee0cf20"
      },
      "outputs": [
        {
          "output_type": "execute_result",
          "data": {
            "text/html": [
              "<div>\n",
              "<style scoped>\n",
              "    .dataframe tbody tr th:only-of-type {\n",
              "        vertical-align: middle;\n",
              "    }\n",
              "\n",
              "    .dataframe tbody tr th {\n",
              "        vertical-align: top;\n",
              "    }\n",
              "\n",
              "    .dataframe thead th {\n",
              "        text-align: right;\n",
              "    }\n",
              "</style>\n",
              "<table border=\"1\" class=\"dataframe\">\n",
              "  <thead>\n",
              "    <tr style=\"text-align: right;\">\n",
              "      <th></th>\n",
              "      <th>uf_busca</th>\n",
              "      <th>total_de_cotas</th>\n",
              "    </tr>\n",
              "  </thead>\n",
              "  <tbody>\n",
              "    <tr>\n",
              "      <th>0</th>\n",
              "      <td>PB</td>\n",
              "      <td>8</td>\n",
              "    </tr>\n",
              "    <tr>\n",
              "      <th>1</th>\n",
              "      <td>MA</td>\n",
              "      <td>7</td>\n",
              "    </tr>\n",
              "    <tr>\n",
              "      <th>2</th>\n",
              "      <td>SP</td>\n",
              "      <td>6</td>\n",
              "    </tr>\n",
              "    <tr>\n",
              "      <th>3</th>\n",
              "      <td>RO</td>\n",
              "      <td>4</td>\n",
              "    </tr>\n",
              "    <tr>\n",
              "      <th>4</th>\n",
              "      <td>RJ</td>\n",
              "      <td>4</td>\n",
              "    </tr>\n",
              "    <tr>\n",
              "      <th>5</th>\n",
              "      <td>AC</td>\n",
              "      <td>4</td>\n",
              "    </tr>\n",
              "    <tr>\n",
              "      <th>6</th>\n",
              "      <td>ES</td>\n",
              "      <td>3</td>\n",
              "    </tr>\n",
              "    <tr>\n",
              "      <th>7</th>\n",
              "      <td>MG</td>\n",
              "      <td>2</td>\n",
              "    </tr>\n",
              "    <tr>\n",
              "      <th>8</th>\n",
              "      <td>PA</td>\n",
              "      <td>2</td>\n",
              "    </tr>\n",
              "    <tr>\n",
              "      <th>9</th>\n",
              "      <td>PR</td>\n",
              "      <td>2</td>\n",
              "    </tr>\n",
              "  </tbody>\n",
              "</table>\n",
              "</div>"
            ],
            "text/plain": [
              "  uf_busca  total_de_cotas\n",
              "0       PB               8\n",
              "1       MA               7\n",
              "2       SP               6\n",
              "3       RO               4\n",
              "4       RJ               4\n",
              "5       AC               4\n",
              "6       ES               3\n",
              "7       MG               2\n",
              "8       PA               2\n",
              "9       PR               2"
            ]
          },
          "execution_count": 38,
          "metadata": {}
        }
      ],
      "source": [
        "cotas_ordenadas"
      ]
    },
    {
      "cell_type": "code",
      "execution_count": null,
      "metadata": {
        "application/vnd.databricks.v1+cell": {
          "cellMetadata": {
            "byteLimit": 2048000,
            "rowLimit": 10000
          },
          "inputWidgets": {},
          "nuid": "89735df5-05cc-4772-8851-fe07ee0a4b9d",
          "showTitle": false,
          "title": ""
        },
        "id": "4dh37IKzNKh8",
        "outputId": "f1befd40-40bb-48b4-8ffd-27da5c734c62"
      },
      "outputs": [
        {
          "output_type": "display_data",
          "data": {
            "text/html": [
              "<html>\n",
              "<head><meta charset=\"utf-8\" /></head>\n",
              "<body>\n",
              "    <div>            <script src=\"https://cdnjs.cloudflare.com/ajax/libs/mathjax/2.7.5/MathJax.js?config=TeX-AMS-MML_SVG\"></script><script type=\"text/javascript\">if (window.MathJax && window.MathJax.Hub && window.MathJax.Hub.Config) {window.MathJax.Hub.Config({SVG: {font: \"STIX-Web\"}});}</script>                <script type=\"text/javascript\">window.PlotlyConfig = {MathJaxConfig: 'local'};</script>\n",
              "        <script src=\"https://cdn.plot.ly/plotly-2.12.1.min.js\"></script>                <div id=\"2a8d3bd9-61fa-4551-9dbe-8fa9b6c47d96\" class=\"plotly-graph-div\" style=\"height:100%; width:100%;\"></div>            <script type=\"text/javascript\">                                    window.PLOTLYENV=window.PLOTLYENV || {};                                    if (document.getElementById(\"2a8d3bd9-61fa-4551-9dbe-8fa9b6c47d96\")) {                    Plotly.newPlot(                        \"2a8d3bd9-61fa-4551-9dbe-8fa9b6c47d96\",                        [{\"alignmentgroup\":\"True\",\"hovertemplate\":\"uf_busca=%{x}<br>total_de_cotas=%{y}<extra></extra>\",\"legendgroup\":\"\",\"marker\":{\"color\":\"#636efa\",\"pattern\":{\"shape\":\"\"}},\"name\":\"\",\"offsetgroup\":\"\",\"orientation\":\"v\",\"showlegend\":false,\"textposition\":\"auto\",\"x\":[\"PB\",\"MA\",\"SP\",\"RO\",\"RJ\",\"AC\",\"ES\",\"MG\",\"PA\",\"PR\"],\"xaxis\":\"x\",\"y\":[8,7,6,4,4,4,3,2,2,2],\"yaxis\":\"y\",\"type\":\"bar\"}],                        {\"template\":{\"data\":{\"histogram2dcontour\":[{\"type\":\"histogram2dcontour\",\"colorbar\":{\"outlinewidth\":0,\"ticks\":\"\"},\"colorscale\":[[0.0,\"#0d0887\"],[0.1111111111111111,\"#46039f\"],[0.2222222222222222,\"#7201a8\"],[0.3333333333333333,\"#9c179e\"],[0.4444444444444444,\"#bd3786\"],[0.5555555555555556,\"#d8576b\"],[0.6666666666666666,\"#ed7953\"],[0.7777777777777778,\"#fb9f3a\"],[0.8888888888888888,\"#fdca26\"],[1.0,\"#f0f921\"]]}],\"choropleth\":[{\"type\":\"choropleth\",\"colorbar\":{\"outlinewidth\":0,\"ticks\":\"\"}}],\"histogram2d\":[{\"type\":\"histogram2d\",\"colorbar\":{\"outlinewidth\":0,\"ticks\":\"\"},\"colorscale\":[[0.0,\"#0d0887\"],[0.1111111111111111,\"#46039f\"],[0.2222222222222222,\"#7201a8\"],[0.3333333333333333,\"#9c179e\"],[0.4444444444444444,\"#bd3786\"],[0.5555555555555556,\"#d8576b\"],[0.6666666666666666,\"#ed7953\"],[0.7777777777777778,\"#fb9f3a\"],[0.8888888888888888,\"#fdca26\"],[1.0,\"#f0f921\"]]}],\"heatmap\":[{\"type\":\"heatmap\",\"colorbar\":{\"outlinewidth\":0,\"ticks\":\"\"},\"colorscale\":[[0.0,\"#0d0887\"],[0.1111111111111111,\"#46039f\"],[0.2222222222222222,\"#7201a8\"],[0.3333333333333333,\"#9c179e\"],[0.4444444444444444,\"#bd3786\"],[0.5555555555555556,\"#d8576b\"],[0.6666666666666666,\"#ed7953\"],[0.7777777777777778,\"#fb9f3a\"],[0.8888888888888888,\"#fdca26\"],[1.0,\"#f0f921\"]]}],\"heatmapgl\":[{\"type\":\"heatmapgl\",\"colorbar\":{\"outlinewidth\":0,\"ticks\":\"\"},\"colorscale\":[[0.0,\"#0d0887\"],[0.1111111111111111,\"#46039f\"],[0.2222222222222222,\"#7201a8\"],[0.3333333333333333,\"#9c179e\"],[0.4444444444444444,\"#bd3786\"],[0.5555555555555556,\"#d8576b\"],[0.6666666666666666,\"#ed7953\"],[0.7777777777777778,\"#fb9f3a\"],[0.8888888888888888,\"#fdca26\"],[1.0,\"#f0f921\"]]}],\"contourcarpet\":[{\"type\":\"contourcarpet\",\"colorbar\":{\"outlinewidth\":0,\"ticks\":\"\"}}],\"contour\":[{\"type\":\"contour\",\"colorbar\":{\"outlinewidth\":0,\"ticks\":\"\"},\"colorscale\":[[0.0,\"#0d0887\"],[0.1111111111111111,\"#46039f\"],[0.2222222222222222,\"#7201a8\"],[0.3333333333333333,\"#9c179e\"],[0.4444444444444444,\"#bd3786\"],[0.5555555555555556,\"#d8576b\"],[0.6666666666666666,\"#ed7953\"],[0.7777777777777778,\"#fb9f3a\"],[0.8888888888888888,\"#fdca26\"],[1.0,\"#f0f921\"]]}],\"surface\":[{\"type\":\"surface\",\"colorbar\":{\"outlinewidth\":0,\"ticks\":\"\"},\"colorscale\":[[0.0,\"#0d0887\"],[0.1111111111111111,\"#46039f\"],[0.2222222222222222,\"#7201a8\"],[0.3333333333333333,\"#9c179e\"],[0.4444444444444444,\"#bd3786\"],[0.5555555555555556,\"#d8576b\"],[0.6666666666666666,\"#ed7953\"],[0.7777777777777778,\"#fb9f3a\"],[0.8888888888888888,\"#fdca26\"],[1.0,\"#f0f921\"]]}],\"mesh3d\":[{\"type\":\"mesh3d\",\"colorbar\":{\"outlinewidth\":0,\"ticks\":\"\"}}],\"scatter\":[{\"fillpattern\":{\"fillmode\":\"overlay\",\"size\":10,\"solidity\":0.2},\"type\":\"scatter\"}],\"parcoords\":[{\"type\":\"parcoords\",\"line\":{\"colorbar\":{\"outlinewidth\":0,\"ticks\":\"\"}}}],\"scatterpolargl\":[{\"type\":\"scatterpolargl\",\"marker\":{\"colorbar\":{\"outlinewidth\":0,\"ticks\":\"\"}}}],\"bar\":[{\"error_x\":{\"color\":\"#2a3f5f\"},\"error_y\":{\"color\":\"#2a3f5f\"},\"marker\":{\"line\":{\"color\":\"#E5ECF6\",\"width\":0.5},\"pattern\":{\"fillmode\":\"overlay\",\"size\":10,\"solidity\":0.2}},\"type\":\"bar\"}],\"scattergeo\":[{\"type\":\"scattergeo\",\"marker\":{\"colorbar\":{\"outlinewidth\":0,\"ticks\":\"\"}}}],\"scatterpolar\":[{\"type\":\"scatterpolar\",\"marker\":{\"colorbar\":{\"outlinewidth\":0,\"ticks\":\"\"}}}],\"histogram\":[{\"marker\":{\"pattern\":{\"fillmode\":\"overlay\",\"size\":10,\"solidity\":0.2}},\"type\":\"histogram\"}],\"scattergl\":[{\"type\":\"scattergl\",\"marker\":{\"colorbar\":{\"outlinewidth\":0,\"ticks\":\"\"}}}],\"scatter3d\":[{\"type\":\"scatter3d\",\"line\":{\"colorbar\":{\"outlinewidth\":0,\"ticks\":\"\"}},\"marker\":{\"colorbar\":{\"outlinewidth\":0,\"ticks\":\"\"}}}],\"scattermapbox\":[{\"type\":\"scattermapbox\",\"marker\":{\"colorbar\":{\"outlinewidth\":0,\"ticks\":\"\"}}}],\"scatterternary\":[{\"type\":\"scatterternary\",\"marker\":{\"colorbar\":{\"outlinewidth\":0,\"ticks\":\"\"}}}],\"scattercarpet\":[{\"type\":\"scattercarpet\",\"marker\":{\"colorbar\":{\"outlinewidth\":0,\"ticks\":\"\"}}}],\"carpet\":[{\"aaxis\":{\"endlinecolor\":\"#2a3f5f\",\"gridcolor\":\"white\",\"linecolor\":\"white\",\"minorgridcolor\":\"white\",\"startlinecolor\":\"#2a3f5f\"},\"baxis\":{\"endlinecolor\":\"#2a3f5f\",\"gridcolor\":\"white\",\"linecolor\":\"white\",\"minorgridcolor\":\"white\",\"startlinecolor\":\"#2a3f5f\"},\"type\":\"carpet\"}],\"table\":[{\"cells\":{\"fill\":{\"color\":\"#EBF0F8\"},\"line\":{\"color\":\"white\"}},\"header\":{\"fill\":{\"color\":\"#C8D4E3\"},\"line\":{\"color\":\"white\"}},\"type\":\"table\"}],\"barpolar\":[{\"marker\":{\"line\":{\"color\":\"#E5ECF6\",\"width\":0.5},\"pattern\":{\"fillmode\":\"overlay\",\"size\":10,\"solidity\":0.2}},\"type\":\"barpolar\"}],\"pie\":[{\"automargin\":true,\"type\":\"pie\"}]},\"layout\":{\"autotypenumbers\":\"strict\",\"colorway\":[\"#636efa\",\"#EF553B\",\"#00cc96\",\"#ab63fa\",\"#FFA15A\",\"#19d3f3\",\"#FF6692\",\"#B6E880\",\"#FF97FF\",\"#FECB52\"],\"font\":{\"color\":\"#2a3f5f\"},\"hovermode\":\"closest\",\"hoverlabel\":{\"align\":\"left\"},\"paper_bgcolor\":\"white\",\"plot_bgcolor\":\"#E5ECF6\",\"polar\":{\"bgcolor\":\"#E5ECF6\",\"angularaxis\":{\"gridcolor\":\"white\",\"linecolor\":\"white\",\"ticks\":\"\"},\"radialaxis\":{\"gridcolor\":\"white\",\"linecolor\":\"white\",\"ticks\":\"\"}},\"ternary\":{\"bgcolor\":\"#E5ECF6\",\"aaxis\":{\"gridcolor\":\"white\",\"linecolor\":\"white\",\"ticks\":\"\"},\"baxis\":{\"gridcolor\":\"white\",\"linecolor\":\"white\",\"ticks\":\"\"},\"caxis\":{\"gridcolor\":\"white\",\"linecolor\":\"white\",\"ticks\":\"\"}},\"coloraxis\":{\"colorbar\":{\"outlinewidth\":0,\"ticks\":\"\"}},\"colorscale\":{\"sequential\":[[0.0,\"#0d0887\"],[0.1111111111111111,\"#46039f\"],[0.2222222222222222,\"#7201a8\"],[0.3333333333333333,\"#9c179e\"],[0.4444444444444444,\"#bd3786\"],[0.5555555555555556,\"#d8576b\"],[0.6666666666666666,\"#ed7953\"],[0.7777777777777778,\"#fb9f3a\"],[0.8888888888888888,\"#fdca26\"],[1.0,\"#f0f921\"]],\"sequentialminus\":[[0.0,\"#0d0887\"],[0.1111111111111111,\"#46039f\"],[0.2222222222222222,\"#7201a8\"],[0.3333333333333333,\"#9c179e\"],[0.4444444444444444,\"#bd3786\"],[0.5555555555555556,\"#d8576b\"],[0.6666666666666666,\"#ed7953\"],[0.7777777777777778,\"#fb9f3a\"],[0.8888888888888888,\"#fdca26\"],[1.0,\"#f0f921\"]],\"diverging\":[[0,\"#8e0152\"],[0.1,\"#c51b7d\"],[0.2,\"#de77ae\"],[0.3,\"#f1b6da\"],[0.4,\"#fde0ef\"],[0.5,\"#f7f7f7\"],[0.6,\"#e6f5d0\"],[0.7,\"#b8e186\"],[0.8,\"#7fbc41\"],[0.9,\"#4d9221\"],[1,\"#276419\"]]},\"xaxis\":{\"gridcolor\":\"white\",\"linecolor\":\"white\",\"ticks\":\"\",\"title\":{\"standoff\":15},\"zerolinecolor\":\"white\",\"automargin\":true,\"zerolinewidth\":2},\"yaxis\":{\"gridcolor\":\"white\",\"linecolor\":\"white\",\"ticks\":\"\",\"title\":{\"standoff\":15},\"zerolinecolor\":\"white\",\"automargin\":true,\"zerolinewidth\":2},\"scene\":{\"xaxis\":{\"backgroundcolor\":\"#E5ECF6\",\"gridcolor\":\"white\",\"linecolor\":\"white\",\"showbackground\":true,\"ticks\":\"\",\"zerolinecolor\":\"white\",\"gridwidth\":2},\"yaxis\":{\"backgroundcolor\":\"#E5ECF6\",\"gridcolor\":\"white\",\"linecolor\":\"white\",\"showbackground\":true,\"ticks\":\"\",\"zerolinecolor\":\"white\",\"gridwidth\":2},\"zaxis\":{\"backgroundcolor\":\"#E5ECF6\",\"gridcolor\":\"white\",\"linecolor\":\"white\",\"showbackground\":true,\"ticks\":\"\",\"zerolinecolor\":\"white\",\"gridwidth\":2}},\"shapedefaults\":{\"line\":{\"color\":\"#2a3f5f\"}},\"annotationdefaults\":{\"arrowcolor\":\"#2a3f5f\",\"arrowhead\":0,\"arrowwidth\":1},\"geo\":{\"bgcolor\":\"white\",\"landcolor\":\"#E5ECF6\",\"subunitcolor\":\"white\",\"showland\":true,\"showlakes\":true,\"lakecolor\":\"white\"},\"title\":{\"x\":0.05},\"mapbox\":{\"style\":\"light\"}}},\"xaxis\":{\"anchor\":\"y\",\"domain\":[0.0,1.0],\"title\":{\"text\":\"uf_busca\"}},\"yaxis\":{\"anchor\":\"x\",\"domain\":[0.0,1.0],\"title\":{\"text\":\"total_de_cotas\"}},\"legend\":{\"tracegroupgap\":0},\"margin\":{\"t\":60},\"barmode\":\"relative\"},                        {\"responsive\": true}                    )                };                            </script>        </div>\n",
              "</body>\n",
              "</html>"
            ]
          },
          "metadata": {}
        }
      ],
      "source": [
        "cotas_ordenadas.plot.bar(x= 'uf_busca', y= 'total_de_cotas')"
      ]
    },
    {
      "cell_type": "markdown",
      "metadata": {
        "application/vnd.databricks.v1+cell": {
          "cellMetadata": {
            "byteLimit": 2048000,
            "rowLimit": 10000
          },
          "inputWidgets": {},
          "nuid": "74d9c949-a54f-4f37-8869-2af497467c27",
          "showTitle": false,
          "title": ""
        },
        "id": "8fWwRSU2NKh8"
      },
      "source": [
        "\n",
        "# Mapeamento\n",
        "\n"
      ]
    },
    {
      "cell_type": "markdown",
      "metadata": {
        "application/vnd.databricks.v1+cell": {
          "cellMetadata": {
            "byteLimit": 2048000,
            "rowLimit": 10000
          },
          "inputWidgets": {},
          "nuid": "1a1e3c43-4dac-4adf-8a52-068acbb2eb52",
          "showTitle": false,
          "title": ""
        },
        "id": "vw1QBsPkNKh9"
      },
      "source": [
        "\n",
        "#### Trabalhando com método MAP"
      ]
    },
    {
      "cell_type": "code",
      "execution_count": null,
      "metadata": {
        "application/vnd.databricks.v1+cell": {
          "cellMetadata": {
            "byteLimit": 2048000,
            "rowLimit": 10000
          },
          "inputWidgets": {},
          "nuid": "0766694f-b715-4506-90ab-3dbd733b0754",
          "showTitle": false,
          "title": ""
        },
        "id": "Vt8xKiy7NKh9",
        "outputId": "113e64e5-69b4-47f2-9da9-1476d664bfe7"
      },
      "outputs": [
        {
          "output_type": "execute_result",
          "data": {
            "text/plain": [
              "0          Sao Luis\n",
              "1       Joao Pessoa\n",
              "2             Belem\n",
              "3         Itaperuna\n",
              "4           Vitoria\n",
              "5            Franca\n",
              "6         Sao Paulo\n",
              "7        Guarapuava\n",
              "8      Campo Mourao\n",
              "9     Montes Claros\n",
              "10       Rio Branco\n",
              "11       Imperatriz\n",
              "12       Vespasiano\n",
              "13      Porto Velho\n",
              "Name: cidade_busca, dtype: object"
            ]
          },
          "execution_count": 40,
          "metadata": {}
        }
      ],
      "source": [
        "# Buscando cada cidade através do metodo unique()\n",
        "\n",
        "df_medicina['cidade_busca'].unique()"
      ]
    },
    {
      "cell_type": "code",
      "execution_count": null,
      "metadata": {
        "application/vnd.databricks.v1+cell": {
          "cellMetadata": {
            "byteLimit": 2048000,
            "rowLimit": 10000
          },
          "inputWidgets": {},
          "nuid": "c2b60d78-d5f7-4b78-945c-331f33f80e47",
          "showTitle": false,
          "title": ""
        },
        "id": "5ctJbpIXNKh9"
      },
      "outputs": [],
      "source": [
        "# Criando um dicionário nomes_cidades contendo o view acima\n",
        "\n",
        "nomes_cidades = {\n",
        "\"Sao Luis\": \"Capital\",\n",
        "\"Joao Pessoa\":\"Capital\",\n",
        "\"Belem\":\"Capital\",\n",
        "\"Itaperuna\":\"Município\",\n",
        "\"Vitoria\":\"Município\",\n",
        "\"Franca\":\"Município\",\n",
        "\"Sao Paulo\":\"Capital\",\n",
        "\"Guarapuava\":\"Município\",\n",
        "\"Campo Mourao\":\"Município\",\n",
        "\"Montes Claros\":\"Município\",\n",
        "\"Rio Branco\":\"Município\",\n",
        "\"Imperatriz\":\"Município\",\n",
        "\"Vespasiano\":\"Município\",\n",
        "\"Porto Velho\": \"Município\"\n",
        "}"
      ]
    },
    {
      "cell_type": "markdown",
      "metadata": {
        "application/vnd.databricks.v1+cell": {
          "cellMetadata": {
            "byteLimit": 2048000,
            "rowLimit": 10000
          },
          "inputWidgets": {},
          "nuid": "fe62f389-4db5-4198-8a99-4deb5872c622",
          "showTitle": false,
          "title": ""
        },
        "id": "pn725LDSNKiA"
      },
      "source": [
        "\n",
        "# Utilizando os métodos Map e Inser"
      ]
    },
    {
      "cell_type": "code",
      "execution_count": null,
      "metadata": {
        "application/vnd.databricks.v1+cell": {
          "cellMetadata": {
            "byteLimit": 2048000,
            "rowLimit": 10000
          },
          "inputWidgets": {},
          "nuid": "834e8b68-85bf-4c45-ada0-be60ba72a77d",
          "showTitle": false,
          "title": ""
        },
        "id": "zaGJu03DNKiB",
        "outputId": "f4465c71-dc96-4cb4-925f-d4e92a8bb89d"
      },
      "outputs": [
        {
          "output_type": "execute_result",
          "data": {
            "text/plain": [
              "22       Capital\n",
              "71     Município\n",
              "87     Município\n",
              "107    Município\n",
              "10     Município\n",
              "120    Município\n",
              "80     Município\n",
              "2        Capital\n",
              "4      Município\n",
              "13       Capital\n",
              "21       Capital\n",
              "42     Município\n",
              "20     Município\n",
              "60       Capital\n",
              "24     Município\n",
              "Name: cidade_busca, dtype: object"
            ]
          },
          "execution_count": 42,
          "metadata": {}
        }
      ],
      "source": [
        "# após criação do dicionário, selecionar a coluna \"cidade_busca\" aplicando o map()\n",
        "\n",
        "df_medicina['cidade_busca'].map(nomes_cidades)"
      ]
    },
    {
      "cell_type": "code",
      "execution_count": null,
      "metadata": {
        "application/vnd.databricks.v1+cell": {
          "cellMetadata": {
            "byteLimit": 2048000,
            "rowLimit": 10000
          },
          "inputWidgets": {},
          "nuid": "1fa0f377-b7ac-4efd-b593-a2545d127c8e",
          "showTitle": false,
          "title": ""
        },
        "id": "JP2nO1nBNKiB"
      },
      "outputs": [],
      "source": [
        "capitais = df_medicina['cidade_busca'].map(nomes_cidades)"
      ]
    },
    {
      "cell_type": "code",
      "execution_count": null,
      "metadata": {
        "application/vnd.databricks.v1+cell": {
          "cellMetadata": {
            "byteLimit": 2048000,
            "rowLimit": 10000
          },
          "inputWidgets": {},
          "nuid": "01b5844c-fb98-4ac6-94ea-a7b7c7f8a8dc",
          "showTitle": false,
          "title": ""
        },
        "id": "Of7e2KLkNKiB"
      },
      "outputs": [],
      "source": [
        "# Criando uma coluna e inserindo uma informação dentro dela\n",
        "# Tem que indicar a posição da coluna no dataframe onde ela vai ser inserida\n",
        "# loc é o numero da coluna, column é o nome e o value é o valor inserido\n",
        "df_medicina.insert(loc = 8, column = 'tipo_cidade', value=capitais)"
      ]
    },
    {
      "cell_type": "code",
      "execution_count": null,
      "metadata": {
        "application/vnd.databricks.v1+cell": {
          "cellMetadata": {
            "byteLimit": 2048000,
            "rowLimit": 10000
          },
          "inputWidgets": {},
          "nuid": "00ee4d2f-2700-4917-80c2-cf6eb176bb16",
          "showTitle": false,
          "title": ""
        },
        "id": "QVTUoXl0NKiC",
        "outputId": "11e5b02b-efcb-4b3a-a2c1-e6eb78542868"
      },
      "outputs": [
        {
          "output_type": "execute_result",
          "data": {
            "text/html": [
              "<div>\n",
              "<style scoped>\n",
              "    .dataframe tbody tr th:only-of-type {\n",
              "        vertical-align: middle;\n",
              "    }\n",
              "\n",
              "    .dataframe tbody tr th {\n",
              "        vertical-align: top;\n",
              "    }\n",
              "\n",
              "    .dataframe thead th {\n",
              "        text-align: right;\n",
              "    }\n",
              "</style>\n",
              "<table border=\"1\" class=\"dataframe\">\n",
              "  <thead>\n",
              "    <tr style=\"text-align: right;\">\n",
              "      <th></th>\n",
              "      <th>curso_id</th>\n",
              "      <th>grau</th>\n",
              "      <th>turno</th>\n",
              "      <th>mensalidade</th>\n",
              "      <th>bolsa_integral_cotas</th>\n",
              "      <th>bolsa_integral_ampla</th>\n",
              "      <th>bolsa_parcial_cotas</th>\n",
              "      <th>bolsa_parcial_ampla</th>\n",
              "      <th>tipo_cidade</th>\n",
              "      <th>cidade_busca</th>\n",
              "      <th>uf_busca</th>\n",
              "      <th>cidade_filtro</th>\n",
              "      <th>universidade_nome</th>\n",
              "      <th>campus_nome</th>\n",
              "      <th>campus_id</th>\n",
              "      <th>nome_curso</th>\n",
              "      <th>nota_integral_ampla</th>\n",
              "      <th>nota_integral_cotas</th>\n",
              "      <th>nota_parcial_ampla</th>\n",
              "      <th>nota_parcial_cotas</th>\n",
              "    </tr>\n",
              "  </thead>\n",
              "  <tbody>\n",
              "    <tr>\n",
              "      <th>22</th>\n",
              "      <td>105596711902804</td>\n",
              "      <td>Bacharelado</td>\n",
              "      <td>Integral</td>\n",
              "      <td>8300.00</td>\n",
              "      <td>2</td>\n",
              "      <td>3</td>\n",
              "      <td>4</td>\n",
              "      <td>7</td>\n",
              "      <td>Capital</td>\n",
              "      <td>Sao Paulo</td>\n",
              "      <td>SP</td>\n",
              "      <td>MzUxNTA2MTUwMzA4</td>\n",
              "      <td>Faculdade das Américas - FAM</td>\n",
              "      <td>RUA AUGUSTA - Consolação</td>\n",
              "      <td>1055967</td>\n",
              "      <td>Medicina</td>\n",
              "      <td>735.84</td>\n",
              "      <td>724.70</td>\n",
              "      <td>738.42</td>\n",
              "      <td>723.28</td>\n",
              "    </tr>\n",
              "    <tr>\n",
              "      <th>71</th>\n",
              "      <td>65793650009334</td>\n",
              "      <td>Bacharelado</td>\n",
              "      <td>Integral</td>\n",
              "      <td>7316.79</td>\n",
              "      <td>2</td>\n",
              "      <td>3</td>\n",
              "      <td>4</td>\n",
              "      <td>8</td>\n",
              "      <td>Município</td>\n",
              "      <td>Franca</td>\n",
              "      <td>SP</td>\n",
              "      <td>MzUwMjAxMjE2MjAw</td>\n",
              "      <td>Universidade de Franca - UNIFRAN</td>\n",
              "      <td>POLO NA SEDE - Parque Universitário</td>\n",
              "      <td>657936</td>\n",
              "      <td>Medicina</td>\n",
              "      <td>744.88</td>\n",
              "      <td>730.88</td>\n",
              "      <td>741.36</td>\n",
              "      <td>721.08</td>\n",
              "    </tr>\n",
              "    <tr>\n",
              "      <th>87</th>\n",
              "      <td>658461856524</td>\n",
              "      <td>Bacharelado</td>\n",
              "      <td>Integral</td>\n",
              "      <td>7009.97</td>\n",
              "      <td>4</td>\n",
              "      <td>3</td>\n",
              "      <td>9</td>\n",
              "      <td>5</td>\n",
              "      <td>Município</td>\n",
              "      <td>Porto Velho</td>\n",
              "      <td>RO</td>\n",
              "      <td>MTEwMTAwMTAwMjA1</td>\n",
              "      <td>Centro Universitário São Lucas - UniSL</td>\n",
              "      <td>CAMPUS  - PORTO VELHO - AREAL - Areal</td>\n",
              "      <td>658461</td>\n",
              "      <td>Medicina</td>\n",
              "      <td>742.72</td>\n",
              "      <td>720.20</td>\n",
              "      <td>729.72</td>\n",
              "      <td>711.68</td>\n",
              "    </tr>\n",
              "    <tr>\n",
              "      <th>107</th>\n",
              "      <td>66007913994844</td>\n",
              "      <td>Bacharelado</td>\n",
              "      <td>Integral</td>\n",
              "      <td>6498.55</td>\n",
              "      <td>1</td>\n",
              "      <td>1</td>\n",
              "      <td>1</td>\n",
              "      <td>4</td>\n",
              "      <td>Município</td>\n",
              "      <td>Guarapuava</td>\n",
              "      <td>PR</td>\n",
              "      <td>NDEwODAyOTA5NDAx</td>\n",
              "      <td>Faculdade Campo Real - CAMPO REAL</td>\n",
              "      <td>BLOCO 1 - Santa Cruz</td>\n",
              "      <td>660079</td>\n",
              "      <td>Medicina</td>\n",
              "      <td>781.20</td>\n",
              "      <td>731.04</td>\n",
              "      <td>745.06</td>\n",
              "      <td>741.00</td>\n",
              "    </tr>\n",
              "    <tr>\n",
              "      <th>10</th>\n",
              "      <td>65921511844324</td>\n",
              "      <td>Bacharelado</td>\n",
              "      <td>Integral</td>\n",
              "      <td>9123.07</td>\n",
              "      <td>4</td>\n",
              "      <td>4</td>\n",
              "      <td>5</td>\n",
              "      <td>5</td>\n",
              "      <td>Município</td>\n",
              "      <td>Itaperuna</td>\n",
              "      <td>RJ</td>\n",
              "      <td>MzMwMTAwMTAyMjA1</td>\n",
              "      <td>Faculdade Redentor - FACREDENTOR</td>\n",
              "      <td>CAMPUS  - ITAPERUNA - PRESIDENTE COSTA E SILVA...</td>\n",
              "      <td>659215</td>\n",
              "      <td>Medicina</td>\n",
              "      <td>741.06</td>\n",
              "      <td>729.02</td>\n",
              "      <td>730.98</td>\n",
              "      <td>722.82</td>\n",
              "    </tr>\n",
              "  </tbody>\n",
              "</table>\n",
              "</div>"
            ],
            "text/plain": [
              "            curso_id         grau     turno  mensalidade  bolsa_integral_cotas  bolsa_integral_ampla  bolsa_parcial_cotas  bolsa_parcial_ampla tipo_cidade cidade_busca uf_busca     cidade_filtro                       universidade_nome                                                                campus_nome  campus_id nome_curso  nota_integral_ampla  nota_integral_cotas  nota_parcial_ampla  nota_parcial_cotas\n",
              "22   105596711902804  Bacharelado  Integral      8300.00                     2                     3                    4                    7     Capital    Sao Paulo       SP  MzUxNTA2MTUwMzA4            Faculdade das Américas - FAM                                                   RUA AUGUSTA - Consolação    1055967   Medicina               735.84               724.70              738.42              723.28\n",
              "71    65793650009334  Bacharelado  Integral      7316.79                     2                     3                    4                    8   Município       Franca       SP  MzUwMjAxMjE2MjAw        Universidade de Franca - UNIFRAN                                        POLO NA SEDE - Parque Universitário     657936   Medicina               744.88               730.88              741.36              721.08\n",
              "87      658461856524  Bacharelado  Integral      7009.97                     4                     3                    9                    5   Município  Porto Velho       RO  MTEwMTAwMTAwMjA1  Centro Universitário São Lucas - UniSL                                      CAMPUS  - PORTO VELHO - AREAL - Areal     658461   Medicina               742.72               720.20              729.72              711.68\n",
              "107   66007913994844  Bacharelado  Integral      6498.55                     1                     1                    1                    4   Município   Guarapuava       PR  NDEwODAyOTA5NDAx       Faculdade Campo Real - CAMPO REAL                                                       BLOCO 1 - Santa Cruz     660079   Medicina               781.20               731.04              745.06              741.00\n",
              "10    65921511844324  Bacharelado  Integral      9123.07                     4                     4                    5                    5   Município    Itaperuna       RJ  MzMwMTAwMTAyMjA1        Faculdade Redentor - FACREDENTOR  CAMPUS  - ITAPERUNA - PRESIDENTE COSTA E SILVA - Presidente Costa e Silva     659215   Medicina               741.06               729.02              730.98              722.82"
            ]
          },
          "execution_count": 45,
          "metadata": {}
        }
      ],
      "source": [
        "df_medicina.head()"
      ]
    },
    {
      "cell_type": "code",
      "execution_count": null,
      "metadata": {
        "application/vnd.databricks.v1+cell": {
          "cellMetadata": {
            "byteLimit": 2048000,
            "rowLimit": 10000
          },
          "inputWidgets": {},
          "nuid": "b5f3686e-7a68-42e4-94bb-9f70886d8dbf",
          "showTitle": false,
          "title": ""
        },
        "id": "kSh2CzTcNKiC",
        "outputId": "83948374-3e80-472e-871d-c89a3e1b3f68"
      },
      "outputs": [
        {
          "output_type": "display_data",
          "data": {
            "text/html": [
              "<html>\n",
              "<head><meta charset=\"utf-8\" /></head>\n",
              "<body>\n",
              "    <div>            <script src=\"https://cdnjs.cloudflare.com/ajax/libs/mathjax/2.7.5/MathJax.js?config=TeX-AMS-MML_SVG\"></script><script type=\"text/javascript\">if (window.MathJax && window.MathJax.Hub && window.MathJax.Hub.Config) {window.MathJax.Hub.Config({SVG: {font: \"STIX-Web\"}});}</script>                <script type=\"text/javascript\">window.PlotlyConfig = {MathJaxConfig: 'local'};</script>\n",
              "        <script src=\"https://cdn.plot.ly/plotly-2.12.1.min.js\"></script>                <div id=\"45c062a8-4b61-43fd-a8ea-607240ae725f\" class=\"plotly-graph-div\" style=\"height:100%; width:100%;\"></div>            <script type=\"text/javascript\">                                    window.PLOTLYENV=window.PLOTLYENV || {};                                    if (document.getElementById(\"45c062a8-4b61-43fd-a8ea-607240ae725f\")) {                    Plotly.newPlot(                        \"45c062a8-4b61-43fd-a8ea-607240ae725f\",                        [{\"alignmentgroup\":\"True\",\"hovertemplate\":\"tipo_cidade=%{x}<br>Total_de_cotas=%{y}<extra></extra>\",\"legendgroup\":\"\",\"marker\":{\"color\":\"#636efa\",\"pattern\":{\"shape\":\"\"}},\"name\":\"\",\"offsetgroup\":\"\",\"orientation\":\"v\",\"showlegend\":false,\"textposition\":\"auto\",\"x\":[\"Capital\",\"Munic\\u00edpio\"],\"xaxis\":\"x\",\"y\":[18,24],\"yaxis\":\"y\",\"type\":\"bar\"}],                        {\"template\":{\"data\":{\"histogram2dcontour\":[{\"type\":\"histogram2dcontour\",\"colorbar\":{\"outlinewidth\":0,\"ticks\":\"\"},\"colorscale\":[[0.0,\"#0d0887\"],[0.1111111111111111,\"#46039f\"],[0.2222222222222222,\"#7201a8\"],[0.3333333333333333,\"#9c179e\"],[0.4444444444444444,\"#bd3786\"],[0.5555555555555556,\"#d8576b\"],[0.6666666666666666,\"#ed7953\"],[0.7777777777777778,\"#fb9f3a\"],[0.8888888888888888,\"#fdca26\"],[1.0,\"#f0f921\"]]}],\"choropleth\":[{\"type\":\"choropleth\",\"colorbar\":{\"outlinewidth\":0,\"ticks\":\"\"}}],\"histogram2d\":[{\"type\":\"histogram2d\",\"colorbar\":{\"outlinewidth\":0,\"ticks\":\"\"},\"colorscale\":[[0.0,\"#0d0887\"],[0.1111111111111111,\"#46039f\"],[0.2222222222222222,\"#7201a8\"],[0.3333333333333333,\"#9c179e\"],[0.4444444444444444,\"#bd3786\"],[0.5555555555555556,\"#d8576b\"],[0.6666666666666666,\"#ed7953\"],[0.7777777777777778,\"#fb9f3a\"],[0.8888888888888888,\"#fdca26\"],[1.0,\"#f0f921\"]]}],\"heatmap\":[{\"type\":\"heatmap\",\"colorbar\":{\"outlinewidth\":0,\"ticks\":\"\"},\"colorscale\":[[0.0,\"#0d0887\"],[0.1111111111111111,\"#46039f\"],[0.2222222222222222,\"#7201a8\"],[0.3333333333333333,\"#9c179e\"],[0.4444444444444444,\"#bd3786\"],[0.5555555555555556,\"#d8576b\"],[0.6666666666666666,\"#ed7953\"],[0.7777777777777778,\"#fb9f3a\"],[0.8888888888888888,\"#fdca26\"],[1.0,\"#f0f921\"]]}],\"heatmapgl\":[{\"type\":\"heatmapgl\",\"colorbar\":{\"outlinewidth\":0,\"ticks\":\"\"},\"colorscale\":[[0.0,\"#0d0887\"],[0.1111111111111111,\"#46039f\"],[0.2222222222222222,\"#7201a8\"],[0.3333333333333333,\"#9c179e\"],[0.4444444444444444,\"#bd3786\"],[0.5555555555555556,\"#d8576b\"],[0.6666666666666666,\"#ed7953\"],[0.7777777777777778,\"#fb9f3a\"],[0.8888888888888888,\"#fdca26\"],[1.0,\"#f0f921\"]]}],\"contourcarpet\":[{\"type\":\"contourcarpet\",\"colorbar\":{\"outlinewidth\":0,\"ticks\":\"\"}}],\"contour\":[{\"type\":\"contour\",\"colorbar\":{\"outlinewidth\":0,\"ticks\":\"\"},\"colorscale\":[[0.0,\"#0d0887\"],[0.1111111111111111,\"#46039f\"],[0.2222222222222222,\"#7201a8\"],[0.3333333333333333,\"#9c179e\"],[0.4444444444444444,\"#bd3786\"],[0.5555555555555556,\"#d8576b\"],[0.6666666666666666,\"#ed7953\"],[0.7777777777777778,\"#fb9f3a\"],[0.8888888888888888,\"#fdca26\"],[1.0,\"#f0f921\"]]}],\"surface\":[{\"type\":\"surface\",\"colorbar\":{\"outlinewidth\":0,\"ticks\":\"\"},\"colorscale\":[[0.0,\"#0d0887\"],[0.1111111111111111,\"#46039f\"],[0.2222222222222222,\"#7201a8\"],[0.3333333333333333,\"#9c179e\"],[0.4444444444444444,\"#bd3786\"],[0.5555555555555556,\"#d8576b\"],[0.6666666666666666,\"#ed7953\"],[0.7777777777777778,\"#fb9f3a\"],[0.8888888888888888,\"#fdca26\"],[1.0,\"#f0f921\"]]}],\"mesh3d\":[{\"type\":\"mesh3d\",\"colorbar\":{\"outlinewidth\":0,\"ticks\":\"\"}}],\"scatter\":[{\"fillpattern\":{\"fillmode\":\"overlay\",\"size\":10,\"solidity\":0.2},\"type\":\"scatter\"}],\"parcoords\":[{\"type\":\"parcoords\",\"line\":{\"colorbar\":{\"outlinewidth\":0,\"ticks\":\"\"}}}],\"scatterpolargl\":[{\"type\":\"scatterpolargl\",\"marker\":{\"colorbar\":{\"outlinewidth\":0,\"ticks\":\"\"}}}],\"bar\":[{\"error_x\":{\"color\":\"#2a3f5f\"},\"error_y\":{\"color\":\"#2a3f5f\"},\"marker\":{\"line\":{\"color\":\"#E5ECF6\",\"width\":0.5},\"pattern\":{\"fillmode\":\"overlay\",\"size\":10,\"solidity\":0.2}},\"type\":\"bar\"}],\"scattergeo\":[{\"type\":\"scattergeo\",\"marker\":{\"colorbar\":{\"outlinewidth\":0,\"ticks\":\"\"}}}],\"scatterpolar\":[{\"type\":\"scatterpolar\",\"marker\":{\"colorbar\":{\"outlinewidth\":0,\"ticks\":\"\"}}}],\"histogram\":[{\"marker\":{\"pattern\":{\"fillmode\":\"overlay\",\"size\":10,\"solidity\":0.2}},\"type\":\"histogram\"}],\"scattergl\":[{\"type\":\"scattergl\",\"marker\":{\"colorbar\":{\"outlinewidth\":0,\"ticks\":\"\"}}}],\"scatter3d\":[{\"type\":\"scatter3d\",\"line\":{\"colorbar\":{\"outlinewidth\":0,\"ticks\":\"\"}},\"marker\":{\"colorbar\":{\"outlinewidth\":0,\"ticks\":\"\"}}}],\"scattermapbox\":[{\"type\":\"scattermapbox\",\"marker\":{\"colorbar\":{\"outlinewidth\":0,\"ticks\":\"\"}}}],\"scatterternary\":[{\"type\":\"scatterternary\",\"marker\":{\"colorbar\":{\"outlinewidth\":0,\"ticks\":\"\"}}}],\"scattercarpet\":[{\"type\":\"scattercarpet\",\"marker\":{\"colorbar\":{\"outlinewidth\":0,\"ticks\":\"\"}}}],\"carpet\":[{\"aaxis\":{\"endlinecolor\":\"#2a3f5f\",\"gridcolor\":\"white\",\"linecolor\":\"white\",\"minorgridcolor\":\"white\",\"startlinecolor\":\"#2a3f5f\"},\"baxis\":{\"endlinecolor\":\"#2a3f5f\",\"gridcolor\":\"white\",\"linecolor\":\"white\",\"minorgridcolor\":\"white\",\"startlinecolor\":\"#2a3f5f\"},\"type\":\"carpet\"}],\"table\":[{\"cells\":{\"fill\":{\"color\":\"#EBF0F8\"},\"line\":{\"color\":\"white\"}},\"header\":{\"fill\":{\"color\":\"#C8D4E3\"},\"line\":{\"color\":\"white\"}},\"type\":\"table\"}],\"barpolar\":[{\"marker\":{\"line\":{\"color\":\"#E5ECF6\",\"width\":0.5},\"pattern\":{\"fillmode\":\"overlay\",\"size\":10,\"solidity\":0.2}},\"type\":\"barpolar\"}],\"pie\":[{\"automargin\":true,\"type\":\"pie\"}]},\"layout\":{\"autotypenumbers\":\"strict\",\"colorway\":[\"#636efa\",\"#EF553B\",\"#00cc96\",\"#ab63fa\",\"#FFA15A\",\"#19d3f3\",\"#FF6692\",\"#B6E880\",\"#FF97FF\",\"#FECB52\"],\"font\":{\"color\":\"#2a3f5f\"},\"hovermode\":\"closest\",\"hoverlabel\":{\"align\":\"left\"},\"paper_bgcolor\":\"white\",\"plot_bgcolor\":\"#E5ECF6\",\"polar\":{\"bgcolor\":\"#E5ECF6\",\"angularaxis\":{\"gridcolor\":\"white\",\"linecolor\":\"white\",\"ticks\":\"\"},\"radialaxis\":{\"gridcolor\":\"white\",\"linecolor\":\"white\",\"ticks\":\"\"}},\"ternary\":{\"bgcolor\":\"#E5ECF6\",\"aaxis\":{\"gridcolor\":\"white\",\"linecolor\":\"white\",\"ticks\":\"\"},\"baxis\":{\"gridcolor\":\"white\",\"linecolor\":\"white\",\"ticks\":\"\"},\"caxis\":{\"gridcolor\":\"white\",\"linecolor\":\"white\",\"ticks\":\"\"}},\"coloraxis\":{\"colorbar\":{\"outlinewidth\":0,\"ticks\":\"\"}},\"colorscale\":{\"sequential\":[[0.0,\"#0d0887\"],[0.1111111111111111,\"#46039f\"],[0.2222222222222222,\"#7201a8\"],[0.3333333333333333,\"#9c179e\"],[0.4444444444444444,\"#bd3786\"],[0.5555555555555556,\"#d8576b\"],[0.6666666666666666,\"#ed7953\"],[0.7777777777777778,\"#fb9f3a\"],[0.8888888888888888,\"#fdca26\"],[1.0,\"#f0f921\"]],\"sequentialminus\":[[0.0,\"#0d0887\"],[0.1111111111111111,\"#46039f\"],[0.2222222222222222,\"#7201a8\"],[0.3333333333333333,\"#9c179e\"],[0.4444444444444444,\"#bd3786\"],[0.5555555555555556,\"#d8576b\"],[0.6666666666666666,\"#ed7953\"],[0.7777777777777778,\"#fb9f3a\"],[0.8888888888888888,\"#fdca26\"],[1.0,\"#f0f921\"]],\"diverging\":[[0,\"#8e0152\"],[0.1,\"#c51b7d\"],[0.2,\"#de77ae\"],[0.3,\"#f1b6da\"],[0.4,\"#fde0ef\"],[0.5,\"#f7f7f7\"],[0.6,\"#e6f5d0\"],[0.7,\"#b8e186\"],[0.8,\"#7fbc41\"],[0.9,\"#4d9221\"],[1,\"#276419\"]]},\"xaxis\":{\"gridcolor\":\"white\",\"linecolor\":\"white\",\"ticks\":\"\",\"title\":{\"standoff\":15},\"zerolinecolor\":\"white\",\"automargin\":true,\"zerolinewidth\":2},\"yaxis\":{\"gridcolor\":\"white\",\"linecolor\":\"white\",\"ticks\":\"\",\"title\":{\"standoff\":15},\"zerolinecolor\":\"white\",\"automargin\":true,\"zerolinewidth\":2},\"scene\":{\"xaxis\":{\"backgroundcolor\":\"#E5ECF6\",\"gridcolor\":\"white\",\"linecolor\":\"white\",\"showbackground\":true,\"ticks\":\"\",\"zerolinecolor\":\"white\",\"gridwidth\":2},\"yaxis\":{\"backgroundcolor\":\"#E5ECF6\",\"gridcolor\":\"white\",\"linecolor\":\"white\",\"showbackground\":true,\"ticks\":\"\",\"zerolinecolor\":\"white\",\"gridwidth\":2},\"zaxis\":{\"backgroundcolor\":\"#E5ECF6\",\"gridcolor\":\"white\",\"linecolor\":\"white\",\"showbackground\":true,\"ticks\":\"\",\"zerolinecolor\":\"white\",\"gridwidth\":2}},\"shapedefaults\":{\"line\":{\"color\":\"#2a3f5f\"}},\"annotationdefaults\":{\"arrowcolor\":\"#2a3f5f\",\"arrowhead\":0,\"arrowwidth\":1},\"geo\":{\"bgcolor\":\"white\",\"landcolor\":\"#E5ECF6\",\"subunitcolor\":\"white\",\"showland\":true,\"showlakes\":true,\"lakecolor\":\"white\"},\"title\":{\"x\":0.05},\"mapbox\":{\"style\":\"light\"}}},\"xaxis\":{\"anchor\":\"y\",\"domain\":[0.0,1.0],\"title\":{\"text\":\"tipo_cidade\"}},\"yaxis\":{\"anchor\":\"x\",\"domain\":[0.0,1.0],\"title\":{\"text\":\"Total_de_cotas\"}},\"legend\":{\"tracegroupgap\":0},\"margin\":{\"t\":60},\"barmode\":\"relative\"},                        {\"responsive\": true}                    )                };                            </script>        </div>\n",
              "</body>\n",
              "</html>"
            ]
          },
          "metadata": {}
        }
      ],
      "source": [
        "cotas_coordenadas = ps.sql(\"\"\"\n",
        "                            SELECT tipo_cidade, SUM(bolsa_integral_cotas) as Total_de_cotas\n",
        "                                FROM {DF}\n",
        "                                    GROUP BY tipo_cidade\n",
        "                                        ORDER BY Total_de_cotas\n",
        "\n",
        "                       \"\"\", DF = df_medicina)\n",
        "\n",
        "cotas_coordenadas.plot.bar(x='tipo_cidade', y='Total_de_cotas')"
      ]
    },
    {
      "cell_type": "markdown",
      "metadata": {
        "application/vnd.databricks.v1+cell": {
          "cellMetadata": {
            "byteLimit": 2048000,
            "rowLimit": 10000
          },
          "inputWidgets": {},
          "nuid": "7dd72af4-4525-43e9-9ed0-ea27ea2c6dc6",
          "showTitle": false,
          "title": ""
        },
        "id": "phH2D5rwNKiC"
      },
      "source": [
        "\n",
        "# Correlação e Linha de Tendência"
      ]
    },
    {
      "cell_type": "code",
      "execution_count": null,
      "metadata": {
        "application/vnd.databricks.v1+cell": {
          "cellMetadata": {
            "byteLimit": 2048000,
            "rowLimit": 10000
          },
          "inputWidgets": {},
          "nuid": "87c1d1d2-c7e8-4f17-a5a6-18ff70b62db2",
          "showTitle": false,
          "title": ""
        },
        "id": "E2F9RXWQNKiD"
      },
      "outputs": [],
      "source": [
        "# Criando uma matriz de correlação dos fatos\n",
        "\n",
        "aux = df_medicina[['mensalidade','bolsa_integral_cotas','bolsa_integral_ampla','bolsa_parcial_cotas','bolsa_parcial_ampla','nota_integral_ampla', 'nota_integral_cotas', 'nota_parcial_ampla','nota_parcial_cotas']]"
      ]
    },
    {
      "cell_type": "code",
      "execution_count": null,
      "metadata": {
        "application/vnd.databricks.v1+cell": {
          "cellMetadata": {
            "byteLimit": 2048000,
            "rowLimit": 10000
          },
          "inputWidgets": {},
          "nuid": "5b866dd4-9dfb-4a8c-97d5-895621d3d168",
          "showTitle": false,
          "title": ""
        },
        "id": "4uW5z4AvNKiD",
        "outputId": "0dd40387-d1b8-4ee8-b546-0987157db57d"
      },
      "outputs": [
        {
          "output_type": "execute_result",
          "data": {
            "text/html": [
              "<style type=\"text/css\">\n",
              "#T_1d3c8_row0_col0, #T_1d3c8_row1_col1, #T_1d3c8_row2_col2, #T_1d3c8_row3_col3, #T_1d3c8_row4_col4, #T_1d3c8_row5_col5, #T_1d3c8_row6_col6, #T_1d3c8_row7_col7, #T_1d3c8_row8_col8 {\n",
              "  background-color: #67000d;\n",
              "  color: #f1f1f1;\n",
              "}\n",
              "#T_1d3c8_row0_col1, #T_1d3c8_row0_col2, #T_1d3c8_row1_col0, #T_1d3c8_row2_col0, #T_1d3c8_row2_col8, #T_1d3c8_row8_col2 {\n",
              "  background-color: #f75b40;\n",
              "  color: #f1f1f1;\n",
              "}\n",
              "#T_1d3c8_row0_col3, #T_1d3c8_row3_col0 {\n",
              "  background-color: #d01d1f;\n",
              "  color: #f1f1f1;\n",
              "}\n",
              "#T_1d3c8_row0_col4, #T_1d3c8_row4_col0 {\n",
              "  background-color: #ea362a;\n",
              "  color: #f1f1f1;\n",
              "}\n",
              "#T_1d3c8_row0_col5, #T_1d3c8_row5_col0 {\n",
              "  background-color: #fcb296;\n",
              "  color: #000000;\n",
              "}\n",
              "#T_1d3c8_row0_col6, #T_1d3c8_row6_col0 {\n",
              "  background-color: #fb7151;\n",
              "  color: #f1f1f1;\n",
              "}\n",
              "#T_1d3c8_row0_col7, #T_1d3c8_row2_col5, #T_1d3c8_row5_col2, #T_1d3c8_row7_col0 {\n",
              "  background-color: #fcb99f;\n",
              "  color: #000000;\n",
              "}\n",
              "#T_1d3c8_row0_col8, #T_1d3c8_row8_col0 {\n",
              "  background-color: #fcc4ad;\n",
              "  color: #000000;\n",
              "}\n",
              "#T_1d3c8_row1_col2, #T_1d3c8_row2_col1 {\n",
              "  background-color: #c8171c;\n",
              "  color: #f1f1f1;\n",
              "}\n",
              "#T_1d3c8_row1_col3, #T_1d3c8_row3_col1 {\n",
              "  background-color: #d21f20;\n",
              "  color: #f1f1f1;\n",
              "}\n",
              "#T_1d3c8_row1_col4, #T_1d3c8_row4_col1 {\n",
              "  background-color: #fb7d5d;\n",
              "  color: #f1f1f1;\n",
              "}\n",
              "#T_1d3c8_row1_col5, #T_1d3c8_row5_col1 {\n",
              "  background-color: #fc8262;\n",
              "  color: #f1f1f1;\n",
              "}\n",
              "#T_1d3c8_row1_col6, #T_1d3c8_row6_col1 {\n",
              "  background-color: #fca588;\n",
              "  color: #000000;\n",
              "}\n",
              "#T_1d3c8_row1_col7, #T_1d3c8_row7_col1 {\n",
              "  background-color: #fc9272;\n",
              "  color: #000000;\n",
              "}\n",
              "#T_1d3c8_row1_col8, #T_1d3c8_row8_col1 {\n",
              "  background-color: #fb7555;\n",
              "  color: #f1f1f1;\n",
              "}\n",
              "#T_1d3c8_row2_col3, #T_1d3c8_row3_col2 {\n",
              "  background-color: #f24734;\n",
              "  color: #f1f1f1;\n",
              "}\n",
              "#T_1d3c8_row2_col4, #T_1d3c8_row4_col2 {\n",
              "  background-color: #b81419;\n",
              "  color: #f1f1f1;\n",
              "}\n",
              "#T_1d3c8_row2_col6, #T_1d3c8_row6_col2 {\n",
              "  background-color: #fc997a;\n",
              "  color: #000000;\n",
              "}\n",
              "#T_1d3c8_row2_col7, #T_1d3c8_row7_col2 {\n",
              "  background-color: #fc8d6d;\n",
              "  color: #f1f1f1;\n",
              "}\n",
              "#T_1d3c8_row3_col4, #T_1d3c8_row4_col3 {\n",
              "  background-color: #f14432;\n",
              "  color: #f1f1f1;\n",
              "}\n",
              "#T_1d3c8_row3_col5, #T_1d3c8_row3_col8, #T_1d3c8_row5_col3, #T_1d3c8_row8_col3 {\n",
              "  background-color: #fcb79c;\n",
              "  color: #000000;\n",
              "}\n",
              "#T_1d3c8_row3_col6, #T_1d3c8_row6_col3 {\n",
              "  background-color: #fc9373;\n",
              "  color: #000000;\n",
              "}\n",
              "#T_1d3c8_row3_col7, #T_1d3c8_row7_col3 {\n",
              "  background-color: #fcc2aa;\n",
              "  color: #000000;\n",
              "}\n",
              "#T_1d3c8_row4_col5, #T_1d3c8_row5_col4 {\n",
              "  background-color: #fcc3ab;\n",
              "  color: #000000;\n",
              "}\n",
              "#T_1d3c8_row4_col6, #T_1d3c8_row4_col8, #T_1d3c8_row6_col4, #T_1d3c8_row8_col4 {\n",
              "  background-color: #fc9576;\n",
              "  color: #000000;\n",
              "}\n",
              "#T_1d3c8_row4_col7, #T_1d3c8_row7_col4 {\n",
              "  background-color: #fcc1a8;\n",
              "  color: #000000;\n",
              "}\n",
              "#T_1d3c8_row5_col6, #T_1d3c8_row6_col5 {\n",
              "  background-color: #d72322;\n",
              "  color: #f1f1f1;\n",
              "}\n",
              "#T_1d3c8_row5_col7, #T_1d3c8_row7_col5 {\n",
              "  background-color: #d82422;\n",
              "  color: #f1f1f1;\n",
              "}\n",
              "#T_1d3c8_row5_col8, #T_1d3c8_row8_col5 {\n",
              "  background-color: #c1161b;\n",
              "  color: #f1f1f1;\n",
              "}\n",
              "#T_1d3c8_row6_col7, #T_1d3c8_row7_col6 {\n",
              "  background-color: #d92523;\n",
              "  color: #f1f1f1;\n",
              "}\n",
              "#T_1d3c8_row6_col8, #T_1d3c8_row8_col6 {\n",
              "  background-color: #f03d2d;\n",
              "  color: #f1f1f1;\n",
              "}\n",
              "#T_1d3c8_row7_col8, #T_1d3c8_row8_col7 {\n",
              "  background-color: #ac1117;\n",
              "  color: #f1f1f1;\n",
              "}\n",
              "</style>\n",
              "<table id=\"T_1d3c8\">\n",
              "  <thead>\n",
              "    <tr>\n",
              "      <th class=\"blank level0\" >&nbsp;</th>\n",
              "      <th id=\"T_1d3c8_level0_col0\" class=\"col_heading level0 col0\" >mensalidade</th>\n",
              "      <th id=\"T_1d3c8_level0_col1\" class=\"col_heading level0 col1\" >bolsa_integral_cotas</th>\n",
              "      <th id=\"T_1d3c8_level0_col2\" class=\"col_heading level0 col2\" >bolsa_integral_ampla</th>\n",
              "      <th id=\"T_1d3c8_level0_col3\" class=\"col_heading level0 col3\" >bolsa_parcial_cotas</th>\n",
              "      <th id=\"T_1d3c8_level0_col4\" class=\"col_heading level0 col4\" >bolsa_parcial_ampla</th>\n",
              "      <th id=\"T_1d3c8_level0_col5\" class=\"col_heading level0 col5\" >nota_integral_ampla</th>\n",
              "      <th id=\"T_1d3c8_level0_col6\" class=\"col_heading level0 col6\" >nota_integral_cotas</th>\n",
              "      <th id=\"T_1d3c8_level0_col7\" class=\"col_heading level0 col7\" >nota_parcial_ampla</th>\n",
              "      <th id=\"T_1d3c8_level0_col8\" class=\"col_heading level0 col8\" >nota_parcial_cotas</th>\n",
              "    </tr>\n",
              "  </thead>\n",
              "  <tbody>\n",
              "    <tr>\n",
              "      <th id=\"T_1d3c8_level0_row0\" class=\"row_heading level0 row0\" >mensalidade</th>\n",
              "      <td id=\"T_1d3c8_row0_col0\" class=\"data row0 col0\" >1.000000</td>\n",
              "      <td id=\"T_1d3c8_row0_col1\" class=\"data row0 col1\" >0.080124</td>\n",
              "      <td id=\"T_1d3c8_row0_col2\" class=\"data row0 col2\" >0.085915</td>\n",
              "      <td id=\"T_1d3c8_row0_col3\" class=\"data row0 col3\" >0.462838</td>\n",
              "      <td id=\"T_1d3c8_row0_col4\" class=\"data row0 col4\" >0.281507</td>\n",
              "      <td id=\"T_1d3c8_row0_col5\" class=\"data row0 col5\" >-0.438041</td>\n",
              "      <td id=\"T_1d3c8_row0_col6\" class=\"data row0 col6\" >-0.042471</td>\n",
              "      <td id=\"T_1d3c8_row0_col7\" class=\"data row0 col7\" >-0.490010</td>\n",
              "      <td id=\"T_1d3c8_row0_col8\" class=\"data row0 col8\" >-0.556348</td>\n",
              "    </tr>\n",
              "    <tr>\n",
              "      <th id=\"T_1d3c8_level0_row1\" class=\"row_heading level0 row1\" >bolsa_integral_cotas</th>\n",
              "      <td id=\"T_1d3c8_row1_col0\" class=\"data row1 col0\" >0.080124</td>\n",
              "      <td id=\"T_1d3c8_row1_col1\" class=\"data row1 col1\" >1.000000</td>\n",
              "      <td id=\"T_1d3c8_row1_col2\" class=\"data row1 col2\" >0.520982</td>\n",
              "      <td id=\"T_1d3c8_row1_col3\" class=\"data row1 col3\" >0.451340</td>\n",
              "      <td id=\"T_1d3c8_row1_col4\" class=\"data row1 col4\" >-0.120903</td>\n",
              "      <td id=\"T_1d3c8_row1_col5\" class=\"data row1 col5\" >-0.155176</td>\n",
              "      <td id=\"T_1d3c8_row1_col6\" class=\"data row1 col6\" >-0.360329</td>\n",
              "      <td id=\"T_1d3c8_row1_col7\" class=\"data row1 col7\" >-0.247502</td>\n",
              "      <td id=\"T_1d3c8_row1_col8\" class=\"data row1 col8\" >-0.064000</td>\n",
              "    </tr>\n",
              "    <tr>\n",
              "      <th id=\"T_1d3c8_level0_row2\" class=\"row_heading level0 row2\" >bolsa_integral_ampla</th>\n",
              "      <td id=\"T_1d3c8_row2_col0\" class=\"data row2 col0\" >0.085915</td>\n",
              "      <td id=\"T_1d3c8_row2_col1\" class=\"data row2 col1\" >0.520982</td>\n",
              "      <td id=\"T_1d3c8_row2_col2\" class=\"data row2 col2\" >1.000000</td>\n",
              "      <td id=\"T_1d3c8_row2_col3\" class=\"data row2 col3\" >0.182384</td>\n",
              "      <td id=\"T_1d3c8_row2_col4\" class=\"data row2 col4\" >0.620009</td>\n",
              "      <td id=\"T_1d3c8_row2_col5\" class=\"data row2 col5\" >-0.489539</td>\n",
              "      <td id=\"T_1d3c8_row2_col6\" class=\"data row2 col6\" >-0.293681</td>\n",
              "      <td id=\"T_1d3c8_row2_col7\" class=\"data row2 col7\" >-0.218251</td>\n",
              "      <td id=\"T_1d3c8_row2_col8\" class=\"data row2 col8\" >0.084619</td>\n",
              "    </tr>\n",
              "    <tr>\n",
              "      <th id=\"T_1d3c8_level0_row3\" class=\"row_heading level0 row3\" >bolsa_parcial_cotas</th>\n",
              "      <td id=\"T_1d3c8_row3_col0\" class=\"data row3 col0\" >0.462838</td>\n",
              "      <td id=\"T_1d3c8_row3_col1\" class=\"data row3 col1\" >0.451340</td>\n",
              "      <td id=\"T_1d3c8_row3_col2\" class=\"data row3 col2\" >0.182384</td>\n",
              "      <td id=\"T_1d3c8_row3_col3\" class=\"data row3 col3\" >1.000000</td>\n",
              "      <td id=\"T_1d3c8_row3_col4\" class=\"data row3 col4\" >0.195821</td>\n",
              "      <td id=\"T_1d3c8_row3_col5\" class=\"data row3 col5\" >-0.468888</td>\n",
              "      <td id=\"T_1d3c8_row3_col6\" class=\"data row3 col6\" >-0.253827</td>\n",
              "      <td id=\"T_1d3c8_row3_col7\" class=\"data row3 col7\" >-0.546129</td>\n",
              "      <td id=\"T_1d3c8_row3_col8\" class=\"data row3 col8\" >-0.469743</td>\n",
              "    </tr>\n",
              "    <tr>\n",
              "      <th id=\"T_1d3c8_level0_row4\" class=\"row_heading level0 row4\" >bolsa_parcial_ampla</th>\n",
              "      <td id=\"T_1d3c8_row4_col0\" class=\"data row4 col0\" >0.281507</td>\n",
              "      <td id=\"T_1d3c8_row4_col1\" class=\"data row4 col1\" >-0.120903</td>\n",
              "      <td id=\"T_1d3c8_row4_col2\" class=\"data row4 col2\" >0.620009</td>\n",
              "      <td id=\"T_1d3c8_row4_col3\" class=\"data row4 col3\" >0.195821</td>\n",
              "      <td id=\"T_1d3c8_row4_col4\" class=\"data row4 col4\" >1.000000</td>\n",
              "      <td id=\"T_1d3c8_row4_col5\" class=\"data row4 col5\" >-0.549894</td>\n",
              "      <td id=\"T_1d3c8_row4_col6\" class=\"data row4 col6\" >-0.270162</td>\n",
              "      <td id=\"T_1d3c8_row4_col7\" class=\"data row4 col7\" >-0.534464</td>\n",
              "      <td id=\"T_1d3c8_row4_col8\" class=\"data row4 col8\" >-0.266389</td>\n",
              "    </tr>\n",
              "    <tr>\n",
              "      <th id=\"T_1d3c8_level0_row5\" class=\"row_heading level0 row5\" >nota_integral_ampla</th>\n",
              "      <td id=\"T_1d3c8_row5_col0\" class=\"data row5 col0\" >-0.438041</td>\n",
              "      <td id=\"T_1d3c8_row5_col1\" class=\"data row5 col1\" >-0.155176</td>\n",
              "      <td id=\"T_1d3c8_row5_col2\" class=\"data row5 col2\" >-0.489539</td>\n",
              "      <td id=\"T_1d3c8_row5_col3\" class=\"data row5 col3\" >-0.468888</td>\n",
              "      <td id=\"T_1d3c8_row5_col4\" class=\"data row5 col4\" >-0.549894</td>\n",
              "      <td id=\"T_1d3c8_row5_col5\" class=\"data row5 col5\" >1.000000</td>\n",
              "      <td id=\"T_1d3c8_row5_col6\" class=\"data row5 col6\" >0.420823</td>\n",
              "      <td id=\"T_1d3c8_row5_col7\" class=\"data row5 col7\" >0.409216</td>\n",
              "      <td id=\"T_1d3c8_row5_col8\" class=\"data row5 col8\" >0.563932</td>\n",
              "    </tr>\n",
              "    <tr>\n",
              "      <th id=\"T_1d3c8_level0_row6\" class=\"row_heading level0 row6\" >nota_integral_cotas</th>\n",
              "      <td id=\"T_1d3c8_row6_col0\" class=\"data row6 col0\" >-0.042471</td>\n",
              "      <td id=\"T_1d3c8_row6_col1\" class=\"data row6 col1\" >-0.360329</td>\n",
              "      <td id=\"T_1d3c8_row6_col2\" class=\"data row6 col2\" >-0.293681</td>\n",
              "      <td id=\"T_1d3c8_row6_col3\" class=\"data row6 col3\" >-0.253827</td>\n",
              "      <td id=\"T_1d3c8_row6_col4\" class=\"data row6 col4\" >-0.270162</td>\n",
              "      <td id=\"T_1d3c8_row6_col5\" class=\"data row6 col5\" >0.420823</td>\n",
              "      <td id=\"T_1d3c8_row6_col6\" class=\"data row6 col6\" >1.000000</td>\n",
              "      <td id=\"T_1d3c8_row6_col7\" class=\"data row6 col7\" >0.402048</td>\n",
              "      <td id=\"T_1d3c8_row6_col8\" class=\"data row6 col8\" >0.237963</td>\n",
              "    </tr>\n",
              "    <tr>\n",
              "      <th id=\"T_1d3c8_level0_row7\" class=\"row_heading level0 row7\" >nota_parcial_ampla</th>\n",
              "      <td id=\"T_1d3c8_row7_col0\" class=\"data row7 col0\" >-0.490010</td>\n",
              "      <td id=\"T_1d3c8_row7_col1\" class=\"data row7 col1\" >-0.247502</td>\n",
              "      <td id=\"T_1d3c8_row7_col2\" class=\"data row7 col2\" >-0.218251</td>\n",
              "      <td id=\"T_1d3c8_row7_col3\" class=\"data row7 col3\" >-0.546129</td>\n",
              "      <td id=\"T_1d3c8_row7_col4\" class=\"data row7 col4\" >-0.534464</td>\n",
              "      <td id=\"T_1d3c8_row7_col5\" class=\"data row7 col5\" >0.409216</td>\n",
              "      <td id=\"T_1d3c8_row7_col6\" class=\"data row7 col6\" >0.402048</td>\n",
              "      <td id=\"T_1d3c8_row7_col7\" class=\"data row7 col7\" >1.000000</td>\n",
              "      <td id=\"T_1d3c8_row7_col8\" class=\"data row7 col8\" >0.702974</td>\n",
              "    </tr>\n",
              "    <tr>\n",
              "      <th id=\"T_1d3c8_level0_row8\" class=\"row_heading level0 row8\" >nota_parcial_cotas</th>\n",
              "      <td id=\"T_1d3c8_row8_col0\" class=\"data row8 col0\" >-0.556348</td>\n",
              "      <td id=\"T_1d3c8_row8_col1\" class=\"data row8 col1\" >-0.064000</td>\n",
              "      <td id=\"T_1d3c8_row8_col2\" class=\"data row8 col2\" >0.084619</td>\n",
              "      <td id=\"T_1d3c8_row8_col3\" class=\"data row8 col3\" >-0.469743</td>\n",
              "      <td id=\"T_1d3c8_row8_col4\" class=\"data row8 col4\" >-0.266389</td>\n",
              "      <td id=\"T_1d3c8_row8_col5\" class=\"data row8 col5\" >0.563932</td>\n",
              "      <td id=\"T_1d3c8_row8_col6\" class=\"data row8 col6\" >0.237963</td>\n",
              "      <td id=\"T_1d3c8_row8_col7\" class=\"data row8 col7\" >0.702974</td>\n",
              "      <td id=\"T_1d3c8_row8_col8\" class=\"data row8 col8\" >1.000000</td>\n",
              "    </tr>\n",
              "  </tbody>\n",
              "</table>\n"
            ],
            "text/plain": [
              "<pandas.io.formats.style.Styler at 0x7ff8b8f26710>"
            ]
          },
          "execution_count": 48,
          "metadata": {}
        }
      ],
      "source": [
        "# Gerando uma matriz de correlação colorida\n",
        "aux.corr().style.background_gradient(cmap='Reds', vmin=-1, vmax=1)"
      ]
    },
    {
      "cell_type": "code",
      "execution_count": null,
      "metadata": {
        "application/vnd.databricks.v1+cell": {
          "cellMetadata": {
            "byteLimit": 2048000,
            "rowLimit": 10000
          },
          "inputWidgets": {},
          "nuid": "fabc8bd7-3828-4873-82a0-e08718a944d9",
          "showTitle": false,
          "title": ""
        },
        "id": "uJSKpEg1NKiD",
        "outputId": "1e24b896-236d-4f63-af5c-b6d27a1ed0c8"
      },
      "outputs": [
        {
          "output_type": "display_data",
          "data": {
            "text/html": [
              "<html>\n",
              "<head><meta charset=\"utf-8\" /></head>\n",
              "<body>\n",
              "    <div>            <script src=\"https://cdnjs.cloudflare.com/ajax/libs/mathjax/2.7.5/MathJax.js?config=TeX-AMS-MML_SVG\"></script><script type=\"text/javascript\">if (window.MathJax && window.MathJax.Hub && window.MathJax.Hub.Config) {window.MathJax.Hub.Config({SVG: {font: \"STIX-Web\"}});}</script>                <script type=\"text/javascript\">window.PlotlyConfig = {MathJaxConfig: 'local'};</script>\n",
              "        <script src=\"https://cdn.plot.ly/plotly-2.12.1.min.js\"></script>                <div id=\"00982cb3-6cec-43ae-8e74-5ab78b9c76d8\" class=\"plotly-graph-div\" style=\"height:100%; width:100%;\"></div>            <script type=\"text/javascript\">                                    window.PLOTLYENV=window.PLOTLYENV || {};                                    if (document.getElementById(\"00982cb3-6cec-43ae-8e74-5ab78b9c76d8\")) {                    Plotly.newPlot(                        \"00982cb3-6cec-43ae-8e74-5ab78b9c76d8\",                        [{\"hovertemplate\":\"mensalidade=%{x}<br>nota_parcial_cotas=%{y}<extra></extra>\",\"legendgroup\":\"\",\"marker\":{\"color\":\"#636efa\",\"symbol\":\"circle\"},\"mode\":\"markers\",\"name\":\"\",\"orientation\":\"v\",\"showlegend\":false,\"x\":[9815.61,9774.34,9123.07,8608.54,8381.38,8381.37,8300.0,8295.0,7850.0,7512.7,7316.79,7130.0,7009.97,6498.55,6113.0],\"xaxis\":\"x\",\"y\":[718.64,711.26,722.82,715.1,717.6,718.48,723.28,732.46,690.18,727.58,721.08,750.64,711.68,741.0,768.34],\"yaxis\":\"y\",\"type\":\"scatter\"}],                        {\"template\":{\"data\":{\"histogram2dcontour\":[{\"type\":\"histogram2dcontour\",\"colorbar\":{\"outlinewidth\":0,\"ticks\":\"\"},\"colorscale\":[[0.0,\"#0d0887\"],[0.1111111111111111,\"#46039f\"],[0.2222222222222222,\"#7201a8\"],[0.3333333333333333,\"#9c179e\"],[0.4444444444444444,\"#bd3786\"],[0.5555555555555556,\"#d8576b\"],[0.6666666666666666,\"#ed7953\"],[0.7777777777777778,\"#fb9f3a\"],[0.8888888888888888,\"#fdca26\"],[1.0,\"#f0f921\"]]}],\"choropleth\":[{\"type\":\"choropleth\",\"colorbar\":{\"outlinewidth\":0,\"ticks\":\"\"}}],\"histogram2d\":[{\"type\":\"histogram2d\",\"colorbar\":{\"outlinewidth\":0,\"ticks\":\"\"},\"colorscale\":[[0.0,\"#0d0887\"],[0.1111111111111111,\"#46039f\"],[0.2222222222222222,\"#7201a8\"],[0.3333333333333333,\"#9c179e\"],[0.4444444444444444,\"#bd3786\"],[0.5555555555555556,\"#d8576b\"],[0.6666666666666666,\"#ed7953\"],[0.7777777777777778,\"#fb9f3a\"],[0.8888888888888888,\"#fdca26\"],[1.0,\"#f0f921\"]]}],\"heatmap\":[{\"type\":\"heatmap\",\"colorbar\":{\"outlinewidth\":0,\"ticks\":\"\"},\"colorscale\":[[0.0,\"#0d0887\"],[0.1111111111111111,\"#46039f\"],[0.2222222222222222,\"#7201a8\"],[0.3333333333333333,\"#9c179e\"],[0.4444444444444444,\"#bd3786\"],[0.5555555555555556,\"#d8576b\"],[0.6666666666666666,\"#ed7953\"],[0.7777777777777778,\"#fb9f3a\"],[0.8888888888888888,\"#fdca26\"],[1.0,\"#f0f921\"]]}],\"heatmapgl\":[{\"type\":\"heatmapgl\",\"colorbar\":{\"outlinewidth\":0,\"ticks\":\"\"},\"colorscale\":[[0.0,\"#0d0887\"],[0.1111111111111111,\"#46039f\"],[0.2222222222222222,\"#7201a8\"],[0.3333333333333333,\"#9c179e\"],[0.4444444444444444,\"#bd3786\"],[0.5555555555555556,\"#d8576b\"],[0.6666666666666666,\"#ed7953\"],[0.7777777777777778,\"#fb9f3a\"],[0.8888888888888888,\"#fdca26\"],[1.0,\"#f0f921\"]]}],\"contourcarpet\":[{\"type\":\"contourcarpet\",\"colorbar\":{\"outlinewidth\":0,\"ticks\":\"\"}}],\"contour\":[{\"type\":\"contour\",\"colorbar\":{\"outlinewidth\":0,\"ticks\":\"\"},\"colorscale\":[[0.0,\"#0d0887\"],[0.1111111111111111,\"#46039f\"],[0.2222222222222222,\"#7201a8\"],[0.3333333333333333,\"#9c179e\"],[0.4444444444444444,\"#bd3786\"],[0.5555555555555556,\"#d8576b\"],[0.6666666666666666,\"#ed7953\"],[0.7777777777777778,\"#fb9f3a\"],[0.8888888888888888,\"#fdca26\"],[1.0,\"#f0f921\"]]}],\"surface\":[{\"type\":\"surface\",\"colorbar\":{\"outlinewidth\":0,\"ticks\":\"\"},\"colorscale\":[[0.0,\"#0d0887\"],[0.1111111111111111,\"#46039f\"],[0.2222222222222222,\"#7201a8\"],[0.3333333333333333,\"#9c179e\"],[0.4444444444444444,\"#bd3786\"],[0.5555555555555556,\"#d8576b\"],[0.6666666666666666,\"#ed7953\"],[0.7777777777777778,\"#fb9f3a\"],[0.8888888888888888,\"#fdca26\"],[1.0,\"#f0f921\"]]}],\"mesh3d\":[{\"type\":\"mesh3d\",\"colorbar\":{\"outlinewidth\":0,\"ticks\":\"\"}}],\"scatter\":[{\"fillpattern\":{\"fillmode\":\"overlay\",\"size\":10,\"solidity\":0.2},\"type\":\"scatter\"}],\"parcoords\":[{\"type\":\"parcoords\",\"line\":{\"colorbar\":{\"outlinewidth\":0,\"ticks\":\"\"}}}],\"scatterpolargl\":[{\"type\":\"scatterpolargl\",\"marker\":{\"colorbar\":{\"outlinewidth\":0,\"ticks\":\"\"}}}],\"bar\":[{\"error_x\":{\"color\":\"#2a3f5f\"},\"error_y\":{\"color\":\"#2a3f5f\"},\"marker\":{\"line\":{\"color\":\"#E5ECF6\",\"width\":0.5},\"pattern\":{\"fillmode\":\"overlay\",\"size\":10,\"solidity\":0.2}},\"type\":\"bar\"}],\"scattergeo\":[{\"type\":\"scattergeo\",\"marker\":{\"colorbar\":{\"outlinewidth\":0,\"ticks\":\"\"}}}],\"scatterpolar\":[{\"type\":\"scatterpolar\",\"marker\":{\"colorbar\":{\"outlinewidth\":0,\"ticks\":\"\"}}}],\"histogram\":[{\"marker\":{\"pattern\":{\"fillmode\":\"overlay\",\"size\":10,\"solidity\":0.2}},\"type\":\"histogram\"}],\"scattergl\":[{\"type\":\"scattergl\",\"marker\":{\"colorbar\":{\"outlinewidth\":0,\"ticks\":\"\"}}}],\"scatter3d\":[{\"type\":\"scatter3d\",\"line\":{\"colorbar\":{\"outlinewidth\":0,\"ticks\":\"\"}},\"marker\":{\"colorbar\":{\"outlinewidth\":0,\"ticks\":\"\"}}}],\"scattermapbox\":[{\"type\":\"scattermapbox\",\"marker\":{\"colorbar\":{\"outlinewidth\":0,\"ticks\":\"\"}}}],\"scatterternary\":[{\"type\":\"scatterternary\",\"marker\":{\"colorbar\":{\"outlinewidth\":0,\"ticks\":\"\"}}}],\"scattercarpet\":[{\"type\":\"scattercarpet\",\"marker\":{\"colorbar\":{\"outlinewidth\":0,\"ticks\":\"\"}}}],\"carpet\":[{\"aaxis\":{\"endlinecolor\":\"#2a3f5f\",\"gridcolor\":\"white\",\"linecolor\":\"white\",\"minorgridcolor\":\"white\",\"startlinecolor\":\"#2a3f5f\"},\"baxis\":{\"endlinecolor\":\"#2a3f5f\",\"gridcolor\":\"white\",\"linecolor\":\"white\",\"minorgridcolor\":\"white\",\"startlinecolor\":\"#2a3f5f\"},\"type\":\"carpet\"}],\"table\":[{\"cells\":{\"fill\":{\"color\":\"#EBF0F8\"},\"line\":{\"color\":\"white\"}},\"header\":{\"fill\":{\"color\":\"#C8D4E3\"},\"line\":{\"color\":\"white\"}},\"type\":\"table\"}],\"barpolar\":[{\"marker\":{\"line\":{\"color\":\"#E5ECF6\",\"width\":0.5},\"pattern\":{\"fillmode\":\"overlay\",\"size\":10,\"solidity\":0.2}},\"type\":\"barpolar\"}],\"pie\":[{\"automargin\":true,\"type\":\"pie\"}]},\"layout\":{\"autotypenumbers\":\"strict\",\"colorway\":[\"#636efa\",\"#EF553B\",\"#00cc96\",\"#ab63fa\",\"#FFA15A\",\"#19d3f3\",\"#FF6692\",\"#B6E880\",\"#FF97FF\",\"#FECB52\"],\"font\":{\"color\":\"#2a3f5f\"},\"hovermode\":\"closest\",\"hoverlabel\":{\"align\":\"left\"},\"paper_bgcolor\":\"white\",\"plot_bgcolor\":\"#E5ECF6\",\"polar\":{\"bgcolor\":\"#E5ECF6\",\"angularaxis\":{\"gridcolor\":\"white\",\"linecolor\":\"white\",\"ticks\":\"\"},\"radialaxis\":{\"gridcolor\":\"white\",\"linecolor\":\"white\",\"ticks\":\"\"}},\"ternary\":{\"bgcolor\":\"#E5ECF6\",\"aaxis\":{\"gridcolor\":\"white\",\"linecolor\":\"white\",\"ticks\":\"\"},\"baxis\":{\"gridcolor\":\"white\",\"linecolor\":\"white\",\"ticks\":\"\"},\"caxis\":{\"gridcolor\":\"white\",\"linecolor\":\"white\",\"ticks\":\"\"}},\"coloraxis\":{\"colorbar\":{\"outlinewidth\":0,\"ticks\":\"\"}},\"colorscale\":{\"sequential\":[[0.0,\"#0d0887\"],[0.1111111111111111,\"#46039f\"],[0.2222222222222222,\"#7201a8\"],[0.3333333333333333,\"#9c179e\"],[0.4444444444444444,\"#bd3786\"],[0.5555555555555556,\"#d8576b\"],[0.6666666666666666,\"#ed7953\"],[0.7777777777777778,\"#fb9f3a\"],[0.8888888888888888,\"#fdca26\"],[1.0,\"#f0f921\"]],\"sequentialminus\":[[0.0,\"#0d0887\"],[0.1111111111111111,\"#46039f\"],[0.2222222222222222,\"#7201a8\"],[0.3333333333333333,\"#9c179e\"],[0.4444444444444444,\"#bd3786\"],[0.5555555555555556,\"#d8576b\"],[0.6666666666666666,\"#ed7953\"],[0.7777777777777778,\"#fb9f3a\"],[0.8888888888888888,\"#fdca26\"],[1.0,\"#f0f921\"]],\"diverging\":[[0,\"#8e0152\"],[0.1,\"#c51b7d\"],[0.2,\"#de77ae\"],[0.3,\"#f1b6da\"],[0.4,\"#fde0ef\"],[0.5,\"#f7f7f7\"],[0.6,\"#e6f5d0\"],[0.7,\"#b8e186\"],[0.8,\"#7fbc41\"],[0.9,\"#4d9221\"],[1,\"#276419\"]]},\"xaxis\":{\"gridcolor\":\"white\",\"linecolor\":\"white\",\"ticks\":\"\",\"title\":{\"standoff\":15},\"zerolinecolor\":\"white\",\"automargin\":true,\"zerolinewidth\":2},\"yaxis\":{\"gridcolor\":\"white\",\"linecolor\":\"white\",\"ticks\":\"\",\"title\":{\"standoff\":15},\"zerolinecolor\":\"white\",\"automargin\":true,\"zerolinewidth\":2},\"scene\":{\"xaxis\":{\"backgroundcolor\":\"#E5ECF6\",\"gridcolor\":\"white\",\"linecolor\":\"white\",\"showbackground\":true,\"ticks\":\"\",\"zerolinecolor\":\"white\",\"gridwidth\":2},\"yaxis\":{\"backgroundcolor\":\"#E5ECF6\",\"gridcolor\":\"white\",\"linecolor\":\"white\",\"showbackground\":true,\"ticks\":\"\",\"zerolinecolor\":\"white\",\"gridwidth\":2},\"zaxis\":{\"backgroundcolor\":\"#E5ECF6\",\"gridcolor\":\"white\",\"linecolor\":\"white\",\"showbackground\":true,\"ticks\":\"\",\"zerolinecolor\":\"white\",\"gridwidth\":2}},\"shapedefaults\":{\"line\":{\"color\":\"#2a3f5f\"}},\"annotationdefaults\":{\"arrowcolor\":\"#2a3f5f\",\"arrowhead\":0,\"arrowwidth\":1},\"geo\":{\"bgcolor\":\"white\",\"landcolor\":\"#E5ECF6\",\"subunitcolor\":\"white\",\"showland\":true,\"showlakes\":true,\"lakecolor\":\"white\"},\"title\":{\"x\":0.05},\"mapbox\":{\"style\":\"light\"}}},\"xaxis\":{\"anchor\":\"y\",\"domain\":[0.0,1.0],\"title\":{\"text\":\"mensalidade\"}},\"yaxis\":{\"anchor\":\"x\",\"domain\":[0.0,1.0],\"title\":{\"text\":\"nota_parcial_cotas\"}},\"legend\":{\"tracegroupgap\":0},\"margin\":{\"t\":60}},                        {\"responsive\": true}                    )                };                            </script>        </div>\n",
              "</body>\n",
              "</html>"
            ]
          },
          "metadata": {}
        }
      ],
      "source": [
        "# Correlação entre mensalidade e bolsa parcial de cotas\n",
        "\n",
        "df_medicina.plot.scatter(x='mensalidade', y='nota_parcial_cotas')"
      ]
    },
    {
      "cell_type": "code",
      "execution_count": null,
      "metadata": {
        "application/vnd.databricks.v1+cell": {
          "cellMetadata": {
            "byteLimit": 2048000,
            "rowLimit": 10000
          },
          "inputWidgets": {},
          "nuid": "5518ad54-17f9-4e66-8626-a5f5907894af",
          "showTitle": false,
          "title": ""
        },
        "id": "Sy9zAsB9NKiD",
        "outputId": "2e46fe47-0a1d-45a5-8d03-4423bd22788c"
      },
      "outputs": [
        {
          "output_type": "display_data",
          "data": {
            "text/html": [
              "<html>\n",
              "<head><meta charset=\"utf-8\" /></head>\n",
              "<body>\n",
              "    <div>            <script src=\"https://cdnjs.cloudflare.com/ajax/libs/mathjax/2.7.5/MathJax.js?config=TeX-AMS-MML_SVG\"></script><script type=\"text/javascript\">if (window.MathJax && window.MathJax.Hub && window.MathJax.Hub.Config) {window.MathJax.Hub.Config({SVG: {font: \"STIX-Web\"}});}</script>                <script type=\"text/javascript\">window.PlotlyConfig = {MathJaxConfig: 'local'};</script>\n",
              "        <script src=\"https://cdn.plot.ly/plotly-2.12.1.min.js\"></script>                <div id=\"eded8669-1ada-4f6b-86bf-0f9f09ed88d0\" class=\"plotly-graph-div\" style=\"height:100%; width:100%;\"></div>            <script type=\"text/javascript\">                                    window.PLOTLYENV=window.PLOTLYENV || {};                                    if (document.getElementById(\"eded8669-1ada-4f6b-86bf-0f9f09ed88d0\")) {                    Plotly.newPlot(                        \"eded8669-1ada-4f6b-86bf-0f9f09ed88d0\",                        [{\"hovertemplate\":\"mensalidade=%{x}<br>bolsa_parcial_cotas=%{y}<extra></extra>\",\"legendgroup\":\"\",\"marker\":{\"color\":\"#636efa\",\"symbol\":\"circle\"},\"mode\":\"markers\",\"name\":\"\",\"orientation\":\"v\",\"showlegend\":false,\"x\":[8300.0,7316.79,7009.97,6498.55,9123.07,6113.0,7130.0,9815.61,9774.34,8608.54,8381.37,7850.0,8381.38,7512.7,8295.0],\"xaxis\":\"x\",\"y\":[4,4,9,1,5,1,1,6,5,7,8,1,6,5,4],\"yaxis\":\"y\",\"type\":\"scatter\"},{\"hovertemplate\":\"<b>OLS trendline</b><br>bolsa_parcial_cotas = 0.00109253 * mensalidade + -4.2816<br>R<sup>2</sup>=0.214219<br><br>mensalidade=%{x}<br>bolsa_parcial_cotas=%{y} <b>(trend)</b><extra></extra>\",\"legendgroup\":\"\",\"line\":{\"color\":\"red\"},\"marker\":{\"color\":\"#636efa\",\"symbol\":\"circle\"},\"mode\":\"lines\",\"name\":\"\",\"showlegend\":false,\"x\":[6113.0,6498.55,7009.97,7130.0,7316.79,7512.7,7850.0,8295.0,8300.0,8381.37,8381.38,8608.54,9123.07,9774.34,9815.61],\"xaxis\":\"x\",\"y\":[2.397029557817813,2.818254052553404,3.376995152534408,3.5081313893470467,3.71220485160009,3.926242176885136,4.294752155031459,4.780927489378076,4.786390133584218,4.875289205394969,4.87530013068338,5.123478982256813,5.685617846934036,6.397149105360825,6.44223777063832],\"yaxis\":\"y\",\"type\":\"scatter\"}],                        {\"template\":{\"data\":{\"histogram2dcontour\":[{\"type\":\"histogram2dcontour\",\"colorbar\":{\"outlinewidth\":0,\"ticks\":\"\"},\"colorscale\":[[0.0,\"#0d0887\"],[0.1111111111111111,\"#46039f\"],[0.2222222222222222,\"#7201a8\"],[0.3333333333333333,\"#9c179e\"],[0.4444444444444444,\"#bd3786\"],[0.5555555555555556,\"#d8576b\"],[0.6666666666666666,\"#ed7953\"],[0.7777777777777778,\"#fb9f3a\"],[0.8888888888888888,\"#fdca26\"],[1.0,\"#f0f921\"]]}],\"choropleth\":[{\"type\":\"choropleth\",\"colorbar\":{\"outlinewidth\":0,\"ticks\":\"\"}}],\"histogram2d\":[{\"type\":\"histogram2d\",\"colorbar\":{\"outlinewidth\":0,\"ticks\":\"\"},\"colorscale\":[[0.0,\"#0d0887\"],[0.1111111111111111,\"#46039f\"],[0.2222222222222222,\"#7201a8\"],[0.3333333333333333,\"#9c179e\"],[0.4444444444444444,\"#bd3786\"],[0.5555555555555556,\"#d8576b\"],[0.6666666666666666,\"#ed7953\"],[0.7777777777777778,\"#fb9f3a\"],[0.8888888888888888,\"#fdca26\"],[1.0,\"#f0f921\"]]}],\"heatmap\":[{\"type\":\"heatmap\",\"colorbar\":{\"outlinewidth\":0,\"ticks\":\"\"},\"colorscale\":[[0.0,\"#0d0887\"],[0.1111111111111111,\"#46039f\"],[0.2222222222222222,\"#7201a8\"],[0.3333333333333333,\"#9c179e\"],[0.4444444444444444,\"#bd3786\"],[0.5555555555555556,\"#d8576b\"],[0.6666666666666666,\"#ed7953\"],[0.7777777777777778,\"#fb9f3a\"],[0.8888888888888888,\"#fdca26\"],[1.0,\"#f0f921\"]]}],\"heatmapgl\":[{\"type\":\"heatmapgl\",\"colorbar\":{\"outlinewidth\":0,\"ticks\":\"\"},\"colorscale\":[[0.0,\"#0d0887\"],[0.1111111111111111,\"#46039f\"],[0.2222222222222222,\"#7201a8\"],[0.3333333333333333,\"#9c179e\"],[0.4444444444444444,\"#bd3786\"],[0.5555555555555556,\"#d8576b\"],[0.6666666666666666,\"#ed7953\"],[0.7777777777777778,\"#fb9f3a\"],[0.8888888888888888,\"#fdca26\"],[1.0,\"#f0f921\"]]}],\"contourcarpet\":[{\"type\":\"contourcarpet\",\"colorbar\":{\"outlinewidth\":0,\"ticks\":\"\"}}],\"contour\":[{\"type\":\"contour\",\"colorbar\":{\"outlinewidth\":0,\"ticks\":\"\"},\"colorscale\":[[0.0,\"#0d0887\"],[0.1111111111111111,\"#46039f\"],[0.2222222222222222,\"#7201a8\"],[0.3333333333333333,\"#9c179e\"],[0.4444444444444444,\"#bd3786\"],[0.5555555555555556,\"#d8576b\"],[0.6666666666666666,\"#ed7953\"],[0.7777777777777778,\"#fb9f3a\"],[0.8888888888888888,\"#fdca26\"],[1.0,\"#f0f921\"]]}],\"surface\":[{\"type\":\"surface\",\"colorbar\":{\"outlinewidth\":0,\"ticks\":\"\"},\"colorscale\":[[0.0,\"#0d0887\"],[0.1111111111111111,\"#46039f\"],[0.2222222222222222,\"#7201a8\"],[0.3333333333333333,\"#9c179e\"],[0.4444444444444444,\"#bd3786\"],[0.5555555555555556,\"#d8576b\"],[0.6666666666666666,\"#ed7953\"],[0.7777777777777778,\"#fb9f3a\"],[0.8888888888888888,\"#fdca26\"],[1.0,\"#f0f921\"]]}],\"mesh3d\":[{\"type\":\"mesh3d\",\"colorbar\":{\"outlinewidth\":0,\"ticks\":\"\"}}],\"scatter\":[{\"fillpattern\":{\"fillmode\":\"overlay\",\"size\":10,\"solidity\":0.2},\"type\":\"scatter\"}],\"parcoords\":[{\"type\":\"parcoords\",\"line\":{\"colorbar\":{\"outlinewidth\":0,\"ticks\":\"\"}}}],\"scatterpolargl\":[{\"type\":\"scatterpolargl\",\"marker\":{\"colorbar\":{\"outlinewidth\":0,\"ticks\":\"\"}}}],\"bar\":[{\"error_x\":{\"color\":\"#2a3f5f\"},\"error_y\":{\"color\":\"#2a3f5f\"},\"marker\":{\"line\":{\"color\":\"#E5ECF6\",\"width\":0.5},\"pattern\":{\"fillmode\":\"overlay\",\"size\":10,\"solidity\":0.2}},\"type\":\"bar\"}],\"scattergeo\":[{\"type\":\"scattergeo\",\"marker\":{\"colorbar\":{\"outlinewidth\":0,\"ticks\":\"\"}}}],\"scatterpolar\":[{\"type\":\"scatterpolar\",\"marker\":{\"colorbar\":{\"outlinewidth\":0,\"ticks\":\"\"}}}],\"histogram\":[{\"marker\":{\"pattern\":{\"fillmode\":\"overlay\",\"size\":10,\"solidity\":0.2}},\"type\":\"histogram\"}],\"scattergl\":[{\"type\":\"scattergl\",\"marker\":{\"colorbar\":{\"outlinewidth\":0,\"ticks\":\"\"}}}],\"scatter3d\":[{\"type\":\"scatter3d\",\"line\":{\"colorbar\":{\"outlinewidth\":0,\"ticks\":\"\"}},\"marker\":{\"colorbar\":{\"outlinewidth\":0,\"ticks\":\"\"}}}],\"scattermapbox\":[{\"type\":\"scattermapbox\",\"marker\":{\"colorbar\":{\"outlinewidth\":0,\"ticks\":\"\"}}}],\"scatterternary\":[{\"type\":\"scatterternary\",\"marker\":{\"colorbar\":{\"outlinewidth\":0,\"ticks\":\"\"}}}],\"scattercarpet\":[{\"type\":\"scattercarpet\",\"marker\":{\"colorbar\":{\"outlinewidth\":0,\"ticks\":\"\"}}}],\"carpet\":[{\"aaxis\":{\"endlinecolor\":\"#2a3f5f\",\"gridcolor\":\"white\",\"linecolor\":\"white\",\"minorgridcolor\":\"white\",\"startlinecolor\":\"#2a3f5f\"},\"baxis\":{\"endlinecolor\":\"#2a3f5f\",\"gridcolor\":\"white\",\"linecolor\":\"white\",\"minorgridcolor\":\"white\",\"startlinecolor\":\"#2a3f5f\"},\"type\":\"carpet\"}],\"table\":[{\"cells\":{\"fill\":{\"color\":\"#EBF0F8\"},\"line\":{\"color\":\"white\"}},\"header\":{\"fill\":{\"color\":\"#C8D4E3\"},\"line\":{\"color\":\"white\"}},\"type\":\"table\"}],\"barpolar\":[{\"marker\":{\"line\":{\"color\":\"#E5ECF6\",\"width\":0.5},\"pattern\":{\"fillmode\":\"overlay\",\"size\":10,\"solidity\":0.2}},\"type\":\"barpolar\"}],\"pie\":[{\"automargin\":true,\"type\":\"pie\"}]},\"layout\":{\"autotypenumbers\":\"strict\",\"colorway\":[\"#636efa\",\"#EF553B\",\"#00cc96\",\"#ab63fa\",\"#FFA15A\",\"#19d3f3\",\"#FF6692\",\"#B6E880\",\"#FF97FF\",\"#FECB52\"],\"font\":{\"color\":\"#2a3f5f\"},\"hovermode\":\"closest\",\"hoverlabel\":{\"align\":\"left\"},\"paper_bgcolor\":\"white\",\"plot_bgcolor\":\"#E5ECF6\",\"polar\":{\"bgcolor\":\"#E5ECF6\",\"angularaxis\":{\"gridcolor\":\"white\",\"linecolor\":\"white\",\"ticks\":\"\"},\"radialaxis\":{\"gridcolor\":\"white\",\"linecolor\":\"white\",\"ticks\":\"\"}},\"ternary\":{\"bgcolor\":\"#E5ECF6\",\"aaxis\":{\"gridcolor\":\"white\",\"linecolor\":\"white\",\"ticks\":\"\"},\"baxis\":{\"gridcolor\":\"white\",\"linecolor\":\"white\",\"ticks\":\"\"},\"caxis\":{\"gridcolor\":\"white\",\"linecolor\":\"white\",\"ticks\":\"\"}},\"coloraxis\":{\"colorbar\":{\"outlinewidth\":0,\"ticks\":\"\"}},\"colorscale\":{\"sequential\":[[0.0,\"#0d0887\"],[0.1111111111111111,\"#46039f\"],[0.2222222222222222,\"#7201a8\"],[0.3333333333333333,\"#9c179e\"],[0.4444444444444444,\"#bd3786\"],[0.5555555555555556,\"#d8576b\"],[0.6666666666666666,\"#ed7953\"],[0.7777777777777778,\"#fb9f3a\"],[0.8888888888888888,\"#fdca26\"],[1.0,\"#f0f921\"]],\"sequentialminus\":[[0.0,\"#0d0887\"],[0.1111111111111111,\"#46039f\"],[0.2222222222222222,\"#7201a8\"],[0.3333333333333333,\"#9c179e\"],[0.4444444444444444,\"#bd3786\"],[0.5555555555555556,\"#d8576b\"],[0.6666666666666666,\"#ed7953\"],[0.7777777777777778,\"#fb9f3a\"],[0.8888888888888888,\"#fdca26\"],[1.0,\"#f0f921\"]],\"diverging\":[[0,\"#8e0152\"],[0.1,\"#c51b7d\"],[0.2,\"#de77ae\"],[0.3,\"#f1b6da\"],[0.4,\"#fde0ef\"],[0.5,\"#f7f7f7\"],[0.6,\"#e6f5d0\"],[0.7,\"#b8e186\"],[0.8,\"#7fbc41\"],[0.9,\"#4d9221\"],[1,\"#276419\"]]},\"xaxis\":{\"gridcolor\":\"white\",\"linecolor\":\"white\",\"ticks\":\"\",\"title\":{\"standoff\":15},\"zerolinecolor\":\"white\",\"automargin\":true,\"zerolinewidth\":2},\"yaxis\":{\"gridcolor\":\"white\",\"linecolor\":\"white\",\"ticks\":\"\",\"title\":{\"standoff\":15},\"zerolinecolor\":\"white\",\"automargin\":true,\"zerolinewidth\":2},\"scene\":{\"xaxis\":{\"backgroundcolor\":\"#E5ECF6\",\"gridcolor\":\"white\",\"linecolor\":\"white\",\"showbackground\":true,\"ticks\":\"\",\"zerolinecolor\":\"white\",\"gridwidth\":2},\"yaxis\":{\"backgroundcolor\":\"#E5ECF6\",\"gridcolor\":\"white\",\"linecolor\":\"white\",\"showbackground\":true,\"ticks\":\"\",\"zerolinecolor\":\"white\",\"gridwidth\":2},\"zaxis\":{\"backgroundcolor\":\"#E5ECF6\",\"gridcolor\":\"white\",\"linecolor\":\"white\",\"showbackground\":true,\"ticks\":\"\",\"zerolinecolor\":\"white\",\"gridwidth\":2}},\"shapedefaults\":{\"line\":{\"color\":\"#2a3f5f\"}},\"annotationdefaults\":{\"arrowcolor\":\"#2a3f5f\",\"arrowhead\":0,\"arrowwidth\":1},\"geo\":{\"bgcolor\":\"white\",\"landcolor\":\"#E5ECF6\",\"subunitcolor\":\"white\",\"showland\":true,\"showlakes\":true,\"lakecolor\":\"white\"},\"title\":{\"x\":0.05},\"mapbox\":{\"style\":\"light\"}}},\"xaxis\":{\"anchor\":\"y\",\"domain\":[0.0,1.0],\"title\":{\"text\":\"mensalidade\"}},\"yaxis\":{\"anchor\":\"x\",\"domain\":[0.0,1.0],\"title\":{\"text\":\"bolsa_parcial_cotas\"}},\"legend\":{\"tracegroupgap\":0},\"margin\":{\"t\":60}},                        {\"responsive\": true}                    )                };                            </script>        </div>\n",
              "</body>\n",
              "</html>"
            ]
          },
          "metadata": {}
        }
      ],
      "source": [
        "# Linha de tendência sobre o gráfico\n",
        "df_medicina.plot.scatter(x='mensalidade', y='bolsa_parcial_cotas',trendline='ols', trendline_color_override='red')"
      ]
    },
    {
      "cell_type": "code",
      "execution_count": null,
      "metadata": {
        "application/vnd.databricks.v1+cell": {
          "cellMetadata": {
            "byteLimit": 2048000,
            "rowLimit": 10000
          },
          "inputWidgets": {},
          "nuid": "43b78cc3-74e0-4630-9b59-847afdcf92c7",
          "showTitle": false,
          "title": ""
        },
        "id": "WJ2ryHciNKiE",
        "outputId": "f086d641-8891-4bb8-e6e7-6cca37dd8ecc"
      },
      "outputs": [
        {
          "output_type": "display_data",
          "data": {
            "text/html": [
              "<html>\n",
              "<head><meta charset=\"utf-8\" /></head>\n",
              "<body>\n",
              "    <div>            <script src=\"https://cdnjs.cloudflare.com/ajax/libs/mathjax/2.7.5/MathJax.js?config=TeX-AMS-MML_SVG\"></script><script type=\"text/javascript\">if (window.MathJax && window.MathJax.Hub && window.MathJax.Hub.Config) {window.MathJax.Hub.Config({SVG: {font: \"STIX-Web\"}});}</script>                <script type=\"text/javascript\">window.PlotlyConfig = {MathJaxConfig: 'local'};</script>\n",
              "        <script src=\"https://cdn.plot.ly/plotly-2.12.1.min.js\"></script>                <div id=\"a645c51a-ecea-4596-8a1e-06106b85cfd6\" class=\"plotly-graph-div\" style=\"height:100%; width:100%;\"></div>            <script type=\"text/javascript\">                                    window.PLOTLYENV=window.PLOTLYENV || {};                                    if (document.getElementById(\"a645c51a-ecea-4596-8a1e-06106b85cfd6\")) {                    Plotly.newPlot(                        \"a645c51a-ecea-4596-8a1e-06106b85cfd6\",                        [{\"hovertemplate\":\"nota_parcial_ampla=%{x}<br>nota_parcial_cotas=%{y}<extra></extra>\",\"legendgroup\":\"\",\"marker\":{\"color\":\"#636efa\",\"symbol\":\"circle\"},\"mode\":\"markers\",\"name\":\"\",\"orientation\":\"v\",\"showlegend\":false,\"x\":[738.42,741.36,729.72,745.06,730.98,776.36,774.96,738.96,734.92,760.8,735.76,743.14,747.14,748.78,750.44],\"xaxis\":\"x\",\"y\":[723.28,721.08,711.68,741.0,722.82,768.34,750.64,718.64,711.26,715.1,718.48,690.18,717.6,727.58,732.46],\"yaxis\":\"y\",\"type\":\"scatter\"},{\"hovertemplate\":\"<b>OLS trendline</b><br>nota_parcial_cotas = 0.900048 * nota_parcial_ampla + 52.8323<br>R<sup>2</sup>=0.494172<br><br>nota_parcial_ampla=%{x}<br>nota_parcial_cotas=%{y} <b>(trend)</b><extra></extra>\",\"legendgroup\":\"\",\"line\":{\"color\":\"red\"},\"marker\":{\"color\":\"#636efa\",\"symbol\":\"circle\"},\"mode\":\"lines\",\"name\":\"\",\"showlegend\":false,\"x\":[729.72,730.98,734.92,735.76,738.42,738.96,741.36,743.14,745.06,747.14,748.78,750.44,760.8,774.96,776.36],\"xaxis\":\"x\",\"y\":[709.6152008194108,710.749260996754,714.2954491703509,715.0514892885798,717.4456163296376,717.9316421199276,720.0917567434384,721.6938417558756,723.4219334546842,725.2940327950604,726.7701111211261,728.2641904023878,737.5886851938762,750.3333614725904,751.593428336305],\"yaxis\":\"y\",\"type\":\"scatter\"}],                        {\"template\":{\"data\":{\"histogram2dcontour\":[{\"type\":\"histogram2dcontour\",\"colorbar\":{\"outlinewidth\":0,\"ticks\":\"\"},\"colorscale\":[[0.0,\"#0d0887\"],[0.1111111111111111,\"#46039f\"],[0.2222222222222222,\"#7201a8\"],[0.3333333333333333,\"#9c179e\"],[0.4444444444444444,\"#bd3786\"],[0.5555555555555556,\"#d8576b\"],[0.6666666666666666,\"#ed7953\"],[0.7777777777777778,\"#fb9f3a\"],[0.8888888888888888,\"#fdca26\"],[1.0,\"#f0f921\"]]}],\"choropleth\":[{\"type\":\"choropleth\",\"colorbar\":{\"outlinewidth\":0,\"ticks\":\"\"}}],\"histogram2d\":[{\"type\":\"histogram2d\",\"colorbar\":{\"outlinewidth\":0,\"ticks\":\"\"},\"colorscale\":[[0.0,\"#0d0887\"],[0.1111111111111111,\"#46039f\"],[0.2222222222222222,\"#7201a8\"],[0.3333333333333333,\"#9c179e\"],[0.4444444444444444,\"#bd3786\"],[0.5555555555555556,\"#d8576b\"],[0.6666666666666666,\"#ed7953\"],[0.7777777777777778,\"#fb9f3a\"],[0.8888888888888888,\"#fdca26\"],[1.0,\"#f0f921\"]]}],\"heatmap\":[{\"type\":\"heatmap\",\"colorbar\":{\"outlinewidth\":0,\"ticks\":\"\"},\"colorscale\":[[0.0,\"#0d0887\"],[0.1111111111111111,\"#46039f\"],[0.2222222222222222,\"#7201a8\"],[0.3333333333333333,\"#9c179e\"],[0.4444444444444444,\"#bd3786\"],[0.5555555555555556,\"#d8576b\"],[0.6666666666666666,\"#ed7953\"],[0.7777777777777778,\"#fb9f3a\"],[0.8888888888888888,\"#fdca26\"],[1.0,\"#f0f921\"]]}],\"heatmapgl\":[{\"type\":\"heatmapgl\",\"colorbar\":{\"outlinewidth\":0,\"ticks\":\"\"},\"colorscale\":[[0.0,\"#0d0887\"],[0.1111111111111111,\"#46039f\"],[0.2222222222222222,\"#7201a8\"],[0.3333333333333333,\"#9c179e\"],[0.4444444444444444,\"#bd3786\"],[0.5555555555555556,\"#d8576b\"],[0.6666666666666666,\"#ed7953\"],[0.7777777777777778,\"#fb9f3a\"],[0.8888888888888888,\"#fdca26\"],[1.0,\"#f0f921\"]]}],\"contourcarpet\":[{\"type\":\"contourcarpet\",\"colorbar\":{\"outlinewidth\":0,\"ticks\":\"\"}}],\"contour\":[{\"type\":\"contour\",\"colorbar\":{\"outlinewidth\":0,\"ticks\":\"\"},\"colorscale\":[[0.0,\"#0d0887\"],[0.1111111111111111,\"#46039f\"],[0.2222222222222222,\"#7201a8\"],[0.3333333333333333,\"#9c179e\"],[0.4444444444444444,\"#bd3786\"],[0.5555555555555556,\"#d8576b\"],[0.6666666666666666,\"#ed7953\"],[0.7777777777777778,\"#fb9f3a\"],[0.8888888888888888,\"#fdca26\"],[1.0,\"#f0f921\"]]}],\"surface\":[{\"type\":\"surface\",\"colorbar\":{\"outlinewidth\":0,\"ticks\":\"\"},\"colorscale\":[[0.0,\"#0d0887\"],[0.1111111111111111,\"#46039f\"],[0.2222222222222222,\"#7201a8\"],[0.3333333333333333,\"#9c179e\"],[0.4444444444444444,\"#bd3786\"],[0.5555555555555556,\"#d8576b\"],[0.6666666666666666,\"#ed7953\"],[0.7777777777777778,\"#fb9f3a\"],[0.8888888888888888,\"#fdca26\"],[1.0,\"#f0f921\"]]}],\"mesh3d\":[{\"type\":\"mesh3d\",\"colorbar\":{\"outlinewidth\":0,\"ticks\":\"\"}}],\"scatter\":[{\"fillpattern\":{\"fillmode\":\"overlay\",\"size\":10,\"solidity\":0.2},\"type\":\"scatter\"}],\"parcoords\":[{\"type\":\"parcoords\",\"line\":{\"colorbar\":{\"outlinewidth\":0,\"ticks\":\"\"}}}],\"scatterpolargl\":[{\"type\":\"scatterpolargl\",\"marker\":{\"colorbar\":{\"outlinewidth\":0,\"ticks\":\"\"}}}],\"bar\":[{\"error_x\":{\"color\":\"#2a3f5f\"},\"error_y\":{\"color\":\"#2a3f5f\"},\"marker\":{\"line\":{\"color\":\"#E5ECF6\",\"width\":0.5},\"pattern\":{\"fillmode\":\"overlay\",\"size\":10,\"solidity\":0.2}},\"type\":\"bar\"}],\"scattergeo\":[{\"type\":\"scattergeo\",\"marker\":{\"colorbar\":{\"outlinewidth\":0,\"ticks\":\"\"}}}],\"scatterpolar\":[{\"type\":\"scatterpolar\",\"marker\":{\"colorbar\":{\"outlinewidth\":0,\"ticks\":\"\"}}}],\"histogram\":[{\"marker\":{\"pattern\":{\"fillmode\":\"overlay\",\"size\":10,\"solidity\":0.2}},\"type\":\"histogram\"}],\"scattergl\":[{\"type\":\"scattergl\",\"marker\":{\"colorbar\":{\"outlinewidth\":0,\"ticks\":\"\"}}}],\"scatter3d\":[{\"type\":\"scatter3d\",\"line\":{\"colorbar\":{\"outlinewidth\":0,\"ticks\":\"\"}},\"marker\":{\"colorbar\":{\"outlinewidth\":0,\"ticks\":\"\"}}}],\"scattermapbox\":[{\"type\":\"scattermapbox\",\"marker\":{\"colorbar\":{\"outlinewidth\":0,\"ticks\":\"\"}}}],\"scatterternary\":[{\"type\":\"scatterternary\",\"marker\":{\"colorbar\":{\"outlinewidth\":0,\"ticks\":\"\"}}}],\"scattercarpet\":[{\"type\":\"scattercarpet\",\"marker\":{\"colorbar\":{\"outlinewidth\":0,\"ticks\":\"\"}}}],\"carpet\":[{\"aaxis\":{\"endlinecolor\":\"#2a3f5f\",\"gridcolor\":\"white\",\"linecolor\":\"white\",\"minorgridcolor\":\"white\",\"startlinecolor\":\"#2a3f5f\"},\"baxis\":{\"endlinecolor\":\"#2a3f5f\",\"gridcolor\":\"white\",\"linecolor\":\"white\",\"minorgridcolor\":\"white\",\"startlinecolor\":\"#2a3f5f\"},\"type\":\"carpet\"}],\"table\":[{\"cells\":{\"fill\":{\"color\":\"#EBF0F8\"},\"line\":{\"color\":\"white\"}},\"header\":{\"fill\":{\"color\":\"#C8D4E3\"},\"line\":{\"color\":\"white\"}},\"type\":\"table\"}],\"barpolar\":[{\"marker\":{\"line\":{\"color\":\"#E5ECF6\",\"width\":0.5},\"pattern\":{\"fillmode\":\"overlay\",\"size\":10,\"solidity\":0.2}},\"type\":\"barpolar\"}],\"pie\":[{\"automargin\":true,\"type\":\"pie\"}]},\"layout\":{\"autotypenumbers\":\"strict\",\"colorway\":[\"#636efa\",\"#EF553B\",\"#00cc96\",\"#ab63fa\",\"#FFA15A\",\"#19d3f3\",\"#FF6692\",\"#B6E880\",\"#FF97FF\",\"#FECB52\"],\"font\":{\"color\":\"#2a3f5f\"},\"hovermode\":\"closest\",\"hoverlabel\":{\"align\":\"left\"},\"paper_bgcolor\":\"white\",\"plot_bgcolor\":\"#E5ECF6\",\"polar\":{\"bgcolor\":\"#E5ECF6\",\"angularaxis\":{\"gridcolor\":\"white\",\"linecolor\":\"white\",\"ticks\":\"\"},\"radialaxis\":{\"gridcolor\":\"white\",\"linecolor\":\"white\",\"ticks\":\"\"}},\"ternary\":{\"bgcolor\":\"#E5ECF6\",\"aaxis\":{\"gridcolor\":\"white\",\"linecolor\":\"white\",\"ticks\":\"\"},\"baxis\":{\"gridcolor\":\"white\",\"linecolor\":\"white\",\"ticks\":\"\"},\"caxis\":{\"gridcolor\":\"white\",\"linecolor\":\"white\",\"ticks\":\"\"}},\"coloraxis\":{\"colorbar\":{\"outlinewidth\":0,\"ticks\":\"\"}},\"colorscale\":{\"sequential\":[[0.0,\"#0d0887\"],[0.1111111111111111,\"#46039f\"],[0.2222222222222222,\"#7201a8\"],[0.3333333333333333,\"#9c179e\"],[0.4444444444444444,\"#bd3786\"],[0.5555555555555556,\"#d8576b\"],[0.6666666666666666,\"#ed7953\"],[0.7777777777777778,\"#fb9f3a\"],[0.8888888888888888,\"#fdca26\"],[1.0,\"#f0f921\"]],\"sequentialminus\":[[0.0,\"#0d0887\"],[0.1111111111111111,\"#46039f\"],[0.2222222222222222,\"#7201a8\"],[0.3333333333333333,\"#9c179e\"],[0.4444444444444444,\"#bd3786\"],[0.5555555555555556,\"#d8576b\"],[0.6666666666666666,\"#ed7953\"],[0.7777777777777778,\"#fb9f3a\"],[0.8888888888888888,\"#fdca26\"],[1.0,\"#f0f921\"]],\"diverging\":[[0,\"#8e0152\"],[0.1,\"#c51b7d\"],[0.2,\"#de77ae\"],[0.3,\"#f1b6da\"],[0.4,\"#fde0ef\"],[0.5,\"#f7f7f7\"],[0.6,\"#e6f5d0\"],[0.7,\"#b8e186\"],[0.8,\"#7fbc41\"],[0.9,\"#4d9221\"],[1,\"#276419\"]]},\"xaxis\":{\"gridcolor\":\"white\",\"linecolor\":\"white\",\"ticks\":\"\",\"title\":{\"standoff\":15},\"zerolinecolor\":\"white\",\"automargin\":true,\"zerolinewidth\":2},\"yaxis\":{\"gridcolor\":\"white\",\"linecolor\":\"white\",\"ticks\":\"\",\"title\":{\"standoff\":15},\"zerolinecolor\":\"white\",\"automargin\":true,\"zerolinewidth\":2},\"scene\":{\"xaxis\":{\"backgroundcolor\":\"#E5ECF6\",\"gridcolor\":\"white\",\"linecolor\":\"white\",\"showbackground\":true,\"ticks\":\"\",\"zerolinecolor\":\"white\",\"gridwidth\":2},\"yaxis\":{\"backgroundcolor\":\"#E5ECF6\",\"gridcolor\":\"white\",\"linecolor\":\"white\",\"showbackground\":true,\"ticks\":\"\",\"zerolinecolor\":\"white\",\"gridwidth\":2},\"zaxis\":{\"backgroundcolor\":\"#E5ECF6\",\"gridcolor\":\"white\",\"linecolor\":\"white\",\"showbackground\":true,\"ticks\":\"\",\"zerolinecolor\":\"white\",\"gridwidth\":2}},\"shapedefaults\":{\"line\":{\"color\":\"#2a3f5f\"}},\"annotationdefaults\":{\"arrowcolor\":\"#2a3f5f\",\"arrowhead\":0,\"arrowwidth\":1},\"geo\":{\"bgcolor\":\"white\",\"landcolor\":\"#E5ECF6\",\"subunitcolor\":\"white\",\"showland\":true,\"showlakes\":true,\"lakecolor\":\"white\"},\"title\":{\"x\":0.05},\"mapbox\":{\"style\":\"light\"}}},\"xaxis\":{\"anchor\":\"y\",\"domain\":[0.0,1.0],\"title\":{\"text\":\"nota_parcial_ampla\"}},\"yaxis\":{\"anchor\":\"x\",\"domain\":[0.0,1.0],\"title\":{\"text\":\"nota_parcial_cotas\"}},\"legend\":{\"tracegroupgap\":0},\"margin\":{\"t\":60}},                        {\"responsive\": true}                    )                };                            </script>        </div>\n",
              "</body>\n",
              "</html>"
            ]
          },
          "metadata": {}
        }
      ],
      "source": [
        "# Relação da nota parcial ampla e nota parcial cotas\n",
        "\n",
        "df_medicina.plot.scatter(x='nota_parcial_ampla', y='nota_parcial_cotas', trendline='ols', trendline_color_override='red')"
      ]
    },
    {
      "cell_type": "markdown",
      "metadata": {
        "application/vnd.databricks.v1+cell": {
          "cellMetadata": {
            "byteLimit": 2048000,
            "rowLimit": 10000
          },
          "inputWidgets": {},
          "nuid": "7341b968-bab6-48ed-b5e4-f83fed2fe9b6",
          "showTitle": false,
          "title": ""
        },
        "id": "Ik5P1KbmNKiE"
      },
      "source": [
        "\n",
        "# BoxPlots"
      ]
    },
    {
      "cell_type": "code",
      "execution_count": null,
      "metadata": {
        "application/vnd.databricks.v1+cell": {
          "cellMetadata": {
            "byteLimit": 2048000,
            "rowLimit": 10000
          },
          "inputWidgets": {},
          "nuid": "796e08b8-9d0c-40f3-9ff1-1189c552c8c5",
          "showTitle": false,
          "title": ""
        },
        "id": "L0kv2BKvNKiF",
        "outputId": "c3d7939f-683f-4270-bca2-68ae6abfd97b"
      },
      "outputs": [
        {
          "output_type": "display_data",
          "data": {
            "text/html": [
              "<html>\n",
              "<head><meta charset=\"utf-8\" /></head>\n",
              "<body>\n",
              "    <div>            <script src=\"https://cdnjs.cloudflare.com/ajax/libs/mathjax/2.7.5/MathJax.js?config=TeX-AMS-MML_SVG\"></script><script type=\"text/javascript\">if (window.MathJax && window.MathJax.Hub && window.MathJax.Hub.Config) {window.MathJax.Hub.Config({SVG: {font: \"STIX-Web\"}});}</script>                <script type=\"text/javascript\">window.PlotlyConfig = {MathJaxConfig: 'local'};</script>\n",
              "        <script src=\"https://cdn.plot.ly/plotly-2.12.1.min.js\"></script>                <div id=\"6e07894d-3074-43c0-91e9-e308bc0b733f\" class=\"plotly-graph-div\" style=\"height:100%; width:100%;\"></div>            <script type=\"text/javascript\">                                    window.PLOTLYENV=window.PLOTLYENV || {};                                    if (document.getElementById(\"6e07894d-3074-43c0-91e9-e308bc0b733f\")) {                    Plotly.newPlot(                        \"6e07894d-3074-43c0-91e9-e308bc0b733f\",                        [{\"boxpoints\":\"suspectedoutliers\",\"lowerfence\":[350.0],\"mean\":[3612.6697916666676],\"median\":[1968.37],\"name\":\"mensalidade\",\"notched\":false,\"q1\":[1297.44],\"q3\":[7009.97],\"upperfence\":[9815.61],\"type\":\"box\"}],                        {\"template\":{\"data\":{\"histogram2dcontour\":[{\"type\":\"histogram2dcontour\",\"colorbar\":{\"outlinewidth\":0,\"ticks\":\"\"},\"colorscale\":[[0.0,\"#0d0887\"],[0.1111111111111111,\"#46039f\"],[0.2222222222222222,\"#7201a8\"],[0.3333333333333333,\"#9c179e\"],[0.4444444444444444,\"#bd3786\"],[0.5555555555555556,\"#d8576b\"],[0.6666666666666666,\"#ed7953\"],[0.7777777777777778,\"#fb9f3a\"],[0.8888888888888888,\"#fdca26\"],[1.0,\"#f0f921\"]]}],\"choropleth\":[{\"type\":\"choropleth\",\"colorbar\":{\"outlinewidth\":0,\"ticks\":\"\"}}],\"histogram2d\":[{\"type\":\"histogram2d\",\"colorbar\":{\"outlinewidth\":0,\"ticks\":\"\"},\"colorscale\":[[0.0,\"#0d0887\"],[0.1111111111111111,\"#46039f\"],[0.2222222222222222,\"#7201a8\"],[0.3333333333333333,\"#9c179e\"],[0.4444444444444444,\"#bd3786\"],[0.5555555555555556,\"#d8576b\"],[0.6666666666666666,\"#ed7953\"],[0.7777777777777778,\"#fb9f3a\"],[0.8888888888888888,\"#fdca26\"],[1.0,\"#f0f921\"]]}],\"heatmap\":[{\"type\":\"heatmap\",\"colorbar\":{\"outlinewidth\":0,\"ticks\":\"\"},\"colorscale\":[[0.0,\"#0d0887\"],[0.1111111111111111,\"#46039f\"],[0.2222222222222222,\"#7201a8\"],[0.3333333333333333,\"#9c179e\"],[0.4444444444444444,\"#bd3786\"],[0.5555555555555556,\"#d8576b\"],[0.6666666666666666,\"#ed7953\"],[0.7777777777777778,\"#fb9f3a\"],[0.8888888888888888,\"#fdca26\"],[1.0,\"#f0f921\"]]}],\"heatmapgl\":[{\"type\":\"heatmapgl\",\"colorbar\":{\"outlinewidth\":0,\"ticks\":\"\"},\"colorscale\":[[0.0,\"#0d0887\"],[0.1111111111111111,\"#46039f\"],[0.2222222222222222,\"#7201a8\"],[0.3333333333333333,\"#9c179e\"],[0.4444444444444444,\"#bd3786\"],[0.5555555555555556,\"#d8576b\"],[0.6666666666666666,\"#ed7953\"],[0.7777777777777778,\"#fb9f3a\"],[0.8888888888888888,\"#fdca26\"],[1.0,\"#f0f921\"]]}],\"contourcarpet\":[{\"type\":\"contourcarpet\",\"colorbar\":{\"outlinewidth\":0,\"ticks\":\"\"}}],\"contour\":[{\"type\":\"contour\",\"colorbar\":{\"outlinewidth\":0,\"ticks\":\"\"},\"colorscale\":[[0.0,\"#0d0887\"],[0.1111111111111111,\"#46039f\"],[0.2222222222222222,\"#7201a8\"],[0.3333333333333333,\"#9c179e\"],[0.4444444444444444,\"#bd3786\"],[0.5555555555555556,\"#d8576b\"],[0.6666666666666666,\"#ed7953\"],[0.7777777777777778,\"#fb9f3a\"],[0.8888888888888888,\"#fdca26\"],[1.0,\"#f0f921\"]]}],\"surface\":[{\"type\":\"surface\",\"colorbar\":{\"outlinewidth\":0,\"ticks\":\"\"},\"colorscale\":[[0.0,\"#0d0887\"],[0.1111111111111111,\"#46039f\"],[0.2222222222222222,\"#7201a8\"],[0.3333333333333333,\"#9c179e\"],[0.4444444444444444,\"#bd3786\"],[0.5555555555555556,\"#d8576b\"],[0.6666666666666666,\"#ed7953\"],[0.7777777777777778,\"#fb9f3a\"],[0.8888888888888888,\"#fdca26\"],[1.0,\"#f0f921\"]]}],\"mesh3d\":[{\"type\":\"mesh3d\",\"colorbar\":{\"outlinewidth\":0,\"ticks\":\"\"}}],\"scatter\":[{\"fillpattern\":{\"fillmode\":\"overlay\",\"size\":10,\"solidity\":0.2},\"type\":\"scatter\"}],\"parcoords\":[{\"type\":\"parcoords\",\"line\":{\"colorbar\":{\"outlinewidth\":0,\"ticks\":\"\"}}}],\"scatterpolargl\":[{\"type\":\"scatterpolargl\",\"marker\":{\"colorbar\":{\"outlinewidth\":0,\"ticks\":\"\"}}}],\"bar\":[{\"error_x\":{\"color\":\"#2a3f5f\"},\"error_y\":{\"color\":\"#2a3f5f\"},\"marker\":{\"line\":{\"color\":\"#E5ECF6\",\"width\":0.5},\"pattern\":{\"fillmode\":\"overlay\",\"size\":10,\"solidity\":0.2}},\"type\":\"bar\"}],\"scattergeo\":[{\"type\":\"scattergeo\",\"marker\":{\"colorbar\":{\"outlinewidth\":0,\"ticks\":\"\"}}}],\"scatterpolar\":[{\"type\":\"scatterpolar\",\"marker\":{\"colorbar\":{\"outlinewidth\":0,\"ticks\":\"\"}}}],\"histogram\":[{\"marker\":{\"pattern\":{\"fillmode\":\"overlay\",\"size\":10,\"solidity\":0.2}},\"type\":\"histogram\"}],\"scattergl\":[{\"type\":\"scattergl\",\"marker\":{\"colorbar\":{\"outlinewidth\":0,\"ticks\":\"\"}}}],\"scatter3d\":[{\"type\":\"scatter3d\",\"line\":{\"colorbar\":{\"outlinewidth\":0,\"ticks\":\"\"}},\"marker\":{\"colorbar\":{\"outlinewidth\":0,\"ticks\":\"\"}}}],\"scattermapbox\":[{\"type\":\"scattermapbox\",\"marker\":{\"colorbar\":{\"outlinewidth\":0,\"ticks\":\"\"}}}],\"scatterternary\":[{\"type\":\"scatterternary\",\"marker\":{\"colorbar\":{\"outlinewidth\":0,\"ticks\":\"\"}}}],\"scattercarpet\":[{\"type\":\"scattercarpet\",\"marker\":{\"colorbar\":{\"outlinewidth\":0,\"ticks\":\"\"}}}],\"carpet\":[{\"aaxis\":{\"endlinecolor\":\"#2a3f5f\",\"gridcolor\":\"white\",\"linecolor\":\"white\",\"minorgridcolor\":\"white\",\"startlinecolor\":\"#2a3f5f\"},\"baxis\":{\"endlinecolor\":\"#2a3f5f\",\"gridcolor\":\"white\",\"linecolor\":\"white\",\"minorgridcolor\":\"white\",\"startlinecolor\":\"#2a3f5f\"},\"type\":\"carpet\"}],\"table\":[{\"cells\":{\"fill\":{\"color\":\"#EBF0F8\"},\"line\":{\"color\":\"white\"}},\"header\":{\"fill\":{\"color\":\"#C8D4E3\"},\"line\":{\"color\":\"white\"}},\"type\":\"table\"}],\"barpolar\":[{\"marker\":{\"line\":{\"color\":\"#E5ECF6\",\"width\":0.5},\"pattern\":{\"fillmode\":\"overlay\",\"size\":10,\"solidity\":0.2}},\"type\":\"barpolar\"}],\"pie\":[{\"automargin\":true,\"type\":\"pie\"}]},\"layout\":{\"autotypenumbers\":\"strict\",\"colorway\":[\"#636efa\",\"#EF553B\",\"#00cc96\",\"#ab63fa\",\"#FFA15A\",\"#19d3f3\",\"#FF6692\",\"#B6E880\",\"#FF97FF\",\"#FECB52\"],\"font\":{\"color\":\"#2a3f5f\"},\"hovermode\":\"closest\",\"hoverlabel\":{\"align\":\"left\"},\"paper_bgcolor\":\"white\",\"plot_bgcolor\":\"#E5ECF6\",\"polar\":{\"bgcolor\":\"#E5ECF6\",\"angularaxis\":{\"gridcolor\":\"white\",\"linecolor\":\"white\",\"ticks\":\"\"},\"radialaxis\":{\"gridcolor\":\"white\",\"linecolor\":\"white\",\"ticks\":\"\"}},\"ternary\":{\"bgcolor\":\"#E5ECF6\",\"aaxis\":{\"gridcolor\":\"white\",\"linecolor\":\"white\",\"ticks\":\"\"},\"baxis\":{\"gridcolor\":\"white\",\"linecolor\":\"white\",\"ticks\":\"\"},\"caxis\":{\"gridcolor\":\"white\",\"linecolor\":\"white\",\"ticks\":\"\"}},\"coloraxis\":{\"colorbar\":{\"outlinewidth\":0,\"ticks\":\"\"}},\"colorscale\":{\"sequential\":[[0.0,\"#0d0887\"],[0.1111111111111111,\"#46039f\"],[0.2222222222222222,\"#7201a8\"],[0.3333333333333333,\"#9c179e\"],[0.4444444444444444,\"#bd3786\"],[0.5555555555555556,\"#d8576b\"],[0.6666666666666666,\"#ed7953\"],[0.7777777777777778,\"#fb9f3a\"],[0.8888888888888888,\"#fdca26\"],[1.0,\"#f0f921\"]],\"sequentialminus\":[[0.0,\"#0d0887\"],[0.1111111111111111,\"#46039f\"],[0.2222222222222222,\"#7201a8\"],[0.3333333333333333,\"#9c179e\"],[0.4444444444444444,\"#bd3786\"],[0.5555555555555556,\"#d8576b\"],[0.6666666666666666,\"#ed7953\"],[0.7777777777777778,\"#fb9f3a\"],[0.8888888888888888,\"#fdca26\"],[1.0,\"#f0f921\"]],\"diverging\":[[0,\"#8e0152\"],[0.1,\"#c51b7d\"],[0.2,\"#de77ae\"],[0.3,\"#f1b6da\"],[0.4,\"#fde0ef\"],[0.5,\"#f7f7f7\"],[0.6,\"#e6f5d0\"],[0.7,\"#b8e186\"],[0.8,\"#7fbc41\"],[0.9,\"#4d9221\"],[1,\"#276419\"]]},\"xaxis\":{\"gridcolor\":\"white\",\"linecolor\":\"white\",\"ticks\":\"\",\"title\":{\"standoff\":15},\"zerolinecolor\":\"white\",\"automargin\":true,\"zerolinewidth\":2},\"yaxis\":{\"gridcolor\":\"white\",\"linecolor\":\"white\",\"ticks\":\"\",\"title\":{\"standoff\":15},\"zerolinecolor\":\"white\",\"automargin\":true,\"zerolinewidth\":2},\"scene\":{\"xaxis\":{\"backgroundcolor\":\"#E5ECF6\",\"gridcolor\":\"white\",\"linecolor\":\"white\",\"showbackground\":true,\"ticks\":\"\",\"zerolinecolor\":\"white\",\"gridwidth\":2},\"yaxis\":{\"backgroundcolor\":\"#E5ECF6\",\"gridcolor\":\"white\",\"linecolor\":\"white\",\"showbackground\":true,\"ticks\":\"\",\"zerolinecolor\":\"white\",\"gridwidth\":2},\"zaxis\":{\"backgroundcolor\":\"#E5ECF6\",\"gridcolor\":\"white\",\"linecolor\":\"white\",\"showbackground\":true,\"ticks\":\"\",\"zerolinecolor\":\"white\",\"gridwidth\":2}},\"shapedefaults\":{\"line\":{\"color\":\"#2a3f5f\"}},\"annotationdefaults\":{\"arrowcolor\":\"#2a3f5f\",\"arrowhead\":0,\"arrowwidth\":1},\"geo\":{\"bgcolor\":\"white\",\"landcolor\":\"#E5ECF6\",\"subunitcolor\":\"white\",\"showland\":true,\"showlakes\":true,\"lakecolor\":\"white\"},\"title\":{\"x\":0.05},\"mapbox\":{\"style\":\"light\"}}},\"xaxis\":{\"title\":{\"text\":\"mensalidade\"}},\"yaxis\":{\"title\":{\"text\":\"value\"}}},                        {\"responsive\": true}                    )                };                            </script>        </div>\n",
              "</body>\n",
              "</html>"
            ]
          },
          "metadata": {}
        }
      ],
      "source": [
        "# Verificar se a mensalidade dos cursos é mais alta ou mais baixa dependendo do turno do curso\n",
        "# passar uma series a partir do dataframe selecionando muito bem a informação\n",
        "\n",
        "df[df['turno'] =='Integral']['mensalidade'].plot.box()"
      ]
    },
    {
      "cell_type": "code",
      "execution_count": null,
      "metadata": {
        "application/vnd.databricks.v1+cell": {
          "cellMetadata": {
            "byteLimit": 2048000,
            "rowLimit": 10000
          },
          "inputWidgets": {},
          "nuid": "3bcceb29-0160-47e5-adf3-624ad022e52a",
          "showTitle": false,
          "title": ""
        },
        "id": "PI8cj0l7NKiF",
        "outputId": "fae8067c-2826-421f-a606-5893e302caa8"
      },
      "outputs": [
        {
          "output_type": "display_data",
          "data": {
            "text/html": [
              "<html>\n",
              "<head><meta charset=\"utf-8\" /></head>\n",
              "<body>\n",
              "    <div>            <script src=\"https://cdnjs.cloudflare.com/ajax/libs/mathjax/2.7.5/MathJax.js?config=TeX-AMS-MML_SVG\"></script><script type=\"text/javascript\">if (window.MathJax && window.MathJax.Hub && window.MathJax.Hub.Config) {window.MathJax.Hub.Config({SVG: {font: \"STIX-Web\"}});}</script>                <script type=\"text/javascript\">window.PlotlyConfig = {MathJaxConfig: 'local'};</script>\n",
              "        <script src=\"https://cdn.plot.ly/plotly-2.12.1.min.js\"></script>                <div id=\"2b76d363-e821-4523-b33f-28f4a99a4060\" class=\"plotly-graph-div\" style=\"height:100%; width:100%;\"></div>            <script type=\"text/javascript\">                                    window.PLOTLYENV=window.PLOTLYENV || {};                                    if (document.getElementById(\"2b76d363-e821-4523-b33f-28f4a99a4060\")) {                    Plotly.newPlot(                        \"2b76d363-e821-4523-b33f-28f4a99a4060\",                        [{\"boxpoints\":\"suspectedoutliers\",\"lowerfence\":[350.0],\"mean\":[962.8386945812804],\"median\":[859.4],\"name\":\"mensalidade\",\"notched\":false,\"q1\":[648.78],\"q3\":[1150.0],\"upperfence\":[1805.0],\"y\":[[1948.63,1976.0,2005.0,2020.0,2024.0,2029.0,2037.0,2037.0,2145.0,2148.67,2223.84,2271.36,2282.5,2389.1,2477.39,2647.0,3694.77]],\"type\":\"box\"}],                        {\"template\":{\"data\":{\"histogram2dcontour\":[{\"type\":\"histogram2dcontour\",\"colorbar\":{\"outlinewidth\":0,\"ticks\":\"\"},\"colorscale\":[[0.0,\"#0d0887\"],[0.1111111111111111,\"#46039f\"],[0.2222222222222222,\"#7201a8\"],[0.3333333333333333,\"#9c179e\"],[0.4444444444444444,\"#bd3786\"],[0.5555555555555556,\"#d8576b\"],[0.6666666666666666,\"#ed7953\"],[0.7777777777777778,\"#fb9f3a\"],[0.8888888888888888,\"#fdca26\"],[1.0,\"#f0f921\"]]}],\"choropleth\":[{\"type\":\"choropleth\",\"colorbar\":{\"outlinewidth\":0,\"ticks\":\"\"}}],\"histogram2d\":[{\"type\":\"histogram2d\",\"colorbar\":{\"outlinewidth\":0,\"ticks\":\"\"},\"colorscale\":[[0.0,\"#0d0887\"],[0.1111111111111111,\"#46039f\"],[0.2222222222222222,\"#7201a8\"],[0.3333333333333333,\"#9c179e\"],[0.4444444444444444,\"#bd3786\"],[0.5555555555555556,\"#d8576b\"],[0.6666666666666666,\"#ed7953\"],[0.7777777777777778,\"#fb9f3a\"],[0.8888888888888888,\"#fdca26\"],[1.0,\"#f0f921\"]]}],\"heatmap\":[{\"type\":\"heatmap\",\"colorbar\":{\"outlinewidth\":0,\"ticks\":\"\"},\"colorscale\":[[0.0,\"#0d0887\"],[0.1111111111111111,\"#46039f\"],[0.2222222222222222,\"#7201a8\"],[0.3333333333333333,\"#9c179e\"],[0.4444444444444444,\"#bd3786\"],[0.5555555555555556,\"#d8576b\"],[0.6666666666666666,\"#ed7953\"],[0.7777777777777778,\"#fb9f3a\"],[0.8888888888888888,\"#fdca26\"],[1.0,\"#f0f921\"]]}],\"heatmapgl\":[{\"type\":\"heatmapgl\",\"colorbar\":{\"outlinewidth\":0,\"ticks\":\"\"},\"colorscale\":[[0.0,\"#0d0887\"],[0.1111111111111111,\"#46039f\"],[0.2222222222222222,\"#7201a8\"],[0.3333333333333333,\"#9c179e\"],[0.4444444444444444,\"#bd3786\"],[0.5555555555555556,\"#d8576b\"],[0.6666666666666666,\"#ed7953\"],[0.7777777777777778,\"#fb9f3a\"],[0.8888888888888888,\"#fdca26\"],[1.0,\"#f0f921\"]]}],\"contourcarpet\":[{\"type\":\"contourcarpet\",\"colorbar\":{\"outlinewidth\":0,\"ticks\":\"\"}}],\"contour\":[{\"type\":\"contour\",\"colorbar\":{\"outlinewidth\":0,\"ticks\":\"\"},\"colorscale\":[[0.0,\"#0d0887\"],[0.1111111111111111,\"#46039f\"],[0.2222222222222222,\"#7201a8\"],[0.3333333333333333,\"#9c179e\"],[0.4444444444444444,\"#bd3786\"],[0.5555555555555556,\"#d8576b\"],[0.6666666666666666,\"#ed7953\"],[0.7777777777777778,\"#fb9f3a\"],[0.8888888888888888,\"#fdca26\"],[1.0,\"#f0f921\"]]}],\"surface\":[{\"type\":\"surface\",\"colorbar\":{\"outlinewidth\":0,\"ticks\":\"\"},\"colorscale\":[[0.0,\"#0d0887\"],[0.1111111111111111,\"#46039f\"],[0.2222222222222222,\"#7201a8\"],[0.3333333333333333,\"#9c179e\"],[0.4444444444444444,\"#bd3786\"],[0.5555555555555556,\"#d8576b\"],[0.6666666666666666,\"#ed7953\"],[0.7777777777777778,\"#fb9f3a\"],[0.8888888888888888,\"#fdca26\"],[1.0,\"#f0f921\"]]}],\"mesh3d\":[{\"type\":\"mesh3d\",\"colorbar\":{\"outlinewidth\":0,\"ticks\":\"\"}}],\"scatter\":[{\"fillpattern\":{\"fillmode\":\"overlay\",\"size\":10,\"solidity\":0.2},\"type\":\"scatter\"}],\"parcoords\":[{\"type\":\"parcoords\",\"line\":{\"colorbar\":{\"outlinewidth\":0,\"ticks\":\"\"}}}],\"scatterpolargl\":[{\"type\":\"scatterpolargl\",\"marker\":{\"colorbar\":{\"outlinewidth\":0,\"ticks\":\"\"}}}],\"bar\":[{\"error_x\":{\"color\":\"#2a3f5f\"},\"error_y\":{\"color\":\"#2a3f5f\"},\"marker\":{\"line\":{\"color\":\"#E5ECF6\",\"width\":0.5},\"pattern\":{\"fillmode\":\"overlay\",\"size\":10,\"solidity\":0.2}},\"type\":\"bar\"}],\"scattergeo\":[{\"type\":\"scattergeo\",\"marker\":{\"colorbar\":{\"outlinewidth\":0,\"ticks\":\"\"}}}],\"scatterpolar\":[{\"type\":\"scatterpolar\",\"marker\":{\"colorbar\":{\"outlinewidth\":0,\"ticks\":\"\"}}}],\"histogram\":[{\"marker\":{\"pattern\":{\"fillmode\":\"overlay\",\"size\":10,\"solidity\":0.2}},\"type\":\"histogram\"}],\"scattergl\":[{\"type\":\"scattergl\",\"marker\":{\"colorbar\":{\"outlinewidth\":0,\"ticks\":\"\"}}}],\"scatter3d\":[{\"type\":\"scatter3d\",\"line\":{\"colorbar\":{\"outlinewidth\":0,\"ticks\":\"\"}},\"marker\":{\"colorbar\":{\"outlinewidth\":0,\"ticks\":\"\"}}}],\"scattermapbox\":[{\"type\":\"scattermapbox\",\"marker\":{\"colorbar\":{\"outlinewidth\":0,\"ticks\":\"\"}}}],\"scatterternary\":[{\"type\":\"scatterternary\",\"marker\":{\"colorbar\":{\"outlinewidth\":0,\"ticks\":\"\"}}}],\"scattercarpet\":[{\"type\":\"scattercarpet\",\"marker\":{\"colorbar\":{\"outlinewidth\":0,\"ticks\":\"\"}}}],\"carpet\":[{\"aaxis\":{\"endlinecolor\":\"#2a3f5f\",\"gridcolor\":\"white\",\"linecolor\":\"white\",\"minorgridcolor\":\"white\",\"startlinecolor\":\"#2a3f5f\"},\"baxis\":{\"endlinecolor\":\"#2a3f5f\",\"gridcolor\":\"white\",\"linecolor\":\"white\",\"minorgridcolor\":\"white\",\"startlinecolor\":\"#2a3f5f\"},\"type\":\"carpet\"}],\"table\":[{\"cells\":{\"fill\":{\"color\":\"#EBF0F8\"},\"line\":{\"color\":\"white\"}},\"header\":{\"fill\":{\"color\":\"#C8D4E3\"},\"line\":{\"color\":\"white\"}},\"type\":\"table\"}],\"barpolar\":[{\"marker\":{\"line\":{\"color\":\"#E5ECF6\",\"width\":0.5},\"pattern\":{\"fillmode\":\"overlay\",\"size\":10,\"solidity\":0.2}},\"type\":\"barpolar\"}],\"pie\":[{\"automargin\":true,\"type\":\"pie\"}]},\"layout\":{\"autotypenumbers\":\"strict\",\"colorway\":[\"#636efa\",\"#EF553B\",\"#00cc96\",\"#ab63fa\",\"#FFA15A\",\"#19d3f3\",\"#FF6692\",\"#B6E880\",\"#FF97FF\",\"#FECB52\"],\"font\":{\"color\":\"#2a3f5f\"},\"hovermode\":\"closest\",\"hoverlabel\":{\"align\":\"left\"},\"paper_bgcolor\":\"white\",\"plot_bgcolor\":\"#E5ECF6\",\"polar\":{\"bgcolor\":\"#E5ECF6\",\"angularaxis\":{\"gridcolor\":\"white\",\"linecolor\":\"white\",\"ticks\":\"\"},\"radialaxis\":{\"gridcolor\":\"white\",\"linecolor\":\"white\",\"ticks\":\"\"}},\"ternary\":{\"bgcolor\":\"#E5ECF6\",\"aaxis\":{\"gridcolor\":\"white\",\"linecolor\":\"white\",\"ticks\":\"\"},\"baxis\":{\"gridcolor\":\"white\",\"linecolor\":\"white\",\"ticks\":\"\"},\"caxis\":{\"gridcolor\":\"white\",\"linecolor\":\"white\",\"ticks\":\"\"}},\"coloraxis\":{\"colorbar\":{\"outlinewidth\":0,\"ticks\":\"\"}},\"colorscale\":{\"sequential\":[[0.0,\"#0d0887\"],[0.1111111111111111,\"#46039f\"],[0.2222222222222222,\"#7201a8\"],[0.3333333333333333,\"#9c179e\"],[0.4444444444444444,\"#bd3786\"],[0.5555555555555556,\"#d8576b\"],[0.6666666666666666,\"#ed7953\"],[0.7777777777777778,\"#fb9f3a\"],[0.8888888888888888,\"#fdca26\"],[1.0,\"#f0f921\"]],\"sequentialminus\":[[0.0,\"#0d0887\"],[0.1111111111111111,\"#46039f\"],[0.2222222222222222,\"#7201a8\"],[0.3333333333333333,\"#9c179e\"],[0.4444444444444444,\"#bd3786\"],[0.5555555555555556,\"#d8576b\"],[0.6666666666666666,\"#ed7953\"],[0.7777777777777778,\"#fb9f3a\"],[0.8888888888888888,\"#fdca26\"],[1.0,\"#f0f921\"]],\"diverging\":[[0,\"#8e0152\"],[0.1,\"#c51b7d\"],[0.2,\"#de77ae\"],[0.3,\"#f1b6da\"],[0.4,\"#fde0ef\"],[0.5,\"#f7f7f7\"],[0.6,\"#e6f5d0\"],[0.7,\"#b8e186\"],[0.8,\"#7fbc41\"],[0.9,\"#4d9221\"],[1,\"#276419\"]]},\"xaxis\":{\"gridcolor\":\"white\",\"linecolor\":\"white\",\"ticks\":\"\",\"title\":{\"standoff\":15},\"zerolinecolor\":\"white\",\"automargin\":true,\"zerolinewidth\":2},\"yaxis\":{\"gridcolor\":\"white\",\"linecolor\":\"white\",\"ticks\":\"\",\"title\":{\"standoff\":15},\"zerolinecolor\":\"white\",\"automargin\":true,\"zerolinewidth\":2},\"scene\":{\"xaxis\":{\"backgroundcolor\":\"#E5ECF6\",\"gridcolor\":\"white\",\"linecolor\":\"white\",\"showbackground\":true,\"ticks\":\"\",\"zerolinecolor\":\"white\",\"gridwidth\":2},\"yaxis\":{\"backgroundcolor\":\"#E5ECF6\",\"gridcolor\":\"white\",\"linecolor\":\"white\",\"showbackground\":true,\"ticks\":\"\",\"zerolinecolor\":\"white\",\"gridwidth\":2},\"zaxis\":{\"backgroundcolor\":\"#E5ECF6\",\"gridcolor\":\"white\",\"linecolor\":\"white\",\"showbackground\":true,\"ticks\":\"\",\"zerolinecolor\":\"white\",\"gridwidth\":2}},\"shapedefaults\":{\"line\":{\"color\":\"#2a3f5f\"}},\"annotationdefaults\":{\"arrowcolor\":\"#2a3f5f\",\"arrowhead\":0,\"arrowwidth\":1},\"geo\":{\"bgcolor\":\"white\",\"landcolor\":\"#E5ECF6\",\"subunitcolor\":\"white\",\"showland\":true,\"showlakes\":true,\"lakecolor\":\"white\"},\"title\":{\"x\":0.05},\"mapbox\":{\"style\":\"light\"}}},\"xaxis\":{\"title\":{\"text\":\"mensalidade\"}},\"yaxis\":{\"title\":{\"text\":\"value\"}}},                        {\"responsive\": true}                    )                };                            </script>        </div>\n",
              "</body>\n",
              "</html>"
            ]
          },
          "metadata": {}
        }
      ],
      "source": [
        "# Gerando para o período matutito\n",
        "\n",
        "df[df['turno']=='Matutino']['mensalidade'].plot.box()"
      ]
    },
    {
      "cell_type": "code",
      "execution_count": null,
      "metadata": {
        "application/vnd.databricks.v1+cell": {
          "cellMetadata": {
            "byteLimit": 2048000,
            "rowLimit": 10000
          },
          "inputWidgets": {},
          "nuid": "cc033d20-a85f-4a43-9234-4a93c6201326",
          "showTitle": false,
          "title": ""
        },
        "id": "1fC2HkgxNKiG",
        "outputId": "c3c1b8f8-c56a-4a89-ce56-a4e8fd52d303"
      },
      "outputs": [
        {
          "output_type": "display_data",
          "data": {
            "text/html": [
              "<html>\n",
              "<head><meta charset=\"utf-8\" /></head>\n",
              "<body>\n",
              "    <div>            <script src=\"https://cdnjs.cloudflare.com/ajax/libs/mathjax/2.7.5/MathJax.js?config=TeX-AMS-MML_SVG\"></script><script type=\"text/javascript\">if (window.MathJax && window.MathJax.Hub && window.MathJax.Hub.Config) {window.MathJax.Hub.Config({SVG: {font: \"STIX-Web\"}});}</script>                <script type=\"text/javascript\">window.PlotlyConfig = {MathJaxConfig: 'local'};</script>\n",
              "        <script src=\"https://cdn.plot.ly/plotly-2.12.1.min.js\"></script>                <div id=\"c7835596-f70d-4c7c-ae08-5b895fc7f655\" class=\"plotly-graph-div\" style=\"height:100%; width:100%;\"></div>            <script type=\"text/javascript\">                                    window.PLOTLYENV=window.PLOTLYENV || {};                                    if (document.getElementById(\"c7835596-f70d-4c7c-ae08-5b895fc7f655\")) {                    Plotly.newPlot(                        \"c7835596-f70d-4c7c-ae08-5b895fc7f655\",                        [{\"boxpoints\":\"suspectedoutliers\",\"lowerfence\":[6113.0],\"mean\":[8007.354666666666],\"median\":[8295.0],\"name\":\"mensalidade\",\"notched\":false,\"q1\":[7130.0],\"q3\":[8608.54],\"upperfence\":[9815.61],\"type\":\"box\"}],                        {\"template\":{\"data\":{\"histogram2dcontour\":[{\"type\":\"histogram2dcontour\",\"colorbar\":{\"outlinewidth\":0,\"ticks\":\"\"},\"colorscale\":[[0.0,\"#0d0887\"],[0.1111111111111111,\"#46039f\"],[0.2222222222222222,\"#7201a8\"],[0.3333333333333333,\"#9c179e\"],[0.4444444444444444,\"#bd3786\"],[0.5555555555555556,\"#d8576b\"],[0.6666666666666666,\"#ed7953\"],[0.7777777777777778,\"#fb9f3a\"],[0.8888888888888888,\"#fdca26\"],[1.0,\"#f0f921\"]]}],\"choropleth\":[{\"type\":\"choropleth\",\"colorbar\":{\"outlinewidth\":0,\"ticks\":\"\"}}],\"histogram2d\":[{\"type\":\"histogram2d\",\"colorbar\":{\"outlinewidth\":0,\"ticks\":\"\"},\"colorscale\":[[0.0,\"#0d0887\"],[0.1111111111111111,\"#46039f\"],[0.2222222222222222,\"#7201a8\"],[0.3333333333333333,\"#9c179e\"],[0.4444444444444444,\"#bd3786\"],[0.5555555555555556,\"#d8576b\"],[0.6666666666666666,\"#ed7953\"],[0.7777777777777778,\"#fb9f3a\"],[0.8888888888888888,\"#fdca26\"],[1.0,\"#f0f921\"]]}],\"heatmap\":[{\"type\":\"heatmap\",\"colorbar\":{\"outlinewidth\":0,\"ticks\":\"\"},\"colorscale\":[[0.0,\"#0d0887\"],[0.1111111111111111,\"#46039f\"],[0.2222222222222222,\"#7201a8\"],[0.3333333333333333,\"#9c179e\"],[0.4444444444444444,\"#bd3786\"],[0.5555555555555556,\"#d8576b\"],[0.6666666666666666,\"#ed7953\"],[0.7777777777777778,\"#fb9f3a\"],[0.8888888888888888,\"#fdca26\"],[1.0,\"#f0f921\"]]}],\"heatmapgl\":[{\"type\":\"heatmapgl\",\"colorbar\":{\"outlinewidth\":0,\"ticks\":\"\"},\"colorscale\":[[0.0,\"#0d0887\"],[0.1111111111111111,\"#46039f\"],[0.2222222222222222,\"#7201a8\"],[0.3333333333333333,\"#9c179e\"],[0.4444444444444444,\"#bd3786\"],[0.5555555555555556,\"#d8576b\"],[0.6666666666666666,\"#ed7953\"],[0.7777777777777778,\"#fb9f3a\"],[0.8888888888888888,\"#fdca26\"],[1.0,\"#f0f921\"]]}],\"contourcarpet\":[{\"type\":\"contourcarpet\",\"colorbar\":{\"outlinewidth\":0,\"ticks\":\"\"}}],\"contour\":[{\"type\":\"contour\",\"colorbar\":{\"outlinewidth\":0,\"ticks\":\"\"},\"colorscale\":[[0.0,\"#0d0887\"],[0.1111111111111111,\"#46039f\"],[0.2222222222222222,\"#7201a8\"],[0.3333333333333333,\"#9c179e\"],[0.4444444444444444,\"#bd3786\"],[0.5555555555555556,\"#d8576b\"],[0.6666666666666666,\"#ed7953\"],[0.7777777777777778,\"#fb9f3a\"],[0.8888888888888888,\"#fdca26\"],[1.0,\"#f0f921\"]]}],\"surface\":[{\"type\":\"surface\",\"colorbar\":{\"outlinewidth\":0,\"ticks\":\"\"},\"colorscale\":[[0.0,\"#0d0887\"],[0.1111111111111111,\"#46039f\"],[0.2222222222222222,\"#7201a8\"],[0.3333333333333333,\"#9c179e\"],[0.4444444444444444,\"#bd3786\"],[0.5555555555555556,\"#d8576b\"],[0.6666666666666666,\"#ed7953\"],[0.7777777777777778,\"#fb9f3a\"],[0.8888888888888888,\"#fdca26\"],[1.0,\"#f0f921\"]]}],\"mesh3d\":[{\"type\":\"mesh3d\",\"colorbar\":{\"outlinewidth\":0,\"ticks\":\"\"}}],\"scatter\":[{\"fillpattern\":{\"fillmode\":\"overlay\",\"size\":10,\"solidity\":0.2},\"type\":\"scatter\"}],\"parcoords\":[{\"type\":\"parcoords\",\"line\":{\"colorbar\":{\"outlinewidth\":0,\"ticks\":\"\"}}}],\"scatterpolargl\":[{\"type\":\"scatterpolargl\",\"marker\":{\"colorbar\":{\"outlinewidth\":0,\"ticks\":\"\"}}}],\"bar\":[{\"error_x\":{\"color\":\"#2a3f5f\"},\"error_y\":{\"color\":\"#2a3f5f\"},\"marker\":{\"line\":{\"color\":\"#E5ECF6\",\"width\":0.5},\"pattern\":{\"fillmode\":\"overlay\",\"size\":10,\"solidity\":0.2}},\"type\":\"bar\"}],\"scattergeo\":[{\"type\":\"scattergeo\",\"marker\":{\"colorbar\":{\"outlinewidth\":0,\"ticks\":\"\"}}}],\"scatterpolar\":[{\"type\":\"scatterpolar\",\"marker\":{\"colorbar\":{\"outlinewidth\":0,\"ticks\":\"\"}}}],\"histogram\":[{\"marker\":{\"pattern\":{\"fillmode\":\"overlay\",\"size\":10,\"solidity\":0.2}},\"type\":\"histogram\"}],\"scattergl\":[{\"type\":\"scattergl\",\"marker\":{\"colorbar\":{\"outlinewidth\":0,\"ticks\":\"\"}}}],\"scatter3d\":[{\"type\":\"scatter3d\",\"line\":{\"colorbar\":{\"outlinewidth\":0,\"ticks\":\"\"}},\"marker\":{\"colorbar\":{\"outlinewidth\":0,\"ticks\":\"\"}}}],\"scattermapbox\":[{\"type\":\"scattermapbox\",\"marker\":{\"colorbar\":{\"outlinewidth\":0,\"ticks\":\"\"}}}],\"scatterternary\":[{\"type\":\"scatterternary\",\"marker\":{\"colorbar\":{\"outlinewidth\":0,\"ticks\":\"\"}}}],\"scattercarpet\":[{\"type\":\"scattercarpet\",\"marker\":{\"colorbar\":{\"outlinewidth\":0,\"ticks\":\"\"}}}],\"carpet\":[{\"aaxis\":{\"endlinecolor\":\"#2a3f5f\",\"gridcolor\":\"white\",\"linecolor\":\"white\",\"minorgridcolor\":\"white\",\"startlinecolor\":\"#2a3f5f\"},\"baxis\":{\"endlinecolor\":\"#2a3f5f\",\"gridcolor\":\"white\",\"linecolor\":\"white\",\"minorgridcolor\":\"white\",\"startlinecolor\":\"#2a3f5f\"},\"type\":\"carpet\"}],\"table\":[{\"cells\":{\"fill\":{\"color\":\"#EBF0F8\"},\"line\":{\"color\":\"white\"}},\"header\":{\"fill\":{\"color\":\"#C8D4E3\"},\"line\":{\"color\":\"white\"}},\"type\":\"table\"}],\"barpolar\":[{\"marker\":{\"line\":{\"color\":\"#E5ECF6\",\"width\":0.5},\"pattern\":{\"fillmode\":\"overlay\",\"size\":10,\"solidity\":0.2}},\"type\":\"barpolar\"}],\"pie\":[{\"automargin\":true,\"type\":\"pie\"}]},\"layout\":{\"autotypenumbers\":\"strict\",\"colorway\":[\"#636efa\",\"#EF553B\",\"#00cc96\",\"#ab63fa\",\"#FFA15A\",\"#19d3f3\",\"#FF6692\",\"#B6E880\",\"#FF97FF\",\"#FECB52\"],\"font\":{\"color\":\"#2a3f5f\"},\"hovermode\":\"closest\",\"hoverlabel\":{\"align\":\"left\"},\"paper_bgcolor\":\"white\",\"plot_bgcolor\":\"#E5ECF6\",\"polar\":{\"bgcolor\":\"#E5ECF6\",\"angularaxis\":{\"gridcolor\":\"white\",\"linecolor\":\"white\",\"ticks\":\"\"},\"radialaxis\":{\"gridcolor\":\"white\",\"linecolor\":\"white\",\"ticks\":\"\"}},\"ternary\":{\"bgcolor\":\"#E5ECF6\",\"aaxis\":{\"gridcolor\":\"white\",\"linecolor\":\"white\",\"ticks\":\"\"},\"baxis\":{\"gridcolor\":\"white\",\"linecolor\":\"white\",\"ticks\":\"\"},\"caxis\":{\"gridcolor\":\"white\",\"linecolor\":\"white\",\"ticks\":\"\"}},\"coloraxis\":{\"colorbar\":{\"outlinewidth\":0,\"ticks\":\"\"}},\"colorscale\":{\"sequential\":[[0.0,\"#0d0887\"],[0.1111111111111111,\"#46039f\"],[0.2222222222222222,\"#7201a8\"],[0.3333333333333333,\"#9c179e\"],[0.4444444444444444,\"#bd3786\"],[0.5555555555555556,\"#d8576b\"],[0.6666666666666666,\"#ed7953\"],[0.7777777777777778,\"#fb9f3a\"],[0.8888888888888888,\"#fdca26\"],[1.0,\"#f0f921\"]],\"sequentialminus\":[[0.0,\"#0d0887\"],[0.1111111111111111,\"#46039f\"],[0.2222222222222222,\"#7201a8\"],[0.3333333333333333,\"#9c179e\"],[0.4444444444444444,\"#bd3786\"],[0.5555555555555556,\"#d8576b\"],[0.6666666666666666,\"#ed7953\"],[0.7777777777777778,\"#fb9f3a\"],[0.8888888888888888,\"#fdca26\"],[1.0,\"#f0f921\"]],\"diverging\":[[0,\"#8e0152\"],[0.1,\"#c51b7d\"],[0.2,\"#de77ae\"],[0.3,\"#f1b6da\"],[0.4,\"#fde0ef\"],[0.5,\"#f7f7f7\"],[0.6,\"#e6f5d0\"],[0.7,\"#b8e186\"],[0.8,\"#7fbc41\"],[0.9,\"#4d9221\"],[1,\"#276419\"]]},\"xaxis\":{\"gridcolor\":\"white\",\"linecolor\":\"white\",\"ticks\":\"\",\"title\":{\"standoff\":15},\"zerolinecolor\":\"white\",\"automargin\":true,\"zerolinewidth\":2},\"yaxis\":{\"gridcolor\":\"white\",\"linecolor\":\"white\",\"ticks\":\"\",\"title\":{\"standoff\":15},\"zerolinecolor\":\"white\",\"automargin\":true,\"zerolinewidth\":2},\"scene\":{\"xaxis\":{\"backgroundcolor\":\"#E5ECF6\",\"gridcolor\":\"white\",\"linecolor\":\"white\",\"showbackground\":true,\"ticks\":\"\",\"zerolinecolor\":\"white\",\"gridwidth\":2},\"yaxis\":{\"backgroundcolor\":\"#E5ECF6\",\"gridcolor\":\"white\",\"linecolor\":\"white\",\"showbackground\":true,\"ticks\":\"\",\"zerolinecolor\":\"white\",\"gridwidth\":2},\"zaxis\":{\"backgroundcolor\":\"#E5ECF6\",\"gridcolor\":\"white\",\"linecolor\":\"white\",\"showbackground\":true,\"ticks\":\"\",\"zerolinecolor\":\"white\",\"gridwidth\":2}},\"shapedefaults\":{\"line\":{\"color\":\"#2a3f5f\"}},\"annotationdefaults\":{\"arrowcolor\":\"#2a3f5f\",\"arrowhead\":0,\"arrowwidth\":1},\"geo\":{\"bgcolor\":\"white\",\"landcolor\":\"#E5ECF6\",\"subunitcolor\":\"white\",\"showland\":true,\"showlakes\":true,\"lakecolor\":\"white\"},\"title\":{\"x\":0.05},\"mapbox\":{\"style\":\"light\"}}},\"xaxis\":{\"title\":{\"text\":\"mensalidade\"}},\"yaxis\":{\"title\":{\"text\":\"value\"}}},                        {\"responsive\": true}                    )                };                            </script>        </div>\n",
              "</body>\n",
              "</html>"
            ]
          },
          "metadata": {}
        }
      ],
      "source": [
        "# Média da mensalidade do curso de med\n",
        "\n",
        "df[df['nome_curso']=='Medicina']['mensalidade'].plot.box()"
      ]
    },
    {
      "cell_type": "code",
      "execution_count": null,
      "metadata": {
        "application/vnd.databricks.v1+cell": {
          "cellMetadata": {
            "byteLimit": 2048000,
            "rowLimit": 10000
          },
          "inputWidgets": {},
          "nuid": "436090c5-6c29-4fb7-827f-71a09a054da0",
          "showTitle": false,
          "title": ""
        },
        "id": "YakJBbRANKiG",
        "outputId": "47e8480c-01a4-4805-a409-6ebc5d563e5d"
      },
      "outputs": [
        {
          "output_type": "display_data",
          "data": {
            "text/html": [
              "<html>\n",
              "<head><meta charset=\"utf-8\" /></head>\n",
              "<body>\n",
              "    <div>            <script src=\"https://cdnjs.cloudflare.com/ajax/libs/mathjax/2.7.5/MathJax.js?config=TeX-AMS-MML_SVG\"></script><script type=\"text/javascript\">if (window.MathJax && window.MathJax.Hub && window.MathJax.Hub.Config) {window.MathJax.Hub.Config({SVG: {font: \"STIX-Web\"}});}</script>                <script type=\"text/javascript\">window.PlotlyConfig = {MathJaxConfig: 'local'};</script>\n",
              "        <script src=\"https://cdn.plot.ly/plotly-2.12.1.min.js\"></script>                <div id=\"1bb1d584-7460-4384-8fb6-154ddf4a3539\" class=\"plotly-graph-div\" style=\"height:100%; width:100%;\"></div>            <script type=\"text/javascript\">                                    window.PLOTLYENV=window.PLOTLYENV || {};                                    if (document.getElementById(\"1bb1d584-7460-4384-8fb6-154ddf4a3539\")) {                    Plotly.newPlot(                        \"1bb1d584-7460-4384-8fb6-154ddf4a3539\",                        [{\"boxpoints\":\"suspectedoutliers\",\"lowerfence\":[588.25],\"mean\":[1007.7041489361704],\"median\":[967.13],\"name\":\"mensalidade\",\"notched\":false,\"q1\":[747.0],\"q3\":[1150.0],\"upperfence\":[1560.55],\"y\":[[1833.25,2037.0,2037.0]],\"type\":\"box\"}],                        {\"template\":{\"data\":{\"histogram2dcontour\":[{\"type\":\"histogram2dcontour\",\"colorbar\":{\"outlinewidth\":0,\"ticks\":\"\"},\"colorscale\":[[0.0,\"#0d0887\"],[0.1111111111111111,\"#46039f\"],[0.2222222222222222,\"#7201a8\"],[0.3333333333333333,\"#9c179e\"],[0.4444444444444444,\"#bd3786\"],[0.5555555555555556,\"#d8576b\"],[0.6666666666666666,\"#ed7953\"],[0.7777777777777778,\"#fb9f3a\"],[0.8888888888888888,\"#fdca26\"],[1.0,\"#f0f921\"]]}],\"choropleth\":[{\"type\":\"choropleth\",\"colorbar\":{\"outlinewidth\":0,\"ticks\":\"\"}}],\"histogram2d\":[{\"type\":\"histogram2d\",\"colorbar\":{\"outlinewidth\":0,\"ticks\":\"\"},\"colorscale\":[[0.0,\"#0d0887\"],[0.1111111111111111,\"#46039f\"],[0.2222222222222222,\"#7201a8\"],[0.3333333333333333,\"#9c179e\"],[0.4444444444444444,\"#bd3786\"],[0.5555555555555556,\"#d8576b\"],[0.6666666666666666,\"#ed7953\"],[0.7777777777777778,\"#fb9f3a\"],[0.8888888888888888,\"#fdca26\"],[1.0,\"#f0f921\"]]}],\"heatmap\":[{\"type\":\"heatmap\",\"colorbar\":{\"outlinewidth\":0,\"ticks\":\"\"},\"colorscale\":[[0.0,\"#0d0887\"],[0.1111111111111111,\"#46039f\"],[0.2222222222222222,\"#7201a8\"],[0.3333333333333333,\"#9c179e\"],[0.4444444444444444,\"#bd3786\"],[0.5555555555555556,\"#d8576b\"],[0.6666666666666666,\"#ed7953\"],[0.7777777777777778,\"#fb9f3a\"],[0.8888888888888888,\"#fdca26\"],[1.0,\"#f0f921\"]]}],\"heatmapgl\":[{\"type\":\"heatmapgl\",\"colorbar\":{\"outlinewidth\":0,\"ticks\":\"\"},\"colorscale\":[[0.0,\"#0d0887\"],[0.1111111111111111,\"#46039f\"],[0.2222222222222222,\"#7201a8\"],[0.3333333333333333,\"#9c179e\"],[0.4444444444444444,\"#bd3786\"],[0.5555555555555556,\"#d8576b\"],[0.6666666666666666,\"#ed7953\"],[0.7777777777777778,\"#fb9f3a\"],[0.8888888888888888,\"#fdca26\"],[1.0,\"#f0f921\"]]}],\"contourcarpet\":[{\"type\":\"contourcarpet\",\"colorbar\":{\"outlinewidth\":0,\"ticks\":\"\"}}],\"contour\":[{\"type\":\"contour\",\"colorbar\":{\"outlinewidth\":0,\"ticks\":\"\"},\"colorscale\":[[0.0,\"#0d0887\"],[0.1111111111111111,\"#46039f\"],[0.2222222222222222,\"#7201a8\"],[0.3333333333333333,\"#9c179e\"],[0.4444444444444444,\"#bd3786\"],[0.5555555555555556,\"#d8576b\"],[0.6666666666666666,\"#ed7953\"],[0.7777777777777778,\"#fb9f3a\"],[0.8888888888888888,\"#fdca26\"],[1.0,\"#f0f921\"]]}],\"surface\":[{\"type\":\"surface\",\"colorbar\":{\"outlinewidth\":0,\"ticks\":\"\"},\"colorscale\":[[0.0,\"#0d0887\"],[0.1111111111111111,\"#46039f\"],[0.2222222222222222,\"#7201a8\"],[0.3333333333333333,\"#9c179e\"],[0.4444444444444444,\"#bd3786\"],[0.5555555555555556,\"#d8576b\"],[0.6666666666666666,\"#ed7953\"],[0.7777777777777778,\"#fb9f3a\"],[0.8888888888888888,\"#fdca26\"],[1.0,\"#f0f921\"]]}],\"mesh3d\":[{\"type\":\"mesh3d\",\"colorbar\":{\"outlinewidth\":0,\"ticks\":\"\"}}],\"scatter\":[{\"fillpattern\":{\"fillmode\":\"overlay\",\"size\":10,\"solidity\":0.2},\"type\":\"scatter\"}],\"parcoords\":[{\"type\":\"parcoords\",\"line\":{\"colorbar\":{\"outlinewidth\":0,\"ticks\":\"\"}}}],\"scatterpolargl\":[{\"type\":\"scatterpolargl\",\"marker\":{\"colorbar\":{\"outlinewidth\":0,\"ticks\":\"\"}}}],\"bar\":[{\"error_x\":{\"color\":\"#2a3f5f\"},\"error_y\":{\"color\":\"#2a3f5f\"},\"marker\":{\"line\":{\"color\":\"#E5ECF6\",\"width\":0.5},\"pattern\":{\"fillmode\":\"overlay\",\"size\":10,\"solidity\":0.2}},\"type\":\"bar\"}],\"scattergeo\":[{\"type\":\"scattergeo\",\"marker\":{\"colorbar\":{\"outlinewidth\":0,\"ticks\":\"\"}}}],\"scatterpolar\":[{\"type\":\"scatterpolar\",\"marker\":{\"colorbar\":{\"outlinewidth\":0,\"ticks\":\"\"}}}],\"histogram\":[{\"marker\":{\"pattern\":{\"fillmode\":\"overlay\",\"size\":10,\"solidity\":0.2}},\"type\":\"histogram\"}],\"scattergl\":[{\"type\":\"scattergl\",\"marker\":{\"colorbar\":{\"outlinewidth\":0,\"ticks\":\"\"}}}],\"scatter3d\":[{\"type\":\"scatter3d\",\"line\":{\"colorbar\":{\"outlinewidth\":0,\"ticks\":\"\"}},\"marker\":{\"colorbar\":{\"outlinewidth\":0,\"ticks\":\"\"}}}],\"scattermapbox\":[{\"type\":\"scattermapbox\",\"marker\":{\"colorbar\":{\"outlinewidth\":0,\"ticks\":\"\"}}}],\"scatterternary\":[{\"type\":\"scatterternary\",\"marker\":{\"colorbar\":{\"outlinewidth\":0,\"ticks\":\"\"}}}],\"scattercarpet\":[{\"type\":\"scattercarpet\",\"marker\":{\"colorbar\":{\"outlinewidth\":0,\"ticks\":\"\"}}}],\"carpet\":[{\"aaxis\":{\"endlinecolor\":\"#2a3f5f\",\"gridcolor\":\"white\",\"linecolor\":\"white\",\"minorgridcolor\":\"white\",\"startlinecolor\":\"#2a3f5f\"},\"baxis\":{\"endlinecolor\":\"#2a3f5f\",\"gridcolor\":\"white\",\"linecolor\":\"white\",\"minorgridcolor\":\"white\",\"startlinecolor\":\"#2a3f5f\"},\"type\":\"carpet\"}],\"table\":[{\"cells\":{\"fill\":{\"color\":\"#EBF0F8\"},\"line\":{\"color\":\"white\"}},\"header\":{\"fill\":{\"color\":\"#C8D4E3\"},\"line\":{\"color\":\"white\"}},\"type\":\"table\"}],\"barpolar\":[{\"marker\":{\"line\":{\"color\":\"#E5ECF6\",\"width\":0.5},\"pattern\":{\"fillmode\":\"overlay\",\"size\":10,\"solidity\":0.2}},\"type\":\"barpolar\"}],\"pie\":[{\"automargin\":true,\"type\":\"pie\"}]},\"layout\":{\"autotypenumbers\":\"strict\",\"colorway\":[\"#636efa\",\"#EF553B\",\"#00cc96\",\"#ab63fa\",\"#FFA15A\",\"#19d3f3\",\"#FF6692\",\"#B6E880\",\"#FF97FF\",\"#FECB52\"],\"font\":{\"color\":\"#2a3f5f\"},\"hovermode\":\"closest\",\"hoverlabel\":{\"align\":\"left\"},\"paper_bgcolor\":\"white\",\"plot_bgcolor\":\"#E5ECF6\",\"polar\":{\"bgcolor\":\"#E5ECF6\",\"angularaxis\":{\"gridcolor\":\"white\",\"linecolor\":\"white\",\"ticks\":\"\"},\"radialaxis\":{\"gridcolor\":\"white\",\"linecolor\":\"white\",\"ticks\":\"\"}},\"ternary\":{\"bgcolor\":\"#E5ECF6\",\"aaxis\":{\"gridcolor\":\"white\",\"linecolor\":\"white\",\"ticks\":\"\"},\"baxis\":{\"gridcolor\":\"white\",\"linecolor\":\"white\",\"ticks\":\"\"},\"caxis\":{\"gridcolor\":\"white\",\"linecolor\":\"white\",\"ticks\":\"\"}},\"coloraxis\":{\"colorbar\":{\"outlinewidth\":0,\"ticks\":\"\"}},\"colorscale\":{\"sequential\":[[0.0,\"#0d0887\"],[0.1111111111111111,\"#46039f\"],[0.2222222222222222,\"#7201a8\"],[0.3333333333333333,\"#9c179e\"],[0.4444444444444444,\"#bd3786\"],[0.5555555555555556,\"#d8576b\"],[0.6666666666666666,\"#ed7953\"],[0.7777777777777778,\"#fb9f3a\"],[0.8888888888888888,\"#fdca26\"],[1.0,\"#f0f921\"]],\"sequentialminus\":[[0.0,\"#0d0887\"],[0.1111111111111111,\"#46039f\"],[0.2222222222222222,\"#7201a8\"],[0.3333333333333333,\"#9c179e\"],[0.4444444444444444,\"#bd3786\"],[0.5555555555555556,\"#d8576b\"],[0.6666666666666666,\"#ed7953\"],[0.7777777777777778,\"#fb9f3a\"],[0.8888888888888888,\"#fdca26\"],[1.0,\"#f0f921\"]],\"diverging\":[[0,\"#8e0152\"],[0.1,\"#c51b7d\"],[0.2,\"#de77ae\"],[0.3,\"#f1b6da\"],[0.4,\"#fde0ef\"],[0.5,\"#f7f7f7\"],[0.6,\"#e6f5d0\"],[0.7,\"#b8e186\"],[0.8,\"#7fbc41\"],[0.9,\"#4d9221\"],[1,\"#276419\"]]},\"xaxis\":{\"gridcolor\":\"white\",\"linecolor\":\"white\",\"ticks\":\"\",\"title\":{\"standoff\":15},\"zerolinecolor\":\"white\",\"automargin\":true,\"zerolinewidth\":2},\"yaxis\":{\"gridcolor\":\"white\",\"linecolor\":\"white\",\"ticks\":\"\",\"title\":{\"standoff\":15},\"zerolinecolor\":\"white\",\"automargin\":true,\"zerolinewidth\":2},\"scene\":{\"xaxis\":{\"backgroundcolor\":\"#E5ECF6\",\"gridcolor\":\"white\",\"linecolor\":\"white\",\"showbackground\":true,\"ticks\":\"\",\"zerolinecolor\":\"white\",\"gridwidth\":2},\"yaxis\":{\"backgroundcolor\":\"#E5ECF6\",\"gridcolor\":\"white\",\"linecolor\":\"white\",\"showbackground\":true,\"ticks\":\"\",\"zerolinecolor\":\"white\",\"gridwidth\":2},\"zaxis\":{\"backgroundcolor\":\"#E5ECF6\",\"gridcolor\":\"white\",\"linecolor\":\"white\",\"showbackground\":true,\"ticks\":\"\",\"zerolinecolor\":\"white\",\"gridwidth\":2}},\"shapedefaults\":{\"line\":{\"color\":\"#2a3f5f\"}},\"annotationdefaults\":{\"arrowcolor\":\"#2a3f5f\",\"arrowhead\":0,\"arrowwidth\":1},\"geo\":{\"bgcolor\":\"white\",\"landcolor\":\"#E5ECF6\",\"subunitcolor\":\"white\",\"showland\":true,\"showlakes\":true,\"lakecolor\":\"white\"},\"title\":{\"x\":0.05},\"mapbox\":{\"style\":\"light\"}}},\"xaxis\":{\"title\":{\"text\":\"mensalidade\"}},\"yaxis\":{\"title\":{\"text\":\"value\"}}},                        {\"responsive\": true}                    )                };                            </script>        </div>\n",
              "</body>\n",
              "</html>"
            ]
          },
          "metadata": {}
        }
      ],
      "source": [
        "# Media do curso de enfermagem\n",
        "\n",
        "df[df['nome_curso']=='Enfermagem']['mensalidade'].plot.box()"
      ]
    },
    {
      "cell_type": "code",
      "execution_count": null,
      "metadata": {
        "application/vnd.databricks.v1+cell": {
          "cellMetadata": {
            "byteLimit": 2048000,
            "rowLimit": 10000
          },
          "inputWidgets": {},
          "nuid": "cdb7a3a4-773c-4b93-a3ea-f170457e85ac",
          "showTitle": false,
          "title": ""
        },
        "id": "stL3Ag54NKiG"
      },
      "outputs": [],
      "source": [
        "#import pyspark.pandas as ps\n",
        "\n",
        "#data = {'Produto': ['A', 'B', 'C', 'A', 'B', 'C', 'A', 'B', 'C', 'A', 'B', 'C'],\n",
        "        #'Preço (R$)': [1200, 1500, 1000, 1300, 1600, 1100, 1250, 1550, 1050, 1350, 1450, 1150]}\n",
        "\n",
        "#df = ps.DataFrame(data)"
      ]
    },
    {
      "cell_type": "code",
      "execution_count": null,
      "metadata": {
        "application/vnd.databricks.v1+cell": {
          "cellMetadata": {
            "byteLimit": 2048000,
            "rowLimit": 10000
          },
          "inputWidgets": {},
          "nuid": "006f404e-c3ab-4daf-9aa0-e71715c383f9",
          "showTitle": false,
          "title": ""
        },
        "id": "EoxySLunNKiG"
      },
      "outputs": [],
      "source": [
        "#df['Preço (R$)'].plot.box()"
      ]
    },
    {
      "cell_type": "markdown",
      "metadata": {
        "application/vnd.databricks.v1+cell": {
          "cellMetadata": {
            "byteLimit": 2048000,
            "rowLimit": 10000
          },
          "inputWidgets": {},
          "nuid": "ba6d12aa-b0f9-45ac-adf6-ea61fdd81bfd",
          "showTitle": false,
          "title": ""
        },
        "id": "bg26hyAcNKiH"
      },
      "source": [
        "\n",
        "# Métodos de String"
      ]
    },
    {
      "cell_type": "code",
      "execution_count": null,
      "metadata": {
        "application/vnd.databricks.v1+cell": {
          "cellMetadata": {
            "byteLimit": 2048000,
            "rowLimit": 10000
          },
          "inputWidgets": {},
          "nuid": "5d6b4953-697e-443a-81ee-51d668990739",
          "showTitle": false,
          "title": ""
        },
        "id": "xQvnoSx1NKiH",
        "outputId": "4092917a-520a-4326-8011-78ee9595769a"
      },
      "outputs": [
        {
          "output_type": "execute_result",
          "data": {
            "text/plain": [
              "0             Faculdades Integradas Pitágoras - FIP-MOC\n",
              "1          Faculdade da Saúde e Ecologia Humana - FASEH\n",
              "2                          Faculdade das Américas - FAM\n",
              "3           Faculdade Metropolitana da Amazônia - FAMAZ\n",
              "4     Faculdade de Ciências Médicas da Paraíba - FCM-PB\n",
              "5                      Faculdade Redentor - FACREDENTOR\n",
              "6                   Faculdade Barão do Rio Branco - FAB\n",
              "7             Universidade Cidade de São Paulo - UNICID\n",
              "8        Centro Universitário Integrado de Campo Mourão\n",
              "9                     Faculdade Campo Real - CAMPO REAL\n",
              "10               Centro Universitário São Lucas - UniSL\n",
              "11              Faculdade Brasileira - MULTIVIX VITÓRIA\n",
              "12          Universidade do Ceuma - Uniceuma - UNICEUMA\n",
              "13                     Universidade de Franca - UNIFRAN\n",
              "Name: universidade_nome, dtype: object"
            ]
          },
          "execution_count": 58,
          "metadata": {}
        }
      ],
      "source": [
        "# Quais faculdades são universidades?\n",
        "\n",
        "df_medicina['universidade_nome'].unique()"
      ]
    },
    {
      "cell_type": "code",
      "execution_count": null,
      "metadata": {
        "application/vnd.databricks.v1+cell": {
          "cellMetadata": {
            "byteLimit": 2048000,
            "rowLimit": 10000
          },
          "inputWidgets": {},
          "nuid": "3d06a878-5248-4ab1-9f9d-1fafe030beea",
          "showTitle": false,
          "title": ""
        },
        "id": "hQIBIea4NKiH"
      },
      "outputs": [],
      "source": [
        "# Fazendo uma seleção baseada em métodos de string\n",
        "# Método contains passa o nome que você quer comparar\n",
        "selecao_variada = df_medicina[df_medicina['universidade_nome'].str.contains('Universidade')][['universidade_nome']]"
      ]
    },
    {
      "cell_type": "code",
      "execution_count": null,
      "metadata": {
        "application/vnd.databricks.v1+cell": {
          "cellMetadata": {
            "byteLimit": 2048000,
            "rowLimit": 10000
          },
          "inputWidgets": {},
          "nuid": "c8464301-0471-4c18-bd7b-163f5c9b79be",
          "showTitle": false,
          "title": ""
        },
        "id": "9US9rt3dNKiH",
        "outputId": "f44c8e4a-e83f-4808-d0b3-ecc6cb4df23c"
      },
      "outputs": [
        {
          "output_type": "execute_result",
          "data": {
            "text/html": [
              "<div>\n",
              "<style scoped>\n",
              "    .dataframe tbody tr th:only-of-type {\n",
              "        vertical-align: middle;\n",
              "    }\n",
              "\n",
              "    .dataframe tbody tr th {\n",
              "        vertical-align: top;\n",
              "    }\n",
              "\n",
              "    .dataframe thead th {\n",
              "        text-align: right;\n",
              "    }\n",
              "</style>\n",
              "<table border=\"1\" class=\"dataframe\">\n",
              "  <thead>\n",
              "    <tr style=\"text-align: right;\">\n",
              "      <th></th>\n",
              "      <th>universidade_nome</th>\n",
              "    </tr>\n",
              "  </thead>\n",
              "  <tbody>\n",
              "    <tr>\n",
              "      <th>2</th>\n",
              "      <td>Universidade Cidade de São Paulo - UNICID</td>\n",
              "    </tr>\n",
              "    <tr>\n",
              "      <th>20</th>\n",
              "      <td>Universidade do Ceuma - Uniceuma - UNICEUMA</td>\n",
              "    </tr>\n",
              "    <tr>\n",
              "      <th>21</th>\n",
              "      <td>Universidade do Ceuma - Uniceuma - UNICEUMA</td>\n",
              "    </tr>\n",
              "    <tr>\n",
              "      <th>71</th>\n",
              "      <td>Universidade de Franca - UNIFRAN</td>\n",
              "    </tr>\n",
              "  </tbody>\n",
              "</table>\n",
              "</div>"
            ],
            "text/plain": [
              "                              universidade_nome\n",
              "2     Universidade Cidade de São Paulo - UNICID\n",
              "20  Universidade do Ceuma - Uniceuma - UNICEUMA\n",
              "21  Universidade do Ceuma - Uniceuma - UNICEUMA\n",
              "71             Universidade de Franca - UNIFRAN"
            ]
          },
          "execution_count": 60,
          "metadata": {}
        }
      ],
      "source": [
        "selecao_variada"
      ]
    },
    {
      "cell_type": "code",
      "execution_count": null,
      "metadata": {
        "application/vnd.databricks.v1+cell": {
          "cellMetadata": {
            "byteLimit": 2048000,
            "rowLimit": 10000
          },
          "inputWidgets": {},
          "nuid": "39da0101-41bc-4915-b320-82d171b0a54b",
          "showTitle": false,
          "title": ""
        },
        "id": "xZN-gKE3NKiI",
        "outputId": "16316043-0924-49f1-83f1-4799b4c6b75c"
      },
      "outputs": [
        {
          "output_type": "execute_result",
          "data": {
            "text/plain": [
              "'Centro Universitário Integrado de Campo Mourão - CUICM'"
            ]
          },
          "execution_count": 61,
          "metadata": {}
        }
      ],
      "source": [
        "# Separar o nome da universidade da sigla\n",
        "df_medicina['universidade_nome'].loc[42] = 'Centro Universitário Integrado de Campo Mourão - CUICM'\n",
        "df_medicina['universidade_nome'].loc[42]"
      ]
    },
    {
      "cell_type": "code",
      "execution_count": null,
      "metadata": {
        "application/vnd.databricks.v1+cell": {
          "cellMetadata": {
            "byteLimit": 2048000,
            "rowLimit": 10000
          },
          "inputWidgets": {},
          "nuid": "3e894170-b56e-43ac-9169-429d5a2ae8cd",
          "showTitle": false,
          "title": ""
        },
        "id": "RXmymbjjNKiI",
        "outputId": "c03ca3e5-a492-4051-fde1-7733bc27bea0"
      },
      "outputs": [
        {
          "output_type": "execute_result",
          "data": {
            "text/html": [
              "<div>\n",
              "<style scoped>\n",
              "    .dataframe tbody tr th:only-of-type {\n",
              "        vertical-align: middle;\n",
              "    }\n",
              "\n",
              "    .dataframe tbody tr th {\n",
              "        vertical-align: top;\n",
              "    }\n",
              "\n",
              "    .dataframe thead th {\n",
              "        text-align: right;\n",
              "    }\n",
              "</style>\n",
              "<table border=\"1\" class=\"dataframe\">\n",
              "  <thead>\n",
              "    <tr style=\"text-align: right;\">\n",
              "      <th></th>\n",
              "      <th>0</th>\n",
              "      <th>1</th>\n",
              "    </tr>\n",
              "  </thead>\n",
              "  <tbody>\n",
              "    <tr>\n",
              "      <th>22</th>\n",
              "      <td>Faculdade das Américas</td>\n",
              "      <td>FAM</td>\n",
              "    </tr>\n",
              "    <tr>\n",
              "      <th>71</th>\n",
              "      <td>Universidade de Franca</td>\n",
              "      <td>UNIFRAN</td>\n",
              "    </tr>\n",
              "    <tr>\n",
              "      <th>87</th>\n",
              "      <td>Centro Universitário São Lucas</td>\n",
              "      <td>UniSL</td>\n",
              "    </tr>\n",
              "    <tr>\n",
              "      <th>107</th>\n",
              "      <td>Faculdade Campo Real</td>\n",
              "      <td>CAMPO REAL</td>\n",
              "    </tr>\n",
              "    <tr>\n",
              "      <th>10</th>\n",
              "      <td>Faculdade Redentor</td>\n",
              "      <td>FACREDENTOR</td>\n",
              "    </tr>\n",
              "    <tr>\n",
              "      <th>120</th>\n",
              "      <td>Faculdade Brasileira</td>\n",
              "      <td>MULTIVIX VITÓRIA</td>\n",
              "    </tr>\n",
              "    <tr>\n",
              "      <th>80</th>\n",
              "      <td>Faculdades Integradas Pitágoras</td>\n",
              "      <td>FIP-MOC</td>\n",
              "    </tr>\n",
              "    <tr>\n",
              "      <th>2</th>\n",
              "      <td>Universidade Cidade de São Paulo</td>\n",
              "      <td>UNICID</td>\n",
              "    </tr>\n",
              "    <tr>\n",
              "      <th>4</th>\n",
              "      <td>Faculdade Barão do Rio Branco</td>\n",
              "      <td>FAB</td>\n",
              "    </tr>\n",
              "    <tr>\n",
              "      <th>13</th>\n",
              "      <td>Faculdade Metropolitana da Amazônia</td>\n",
              "      <td>FAMAZ</td>\n",
              "    </tr>\n",
              "    <tr>\n",
              "      <th>21</th>\n",
              "      <td>Universidade do Ceuma</td>\n",
              "      <td>Uniceuma - UNICEUMA</td>\n",
              "    </tr>\n",
              "    <tr>\n",
              "      <th>42</th>\n",
              "      <td>Centro Universitário Integrado de Campo Mourão</td>\n",
              "      <td>CUICM</td>\n",
              "    </tr>\n",
              "    <tr>\n",
              "      <th>20</th>\n",
              "      <td>Universidade do Ceuma</td>\n",
              "      <td>Uniceuma - UNICEUMA</td>\n",
              "    </tr>\n",
              "    <tr>\n",
              "      <th>60</th>\n",
              "      <td>Faculdade de Ciências Médicas da Paraíba</td>\n",
              "      <td>FCM-PB</td>\n",
              "    </tr>\n",
              "    <tr>\n",
              "      <th>24</th>\n",
              "      <td>Faculdade da Saúde e Ecologia Humana</td>\n",
              "      <td>FASEH</td>\n",
              "    </tr>\n",
              "  </tbody>\n",
              "</table>\n",
              "</div>"
            ],
            "text/plain": [
              "                                                   0                     1\n",
              "22                           Faculdade das Américas                    FAM\n",
              "71                           Universidade de Franca                UNIFRAN\n",
              "87                   Centro Universitário São Lucas                  UniSL\n",
              "107                            Faculdade Campo Real             CAMPO REAL\n",
              "10                               Faculdade Redentor            FACREDENTOR\n",
              "120                            Faculdade Brasileira       MULTIVIX VITÓRIA\n",
              "80                  Faculdades Integradas Pitágoras                FIP-MOC\n",
              "2                  Universidade Cidade de São Paulo                 UNICID\n",
              "4                     Faculdade Barão do Rio Branco                    FAB\n",
              "13              Faculdade Metropolitana da Amazônia                  FAMAZ\n",
              "21                            Universidade do Ceuma    Uniceuma - UNICEUMA\n",
              "42   Centro Universitário Integrado de Campo Mourão                  CUICM\n",
              "20                            Universidade do Ceuma    Uniceuma - UNICEUMA\n",
              "60         Faculdade de Ciências Médicas da Paraíba                 FCM-PB\n",
              "24             Faculdade da Saúde e Ecologia Humana                  FASEH"
            ]
          },
          "execution_count": 62,
          "metadata": {}
        }
      ],
      "source": [
        "# Separando a sigla do nome\n",
        "separado = df_medicina['universidade_nome'].str.split('-', n=1, expand= True)\n",
        "separado"
      ]
    },
    {
      "cell_type": "code",
      "execution_count": null,
      "metadata": {
        "application/vnd.databricks.v1+cell": {
          "cellMetadata": {
            "byteLimit": 2048000,
            "rowLimit": 10000
          },
          "inputWidgets": {},
          "nuid": "bc197938-af10-4f58-b401-f31acbeb4fe8",
          "showTitle": false,
          "title": ""
        },
        "id": "mBG9JRMgNKiI"
      },
      "outputs": [],
      "source": [
        "# Inserindo a coluna de siglas no dataframe\n",
        "\n",
        "df_medicina.insert(loc=12, column='sigla', value =separado[1])"
      ]
    },
    {
      "cell_type": "code",
      "execution_count": null,
      "metadata": {
        "application/vnd.databricks.v1+cell": {
          "cellMetadata": {
            "byteLimit": 2048000,
            "rowLimit": 10000
          },
          "inputWidgets": {},
          "nuid": "dd606ee8-c72b-47be-bf94-c4490ec245f5",
          "showTitle": false,
          "title": ""
        },
        "id": "P_f1_TfZNKiI",
        "outputId": "99c5344c-7406-4891-c936-a4b9def7900e"
      },
      "outputs": [
        {
          "output_type": "execute_result",
          "data": {
            "text/html": [
              "<div>\n",
              "<style scoped>\n",
              "    .dataframe tbody tr th:only-of-type {\n",
              "        vertical-align: middle;\n",
              "    }\n",
              "\n",
              "    .dataframe tbody tr th {\n",
              "        vertical-align: top;\n",
              "    }\n",
              "\n",
              "    .dataframe thead th {\n",
              "        text-align: right;\n",
              "    }\n",
              "</style>\n",
              "<table border=\"1\" class=\"dataframe\">\n",
              "  <thead>\n",
              "    <tr style=\"text-align: right;\">\n",
              "      <th></th>\n",
              "      <th>curso_id</th>\n",
              "      <th>grau</th>\n",
              "      <th>turno</th>\n",
              "      <th>mensalidade</th>\n",
              "      <th>bolsa_integral_cotas</th>\n",
              "      <th>bolsa_integral_ampla</th>\n",
              "      <th>bolsa_parcial_cotas</th>\n",
              "      <th>bolsa_parcial_ampla</th>\n",
              "      <th>tipo_cidade</th>\n",
              "      <th>cidade_busca</th>\n",
              "      <th>uf_busca</th>\n",
              "      <th>cidade_filtro</th>\n",
              "      <th>sigla</th>\n",
              "      <th>universidade_nome</th>\n",
              "      <th>campus_nome</th>\n",
              "      <th>campus_id</th>\n",
              "      <th>nome_curso</th>\n",
              "      <th>nota_integral_ampla</th>\n",
              "      <th>nota_integral_cotas</th>\n",
              "      <th>nota_parcial_ampla</th>\n",
              "      <th>nota_parcial_cotas</th>\n",
              "    </tr>\n",
              "  </thead>\n",
              "  <tbody>\n",
              "    <tr>\n",
              "      <th>22</th>\n",
              "      <td>105596711902804</td>\n",
              "      <td>Bacharelado</td>\n",
              "      <td>Integral</td>\n",
              "      <td>8300.00</td>\n",
              "      <td>2</td>\n",
              "      <td>3</td>\n",
              "      <td>4</td>\n",
              "      <td>7</td>\n",
              "      <td>Capital</td>\n",
              "      <td>Sao Paulo</td>\n",
              "      <td>SP</td>\n",
              "      <td>MzUxNTA2MTUwMzA4</td>\n",
              "      <td>FAM</td>\n",
              "      <td>Faculdade das Américas - FAM</td>\n",
              "      <td>RUA AUGUSTA - Consolação</td>\n",
              "      <td>1055967</td>\n",
              "      <td>Medicina</td>\n",
              "      <td>735.84</td>\n",
              "      <td>724.70</td>\n",
              "      <td>738.42</td>\n",
              "      <td>723.28</td>\n",
              "    </tr>\n",
              "    <tr>\n",
              "      <th>71</th>\n",
              "      <td>65793650009334</td>\n",
              "      <td>Bacharelado</td>\n",
              "      <td>Integral</td>\n",
              "      <td>7316.79</td>\n",
              "      <td>2</td>\n",
              "      <td>3</td>\n",
              "      <td>4</td>\n",
              "      <td>8</td>\n",
              "      <td>Município</td>\n",
              "      <td>Franca</td>\n",
              "      <td>SP</td>\n",
              "      <td>MzUwMjAxMjE2MjAw</td>\n",
              "      <td>UNIFRAN</td>\n",
              "      <td>Universidade de Franca - UNIFRAN</td>\n",
              "      <td>POLO NA SEDE - Parque Universitário</td>\n",
              "      <td>657936</td>\n",
              "      <td>Medicina</td>\n",
              "      <td>744.88</td>\n",
              "      <td>730.88</td>\n",
              "      <td>741.36</td>\n",
              "      <td>721.08</td>\n",
              "    </tr>\n",
              "    <tr>\n",
              "      <th>87</th>\n",
              "      <td>658461856524</td>\n",
              "      <td>Bacharelado</td>\n",
              "      <td>Integral</td>\n",
              "      <td>7009.97</td>\n",
              "      <td>4</td>\n",
              "      <td>3</td>\n",
              "      <td>9</td>\n",
              "      <td>5</td>\n",
              "      <td>Município</td>\n",
              "      <td>Porto Velho</td>\n",
              "      <td>RO</td>\n",
              "      <td>MTEwMTAwMTAwMjA1</td>\n",
              "      <td>UniSL</td>\n",
              "      <td>Centro Universitário São Lucas - UniSL</td>\n",
              "      <td>CAMPUS  - PORTO VELHO - AREAL - Areal</td>\n",
              "      <td>658461</td>\n",
              "      <td>Medicina</td>\n",
              "      <td>742.72</td>\n",
              "      <td>720.20</td>\n",
              "      <td>729.72</td>\n",
              "      <td>711.68</td>\n",
              "    </tr>\n",
              "    <tr>\n",
              "      <th>107</th>\n",
              "      <td>66007913994844</td>\n",
              "      <td>Bacharelado</td>\n",
              "      <td>Integral</td>\n",
              "      <td>6498.55</td>\n",
              "      <td>1</td>\n",
              "      <td>1</td>\n",
              "      <td>1</td>\n",
              "      <td>4</td>\n",
              "      <td>Município</td>\n",
              "      <td>Guarapuava</td>\n",
              "      <td>PR</td>\n",
              "      <td>NDEwODAyOTA5NDAx</td>\n",
              "      <td>CAMPO REAL</td>\n",
              "      <td>Faculdade Campo Real - CAMPO REAL</td>\n",
              "      <td>BLOCO 1 - Santa Cruz</td>\n",
              "      <td>660079</td>\n",
              "      <td>Medicina</td>\n",
              "      <td>781.20</td>\n",
              "      <td>731.04</td>\n",
              "      <td>745.06</td>\n",
              "      <td>741.00</td>\n",
              "    </tr>\n",
              "    <tr>\n",
              "      <th>10</th>\n",
              "      <td>65921511844324</td>\n",
              "      <td>Bacharelado</td>\n",
              "      <td>Integral</td>\n",
              "      <td>9123.07</td>\n",
              "      <td>4</td>\n",
              "      <td>4</td>\n",
              "      <td>5</td>\n",
              "      <td>5</td>\n",
              "      <td>Município</td>\n",
              "      <td>Itaperuna</td>\n",
              "      <td>RJ</td>\n",
              "      <td>MzMwMTAwMTAyMjA1</td>\n",
              "      <td>FACREDENTOR</td>\n",
              "      <td>Faculdade Redentor - FACREDENTOR</td>\n",
              "      <td>CAMPUS  - ITAPERUNA - PRESIDENTE COSTA E SILVA...</td>\n",
              "      <td>659215</td>\n",
              "      <td>Medicina</td>\n",
              "      <td>741.06</td>\n",
              "      <td>729.02</td>\n",
              "      <td>730.98</td>\n",
              "      <td>722.82</td>\n",
              "    </tr>\n",
              "  </tbody>\n",
              "</table>\n",
              "</div>"
            ],
            "text/plain": [
              "            curso_id         grau     turno  mensalidade  bolsa_integral_cotas  bolsa_integral_ampla  bolsa_parcial_cotas  bolsa_parcial_ampla tipo_cidade cidade_busca uf_busca     cidade_filtro         sigla                       universidade_nome                                                                campus_nome  campus_id nome_curso  nota_integral_ampla  nota_integral_cotas  nota_parcial_ampla  nota_parcial_cotas\n",
              "22   105596711902804  Bacharelado  Integral      8300.00                     2                     3                    4                    7     Capital    Sao Paulo       SP  MzUxNTA2MTUwMzA4           FAM            Faculdade das Américas - FAM                                                   RUA AUGUSTA - Consolação    1055967   Medicina               735.84               724.70              738.42              723.28\n",
              "71    65793650009334  Bacharelado  Integral      7316.79                     2                     3                    4                    8   Município       Franca       SP  MzUwMjAxMjE2MjAw       UNIFRAN        Universidade de Franca - UNIFRAN                                        POLO NA SEDE - Parque Universitário     657936   Medicina               744.88               730.88              741.36              721.08\n",
              "87      658461856524  Bacharelado  Integral      7009.97                     4                     3                    9                    5   Município  Porto Velho       RO  MTEwMTAwMTAwMjA1         UniSL  Centro Universitário São Lucas - UniSL                                      CAMPUS  - PORTO VELHO - AREAL - Areal     658461   Medicina               742.72               720.20              729.72              711.68\n",
              "107   66007913994844  Bacharelado  Integral      6498.55                     1                     1                    1                    4   Município   Guarapuava       PR  NDEwODAyOTA5NDAx    CAMPO REAL       Faculdade Campo Real - CAMPO REAL                                                       BLOCO 1 - Santa Cruz     660079   Medicina               781.20               731.04              745.06              741.00\n",
              "10    65921511844324  Bacharelado  Integral      9123.07                     4                     4                    5                    5   Município    Itaperuna       RJ  MzMwMTAwMTAyMjA1   FACREDENTOR        Faculdade Redentor - FACREDENTOR  CAMPUS  - ITAPERUNA - PRESIDENTE COSTA E SILVA - Presidente Costa e Silva     659215   Medicina               741.06               729.02              730.98              722.82"
            ]
          },
          "execution_count": 64,
          "metadata": {}
        }
      ],
      "source": [
        "df_medicina.head()"
      ]
    },
    {
      "cell_type": "code",
      "execution_count": null,
      "metadata": {
        "application/vnd.databricks.v1+cell": {
          "cellMetadata": {
            "byteLimit": 2048000,
            "rowLimit": 10000
          },
          "inputWidgets": {},
          "nuid": "a551f0ae-c41f-45aa-9112-01a109ba9ea0",
          "showTitle": false,
          "title": ""
        },
        "id": "meMol-B4NKiI",
        "outputId": "4490c410-3be5-46f9-bd8e-d2c222f86420"
      },
      "outputs": [
        {
          "output_type": "display_data",
          "data": {
            "text/html": [
              "<html>\n",
              "<head><meta charset=\"utf-8\" /></head>\n",
              "<body>\n",
              "    <div>            <script src=\"https://cdnjs.cloudflare.com/ajax/libs/mathjax/2.7.5/MathJax.js?config=TeX-AMS-MML_SVG\"></script><script type=\"text/javascript\">if (window.MathJax && window.MathJax.Hub && window.MathJax.Hub.Config) {window.MathJax.Hub.Config({SVG: {font: \"STIX-Web\"}});}</script>                <script type=\"text/javascript\">window.PlotlyConfig = {MathJaxConfig: 'local'};</script>\n",
              "        <script src=\"https://cdn.plot.ly/plotly-2.12.1.min.js\"></script>                <div id=\"fe3167a2-7048-4e70-8b4c-eaacefdb8533\" class=\"plotly-graph-div\" style=\"height:100%; width:100%;\"></div>            <script type=\"text/javascript\">                                    window.PLOTLYENV=window.PLOTLYENV || {};                                    if (document.getElementById(\"fe3167a2-7048-4e70-8b4c-eaacefdb8533\")) {                    Plotly.newPlot(                        \"fe3167a2-7048-4e70-8b4c-eaacefdb8533\",                        [{\"alignmentgroup\":\"True\",\"hovertemplate\":\"sigla=%{x}<br>nota_media=%{y}<extra></extra>\",\"legendgroup\":\"\",\"marker\":{\"color\":\"#636efa\",\"pattern\":{\"shape\":\"\"}},\"name\":\"\",\"offsetgroup\":\"\",\"orientation\":\"v\",\"showlegend\":false,\"textposition\":\"auto\",\"x\":[\" CAMPO REAL\",\" FASEH\",\" FIP-MOC\",\" MULTIVIX VIT\\u00d3RIA\",\" FAB\",\" Uniceuma - UNICEUMA\",\" FCM-PB\",\" CUICM\",\" UNIFRAN\",\" UniSL\",\" FAMAZ\",\" FACREDENTOR\",\" UNICID\",\" FAM\"],\"xaxis\":\"x\",\"y\":[781.2,770.5,765.76,762.74,758.32,757.1500000000001,754.98,745.46,744.88,742.72,741.36,741.06,739.62,735.84],\"yaxis\":\"y\",\"type\":\"bar\"}],                        {\"template\":{\"data\":{\"histogram2dcontour\":[{\"type\":\"histogram2dcontour\",\"colorbar\":{\"outlinewidth\":0,\"ticks\":\"\"},\"colorscale\":[[0.0,\"#0d0887\"],[0.1111111111111111,\"#46039f\"],[0.2222222222222222,\"#7201a8\"],[0.3333333333333333,\"#9c179e\"],[0.4444444444444444,\"#bd3786\"],[0.5555555555555556,\"#d8576b\"],[0.6666666666666666,\"#ed7953\"],[0.7777777777777778,\"#fb9f3a\"],[0.8888888888888888,\"#fdca26\"],[1.0,\"#f0f921\"]]}],\"choropleth\":[{\"type\":\"choropleth\",\"colorbar\":{\"outlinewidth\":0,\"ticks\":\"\"}}],\"histogram2d\":[{\"type\":\"histogram2d\",\"colorbar\":{\"outlinewidth\":0,\"ticks\":\"\"},\"colorscale\":[[0.0,\"#0d0887\"],[0.1111111111111111,\"#46039f\"],[0.2222222222222222,\"#7201a8\"],[0.3333333333333333,\"#9c179e\"],[0.4444444444444444,\"#bd3786\"],[0.5555555555555556,\"#d8576b\"],[0.6666666666666666,\"#ed7953\"],[0.7777777777777778,\"#fb9f3a\"],[0.8888888888888888,\"#fdca26\"],[1.0,\"#f0f921\"]]}],\"heatmap\":[{\"type\":\"heatmap\",\"colorbar\":{\"outlinewidth\":0,\"ticks\":\"\"},\"colorscale\":[[0.0,\"#0d0887\"],[0.1111111111111111,\"#46039f\"],[0.2222222222222222,\"#7201a8\"],[0.3333333333333333,\"#9c179e\"],[0.4444444444444444,\"#bd3786\"],[0.5555555555555556,\"#d8576b\"],[0.6666666666666666,\"#ed7953\"],[0.7777777777777778,\"#fb9f3a\"],[0.8888888888888888,\"#fdca26\"],[1.0,\"#f0f921\"]]}],\"heatmapgl\":[{\"type\":\"heatmapgl\",\"colorbar\":{\"outlinewidth\":0,\"ticks\":\"\"},\"colorscale\":[[0.0,\"#0d0887\"],[0.1111111111111111,\"#46039f\"],[0.2222222222222222,\"#7201a8\"],[0.3333333333333333,\"#9c179e\"],[0.4444444444444444,\"#bd3786\"],[0.5555555555555556,\"#d8576b\"],[0.6666666666666666,\"#ed7953\"],[0.7777777777777778,\"#fb9f3a\"],[0.8888888888888888,\"#fdca26\"],[1.0,\"#f0f921\"]]}],\"contourcarpet\":[{\"type\":\"contourcarpet\",\"colorbar\":{\"outlinewidth\":0,\"ticks\":\"\"}}],\"contour\":[{\"type\":\"contour\",\"colorbar\":{\"outlinewidth\":0,\"ticks\":\"\"},\"colorscale\":[[0.0,\"#0d0887\"],[0.1111111111111111,\"#46039f\"],[0.2222222222222222,\"#7201a8\"],[0.3333333333333333,\"#9c179e\"],[0.4444444444444444,\"#bd3786\"],[0.5555555555555556,\"#d8576b\"],[0.6666666666666666,\"#ed7953\"],[0.7777777777777778,\"#fb9f3a\"],[0.8888888888888888,\"#fdca26\"],[1.0,\"#f0f921\"]]}],\"surface\":[{\"type\":\"surface\",\"colorbar\":{\"outlinewidth\":0,\"ticks\":\"\"},\"colorscale\":[[0.0,\"#0d0887\"],[0.1111111111111111,\"#46039f\"],[0.2222222222222222,\"#7201a8\"],[0.3333333333333333,\"#9c179e\"],[0.4444444444444444,\"#bd3786\"],[0.5555555555555556,\"#d8576b\"],[0.6666666666666666,\"#ed7953\"],[0.7777777777777778,\"#fb9f3a\"],[0.8888888888888888,\"#fdca26\"],[1.0,\"#f0f921\"]]}],\"mesh3d\":[{\"type\":\"mesh3d\",\"colorbar\":{\"outlinewidth\":0,\"ticks\":\"\"}}],\"scatter\":[{\"fillpattern\":{\"fillmode\":\"overlay\",\"size\":10,\"solidity\":0.2},\"type\":\"scatter\"}],\"parcoords\":[{\"type\":\"parcoords\",\"line\":{\"colorbar\":{\"outlinewidth\":0,\"ticks\":\"\"}}}],\"scatterpolargl\":[{\"type\":\"scatterpolargl\",\"marker\":{\"colorbar\":{\"outlinewidth\":0,\"ticks\":\"\"}}}],\"bar\":[{\"error_x\":{\"color\":\"#2a3f5f\"},\"error_y\":{\"color\":\"#2a3f5f\"},\"marker\":{\"line\":{\"color\":\"#E5ECF6\",\"width\":0.5},\"pattern\":{\"fillmode\":\"overlay\",\"size\":10,\"solidity\":0.2}},\"type\":\"bar\"}],\"scattergeo\":[{\"type\":\"scattergeo\",\"marker\":{\"colorbar\":{\"outlinewidth\":0,\"ticks\":\"\"}}}],\"scatterpolar\":[{\"type\":\"scatterpolar\",\"marker\":{\"colorbar\":{\"outlinewidth\":0,\"ticks\":\"\"}}}],\"histogram\":[{\"marker\":{\"pattern\":{\"fillmode\":\"overlay\",\"size\":10,\"solidity\":0.2}},\"type\":\"histogram\"}],\"scattergl\":[{\"type\":\"scattergl\",\"marker\":{\"colorbar\":{\"outlinewidth\":0,\"ticks\":\"\"}}}],\"scatter3d\":[{\"type\":\"scatter3d\",\"line\":{\"colorbar\":{\"outlinewidth\":0,\"ticks\":\"\"}},\"marker\":{\"colorbar\":{\"outlinewidth\":0,\"ticks\":\"\"}}}],\"scattermapbox\":[{\"type\":\"scattermapbox\",\"marker\":{\"colorbar\":{\"outlinewidth\":0,\"ticks\":\"\"}}}],\"scatterternary\":[{\"type\":\"scatterternary\",\"marker\":{\"colorbar\":{\"outlinewidth\":0,\"ticks\":\"\"}}}],\"scattercarpet\":[{\"type\":\"scattercarpet\",\"marker\":{\"colorbar\":{\"outlinewidth\":0,\"ticks\":\"\"}}}],\"carpet\":[{\"aaxis\":{\"endlinecolor\":\"#2a3f5f\",\"gridcolor\":\"white\",\"linecolor\":\"white\",\"minorgridcolor\":\"white\",\"startlinecolor\":\"#2a3f5f\"},\"baxis\":{\"endlinecolor\":\"#2a3f5f\",\"gridcolor\":\"white\",\"linecolor\":\"white\",\"minorgridcolor\":\"white\",\"startlinecolor\":\"#2a3f5f\"},\"type\":\"carpet\"}],\"table\":[{\"cells\":{\"fill\":{\"color\":\"#EBF0F8\"},\"line\":{\"color\":\"white\"}},\"header\":{\"fill\":{\"color\":\"#C8D4E3\"},\"line\":{\"color\":\"white\"}},\"type\":\"table\"}],\"barpolar\":[{\"marker\":{\"line\":{\"color\":\"#E5ECF6\",\"width\":0.5},\"pattern\":{\"fillmode\":\"overlay\",\"size\":10,\"solidity\":0.2}},\"type\":\"barpolar\"}],\"pie\":[{\"automargin\":true,\"type\":\"pie\"}]},\"layout\":{\"autotypenumbers\":\"strict\",\"colorway\":[\"#636efa\",\"#EF553B\",\"#00cc96\",\"#ab63fa\",\"#FFA15A\",\"#19d3f3\",\"#FF6692\",\"#B6E880\",\"#FF97FF\",\"#FECB52\"],\"font\":{\"color\":\"#2a3f5f\"},\"hovermode\":\"closest\",\"hoverlabel\":{\"align\":\"left\"},\"paper_bgcolor\":\"white\",\"plot_bgcolor\":\"#E5ECF6\",\"polar\":{\"bgcolor\":\"#E5ECF6\",\"angularaxis\":{\"gridcolor\":\"white\",\"linecolor\":\"white\",\"ticks\":\"\"},\"radialaxis\":{\"gridcolor\":\"white\",\"linecolor\":\"white\",\"ticks\":\"\"}},\"ternary\":{\"bgcolor\":\"#E5ECF6\",\"aaxis\":{\"gridcolor\":\"white\",\"linecolor\":\"white\",\"ticks\":\"\"},\"baxis\":{\"gridcolor\":\"white\",\"linecolor\":\"white\",\"ticks\":\"\"},\"caxis\":{\"gridcolor\":\"white\",\"linecolor\":\"white\",\"ticks\":\"\"}},\"coloraxis\":{\"colorbar\":{\"outlinewidth\":0,\"ticks\":\"\"}},\"colorscale\":{\"sequential\":[[0.0,\"#0d0887\"],[0.1111111111111111,\"#46039f\"],[0.2222222222222222,\"#7201a8\"],[0.3333333333333333,\"#9c179e\"],[0.4444444444444444,\"#bd3786\"],[0.5555555555555556,\"#d8576b\"],[0.6666666666666666,\"#ed7953\"],[0.7777777777777778,\"#fb9f3a\"],[0.8888888888888888,\"#fdca26\"],[1.0,\"#f0f921\"]],\"sequentialminus\":[[0.0,\"#0d0887\"],[0.1111111111111111,\"#46039f\"],[0.2222222222222222,\"#7201a8\"],[0.3333333333333333,\"#9c179e\"],[0.4444444444444444,\"#bd3786\"],[0.5555555555555556,\"#d8576b\"],[0.6666666666666666,\"#ed7953\"],[0.7777777777777778,\"#fb9f3a\"],[0.8888888888888888,\"#fdca26\"],[1.0,\"#f0f921\"]],\"diverging\":[[0,\"#8e0152\"],[0.1,\"#c51b7d\"],[0.2,\"#de77ae\"],[0.3,\"#f1b6da\"],[0.4,\"#fde0ef\"],[0.5,\"#f7f7f7\"],[0.6,\"#e6f5d0\"],[0.7,\"#b8e186\"],[0.8,\"#7fbc41\"],[0.9,\"#4d9221\"],[1,\"#276419\"]]},\"xaxis\":{\"gridcolor\":\"white\",\"linecolor\":\"white\",\"ticks\":\"\",\"title\":{\"standoff\":15},\"zerolinecolor\":\"white\",\"automargin\":true,\"zerolinewidth\":2},\"yaxis\":{\"gridcolor\":\"white\",\"linecolor\":\"white\",\"ticks\":\"\",\"title\":{\"standoff\":15},\"zerolinecolor\":\"white\",\"automargin\":true,\"zerolinewidth\":2},\"scene\":{\"xaxis\":{\"backgroundcolor\":\"#E5ECF6\",\"gridcolor\":\"white\",\"linecolor\":\"white\",\"showbackground\":true,\"ticks\":\"\",\"zerolinecolor\":\"white\",\"gridwidth\":2},\"yaxis\":{\"backgroundcolor\":\"#E5ECF6\",\"gridcolor\":\"white\",\"linecolor\":\"white\",\"showbackground\":true,\"ticks\":\"\",\"zerolinecolor\":\"white\",\"gridwidth\":2},\"zaxis\":{\"backgroundcolor\":\"#E5ECF6\",\"gridcolor\":\"white\",\"linecolor\":\"white\",\"showbackground\":true,\"ticks\":\"\",\"zerolinecolor\":\"white\",\"gridwidth\":2}},\"shapedefaults\":{\"line\":{\"color\":\"#2a3f5f\"}},\"annotationdefaults\":{\"arrowcolor\":\"#2a3f5f\",\"arrowhead\":0,\"arrowwidth\":1},\"geo\":{\"bgcolor\":\"white\",\"landcolor\":\"#E5ECF6\",\"subunitcolor\":\"white\",\"showland\":true,\"showlakes\":true,\"lakecolor\":\"white\"},\"title\":{\"x\":0.05},\"mapbox\":{\"style\":\"light\"}}},\"xaxis\":{\"anchor\":\"y\",\"domain\":[0.0,1.0],\"title\":{\"text\":\"sigla\"}},\"yaxis\":{\"anchor\":\"x\",\"domain\":[0.0,1.0],\"title\":{\"text\":\"nota_media\"}},\"legend\":{\"tracegroupgap\":0},\"margin\":{\"t\":60},\"barmode\":\"relative\"},                        {\"responsive\": true}                    )                };                            </script>        </div>\n",
              "</body>\n",
              "</html>"
            ]
          },
          "metadata": {}
        }
      ],
      "source": [
        "# Pegano a média de notas ordenadas por universidade\n",
        "notas_ordenadas = ps.sql('''\n",
        "                         SELECT sigla, MEAN(nota_integral_ampla) AS nota_media\n",
        "                            FROM {DF}\n",
        "                                GROUP BY sigla\n",
        "                                    ORDER BY nota_media DESC\n",
        "                         ''', DF= df_medicina)\n",
        "notas_ordenadas.plot.bar(x='sigla', y='nota_media')\n"
      ]
    },
    {
      "cell_type": "markdown",
      "metadata": {
        "application/vnd.databricks.v1+cell": {
          "cellMetadata": {
            "byteLimit": 2048000,
            "rowLimit": 10000
          },
          "inputWidgets": {},
          "nuid": "30bb486b-49f7-4b5a-9221-889207b6ae27",
          "showTitle": false,
          "title": ""
        },
        "id": "GWoGd8KlNKiJ"
      },
      "source": [
        "\n",
        "# Do Pandas ao Spark"
      ]
    },
    {
      "cell_type": "code",
      "execution_count": null,
      "metadata": {
        "application/vnd.databricks.v1+cell": {
          "cellMetadata": {
            "byteLimit": 2048000,
            "rowLimit": 10000
          },
          "inputWidgets": {},
          "nuid": "0141f971-8b30-4173-b445-09ce0b5e1b44",
          "showTitle": false,
          "title": ""
        },
        "id": "F8PvVraKNKiJ"
      },
      "outputs": [],
      "source": [
        "# Trazendo informação do wikepedia para cá com o pandas convencional\n",
        "import pandas as pd\n",
        "\n",
        "\n",
        "data = {\n",
        "    'Ano': [2021, 2020],\n",
        "    'Bolsas_Integrais': [146.3,182.9],\n",
        "    'Bolsas_Parciais': [150.0, 237.4],\n",
        "    'Bolsas_Total': [296.3,420.3]\n",
        "}"
      ]
    },
    {
      "cell_type": "code",
      "execution_count": null,
      "metadata": {
        "application/vnd.databricks.v1+cell": {
          "cellMetadata": {
            "byteLimit": 2048000,
            "rowLimit": 10000
          },
          "inputWidgets": {},
          "nuid": "74111fe5-65ba-47d9-9432-dc0899ca64a0",
          "showTitle": false,
          "title": ""
        },
        "id": "jDJqzvtuNKiK"
      },
      "outputs": [],
      "source": [
        "df_pandas = pd.DataFrame(data)"
      ]
    },
    {
      "cell_type": "code",
      "execution_count": null,
      "metadata": {
        "application/vnd.databricks.v1+cell": {
          "cellMetadata": {
            "byteLimit": 2048000,
            "rowLimit": 10000
          },
          "inputWidgets": {},
          "nuid": "c3256fb3-5ac9-4c01-940a-25db332a4de3",
          "showTitle": false,
          "title": ""
        },
        "id": "6pKwPB1RNKiK"
      },
      "outputs": [],
      "source": [
        "# Passando da biblioteca pandas para API pandas\n",
        "df_ps_bolsas = ps.from_pandas(df_pandas)"
      ]
    },
    {
      "cell_type": "code",
      "execution_count": null,
      "metadata": {
        "application/vnd.databricks.v1+cell": {
          "cellMetadata": {
            "byteLimit": 2048000,
            "rowLimit": 10000
          },
          "inputWidgets": {},
          "nuid": "8681a6fa-382f-417c-999f-48a8832ee3f6",
          "showTitle": false,
          "title": ""
        },
        "id": "J7atInYrNKiK",
        "outputId": "a1fdd15e-67a4-4ec6-cfed-3ecaed255db2"
      },
      "outputs": [
        {
          "output_type": "execute_result",
          "data": {
            "text/html": [
              "<div>\n",
              "<style scoped>\n",
              "    .dataframe tbody tr th:only-of-type {\n",
              "        vertical-align: middle;\n",
              "    }\n",
              "\n",
              "    .dataframe tbody tr th {\n",
              "        vertical-align: top;\n",
              "    }\n",
              "\n",
              "    .dataframe thead th {\n",
              "        text-align: right;\n",
              "    }\n",
              "</style>\n",
              "<table border=\"1\" class=\"dataframe\">\n",
              "  <thead>\n",
              "    <tr style=\"text-align: right;\">\n",
              "      <th></th>\n",
              "      <th>Ano</th>\n",
              "      <th>Bolsas_Integrais</th>\n",
              "      <th>Bolsas_Parciais</th>\n",
              "      <th>Bolsas_Total</th>\n",
              "    </tr>\n",
              "  </thead>\n",
              "  <tbody>\n",
              "    <tr>\n",
              "      <th>0</th>\n",
              "      <td>2021</td>\n",
              "      <td>146.3</td>\n",
              "      <td>150.0</td>\n",
              "      <td>296.3</td>\n",
              "    </tr>\n",
              "    <tr>\n",
              "      <th>1</th>\n",
              "      <td>2020</td>\n",
              "      <td>182.9</td>\n",
              "      <td>237.4</td>\n",
              "      <td>420.3</td>\n",
              "    </tr>\n",
              "  </tbody>\n",
              "</table>\n",
              "</div>"
            ],
            "text/plain": [
              "    Ano  Bolsas_Integrais  Bolsas_Parciais  Bolsas_Total\n",
              "0  2021             146.3            150.0         296.3\n",
              "1  2020             182.9            237.4         420.3"
            ]
          },
          "execution_count": 69,
          "metadata": {}
        }
      ],
      "source": [
        "df_ps_bolsas"
      ]
    },
    {
      "cell_type": "code",
      "execution_count": null,
      "metadata": {
        "application/vnd.databricks.v1+cell": {
          "cellMetadata": {
            "byteLimit": 2048000,
            "rowLimit": 10000
          },
          "inputWidgets": {},
          "nuid": "95af66ca-45f6-47fa-b298-968db3589b6d",
          "showTitle": false,
          "title": ""
        },
        "id": "BqJmopJdNKiK",
        "outputId": "06bff806-7888-4585-fef0-3393f65c4b75"
      },
      "outputs": [
        {
          "output_type": "display_data",
          "data": {
            "text/html": [
              "<html>\n",
              "<head><meta charset=\"utf-8\" /></head>\n",
              "<body>\n",
              "    <div>            <script src=\"https://cdnjs.cloudflare.com/ajax/libs/mathjax/2.7.5/MathJax.js?config=TeX-AMS-MML_SVG\"></script><script type=\"text/javascript\">if (window.MathJax && window.MathJax.Hub && window.MathJax.Hub.Config) {window.MathJax.Hub.Config({SVG: {font: \"STIX-Web\"}});}</script>                <script type=\"text/javascript\">window.PlotlyConfig = {MathJaxConfig: 'local'};</script>\n",
              "        <script src=\"https://cdn.plot.ly/plotly-2.12.1.min.js\"></script>                <div id=\"95489fa0-db06-417e-874c-3e3c1e7a36ae\" class=\"plotly-graph-div\" style=\"height:100%; width:100%;\"></div>            <script type=\"text/javascript\">                                    window.PLOTLYENV=window.PLOTLYENV || {};                                    if (document.getElementById(\"95489fa0-db06-417e-874c-3e3c1e7a36ae\")) {                    Plotly.newPlot(                        \"95489fa0-db06-417e-874c-3e3c1e7a36ae\",                        [{\"alignmentgroup\":\"True\",\"hovertemplate\":\"variable=Bolsas_Integrais<br>Ano=%{x}<br>value=%{y}<extra></extra>\",\"legendgroup\":\"Bolsas_Integrais\",\"marker\":{\"color\":\"#636efa\",\"pattern\":{\"shape\":\"\"}},\"name\":\"Bolsas_Integrais\",\"offsetgroup\":\"Bolsas_Integrais\",\"orientation\":\"v\",\"showlegend\":true,\"textposition\":\"auto\",\"x\":[2021,2020],\"xaxis\":\"x\",\"y\":[146.3,182.9],\"yaxis\":\"y\",\"type\":\"bar\"},{\"alignmentgroup\":\"True\",\"hovertemplate\":\"variable=Bolsas_Parciais<br>Ano=%{x}<br>value=%{y}<extra></extra>\",\"legendgroup\":\"Bolsas_Parciais\",\"marker\":{\"color\":\"#EF553B\",\"pattern\":{\"shape\":\"\"}},\"name\":\"Bolsas_Parciais\",\"offsetgroup\":\"Bolsas_Parciais\",\"orientation\":\"v\",\"showlegend\":true,\"textposition\":\"auto\",\"x\":[2021,2020],\"xaxis\":\"x\",\"y\":[150.0,237.4],\"yaxis\":\"y\",\"type\":\"bar\"}],                        {\"template\":{\"data\":{\"histogram2dcontour\":[{\"type\":\"histogram2dcontour\",\"colorbar\":{\"outlinewidth\":0,\"ticks\":\"\"},\"colorscale\":[[0.0,\"#0d0887\"],[0.1111111111111111,\"#46039f\"],[0.2222222222222222,\"#7201a8\"],[0.3333333333333333,\"#9c179e\"],[0.4444444444444444,\"#bd3786\"],[0.5555555555555556,\"#d8576b\"],[0.6666666666666666,\"#ed7953\"],[0.7777777777777778,\"#fb9f3a\"],[0.8888888888888888,\"#fdca26\"],[1.0,\"#f0f921\"]]}],\"choropleth\":[{\"type\":\"choropleth\",\"colorbar\":{\"outlinewidth\":0,\"ticks\":\"\"}}],\"histogram2d\":[{\"type\":\"histogram2d\",\"colorbar\":{\"outlinewidth\":0,\"ticks\":\"\"},\"colorscale\":[[0.0,\"#0d0887\"],[0.1111111111111111,\"#46039f\"],[0.2222222222222222,\"#7201a8\"],[0.3333333333333333,\"#9c179e\"],[0.4444444444444444,\"#bd3786\"],[0.5555555555555556,\"#d8576b\"],[0.6666666666666666,\"#ed7953\"],[0.7777777777777778,\"#fb9f3a\"],[0.8888888888888888,\"#fdca26\"],[1.0,\"#f0f921\"]]}],\"heatmap\":[{\"type\":\"heatmap\",\"colorbar\":{\"outlinewidth\":0,\"ticks\":\"\"},\"colorscale\":[[0.0,\"#0d0887\"],[0.1111111111111111,\"#46039f\"],[0.2222222222222222,\"#7201a8\"],[0.3333333333333333,\"#9c179e\"],[0.4444444444444444,\"#bd3786\"],[0.5555555555555556,\"#d8576b\"],[0.6666666666666666,\"#ed7953\"],[0.7777777777777778,\"#fb9f3a\"],[0.8888888888888888,\"#fdca26\"],[1.0,\"#f0f921\"]]}],\"heatmapgl\":[{\"type\":\"heatmapgl\",\"colorbar\":{\"outlinewidth\":0,\"ticks\":\"\"},\"colorscale\":[[0.0,\"#0d0887\"],[0.1111111111111111,\"#46039f\"],[0.2222222222222222,\"#7201a8\"],[0.3333333333333333,\"#9c179e\"],[0.4444444444444444,\"#bd3786\"],[0.5555555555555556,\"#d8576b\"],[0.6666666666666666,\"#ed7953\"],[0.7777777777777778,\"#fb9f3a\"],[0.8888888888888888,\"#fdca26\"],[1.0,\"#f0f921\"]]}],\"contourcarpet\":[{\"type\":\"contourcarpet\",\"colorbar\":{\"outlinewidth\":0,\"ticks\":\"\"}}],\"contour\":[{\"type\":\"contour\",\"colorbar\":{\"outlinewidth\":0,\"ticks\":\"\"},\"colorscale\":[[0.0,\"#0d0887\"],[0.1111111111111111,\"#46039f\"],[0.2222222222222222,\"#7201a8\"],[0.3333333333333333,\"#9c179e\"],[0.4444444444444444,\"#bd3786\"],[0.5555555555555556,\"#d8576b\"],[0.6666666666666666,\"#ed7953\"],[0.7777777777777778,\"#fb9f3a\"],[0.8888888888888888,\"#fdca26\"],[1.0,\"#f0f921\"]]}],\"surface\":[{\"type\":\"surface\",\"colorbar\":{\"outlinewidth\":0,\"ticks\":\"\"},\"colorscale\":[[0.0,\"#0d0887\"],[0.1111111111111111,\"#46039f\"],[0.2222222222222222,\"#7201a8\"],[0.3333333333333333,\"#9c179e\"],[0.4444444444444444,\"#bd3786\"],[0.5555555555555556,\"#d8576b\"],[0.6666666666666666,\"#ed7953\"],[0.7777777777777778,\"#fb9f3a\"],[0.8888888888888888,\"#fdca26\"],[1.0,\"#f0f921\"]]}],\"mesh3d\":[{\"type\":\"mesh3d\",\"colorbar\":{\"outlinewidth\":0,\"ticks\":\"\"}}],\"scatter\":[{\"fillpattern\":{\"fillmode\":\"overlay\",\"size\":10,\"solidity\":0.2},\"type\":\"scatter\"}],\"parcoords\":[{\"type\":\"parcoords\",\"line\":{\"colorbar\":{\"outlinewidth\":0,\"ticks\":\"\"}}}],\"scatterpolargl\":[{\"type\":\"scatterpolargl\",\"marker\":{\"colorbar\":{\"outlinewidth\":0,\"ticks\":\"\"}}}],\"bar\":[{\"error_x\":{\"color\":\"#2a3f5f\"},\"error_y\":{\"color\":\"#2a3f5f\"},\"marker\":{\"line\":{\"color\":\"#E5ECF6\",\"width\":0.5},\"pattern\":{\"fillmode\":\"overlay\",\"size\":10,\"solidity\":0.2}},\"type\":\"bar\"}],\"scattergeo\":[{\"type\":\"scattergeo\",\"marker\":{\"colorbar\":{\"outlinewidth\":0,\"ticks\":\"\"}}}],\"scatterpolar\":[{\"type\":\"scatterpolar\",\"marker\":{\"colorbar\":{\"outlinewidth\":0,\"ticks\":\"\"}}}],\"histogram\":[{\"marker\":{\"pattern\":{\"fillmode\":\"overlay\",\"size\":10,\"solidity\":0.2}},\"type\":\"histogram\"}],\"scattergl\":[{\"type\":\"scattergl\",\"marker\":{\"colorbar\":{\"outlinewidth\":0,\"ticks\":\"\"}}}],\"scatter3d\":[{\"type\":\"scatter3d\",\"line\":{\"colorbar\":{\"outlinewidth\":0,\"ticks\":\"\"}},\"marker\":{\"colorbar\":{\"outlinewidth\":0,\"ticks\":\"\"}}}],\"scattermapbox\":[{\"type\":\"scattermapbox\",\"marker\":{\"colorbar\":{\"outlinewidth\":0,\"ticks\":\"\"}}}],\"scatterternary\":[{\"type\":\"scatterternary\",\"marker\":{\"colorbar\":{\"outlinewidth\":0,\"ticks\":\"\"}}}],\"scattercarpet\":[{\"type\":\"scattercarpet\",\"marker\":{\"colorbar\":{\"outlinewidth\":0,\"ticks\":\"\"}}}],\"carpet\":[{\"aaxis\":{\"endlinecolor\":\"#2a3f5f\",\"gridcolor\":\"white\",\"linecolor\":\"white\",\"minorgridcolor\":\"white\",\"startlinecolor\":\"#2a3f5f\"},\"baxis\":{\"endlinecolor\":\"#2a3f5f\",\"gridcolor\":\"white\",\"linecolor\":\"white\",\"minorgridcolor\":\"white\",\"startlinecolor\":\"#2a3f5f\"},\"type\":\"carpet\"}],\"table\":[{\"cells\":{\"fill\":{\"color\":\"#EBF0F8\"},\"line\":{\"color\":\"white\"}},\"header\":{\"fill\":{\"color\":\"#C8D4E3\"},\"line\":{\"color\":\"white\"}},\"type\":\"table\"}],\"barpolar\":[{\"marker\":{\"line\":{\"color\":\"#E5ECF6\",\"width\":0.5},\"pattern\":{\"fillmode\":\"overlay\",\"size\":10,\"solidity\":0.2}},\"type\":\"barpolar\"}],\"pie\":[{\"automargin\":true,\"type\":\"pie\"}]},\"layout\":{\"autotypenumbers\":\"strict\",\"colorway\":[\"#636efa\",\"#EF553B\",\"#00cc96\",\"#ab63fa\",\"#FFA15A\",\"#19d3f3\",\"#FF6692\",\"#B6E880\",\"#FF97FF\",\"#FECB52\"],\"font\":{\"color\":\"#2a3f5f\"},\"hovermode\":\"closest\",\"hoverlabel\":{\"align\":\"left\"},\"paper_bgcolor\":\"white\",\"plot_bgcolor\":\"#E5ECF6\",\"polar\":{\"bgcolor\":\"#E5ECF6\",\"angularaxis\":{\"gridcolor\":\"white\",\"linecolor\":\"white\",\"ticks\":\"\"},\"radialaxis\":{\"gridcolor\":\"white\",\"linecolor\":\"white\",\"ticks\":\"\"}},\"ternary\":{\"bgcolor\":\"#E5ECF6\",\"aaxis\":{\"gridcolor\":\"white\",\"linecolor\":\"white\",\"ticks\":\"\"},\"baxis\":{\"gridcolor\":\"white\",\"linecolor\":\"white\",\"ticks\":\"\"},\"caxis\":{\"gridcolor\":\"white\",\"linecolor\":\"white\",\"ticks\":\"\"}},\"coloraxis\":{\"colorbar\":{\"outlinewidth\":0,\"ticks\":\"\"}},\"colorscale\":{\"sequential\":[[0.0,\"#0d0887\"],[0.1111111111111111,\"#46039f\"],[0.2222222222222222,\"#7201a8\"],[0.3333333333333333,\"#9c179e\"],[0.4444444444444444,\"#bd3786\"],[0.5555555555555556,\"#d8576b\"],[0.6666666666666666,\"#ed7953\"],[0.7777777777777778,\"#fb9f3a\"],[0.8888888888888888,\"#fdca26\"],[1.0,\"#f0f921\"]],\"sequentialminus\":[[0.0,\"#0d0887\"],[0.1111111111111111,\"#46039f\"],[0.2222222222222222,\"#7201a8\"],[0.3333333333333333,\"#9c179e\"],[0.4444444444444444,\"#bd3786\"],[0.5555555555555556,\"#d8576b\"],[0.6666666666666666,\"#ed7953\"],[0.7777777777777778,\"#fb9f3a\"],[0.8888888888888888,\"#fdca26\"],[1.0,\"#f0f921\"]],\"diverging\":[[0,\"#8e0152\"],[0.1,\"#c51b7d\"],[0.2,\"#de77ae\"],[0.3,\"#f1b6da\"],[0.4,\"#fde0ef\"],[0.5,\"#f7f7f7\"],[0.6,\"#e6f5d0\"],[0.7,\"#b8e186\"],[0.8,\"#7fbc41\"],[0.9,\"#4d9221\"],[1,\"#276419\"]]},\"xaxis\":{\"gridcolor\":\"white\",\"linecolor\":\"white\",\"ticks\":\"\",\"title\":{\"standoff\":15},\"zerolinecolor\":\"white\",\"automargin\":true,\"zerolinewidth\":2},\"yaxis\":{\"gridcolor\":\"white\",\"linecolor\":\"white\",\"ticks\":\"\",\"title\":{\"standoff\":15},\"zerolinecolor\":\"white\",\"automargin\":true,\"zerolinewidth\":2},\"scene\":{\"xaxis\":{\"backgroundcolor\":\"#E5ECF6\",\"gridcolor\":\"white\",\"linecolor\":\"white\",\"showbackground\":true,\"ticks\":\"\",\"zerolinecolor\":\"white\",\"gridwidth\":2},\"yaxis\":{\"backgroundcolor\":\"#E5ECF6\",\"gridcolor\":\"white\",\"linecolor\":\"white\",\"showbackground\":true,\"ticks\":\"\",\"zerolinecolor\":\"white\",\"gridwidth\":2},\"zaxis\":{\"backgroundcolor\":\"#E5ECF6\",\"gridcolor\":\"white\",\"linecolor\":\"white\",\"showbackground\":true,\"ticks\":\"\",\"zerolinecolor\":\"white\",\"gridwidth\":2}},\"shapedefaults\":{\"line\":{\"color\":\"#2a3f5f\"}},\"annotationdefaults\":{\"arrowcolor\":\"#2a3f5f\",\"arrowhead\":0,\"arrowwidth\":1},\"geo\":{\"bgcolor\":\"white\",\"landcolor\":\"#E5ECF6\",\"subunitcolor\":\"white\",\"showland\":true,\"showlakes\":true,\"lakecolor\":\"white\"},\"title\":{\"x\":0.05},\"mapbox\":{\"style\":\"light\"}}},\"xaxis\":{\"anchor\":\"y\",\"domain\":[0.0,1.0],\"title\":{\"text\":\"Ano\"}},\"yaxis\":{\"anchor\":\"x\",\"domain\":[0.0,1.0],\"title\":{\"text\":\"value\"}},\"legend\":{\"title\":{\"text\":\"variable\"},\"tracegroupgap\":0},\"margin\":{\"t\":60},\"barmode\":\"group\"},                        {\"responsive\": true}                    )                };                            </script>        </div>\n",
              "</body>\n",
              "</html>"
            ]
          },
          "metadata": {}
        }
      ],
      "source": [
        "# Agrupando as barras\n",
        "df_ps_bolsas.plot.bar(x='Ano', y=['Bolsas_Integrais', 'Bolsas_Parciais'], barmode='group')"
      ]
    },
    {
      "cell_type": "markdown",
      "metadata": {
        "application/vnd.databricks.v1+cell": {
          "cellMetadata": {
            "byteLimit": 2048000,
            "rowLimit": 10000
          },
          "inputWidgets": {},
          "nuid": "a6521bb6-9e48-4d43-8a77-e25d6f412610",
          "showTitle": false,
          "title": ""
        },
        "id": "DGQKa-YsNKiK"
      },
      "source": [
        "# Leitura de Pagina html"
      ]
    },
    {
      "cell_type": "code",
      "execution_count": null,
      "metadata": {
        "application/vnd.databricks.v1+cell": {
          "cellMetadata": {
            "byteLimit": 2048000,
            "rowLimit": 10000
          },
          "inputWidgets": {},
          "nuid": "cfc87cb8-2bec-4e23-8a59-64a12cecbf97",
          "showTitle": false,
          "title": ""
        },
        "id": "_FdYGtaINKiL"
      },
      "outputs": [],
      "source": [
        "# Puxando link\n",
        "\n",
        "url = 'https://pt.wikipedia.org/wiki/Ensino_superior_no_Brasil'\n",
        "\n"
      ]
    },
    {
      "cell_type": "code",
      "execution_count": null,
      "metadata": {
        "application/vnd.databricks.v1+cell": {
          "cellMetadata": {
            "byteLimit": 2048000,
            "rowLimit": 10000
          },
          "inputWidgets": {},
          "nuid": "ad4551bd-9763-4a90-9d48-6838da8ae7d4",
          "showTitle": false,
          "title": ""
        },
        "id": "WwxXQBEMNKiL",
        "outputId": "20b61cc7-56c4-4c0a-83b3-1f37be82af06"
      },
      "outputs": [
        {
          "output_type": "stream",
          "name": "stdout",
          "text": [
            "\u001b[43mNote: you may need to restart the kernel using dbutils.library.restartPython() to use updated packages.\u001b[0m\nRequirement already satisfied: lxml in /databricks/python3/lib/python3.10/site-packages (4.9.1)\n\u001b[43mNote: you may need to restart the kernel using dbutils.library.restartPython() to use updated packages.\u001b[0m\n"
          ]
        }
      ],
      "source": [
        "!pip install lxml"
      ]
    },
    {
      "cell_type": "code",
      "execution_count": null,
      "metadata": {
        "application/vnd.databricks.v1+cell": {
          "cellMetadata": {
            "byteLimit": 2048000,
            "rowLimit": 10000
          },
          "inputWidgets": {},
          "nuid": "869b5f1c-e2ff-4acf-a8c2-c785ac06f323",
          "showTitle": false,
          "title": ""
        },
        "id": "80YvZkq1NKiL"
      },
      "outputs": [],
      "source": [
        "lista = ps.read_html(url)\n"
      ]
    },
    {
      "cell_type": "code",
      "execution_count": null,
      "metadata": {
        "application/vnd.databricks.v1+cell": {
          "cellMetadata": {
            "byteLimit": 2048000,
            "rowLimit": 10000
          },
          "inputWidgets": {},
          "nuid": "8ab9ddff-3311-47aa-bc88-067b4f52d84e",
          "showTitle": false,
          "title": ""
        },
        "id": "BlJb-nu9NKiL",
        "outputId": "c035870d-a1c5-4267-b75d-a38a41761571"
      },
      "outputs": [
        {
          "output_type": "execute_result",
          "data": {
            "text/plain": [
              "5"
            ]
          },
          "execution_count": 74,
          "metadata": {}
        }
      ],
      "source": [
        "len(lista)"
      ]
    },
    {
      "cell_type": "code",
      "execution_count": null,
      "metadata": {
        "application/vnd.databricks.v1+cell": {
          "cellMetadata": {
            "byteLimit": 2048000,
            "rowLimit": 10000
          },
          "inputWidgets": {},
          "nuid": "8643e675-e871-4152-be91-df00dc5aaae1",
          "showTitle": false,
          "title": ""
        },
        "id": "dcovLnjmNKiL"
      },
      "outputs": [],
      "source": [
        "# Extraindo informação da lista na posição 0\n",
        "df_publicas = lista[0]"
      ]
    },
    {
      "cell_type": "code",
      "execution_count": null,
      "metadata": {
        "application/vnd.databricks.v1+cell": {
          "cellMetadata": {
            "byteLimit": 2048000,
            "rowLimit": 10000
          },
          "inputWidgets": {},
          "nuid": "e01e9284-4e66-49ef-a409-e53ce6f09f6a",
          "showTitle": false,
          "title": ""
        },
        "id": "G4cleUTkNKiM",
        "outputId": "ab59d788-78f0-4d88-a9fb-ec9149db752b"
      },
      "outputs": [
        {
          "output_type": "execute_result",
          "data": {
            "text/html": [
              "<div>\n",
              "<style scoped>\n",
              "    .dataframe tbody tr th:only-of-type {\n",
              "        vertical-align: middle;\n",
              "    }\n",
              "\n",
              "    .dataframe tbody tr th {\n",
              "        vertical-align: top;\n",
              "    }\n",
              "\n",
              "    .dataframe thead th {\n",
              "        text-align: right;\n",
              "    }\n",
              "</style>\n",
              "<table border=\"1\" class=\"dataframe\">\n",
              "  <thead>\n",
              "    <tr style=\"text-align: right;\">\n",
              "      <th></th>\n",
              "      <th>Classificação Nacional</th>\n",
              "      <th>Classificação Mundial</th>\n",
              "      <th>Universidade</th>\n",
              "      <th>Logo</th>\n",
              "      <th>sigla</th>\n",
              "      <th>tipo</th>\n",
              "      <th>web</th>\n",
              "      <th>Localização</th>\n",
              "    </tr>\n",
              "  </thead>\n",
              "  <tbody>\n",
              "    <tr>\n",
              "      <th>0</th>\n",
              "      <td>1</td>\n",
              "      <td>72</td>\n",
              "      <td>Universidade de São Paulo</td>\n",
              "      <td>NaN</td>\n",
              "      <td>USP</td>\n",
              "      <td>Pública Estadual</td>\n",
              "      <td>www5.usp.br/</td>\n",
              "      <td>São Paulo</td>\n",
              "    </tr>\n",
              "    <tr>\n",
              "      <th>1</th>\n",
              "      <td>2</td>\n",
              "      <td>236</td>\n",
              "      <td>Universidade Estadual de Campinas</td>\n",
              "      <td>NaN</td>\n",
              "      <td>UNICAMP</td>\n",
              "      <td>Pública Estadual</td>\n",
              "      <td>www.unicamp.br/</td>\n",
              "      <td>São Paulo</td>\n",
              "    </tr>\n",
              "    <tr>\n",
              "      <th>2</th>\n",
              "      <td>3</td>\n",
              "      <td>278</td>\n",
              "      <td>Universidade Federal do Rio de Janeiro</td>\n",
              "      <td>NaN</td>\n",
              "      <td>UFRJ</td>\n",
              "      <td>Pública federal</td>\n",
              "      <td>ufrj.br/</td>\n",
              "      <td>Rio de Janeiro</td>\n",
              "    </tr>\n",
              "    <tr>\n",
              "      <th>3</th>\n",
              "      <td>4</td>\n",
              "      <td>298</td>\n",
              "      <td>Universidade Federal de Minas Gerais</td>\n",
              "      <td>NaN</td>\n",
              "      <td>UFMG</td>\n",
              "      <td>Pública federal</td>\n",
              "      <td>ucb.edu.bo</td>\n",
              "      <td>Minas Gerais</td>\n",
              "    </tr>\n",
              "    <tr>\n",
              "      <th>4</th>\n",
              "      <td>5</td>\n",
              "      <td>345</td>\n",
              "      <td>Universidade Estadual Paulista</td>\n",
              "      <td>NaN</td>\n",
              "      <td>UNESP</td>\n",
              "      <td>Pública Estadual</td>\n",
              "      <td>www.unesp.br</td>\n",
              "      <td>São Paulo</td>\n",
              "    </tr>\n",
              "    <tr>\n",
              "      <th>5</th>\n",
              "      <td>6</td>\n",
              "      <td>427</td>\n",
              "      <td>Universidade Federal de Santa Catarina</td>\n",
              "      <td>NaN</td>\n",
              "      <td>UFSC</td>\n",
              "      <td>Pública federal</td>\n",
              "      <td>ufsc.br/</td>\n",
              "      <td>Santa Catarina</td>\n",
              "    </tr>\n",
              "    <tr>\n",
              "      <th>6</th>\n",
              "      <td>7</td>\n",
              "      <td>592</td>\n",
              "      <td>Universidade de Brasília</td>\n",
              "      <td>NaN</td>\n",
              "      <td>UNB</td>\n",
              "      <td>Pública Estadual</td>\n",
              "      <td>www.unb.br/</td>\n",
              "      <td>Distrito Federal</td>\n",
              "    </tr>\n",
              "    <tr>\n",
              "      <th>7</th>\n",
              "      <td>8</td>\n",
              "      <td>593</td>\n",
              "      <td>Universidade Federal do Paraná</td>\n",
              "      <td>NaN</td>\n",
              "      <td>UFPR</td>\n",
              "      <td>Pública federal</td>\n",
              "      <td>www.ufpr.br/</td>\n",
              "      <td>Paraná</td>\n",
              "    </tr>\n",
              "    <tr>\n",
              "      <th>8</th>\n",
              "      <td>9</td>\n",
              "      <td>596</td>\n",
              "      <td>Universidade Federal Fluminense</td>\n",
              "      <td>NaN</td>\n",
              "      <td>UFF</td>\n",
              "      <td>Pública federal</td>\n",
              "      <td>www.uff.br/</td>\n",
              "      <td>Rio de Janeiro</td>\n",
              "    </tr>\n",
              "    <tr>\n",
              "      <th>9</th>\n",
              "      <td>10</td>\n",
              "      <td>667</td>\n",
              "      <td>Universidade Federal de São Carlos</td>\n",
              "      <td>NaN</td>\n",
              "      <td>UFSCAR</td>\n",
              "      <td>Pública federal</td>\n",
              "      <td>www.ufscar.br/</td>\n",
              "      <td>São Paulo</td>\n",
              "    </tr>\n",
              "  </tbody>\n",
              "</table>\n",
              "</div>"
            ],
            "text/plain": [
              "   Classificação Nacional  Classificação Mundial                            Universidade  Logo    sigla              tipo              web       Localização\n",
              "0                       1                     72               Universidade de São Paulo   NaN      USP  Pública Estadual     www5.usp.br/         São Paulo\n",
              "1                       2                    236       Universidade Estadual de Campinas   NaN  UNICAMP  Pública Estadual  www.unicamp.br/         São Paulo\n",
              "2                       3                    278  Universidade Federal do Rio de Janeiro   NaN     UFRJ   Pública federal         ufrj.br/    Rio de Janeiro\n",
              "3                       4                    298    Universidade Federal de Minas Gerais   NaN     UFMG   Pública federal       ucb.edu.bo      Minas Gerais\n",
              "4                       5                    345          Universidade Estadual Paulista   NaN    UNESP  Pública Estadual     www.unesp.br         São Paulo\n",
              "5                       6                    427  Universidade Federal de Santa Catarina   NaN     UFSC   Pública federal         ufsc.br/    Santa Catarina\n",
              "6                       7                    592                Universidade de Brasília   NaN      UNB  Pública Estadual      www.unb.br/  Distrito Federal\n",
              "7                       8                    593          Universidade Federal do Paraná   NaN     UFPR   Pública federal     www.ufpr.br/            Paraná\n",
              "8                       9                    596         Universidade Federal Fluminense   NaN      UFF   Pública federal      www.uff.br/    Rio de Janeiro\n",
              "9                      10                    667      Universidade Federal de São Carlos   NaN   UFSCAR   Pública federal   www.ufscar.br/         São Paulo"
            ]
          },
          "execution_count": 76,
          "metadata": {}
        }
      ],
      "source": [
        "df_publicas"
      ]
    },
    {
      "cell_type": "code",
      "execution_count": null,
      "metadata": {
        "application/vnd.databricks.v1+cell": {
          "cellMetadata": {
            "byteLimit": 2048000,
            "rowLimit": 10000
          },
          "inputWidgets": {},
          "nuid": "a18c8d5d-48d6-4290-9961-c5d71cec6905",
          "showTitle": false,
          "title": ""
        },
        "id": "CBmcqMVFNKiM",
        "outputId": "9f7c7acf-27d0-4eb7-acf3-08d8c658f66f"
      },
      "outputs": [
        {
          "output_type": "execute_result",
          "data": {
            "text/plain": [
              "pyspark.pandas.frame.DataFrame"
            ]
          },
          "execution_count": 77,
          "metadata": {}
        }
      ],
      "source": [
        "type(df_publicas)"
      ]
    },
    {
      "cell_type": "code",
      "execution_count": null,
      "metadata": {
        "application/vnd.databricks.v1+cell": {
          "cellMetadata": {
            "byteLimit": 2048000,
            "rowLimit": 10000
          },
          "inputWidgets": {},
          "nuid": "2c6e928a-233d-4f49-8ed4-0b167505e7f1",
          "showTitle": false,
          "title": ""
        },
        "id": "ul0BnIQzNKiM"
      },
      "outputs": [],
      "source": [
        "# Plotando o ranking das universidades públicas\n",
        "\n",
        "df_publicas.sort_values(by=['Classificação Nacional'], inplace=True, ascending = False)"
      ]
    },
    {
      "cell_type": "code",
      "execution_count": null,
      "metadata": {
        "application/vnd.databricks.v1+cell": {
          "cellMetadata": {
            "byteLimit": 2048000,
            "rowLimit": 10000
          },
          "inputWidgets": {},
          "nuid": "cf36a951-94b0-419f-915f-8caf1410542d",
          "showTitle": false,
          "title": ""
        },
        "id": "QPRBs0GANKiM",
        "outputId": "24525ec0-0bc4-4d17-8706-0e80e87652ea"
      },
      "outputs": [
        {
          "output_type": "display_data",
          "data": {
            "text/html": [
              "<html>\n",
              "<head><meta charset=\"utf-8\" /></head>\n",
              "<body>\n",
              "    <div>            <script src=\"https://cdnjs.cloudflare.com/ajax/libs/mathjax/2.7.5/MathJax.js?config=TeX-AMS-MML_SVG\"></script><script type=\"text/javascript\">if (window.MathJax && window.MathJax.Hub && window.MathJax.Hub.Config) {window.MathJax.Hub.Config({SVG: {font: \"STIX-Web\"}});}</script>                <script type=\"text/javascript\">window.PlotlyConfig = {MathJaxConfig: 'local'};</script>\n",
              "        <script src=\"https://cdn.plot.ly/plotly-2.12.1.min.js\"></script>                <div id=\"69cb8090-6025-42fe-96e7-7c632b251db3\" class=\"plotly-graph-div\" style=\"height:100%; width:100%;\"></div>            <script type=\"text/javascript\">                                    window.PLOTLYENV=window.PLOTLYENV || {};                                    if (document.getElementById(\"69cb8090-6025-42fe-96e7-7c632b251db3\")) {                    Plotly.newPlot(                        \"69cb8090-6025-42fe-96e7-7c632b251db3\",                        [{\"alignmentgroup\":\"True\",\"hovertemplate\":\"sigla=%{x}<br>Classifica\\u00e7\\u00e3o Nacional=%{y}<br>color=%{marker.color}<extra></extra>\",\"legendgroup\":\"\",\"marker\":{\"color\":[0,1,2,3,4,5,6,7,8,9],\"coloraxis\":\"coloraxis\",\"pattern\":{\"shape\":\"\"}},\"name\":\"\",\"offsetgroup\":\"\",\"orientation\":\"v\",\"showlegend\":false,\"textposition\":\"auto\",\"x\":[\"UFSCAR\",\"UFF\",\"UFPR\",\"UNB\",\"UFSC\",\"UNESP\",\"UFMG\",\"UFRJ\",\"UNICAMP\",\"USP\"],\"xaxis\":\"x\",\"y\":[10,9,8,7,6,5,4,3,2,1],\"yaxis\":\"y\",\"type\":\"bar\"}],                        {\"template\":{\"data\":{\"histogram2dcontour\":[{\"type\":\"histogram2dcontour\",\"colorbar\":{\"outlinewidth\":0,\"ticks\":\"\"},\"colorscale\":[[0.0,\"#0d0887\"],[0.1111111111111111,\"#46039f\"],[0.2222222222222222,\"#7201a8\"],[0.3333333333333333,\"#9c179e\"],[0.4444444444444444,\"#bd3786\"],[0.5555555555555556,\"#d8576b\"],[0.6666666666666666,\"#ed7953\"],[0.7777777777777778,\"#fb9f3a\"],[0.8888888888888888,\"#fdca26\"],[1.0,\"#f0f921\"]]}],\"choropleth\":[{\"type\":\"choropleth\",\"colorbar\":{\"outlinewidth\":0,\"ticks\":\"\"}}],\"histogram2d\":[{\"type\":\"histogram2d\",\"colorbar\":{\"outlinewidth\":0,\"ticks\":\"\"},\"colorscale\":[[0.0,\"#0d0887\"],[0.1111111111111111,\"#46039f\"],[0.2222222222222222,\"#7201a8\"],[0.3333333333333333,\"#9c179e\"],[0.4444444444444444,\"#bd3786\"],[0.5555555555555556,\"#d8576b\"],[0.6666666666666666,\"#ed7953\"],[0.7777777777777778,\"#fb9f3a\"],[0.8888888888888888,\"#fdca26\"],[1.0,\"#f0f921\"]]}],\"heatmap\":[{\"type\":\"heatmap\",\"colorbar\":{\"outlinewidth\":0,\"ticks\":\"\"},\"colorscale\":[[0.0,\"#0d0887\"],[0.1111111111111111,\"#46039f\"],[0.2222222222222222,\"#7201a8\"],[0.3333333333333333,\"#9c179e\"],[0.4444444444444444,\"#bd3786\"],[0.5555555555555556,\"#d8576b\"],[0.6666666666666666,\"#ed7953\"],[0.7777777777777778,\"#fb9f3a\"],[0.8888888888888888,\"#fdca26\"],[1.0,\"#f0f921\"]]}],\"heatmapgl\":[{\"type\":\"heatmapgl\",\"colorbar\":{\"outlinewidth\":0,\"ticks\":\"\"},\"colorscale\":[[0.0,\"#0d0887\"],[0.1111111111111111,\"#46039f\"],[0.2222222222222222,\"#7201a8\"],[0.3333333333333333,\"#9c179e\"],[0.4444444444444444,\"#bd3786\"],[0.5555555555555556,\"#d8576b\"],[0.6666666666666666,\"#ed7953\"],[0.7777777777777778,\"#fb9f3a\"],[0.8888888888888888,\"#fdca26\"],[1.0,\"#f0f921\"]]}],\"contourcarpet\":[{\"type\":\"contourcarpet\",\"colorbar\":{\"outlinewidth\":0,\"ticks\":\"\"}}],\"contour\":[{\"type\":\"contour\",\"colorbar\":{\"outlinewidth\":0,\"ticks\":\"\"},\"colorscale\":[[0.0,\"#0d0887\"],[0.1111111111111111,\"#46039f\"],[0.2222222222222222,\"#7201a8\"],[0.3333333333333333,\"#9c179e\"],[0.4444444444444444,\"#bd3786\"],[0.5555555555555556,\"#d8576b\"],[0.6666666666666666,\"#ed7953\"],[0.7777777777777778,\"#fb9f3a\"],[0.8888888888888888,\"#fdca26\"],[1.0,\"#f0f921\"]]}],\"surface\":[{\"type\":\"surface\",\"colorbar\":{\"outlinewidth\":0,\"ticks\":\"\"},\"colorscale\":[[0.0,\"#0d0887\"],[0.1111111111111111,\"#46039f\"],[0.2222222222222222,\"#7201a8\"],[0.3333333333333333,\"#9c179e\"],[0.4444444444444444,\"#bd3786\"],[0.5555555555555556,\"#d8576b\"],[0.6666666666666666,\"#ed7953\"],[0.7777777777777778,\"#fb9f3a\"],[0.8888888888888888,\"#fdca26\"],[1.0,\"#f0f921\"]]}],\"mesh3d\":[{\"type\":\"mesh3d\",\"colorbar\":{\"outlinewidth\":0,\"ticks\":\"\"}}],\"scatter\":[{\"fillpattern\":{\"fillmode\":\"overlay\",\"size\":10,\"solidity\":0.2},\"type\":\"scatter\"}],\"parcoords\":[{\"type\":\"parcoords\",\"line\":{\"colorbar\":{\"outlinewidth\":0,\"ticks\":\"\"}}}],\"scatterpolargl\":[{\"type\":\"scatterpolargl\",\"marker\":{\"colorbar\":{\"outlinewidth\":0,\"ticks\":\"\"}}}],\"bar\":[{\"error_x\":{\"color\":\"#2a3f5f\"},\"error_y\":{\"color\":\"#2a3f5f\"},\"marker\":{\"line\":{\"color\":\"#E5ECF6\",\"width\":0.5},\"pattern\":{\"fillmode\":\"overlay\",\"size\":10,\"solidity\":0.2}},\"type\":\"bar\"}],\"scattergeo\":[{\"type\":\"scattergeo\",\"marker\":{\"colorbar\":{\"outlinewidth\":0,\"ticks\":\"\"}}}],\"scatterpolar\":[{\"type\":\"scatterpolar\",\"marker\":{\"colorbar\":{\"outlinewidth\":0,\"ticks\":\"\"}}}],\"histogram\":[{\"marker\":{\"pattern\":{\"fillmode\":\"overlay\",\"size\":10,\"solidity\":0.2}},\"type\":\"histogram\"}],\"scattergl\":[{\"type\":\"scattergl\",\"marker\":{\"colorbar\":{\"outlinewidth\":0,\"ticks\":\"\"}}}],\"scatter3d\":[{\"type\":\"scatter3d\",\"line\":{\"colorbar\":{\"outlinewidth\":0,\"ticks\":\"\"}},\"marker\":{\"colorbar\":{\"outlinewidth\":0,\"ticks\":\"\"}}}],\"scattermapbox\":[{\"type\":\"scattermapbox\",\"marker\":{\"colorbar\":{\"outlinewidth\":0,\"ticks\":\"\"}}}],\"scatterternary\":[{\"type\":\"scatterternary\",\"marker\":{\"colorbar\":{\"outlinewidth\":0,\"ticks\":\"\"}}}],\"scattercarpet\":[{\"type\":\"scattercarpet\",\"marker\":{\"colorbar\":{\"outlinewidth\":0,\"ticks\":\"\"}}}],\"carpet\":[{\"aaxis\":{\"endlinecolor\":\"#2a3f5f\",\"gridcolor\":\"white\",\"linecolor\":\"white\",\"minorgridcolor\":\"white\",\"startlinecolor\":\"#2a3f5f\"},\"baxis\":{\"endlinecolor\":\"#2a3f5f\",\"gridcolor\":\"white\",\"linecolor\":\"white\",\"minorgridcolor\":\"white\",\"startlinecolor\":\"#2a3f5f\"},\"type\":\"carpet\"}],\"table\":[{\"cells\":{\"fill\":{\"color\":\"#EBF0F8\"},\"line\":{\"color\":\"white\"}},\"header\":{\"fill\":{\"color\":\"#C8D4E3\"},\"line\":{\"color\":\"white\"}},\"type\":\"table\"}],\"barpolar\":[{\"marker\":{\"line\":{\"color\":\"#E5ECF6\",\"width\":0.5},\"pattern\":{\"fillmode\":\"overlay\",\"size\":10,\"solidity\":0.2}},\"type\":\"barpolar\"}],\"pie\":[{\"automargin\":true,\"type\":\"pie\"}]},\"layout\":{\"autotypenumbers\":\"strict\",\"colorway\":[\"#636efa\",\"#EF553B\",\"#00cc96\",\"#ab63fa\",\"#FFA15A\",\"#19d3f3\",\"#FF6692\",\"#B6E880\",\"#FF97FF\",\"#FECB52\"],\"font\":{\"color\":\"#2a3f5f\"},\"hovermode\":\"closest\",\"hoverlabel\":{\"align\":\"left\"},\"paper_bgcolor\":\"white\",\"plot_bgcolor\":\"#E5ECF6\",\"polar\":{\"bgcolor\":\"#E5ECF6\",\"angularaxis\":{\"gridcolor\":\"white\",\"linecolor\":\"white\",\"ticks\":\"\"},\"radialaxis\":{\"gridcolor\":\"white\",\"linecolor\":\"white\",\"ticks\":\"\"}},\"ternary\":{\"bgcolor\":\"#E5ECF6\",\"aaxis\":{\"gridcolor\":\"white\",\"linecolor\":\"white\",\"ticks\":\"\"},\"baxis\":{\"gridcolor\":\"white\",\"linecolor\":\"white\",\"ticks\":\"\"},\"caxis\":{\"gridcolor\":\"white\",\"linecolor\":\"white\",\"ticks\":\"\"}},\"coloraxis\":{\"colorbar\":{\"outlinewidth\":0,\"ticks\":\"\"}},\"colorscale\":{\"sequential\":[[0.0,\"#0d0887\"],[0.1111111111111111,\"#46039f\"],[0.2222222222222222,\"#7201a8\"],[0.3333333333333333,\"#9c179e\"],[0.4444444444444444,\"#bd3786\"],[0.5555555555555556,\"#d8576b\"],[0.6666666666666666,\"#ed7953\"],[0.7777777777777778,\"#fb9f3a\"],[0.8888888888888888,\"#fdca26\"],[1.0,\"#f0f921\"]],\"sequentialminus\":[[0.0,\"#0d0887\"],[0.1111111111111111,\"#46039f\"],[0.2222222222222222,\"#7201a8\"],[0.3333333333333333,\"#9c179e\"],[0.4444444444444444,\"#bd3786\"],[0.5555555555555556,\"#d8576b\"],[0.6666666666666666,\"#ed7953\"],[0.7777777777777778,\"#fb9f3a\"],[0.8888888888888888,\"#fdca26\"],[1.0,\"#f0f921\"]],\"diverging\":[[0,\"#8e0152\"],[0.1,\"#c51b7d\"],[0.2,\"#de77ae\"],[0.3,\"#f1b6da\"],[0.4,\"#fde0ef\"],[0.5,\"#f7f7f7\"],[0.6,\"#e6f5d0\"],[0.7,\"#b8e186\"],[0.8,\"#7fbc41\"],[0.9,\"#4d9221\"],[1,\"#276419\"]]},\"xaxis\":{\"gridcolor\":\"white\",\"linecolor\":\"white\",\"ticks\":\"\",\"title\":{\"standoff\":15},\"zerolinecolor\":\"white\",\"automargin\":true,\"zerolinewidth\":2},\"yaxis\":{\"gridcolor\":\"white\",\"linecolor\":\"white\",\"ticks\":\"\",\"title\":{\"standoff\":15},\"zerolinecolor\":\"white\",\"automargin\":true,\"zerolinewidth\":2},\"scene\":{\"xaxis\":{\"backgroundcolor\":\"#E5ECF6\",\"gridcolor\":\"white\",\"linecolor\":\"white\",\"showbackground\":true,\"ticks\":\"\",\"zerolinecolor\":\"white\",\"gridwidth\":2},\"yaxis\":{\"backgroundcolor\":\"#E5ECF6\",\"gridcolor\":\"white\",\"linecolor\":\"white\",\"showbackground\":true,\"ticks\":\"\",\"zerolinecolor\":\"white\",\"gridwidth\":2},\"zaxis\":{\"backgroundcolor\":\"#E5ECF6\",\"gridcolor\":\"white\",\"linecolor\":\"white\",\"showbackground\":true,\"ticks\":\"\",\"zerolinecolor\":\"white\",\"gridwidth\":2}},\"shapedefaults\":{\"line\":{\"color\":\"#2a3f5f\"}},\"annotationdefaults\":{\"arrowcolor\":\"#2a3f5f\",\"arrowhead\":0,\"arrowwidth\":1},\"geo\":{\"bgcolor\":\"white\",\"landcolor\":\"#E5ECF6\",\"subunitcolor\":\"white\",\"showland\":true,\"showlakes\":true,\"lakecolor\":\"white\"},\"title\":{\"x\":0.05},\"mapbox\":{\"style\":\"light\"}}},\"xaxis\":{\"anchor\":\"y\",\"domain\":[0.0,1.0],\"title\":{\"text\":\"sigla\"}},\"yaxis\":{\"anchor\":\"x\",\"domain\":[0.0,1.0],\"title\":{\"text\":\"Classifica\\u00e7\\u00e3o Nacional\"}},\"coloraxis\":{\"colorbar\":{\"title\":{\"text\":\"color\"}},\"colorscale\":[[0.0,\"#0d0887\"],[0.1111111111111111,\"#46039f\"],[0.2222222222222222,\"#7201a8\"],[0.3333333333333333,\"#9c179e\"],[0.4444444444444444,\"#bd3786\"],[0.5555555555555556,\"#d8576b\"],[0.6666666666666666,\"#ed7953\"],[0.7777777777777778,\"#fb9f3a\"],[0.8888888888888888,\"#fdca26\"],[1.0,\"#f0f921\"]],\"showscale\":false},\"legend\":{\"tracegroupgap\":0},\"margin\":{\"t\":60},\"barmode\":\"relative\"},                        {\"responsive\": true}                    )                };                            </script>        </div>\n",
              "</body>\n",
              "</html>"
            ]
          },
          "metadata": {}
        }
      ],
      "source": [
        "fig = df_publicas.plot.bar(x='sigla', y='Classificação Nacional', color=range(10))\n",
        "fig.layout.coloraxis.showscale= False\n",
        "fig.show()"
      ]
    },
    {
      "cell_type": "markdown",
      "metadata": {
        "application/vnd.databricks.v1+cell": {
          "cellMetadata": {
            "byteLimit": 2048000,
            "rowLimit": 10000
          },
          "inputWidgets": {},
          "nuid": "29395d09-c229-4f84-9fe6-eab83b3d8dfc",
          "showTitle": false,
          "title": ""
        },
        "id": "QOqBd6ATNKiM"
      },
      "source": [
        "\n",
        "# Salvando os dados processados"
      ]
    },
    {
      "cell_type": "code",
      "execution_count": null,
      "metadata": {
        "application/vnd.databricks.v1+cell": {
          "cellMetadata": {
            "byteLimit": 2048000,
            "rowLimit": 10000
          },
          "inputWidgets": {},
          "nuid": "e0593adb-61d7-437b-9f9c-399ac600585d",
          "showTitle": false,
          "title": ""
        },
        "id": "cczGDqO2NKiM",
        "outputId": "2b05548d-88ed-46d7-d76a-e89b22b73e03"
      },
      "outputs": [
        {
          "output_type": "stream",
          "name": "stdout",
          "text": [
            "+----+----------------+---------------+------------+\n| Ano|Bolsas_Integrais|Bolsas_Parciais|Bolsas_Total|\n+----+----------------+---------------+------------+\n|2021|           146.3|          150.0|       296.3|\n|2020|           182.9|          237.4|       420.3|\n+----+----------------+---------------+------------+\n\n"
          ]
        }
      ],
      "source": [
        "# É necessário passar alguns dados do Pandas no Spark para o Pyspark\n",
        "dfs_bolsas = df_ps_bolsas.to_spark()\n",
        "dfs_bolsas.show()"
      ]
    },
    {
      "cell_type": "code",
      "execution_count": null,
      "metadata": {
        "application/vnd.databricks.v1+cell": {
          "cellMetadata": {
            "byteLimit": 2048000,
            "rowLimit": 10000
          },
          "inputWidgets": {},
          "nuid": "ab52ef23-fea2-4e0f-988d-b593cef2454d",
          "showTitle": false,
          "title": ""
        },
        "id": "pafoJnm8NKiN"
      },
      "outputs": [],
      "source": [
        "local_do_arquivo = '/FileStore/tables/cursos_prouni.csv'"
      ]
    },
    {
      "cell_type": "code",
      "execution_count": null,
      "metadata": {
        "application/vnd.databricks.v1+cell": {
          "cellMetadata": {
            "byteLimit": 2048000,
            "rowLimit": 10000
          },
          "inputWidgets": {},
          "nuid": "e38c0f20-d293-4a52-b7b5-0f0a63535298",
          "showTitle": false,
          "title": ""
        },
        "id": "gDPgti_INKiN"
      },
      "outputs": [],
      "source": [
        "# Salvando em parquet e definindo partição através da coluna classificação nacional\n",
        "df_publicas.to_parquet('/FileStore/tables/publicas.parquet', partition_cols='Classificação Nacional')"
      ]
    },
    {
      "cell_type": "code",
      "execution_count": null,
      "metadata": {
        "application/vnd.databricks.v1+cell": {
          "cellMetadata": {
            "byteLimit": 2048000,
            "rowLimit": 10000
          },
          "inputWidgets": {},
          "nuid": "db61305a-ea3f-408e-8a90-4493455128d8",
          "showTitle": false,
          "title": ""
        },
        "id": "zILZqe3yNKiN",
        "outputId": "3e1d650e-e888-41e9-d573-245db09bf4a0"
      },
      "outputs": [
        {
          "output_type": "execute_result",
          "data": {
            "text/html": [
              "<div>\n",
              "<style scoped>\n",
              "    .dataframe tbody tr th:only-of-type {\n",
              "        vertical-align: middle;\n",
              "    }\n",
              "\n",
              "    .dataframe tbody tr th {\n",
              "        vertical-align: top;\n",
              "    }\n",
              "\n",
              "    .dataframe thead th {\n",
              "        text-align: right;\n",
              "    }\n",
              "</style>\n",
              "<table border=\"1\" class=\"dataframe\">\n",
              "  <thead>\n",
              "    <tr style=\"text-align: right;\">\n",
              "      <th></th>\n",
              "      <th>Classificação Mundial</th>\n",
              "      <th>Universidade</th>\n",
              "      <th>Logo</th>\n",
              "      <th>sigla</th>\n",
              "      <th>tipo</th>\n",
              "      <th>web</th>\n",
              "      <th>Localização</th>\n",
              "      <th>Classificação Nacional</th>\n",
              "    </tr>\n",
              "  </thead>\n",
              "  <tbody>\n",
              "    <tr>\n",
              "      <th>0</th>\n",
              "      <td>236</td>\n",
              "      <td>Universidade Estadual de Campinas</td>\n",
              "      <td>NaN</td>\n",
              "      <td>UNICAMP</td>\n",
              "      <td>Pública Estadual</td>\n",
              "      <td>www.unicamp.br/</td>\n",
              "      <td>São Paulo</td>\n",
              "      <td>2</td>\n",
              "    </tr>\n",
              "    <tr>\n",
              "      <th>1</th>\n",
              "      <td>667</td>\n",
              "      <td>Universidade Federal de São Carlos</td>\n",
              "      <td>NaN</td>\n",
              "      <td>UFSCAR</td>\n",
              "      <td>Pública federal</td>\n",
              "      <td>www.ufscar.br/</td>\n",
              "      <td>São Paulo</td>\n",
              "      <td>10</td>\n",
              "    </tr>\n",
              "    <tr>\n",
              "      <th>2</th>\n",
              "      <td>427</td>\n",
              "      <td>Universidade Federal de Santa Catarina</td>\n",
              "      <td>NaN</td>\n",
              "      <td>UFSC</td>\n",
              "      <td>Pública federal</td>\n",
              "      <td>ufsc.br/</td>\n",
              "      <td>Santa Catarina</td>\n",
              "      <td>6</td>\n",
              "    </tr>\n",
              "    <tr>\n",
              "      <th>3</th>\n",
              "      <td>278</td>\n",
              "      <td>Universidade Federal do Rio de Janeiro</td>\n",
              "      <td>NaN</td>\n",
              "      <td>UFRJ</td>\n",
              "      <td>Pública federal</td>\n",
              "      <td>ufrj.br/</td>\n",
              "      <td>Rio de Janeiro</td>\n",
              "      <td>3</td>\n",
              "    </tr>\n",
              "    <tr>\n",
              "      <th>4</th>\n",
              "      <td>298</td>\n",
              "      <td>Universidade Federal de Minas Gerais</td>\n",
              "      <td>NaN</td>\n",
              "      <td>UFMG</td>\n",
              "      <td>Pública federal</td>\n",
              "      <td>ucb.edu.bo</td>\n",
              "      <td>Minas Gerais</td>\n",
              "      <td>4</td>\n",
              "    </tr>\n",
              "    <tr>\n",
              "      <th>5</th>\n",
              "      <td>596</td>\n",
              "      <td>Universidade Federal Fluminense</td>\n",
              "      <td>NaN</td>\n",
              "      <td>UFF</td>\n",
              "      <td>Pública federal</td>\n",
              "      <td>www.uff.br/</td>\n",
              "      <td>Rio de Janeiro</td>\n",
              "      <td>9</td>\n",
              "    </tr>\n",
              "    <tr>\n",
              "      <th>6</th>\n",
              "      <td>345</td>\n",
              "      <td>Universidade Estadual Paulista</td>\n",
              "      <td>NaN</td>\n",
              "      <td>UNESP</td>\n",
              "      <td>Pública Estadual</td>\n",
              "      <td>www.unesp.br</td>\n",
              "      <td>São Paulo</td>\n",
              "      <td>5</td>\n",
              "    </tr>\n",
              "    <tr>\n",
              "      <th>7</th>\n",
              "      <td>592</td>\n",
              "      <td>Universidade de Brasília</td>\n",
              "      <td>NaN</td>\n",
              "      <td>UNB</td>\n",
              "      <td>Pública Estadual</td>\n",
              "      <td>www.unb.br/</td>\n",
              "      <td>Distrito Federal</td>\n",
              "      <td>7</td>\n",
              "    </tr>\n",
              "    <tr>\n",
              "      <th>8</th>\n",
              "      <td>593</td>\n",
              "      <td>Universidade Federal do Paraná</td>\n",
              "      <td>NaN</td>\n",
              "      <td>UFPR</td>\n",
              "      <td>Pública federal</td>\n",
              "      <td>www.ufpr.br/</td>\n",
              "      <td>Paraná</td>\n",
              "      <td>8</td>\n",
              "    </tr>\n",
              "    <tr>\n",
              "      <th>9</th>\n",
              "      <td>72</td>\n",
              "      <td>Universidade de São Paulo</td>\n",
              "      <td>NaN</td>\n",
              "      <td>USP</td>\n",
              "      <td>Pública Estadual</td>\n",
              "      <td>www5.usp.br/</td>\n",
              "      <td>São Paulo</td>\n",
              "      <td>1</td>\n",
              "    </tr>\n",
              "  </tbody>\n",
              "</table>\n",
              "</div>"
            ],
            "text/plain": [
              "   Classificação Mundial                            Universidade  Logo    sigla              tipo              web       Localização  Classificação Nacional\n",
              "0                    236       Universidade Estadual de Campinas   NaN  UNICAMP  Pública Estadual  www.unicamp.br/         São Paulo                       2\n",
              "1                    667      Universidade Federal de São Carlos   NaN   UFSCAR   Pública federal   www.ufscar.br/         São Paulo                      10\n",
              "2                    427  Universidade Federal de Santa Catarina   NaN     UFSC   Pública federal         ufsc.br/    Santa Catarina                       6\n",
              "3                    278  Universidade Federal do Rio de Janeiro   NaN     UFRJ   Pública federal         ufrj.br/    Rio de Janeiro                       3\n",
              "4                    298    Universidade Federal de Minas Gerais   NaN     UFMG   Pública federal       ucb.edu.bo      Minas Gerais                       4\n",
              "5                    596         Universidade Federal Fluminense   NaN      UFF   Pública federal      www.uff.br/    Rio de Janeiro                       9\n",
              "6                    345          Universidade Estadual Paulista   NaN    UNESP  Pública Estadual     www.unesp.br         São Paulo                       5\n",
              "7                    592                Universidade de Brasília   NaN      UNB  Pública Estadual      www.unb.br/  Distrito Federal                       7\n",
              "8                    593          Universidade Federal do Paraná   NaN     UFPR   Pública federal     www.ufpr.br/            Paraná                       8\n",
              "9                     72               Universidade de São Paulo   NaN      USP  Pública Estadual     www5.usp.br/         São Paulo                       1"
            ]
          },
          "execution_count": 83,
          "metadata": {}
        }
      ],
      "source": [
        "ps.read_parquet('/FileStore/tables/publicas.parquet')"
      ]
    }
  ],
  "metadata": {
    "application/vnd.databricks.v1+notebook": {
      "dashboards": [
        {
          "elements": [
            {
              "dashboardResultIndex": 0,
              "elementNUID": "fabc8bd7-3828-4873-82a0-e08718a944d9",
              "elementType": "command",
              "guid": "03761ad5-930a-4bcb-b2ee-ccca89dfb80a",
              "options": null,
              "position": {
                "height": 6,
                "width": 12,
                "x": 0,
                "y": 143,
                "z": null
              },
              "resultIndex": null
            },
            {
              "dashboardResultIndex": null,
              "elementNUID": "29395d09-c229-4f84-9fe6-eab83b3d8dfc",
              "elementType": "command",
              "guid": "03d5ad47-d928-4999-96bb-9047ecb10be6",
              "options": null,
              "position": {
                "height": 3,
                "width": 12,
                "x": 0,
                "y": 252,
                "z": null
              },
              "resultIndex": null
            },
            {
              "dashboardResultIndex": 0,
              "elementNUID": "95613533-c47c-4a7a-ab83-60224be1a6fd",
              "elementType": "command",
              "guid": "065dbcbb-483d-4851-b4ae-e62f72066ae5",
              "options": null,
              "position": {
                "height": 6,
                "width": 12,
                "x": 0,
                "y": 82,
                "z": null
              },
              "resultIndex": null
            },
            {
              "dashboardResultIndex": null,
              "elementNUID": "1a1e3c43-4dac-4adf-8a52-068acbb2eb52",
              "elementType": "command",
              "guid": "074454a0-7277-4539-82c6-20da18f25bff",
              "options": null,
              "position": {
                "height": 2,
                "width": 12,
                "x": 0,
                "y": 110,
                "z": null
              },
              "resultIndex": null
            },
            {
              "dashboardResultIndex": null,
              "elementNUID": "2927daf0-4a87-49db-bfac-0a7f70945f54",
              "elementType": "command",
              "guid": "0d31c367-41c0-47ba-a660-0452e3838af1",
              "options": null,
              "position": {
                "height": 2,
                "width": 12,
                "x": 0,
                "y": 0,
                "z": null
              },
              "resultIndex": null
            },
            {
              "dashboardResultIndex": 0,
              "elementNUID": "43b78cc3-74e0-4630-9b59-847afdcf92c7",
              "elementType": "command",
              "guid": "1f6ca5ae-81ca-4fe6-9b52-ae62881fe396",
              "options": null,
              "position": {
                "height": 6,
                "width": 12,
                "x": 0,
                "y": 155,
                "z": null
              },
              "resultIndex": null
            },
            {
              "dashboardResultIndex": 0,
              "elementNUID": "dd606ee8-c72b-47be-bf94-c4490ec245f5",
              "elementType": "command",
              "guid": "1fac9d82-2276-4089-b02e-4a6386f74f86",
              "options": null,
              "position": {
                "height": 6,
                "width": 12,
                "x": 0,
                "y": 201,
                "z": null
              },
              "resultIndex": null
            },
            {
              "dashboardResultIndex": 0,
              "elementNUID": "e01e9284-4e66-49ef-a409-e53ce6f09f6a",
              "elementType": "command",
              "guid": "272a1e5b-b417-4256-b50f-013d672cc57c",
              "options": null,
              "position": {
                "height": 6,
                "width": 12,
                "x": 0,
                "y": 240,
                "z": null
              },
              "resultIndex": null
            },
            {
              "dashboardResultIndex": 0,
              "elementNUID": "6869009c-85f8-4c4c-a2ae-a55aef6ea788",
              "elementType": "command",
              "guid": "43d997f7-9b28-481b-8077-9e0bed07d636",
              "options": null,
              "position": {
                "height": 6,
                "width": 12,
                "x": 0,
                "y": 90,
                "z": null
              },
              "resultIndex": null
            },
            {
              "dashboardResultIndex": null,
              "elementNUID": "7341b968-bab6-48ed-b5e4-f83fed2fe9b6",
              "elementType": "command",
              "guid": "4577ce90-79e8-4e55-bf32-a71989c2e97c",
              "options": null,
              "position": {
                "height": 2,
                "width": 12,
                "x": 0,
                "y": 161,
                "z": null
              },
              "resultIndex": null
            },
            {
              "dashboardResultIndex": 0,
              "elementNUID": "cf36a951-94b0-419f-915f-8caf1410542d",
              "elementType": "command",
              "guid": "470c594c-7249-466a-96ce-37ad62ae1c47",
              "options": null,
              "position": {
                "height": 6,
                "width": 12,
                "x": 0,
                "y": 246,
                "z": null
              },
              "resultIndex": null
            },
            {
              "dashboardResultIndex": 0,
              "elementNUID": "8681a6fa-382f-417c-999f-48a8832ee3f6",
              "elementType": "command",
              "guid": "4eeab23c-7b3b-48fc-885f-0e5ba42f5ffa",
              "options": null,
              "position": {
                "height": 6,
                "width": 12,
                "x": 0,
                "y": 226,
                "z": null
              },
              "resultIndex": null
            },
            {
              "dashboardResultIndex": 0,
              "elementNUID": "f3ea16c7-7d41-460d-ac52-3dc436566cab",
              "elementType": "command",
              "guid": "50461bff-9a3c-4c42-bc9f-c9f80729844c",
              "options": null,
              "position": {
                "height": 6,
                "width": 12,
                "x": 0,
                "y": 32,
                "z": null
              },
              "resultIndex": null
            },
            {
              "dashboardResultIndex": 0,
              "elementNUID": "06d7d962-e767-45da-a954-8d71051b2519",
              "elementType": "command",
              "guid": "5336199d-fd21-4b0e-8818-d50d1ebb653b",
              "options": null,
              "position": {
                "height": 6,
                "width": 12,
                "x": 0,
                "y": 44,
                "z": null
              },
              "resultIndex": null
            },
            {
              "dashboardResultIndex": null,
              "elementNUID": "1dc6bd40-84ca-438e-821e-68af10c2d072",
              "elementType": "command",
              "guid": "53c87ec9-b618-4873-a91e-b7cbdc4bdd43",
              "options": null,
              "position": {
                "height": 3,
                "width": 12,
                "x": 0,
                "y": 73,
                "z": null
              },
              "resultIndex": null
            },
            {
              "dashboardResultIndex": null,
              "elementNUID": "ba6d12aa-b0f9-45ac-adf6-ea61fdd81bfd",
              "elementType": "command",
              "guid": "54448d4c-daae-4740-84a9-8dbd2513d5d0",
              "options": null,
              "position": {
                "height": 2,
                "width": 12,
                "x": 0,
                "y": 187,
                "z": null
              },
              "resultIndex": null
            },
            {
              "dashboardResultIndex": 0,
              "elementNUID": "7b81e460-617a-4238-923b-46c008e369e3",
              "elementType": "command",
              "guid": "55bb0a81-6286-486e-934b-f716b65fd5e7",
              "options": null,
              "position": {
                "height": 6,
                "width": 12,
                "x": 0,
                "y": 67,
                "z": null
              },
              "resultIndex": null
            },
            {
              "dashboardResultIndex": 0,
              "elementNUID": "ef95f2d8-a123-4e32-a76b-81b382688aed",
              "elementType": "command",
              "guid": "56b56c12-5db9-418e-a1d0-a41d257109b5",
              "options": null,
              "position": {
                "height": 6,
                "width": 12,
                "x": 0,
                "y": 38,
                "z": null
              },
              "resultIndex": null
            },
            {
              "dashboardResultIndex": 0,
              "elementNUID": "89735df5-05cc-4772-8851-fe07ee0a4b9d",
              "elementType": "command",
              "guid": "5b49e496-cca4-41fa-822e-aa11b50e8c88",
              "options": null,
              "position": {
                "height": 6,
                "width": 12,
                "x": 0,
                "y": 102,
                "z": null
              },
              "resultIndex": null
            },
            {
              "dashboardResultIndex": 0,
              "elementNUID": "db61305a-ea3f-408e-8a90-4493455128d8",
              "elementType": "command",
              "guid": "5c39e790-b9f6-40d5-aecc-a2c2518b3a0a",
              "options": null,
              "position": {
                "height": 6,
                "width": 12,
                "x": 0,
                "y": 255,
                "z": null
              },
              "resultIndex": null
            },
            {
              "dashboardResultIndex": 0,
              "elementNUID": "00ee4d2f-2700-4917-80c2-cf6eb176bb16",
              "elementType": "command",
              "guid": "5de4a99a-4764-4b3c-8f83-dc13231b8918",
              "options": null,
              "position": {
                "height": 6,
                "width": 12,
                "x": 0,
                "y": 115,
                "z": null
              },
              "resultIndex": null
            },
            {
              "dashboardResultIndex": 0,
              "elementNUID": "0c99f72c-0347-4675-8967-49fed9dec392",
              "elementType": "command",
              "guid": "68435f2e-aa83-421e-bda5-efe4518ef842",
              "options": null,
              "position": {
                "height": 6,
                "width": 12,
                "x": 0,
                "y": 20,
                "z": null
              },
              "resultIndex": null
            },
            {
              "dashboardResultIndex": null,
              "elementNUID": "30bb486b-49f7-4b5a-9221-889207b6ae27",
              "elementType": "command",
              "guid": "726f9788-65b1-4723-8fe9-4eff5ec7d998",
              "options": null,
              "position": {
                "height": 2,
                "width": 12,
                "x": 0,
                "y": 224,
                "z": null
              },
              "resultIndex": null
            },
            {
              "dashboardResultIndex": 0,
              "elementNUID": "436090c5-6c29-4fb7-827f-71a09a054da0",
              "elementType": "command",
              "guid": "73a087e4-c2e8-4a41-b23f-cc82a6f23bb2",
              "options": null,
              "position": {
                "height": 6,
                "width": 12,
                "x": 0,
                "y": 181,
                "z": null
              },
              "resultIndex": null
            },
            {
              "dashboardResultIndex": 0,
              "elementNUID": "5518ad54-17f9-4e66-8626-a5f5907894af",
              "elementType": "command",
              "guid": "7fab666e-8b73-46dc-a015-403ca373fdec",
              "options": null,
              "position": {
                "height": 6,
                "width": 12,
                "x": 0,
                "y": 149,
                "z": null
              },
              "resultIndex": null
            },
            {
              "dashboardResultIndex": 0,
              "elementNUID": "cc033d20-a85f-4a43-9234-4a93c6201326",
              "elementType": "command",
              "guid": "809c9fd9-2585-4a21-a328-618ad0539420",
              "options": null,
              "position": {
                "height": 6,
                "width": 12,
                "x": 0,
                "y": 175,
                "z": null
              },
              "resultIndex": null
            },
            {
              "dashboardResultIndex": 0,
              "elementNUID": "b5f3686e-7a68-42e4-94bb-9f70886d8dbf",
              "elementType": "command",
              "guid": "8683b684-4da1-4bf8-bebf-b7ef4c514935",
              "options": null,
              "position": {
                "height": 6,
                "width": 12,
                "x": 0,
                "y": 121,
                "z": null
              },
              "resultIndex": null
            },
            {
              "dashboardResultIndex": 0,
              "elementNUID": "967aecd7-e002-443b-b288-1320b5b73d0d",
              "elementType": "command",
              "guid": "8afe4b0b-0846-46e0-b89a-7c5afc2ee381",
              "options": null,
              "position": {
                "height": 6,
                "width": 12,
                "x": 0,
                "y": 26,
                "z": null
              },
              "resultIndex": null
            },
            {
              "dashboardResultIndex": 0,
              "elementNUID": "a551f0ae-c41f-45aa-9112-01a109ba9ea0",
              "elementType": "command",
              "guid": "8d9364af-8ac7-4055-a601-b6f3945b4b12",
              "options": null,
              "position": {
                "height": 6,
                "width": 12,
                "x": 0,
                "y": 207,
                "z": null
              },
              "resultIndex": null
            },
            {
              "dashboardResultIndex": 0,
              "elementNUID": "1522ffa0-fa57-4ddb-9152-05928ca426fe",
              "elementType": "command",
              "guid": "9ac1aeb6-5356-44d2-8872-2e8ac9ff8bdc",
              "options": null,
              "position": {
                "height": 6,
                "width": 12,
                "x": 0,
                "y": 50,
                "z": null
              },
              "resultIndex": null
            },
            {
              "dashboardResultIndex": 0,
              "elementNUID": "f658c3ec-5a9f-4d42-919a-636acc451f97",
              "elementType": "command",
              "guid": "9eb8f8b3-3ac3-4378-844a-2fb81efe07b1",
              "options": null,
              "position": {
                "height": 5,
                "width": 12,
                "x": 0,
                "y": 56,
                "z": null
              },
              "resultIndex": null
            },
            {
              "dashboardResultIndex": null,
              "elementNUID": "fe62f389-4db5-4198-8a99-4deb5872c622",
              "elementType": "command",
              "guid": "ace320a4-cdd4-479c-9bef-6174825aed6d",
              "options": null,
              "position": {
                "height": 3,
                "width": 12,
                "x": 0,
                "y": 112,
                "z": null
              },
              "resultIndex": null
            },
            {
              "dashboardResultIndex": null,
              "elementNUID": "d2163c16-d0f2-45bd-a5b2-1798cfd7c642",
              "elementType": "command",
              "guid": "b6d2e1b5-5be6-41f1-ac2d-f734d734af98",
              "options": null,
              "position": {
                "height": 2,
                "width": 12,
                "x": 0,
                "y": 88,
                "z": null
              },
              "resultIndex": null
            },
            {
              "dashboardResultIndex": 0,
              "elementNUID": "dd1eb1b4-e7cf-4282-8dc9-b0ca426415bf",
              "elementType": "command",
              "guid": "b92df976-526c-4e21-a926-6f51495c690a",
              "options": null,
              "position": {
                "height": 6,
                "width": 12,
                "x": 0,
                "y": 76,
                "z": null
              },
              "resultIndex": null
            },
            {
              "dashboardResultIndex": 0,
              "elementNUID": "95af66ca-45f6-47fa-b298-968db3589b6d",
              "elementType": "command",
              "guid": "bf51b6b0-b628-47a7-8cec-c1834294d28c",
              "options": null,
              "position": {
                "height": 6,
                "width": 12,
                "x": 0,
                "y": 232,
                "z": null
              },
              "resultIndex": null
            },
            {
              "dashboardResultIndex": 0,
              "elementNUID": "796e08b8-9d0c-40f3-9ff1-1189c552c8c5",
              "elementType": "command",
              "guid": "ca4ee12e-bfa1-462e-88b1-61d89960ca72",
              "options": null,
              "position": {
                "height": 6,
                "width": 12,
                "x": 0,
                "y": 163,
                "z": null
              },
              "resultIndex": null
            },
            {
              "dashboardResultIndex": 0,
              "elementNUID": "3bcceb29-0160-47e5-adf3-624ad022e52a",
              "elementType": "command",
              "guid": "cab43aac-c854-4426-974f-9535a808eb19",
              "options": null,
              "position": {
                "height": 6,
                "width": 12,
                "x": 0,
                "y": 169,
                "z": null
              },
              "resultIndex": null
            },
            {
              "dashboardResultIndex": 0,
              "elementNUID": "62d4fbdb-a682-451d-98e1-cc256f19054f",
              "elementType": "command",
              "guid": "cabd2c90-53bc-4a93-af71-288cded1bf1b",
              "options": {
                "autoScaleImg": false,
                "scale": 0,
                "showTitle": false,
                "titleAlign": "center"
              },
              "position": {
                "height": 6,
                "width": 12,
                "x": 0,
                "y": 8,
                "z": null
              },
              "resultIndex": null
            },
            {
              "dashboardResultIndex": null,
              "elementNUID": "74d9c949-a54f-4f37-8869-2af497467c27",
              "elementType": "command",
              "guid": "ce17aca5-4e48-4a01-b769-2ab139529a55",
              "options": null,
              "position": {
                "height": 2,
                "width": 12,
                "x": 0,
                "y": 108,
                "z": null
              },
              "resultIndex": null
            },
            {
              "dashboardResultIndex": null,
              "elementNUID": "a6521bb6-9e48-4d43-8a77-e25d6f412610",
              "elementType": "command",
              "guid": "cf948511-44bf-404b-9c55-b906c25c0599",
              "options": null,
              "position": {
                "height": 2,
                "width": 12,
                "x": 0,
                "y": 238,
                "z": null
              },
              "resultIndex": null
            },
            {
              "dashboardResultIndex": 0,
              "elementNUID": "5cdd30a7-5f8c-4f71-a912-a4b3c706e835",
              "elementType": "command",
              "guid": "d7033462-8410-4957-b637-3e0a6e582c6c",
              "options": null,
              "position": {
                "height": 6,
                "width": 12,
                "x": 0,
                "y": 96,
                "z": null
              },
              "resultIndex": null
            },
            {
              "dashboardResultIndex": null,
              "elementNUID": "7dd72af4-4525-43e9-9ed0-ea27ea2c6dc6",
              "elementType": "command",
              "guid": "dc8b1063-7869-4fbb-85fc-8ceee9b451c9",
              "options": null,
              "position": {
                "height": 3,
                "width": 12,
                "x": 0,
                "y": 134,
                "z": null
              },
              "resultIndex": null
            },
            {
              "dashboardResultIndex": null,
              "elementNUID": "0f39b776-7ccf-41ba-90ea-d3c405a52869",
              "elementType": "command",
              "guid": "ddd2e8ab-31f6-4c18-90bb-ef13de6b622e",
              "options": null,
              "position": {
                "height": 7,
                "width": 12,
                "x": 0,
                "y": 127,
                "z": null
              },
              "resultIndex": null
            },
            {
              "dashboardResultIndex": 0,
              "elementNUID": "6d2ac24c-e4eb-4a04-9330-53e0e5ad6be7",
              "elementType": "command",
              "guid": "de338cd2-b3cb-4065-a33e-bcd3d21d868a",
              "options": null,
              "position": {
                "height": 6,
                "width": 12,
                "x": 0,
                "y": 14,
                "z": null
              },
              "resultIndex": null
            },
            {
              "dashboardResultIndex": 0,
              "elementNUID": "19b47f3f-6e1e-470c-b6d9-3cf2f41f84e8",
              "elementType": "command",
              "guid": "e22048a8-4227-463d-bbe8-738f6cbeedde",
              "options": null,
              "position": {
                "height": 6,
                "width": 12,
                "x": 0,
                "y": 2,
                "z": null
              },
              "resultIndex": null
            },
            {
              "dashboardResultIndex": 0,
              "elementNUID": "3e894170-b56e-43ac-9169-429d5a2ae8cd",
              "elementType": "command",
              "guid": "e2dde379-2837-4955-b243-635b014633d1",
              "options": null,
              "position": {
                "height": 6,
                "width": 12,
                "x": 0,
                "y": 195,
                "z": null
              },
              "resultIndex": null
            },
            {
              "dashboardResultIndex": 0,
              "elementNUID": "5b866dd4-9dfb-4a8c-97d5-895621d3d168",
              "elementType": "command",
              "guid": "e50ceb9a-181c-4375-8f2a-f3d7e44a8de9",
              "options": null,
              "position": {
                "height": 6,
                "width": 12,
                "x": 0,
                "y": 137,
                "z": null
              },
              "resultIndex": null
            },
            {
              "dashboardResultIndex": 0,
              "elementNUID": "c36e8e0b-e3fa-4e5c-8e6f-856f9331536b",
              "elementType": "command",
              "guid": "ea275166-ba7b-4092-af79-f6da87adfb37",
              "options": null,
              "position": {
                "height": 6,
                "width": 12,
                "x": 0,
                "y": 61,
                "z": null
              },
              "resultIndex": null
            },
            {
              "dashboardResultIndex": null,
              "elementNUID": "0971bb51-b990-45b3-9e0b-05ae722be3a2",
              "elementType": "command",
              "guid": "ed6c7ad4-8ca4-42f6-a8d1-6dbe52186fae",
              "options": null,
              "position": {
                "height": 10,
                "width": 12,
                "x": 0,
                "y": 213,
                "z": null
              },
              "resultIndex": null
            },
            {
              "dashboardResultIndex": null,
              "elementNUID": "32cd149e-e05f-40e4-b39e-7a1dcecb5a56",
              "elementType": "command",
              "guid": "f1ef4fba-01b7-4b51-9e19-a14e188eff6f",
              "options": null,
              "position": {
                "height": 1,
                "width": 12,
                "x": 0,
                "y": 223,
                "z": null
              },
              "resultIndex": null
            },
            {
              "dashboardResultIndex": 0,
              "elementNUID": "c8464301-0471-4c18-bd7b-163f5c9b79be",
              "elementType": "command",
              "guid": "fe2004c3-185f-47d8-a457-4140f8476132",
              "options": null,
              "position": {
                "height": 6,
                "width": 12,
                "x": 0,
                "y": 189,
                "z": null
              },
              "resultIndex": null
            }
          ],
          "globalVars": {},
          "guid": "",
          "layoutOption": {
            "grid": true,
            "stack": true
          },
          "nuid": "0d7f8ffc-cc21-4231-a60f-2891b1772f63",
          "origId": 398391640393149,
          "title": "Dash_Prouni",
          "version": "DashboardViewV1",
          "width": 2048
        }
      ],
      "language": "python",
      "notebookMetadata": {
        "pythonIndentUnit": 4
      },
      "notebookName": "analise_de_dados_prouni",
      "widgets": {}
    },
    "colab": {
      "provenance": []
    },
    "language_info": {
      "name": "python"
    },
    "kernelspec": {
      "name": "python3",
      "display_name": "Python 3"
    }
  },
  "nbformat": 4,
  "nbformat_minor": 0
}